{
 "cells": [
  {
   "cell_type": "markdown",
   "metadata": {},
   "source": [
    "# 1. Import libs"
   ]
  },
  {
   "cell_type": "code",
   "execution_count": 1,
   "metadata": {
    "execution": {
     "iopub.execute_input": "2024-12-08T11:23:10.991967Z",
     "iopub.status.busy": "2024-12-08T11:23:10.991633Z",
     "iopub.status.idle": "2024-12-08T11:23:20.260959Z",
     "shell.execute_reply": "2024-12-08T11:23:20.259964Z",
     "shell.execute_reply.started": "2024-12-08T11:23:10.991929Z"
    },
    "trusted": true
   },
   "outputs": [
    {
     "name": "stdout",
     "output_type": "stream",
     "text": [
      "Requirement already satisfied: wandb in /opt/conda/lib/python3.10/site-packages (0.18.7)\n",
      "Requirement already satisfied: click!=8.0.0,>=7.1 in /opt/conda/lib/python3.10/site-packages (from wandb) (8.1.7)\n",
      "Requirement already satisfied: docker-pycreds>=0.4.0 in /opt/conda/lib/python3.10/site-packages (from wandb) (0.4.0)\n",
      "Requirement already satisfied: gitpython!=3.1.29,>=1.0.0 in /opt/conda/lib/python3.10/site-packages (from wandb) (3.1.43)\n",
      "Requirement already satisfied: platformdirs in /opt/conda/lib/python3.10/site-packages (from wandb) (3.11.0)\n",
      "Requirement already satisfied: protobuf!=4.21.0,!=5.28.0,<6,>=3.19.0 in /opt/conda/lib/python3.10/site-packages (from wandb) (3.20.3)\n",
      "Requirement already satisfied: psutil>=5.0.0 in /opt/conda/lib/python3.10/site-packages (from wandb) (5.9.3)\n",
      "Requirement already satisfied: pyyaml in /opt/conda/lib/python3.10/site-packages (from wandb) (6.0.2)\n",
      "Requirement already satisfied: requests<3,>=2.0.0 in /opt/conda/lib/python3.10/site-packages (from wandb) (2.32.3)\n",
      "Requirement already satisfied: sentry-sdk>=2.0.0 in /opt/conda/lib/python3.10/site-packages (from wandb) (2.19.0)\n",
      "Requirement already satisfied: setproctitle in /opt/conda/lib/python3.10/site-packages (from wandb) (1.3.4)\n",
      "Requirement already satisfied: setuptools in /opt/conda/lib/python3.10/site-packages (from wandb) (70.0.0)\n",
      "Requirement already satisfied: typing-extensions<5,>=4.4 in /opt/conda/lib/python3.10/site-packages (from wandb) (4.12.2)\n",
      "Requirement already satisfied: six>=1.4.0 in /opt/conda/lib/python3.10/site-packages (from docker-pycreds>=0.4.0->wandb) (1.16.0)\n",
      "Requirement already satisfied: gitdb<5,>=4.0.1 in /opt/conda/lib/python3.10/site-packages (from gitpython!=3.1.29,>=1.0.0->wandb) (4.0.11)\n",
      "Requirement already satisfied: charset-normalizer<4,>=2 in /opt/conda/lib/python3.10/site-packages (from requests<3,>=2.0.0->wandb) (3.3.2)\n",
      "Requirement already satisfied: idna<4,>=2.5 in /opt/conda/lib/python3.10/site-packages (from requests<3,>=2.0.0->wandb) (3.7)\n",
      "Requirement already satisfied: urllib3<3,>=1.21.1 in /opt/conda/lib/python3.10/site-packages (from requests<3,>=2.0.0->wandb) (1.26.18)\n",
      "Requirement already satisfied: certifi>=2017.4.17 in /opt/conda/lib/python3.10/site-packages (from requests<3,>=2.0.0->wandb) (2024.6.2)\n",
      "Requirement already satisfied: smmap<6,>=3.0.1 in /opt/conda/lib/python3.10/site-packages (from gitdb<5,>=4.0.1->gitpython!=3.1.29,>=1.0.0->wandb) (5.0.1)\n"
     ]
    }
   ],
   "source": [
    "!pip install wandb"
   ]
  },
  {
   "cell_type": "code",
   "execution_count": 2,
   "metadata": {
    "execution": {
     "iopub.execute_input": "2024-12-08T11:23:20.263044Z",
     "iopub.status.busy": "2024-12-08T11:23:20.262770Z",
     "iopub.status.idle": "2024-12-08T11:23:24.178364Z",
     "shell.execute_reply": "2024-12-08T11:23:24.177641Z",
     "shell.execute_reply.started": "2024-12-08T11:23:20.263018Z"
    },
    "trusted": true
   },
   "outputs": [],
   "source": [
    "import os\n",
    "import logging\n",
    "import numpy as np\n",
    "import random\n",
    "import matplotlib.pyplot as plt\n",
    "from itertools import product\n",
    "\n",
    "import torch\n",
    "import torch.nn as nn\n",
    "import torch.nn.functional as F\n",
    "import torchvision.transforms.functional as TF\n",
    "\n",
    "from PIL import Image\n",
    "from torch.utils.data import Dataset, DataLoader, Subset\n",
    "from torchvision.transforms import v2\n",
    "\n",
    "from tqdm import tqdm"
   ]
  },
  {
   "cell_type": "code",
   "execution_count": 3,
   "metadata": {
    "execution": {
     "iopub.execute_input": "2024-12-08T11:23:24.179865Z",
     "iopub.status.busy": "2024-12-08T11:23:24.179392Z",
     "iopub.status.idle": "2024-12-08T11:23:24.260417Z",
     "shell.execute_reply": "2024-12-08T11:23:24.259467Z",
     "shell.execute_reply.started": "2024-12-08T11:23:24.179818Z"
    },
    "trusted": true
   },
   "outputs": [
    {
     "data": {
      "text/plain": [
       "device(type='cuda')"
      ]
     },
     "execution_count": 3,
     "metadata": {},
     "output_type": "execute_result"
    }
   ],
   "source": [
    "device = torch.device('cuda' if torch.cuda.is_available() else 'cpu')\n",
    "device"
   ]
  },
  {
   "cell_type": "code",
   "execution_count": 4,
   "metadata": {
    "execution": {
     "iopub.execute_input": "2024-12-08T11:23:25.690116Z",
     "iopub.status.busy": "2024-12-08T11:23:25.689783Z",
     "iopub.status.idle": "2024-12-08T11:23:25.694656Z",
     "shell.execute_reply": "2024-12-08T11:23:25.693603Z",
     "shell.execute_reply.started": "2024-12-08T11:23:25.690087Z"
    },
    "trusted": true
   },
   "outputs": [],
   "source": [
    "os.mkdir('/kaggle/working/logs')"
   ]
  },
  {
   "cell_type": "code",
   "execution_count": 5,
   "metadata": {
    "execution": {
     "iopub.execute_input": "2024-12-08T08:40:35.600982Z",
     "iopub.status.busy": "2024-12-08T08:40:35.600712Z",
     "iopub.status.idle": "2024-12-08T08:40:35.610033Z",
     "shell.execute_reply": "2024-12-08T08:40:35.609228Z",
     "shell.execute_reply.started": "2024-12-08T08:40:35.600951Z"
    },
    "trusted": true
   },
   "outputs": [],
   "source": [
    "# os.mkdir('/kaggle/working/models')"
   ]
  },
  {
   "cell_type": "markdown",
   "metadata": {},
   "source": [
    "# 2. Define UNet"
   ]
  },
  {
   "cell_type": "code",
   "execution_count": 5,
   "metadata": {
    "execution": {
     "iopub.execute_input": "2024-12-08T11:23:28.461514Z",
     "iopub.status.busy": "2024-12-08T11:23:28.461123Z",
     "iopub.status.idle": "2024-12-08T11:23:28.467091Z",
     "shell.execute_reply": "2024-12-08T11:23:28.466154Z",
     "shell.execute_reply.started": "2024-12-08T11:23:28.461482Z"
    },
    "trusted": true
   },
   "outputs": [],
   "source": [
    "class DoubleConv(nn.Module):\n",
    "    def __init__(self, in_channels, out_channels):\n",
    "        super(DoubleConv, self).__init__()\n",
    "\n",
    "        self.block = nn.Sequential(\n",
    "            nn.Conv2d(in_channels, out_channels, 3, 1, 1),\n",
    "            nn.BatchNorm2d(out_channels),\n",
    "            nn.ReLU(inplace=True),\n",
    "            nn.Conv2d(out_channels, out_channels, 3, 1, 1),\n",
    "            nn.BatchNorm2d(out_channels),\n",
    "            nn.ReLU(inplace=True)\n",
    "        )\n",
    "\n",
    "    def forward(self, x):\n",
    "        return self.block(x)"
   ]
  },
  {
   "cell_type": "code",
   "execution_count": 6,
   "metadata": {
    "execution": {
     "iopub.execute_input": "2024-12-08T11:23:31.691826Z",
     "iopub.status.busy": "2024-12-08T11:23:31.691528Z",
     "iopub.status.idle": "2024-12-08T11:23:31.700432Z",
     "shell.execute_reply": "2024-12-08T11:23:31.699601Z",
     "shell.execute_reply.started": "2024-12-08T11:23:31.691801Z"
    },
    "trusted": true
   },
   "outputs": [],
   "source": [
    "class UNet(nn.Module):\n",
    "    def __init__(self, in_channels=3, out_channels=19):\n",
    "        super(UNet, self).__init__()\n",
    "\n",
    "        # Define channels for different stages\n",
    "        channels = [64, 128, 256, 512]\n",
    "        \n",
    "        # Define pooling layer\n",
    "        self.maxpool = nn.MaxPool2d(2, 2)\n",
    "    \n",
    "        # Define encoder\n",
    "        self.encoder = nn.ModuleList()\n",
    "        for channel in channels:\n",
    "            self.encoder.append(DoubleConv(in_channels, channel))\n",
    "            in_channels = channel\n",
    "\n",
    "        # Define bottleneck layer\n",
    "        self.bottleneck = DoubleConv(channels[-1], channels[-1] * 2)\n",
    "        \n",
    "        # Define decoder\n",
    "        self.decoder = nn.ModuleList()\n",
    "        for channel in reversed(channels):\n",
    "            self.decoder.append(nn.ConvTranspose2d(channel * 2, channel, 2, 2))\n",
    "            self.decoder.append(DoubleConv(channel * 2, channel))\n",
    "\n",
    "        # Define last layer\n",
    "        self.last = nn.Conv2d(channels[0], out_channels, 1)\n",
    "\n",
    "    def forward(self, x):\n",
    "        # Define storage for connections\n",
    "        skip_connections = []\n",
    "\n",
    "        # Down stages\n",
    "        for block in self.encoder:\n",
    "            x = block(x)\n",
    "            skip_connections.append(x)\n",
    "            x = self.maxpool(x)\n",
    "\n",
    "        # Bottleneck passing\n",
    "        x = self.bottleneck(x)\n",
    "\n",
    "        # Reverse list for easily taking\n",
    "        skip_connections = skip_connections[::-1]\n",
    "\n",
    "        # Up stages\n",
    "        for i in range (0, len(self.decoder), 2):\n",
    "            # Conv Transpose\n",
    "            x = self.decoder[i](x)\n",
    "\n",
    "            # Passing main block\n",
    "            skip_connection = skip_connections[i // 2]\n",
    "\n",
    "            ## Resize if neccessary\n",
    "            if x.shape != skip_connection.shape:\n",
    "                skip_connection = TF.resize(skip_connection, x.shape[2:]) # Resize except batch and channel\n",
    "            ## Apply skip connection\n",
    "            x = torch.cat((skip_connection, x), dim=1) # Concat by channel\n",
    "\n",
    "            ## Go through conv block\n",
    "            x = self.decoder[i+1](x)\n",
    "\n",
    "        # Passing last layer to get output that each channel stand for each instance\n",
    "        return self.last(x)\n",
    "                "
   ]
  },
  {
   "cell_type": "code",
   "execution_count": 7,
   "metadata": {
    "execution": {
     "iopub.execute_input": "2024-12-08T11:23:43.934862Z",
     "iopub.status.busy": "2024-12-08T11:23:43.934183Z",
     "iopub.status.idle": "2024-12-08T11:23:44.472243Z",
     "shell.execute_reply": "2024-12-08T11:23:44.471313Z",
     "shell.execute_reply.started": "2024-12-08T11:23:43.934830Z"
    },
    "trusted": true
   },
   "outputs": [],
   "source": [
    "unet = UNet(3, 19).to(device)\n",
    "unet = nn.DataParallel(unet)"
   ]
  },
  {
   "cell_type": "code",
   "execution_count": null,
   "metadata": {},
   "outputs": [],
   "source": [
    "import timm\n",
    "\n",
    "class Unet_resnet(nn.Module):\n",
    "  def __init__(self, in_channels, out_channels):\n",
    "    super(Unet_resnet, self).__init__()\n",
    "    self.encoder = timm.create_model('resnet101', pretrained = True, features_only = True)\n",
    "    self.bottleneck = DoubleConv(2048, 1024)\n",
    "    self.final_up = nn.ConvTranspose2d(128, 64, 2, 2)\n",
    "    self.final_conv = nn.Conv2d(64, out_channels, kernel_size = 1)\n",
    "    self.final_block_up = DoubleConv(128, 64)\n",
    "    self.resize = nn.ConvTranspose2d(64, 64, 2, 2)\n",
    "  def forward(self, x):\n",
    "    downs = self.encoder(x)\n",
    "    x = self.bottleneck(downs[-1])\n",
    "    for i in range(3, 0,-1):\n",
    "      up = nn.ConvTranspose2d(downs[i].shape[1], downs[i].shape[1] // 2, 2, 2)\n",
    "      x = up(x)\n",
    "      concat = torch.concat((x, downs[i]), dim = 1)\n",
    "      block_up = DoubleConv(concat.shape[1], downs[i].shape[1] // 2)\n",
    "      x = block_up(concat)\n",
    "    x = self.final_up(x)\n",
    "    final_concat = torch.concat((x, downs[0]), dim = 1)\n",
    "    x = self.final_block_up(final_concat)\n",
    "    x = self.resize(x)\n",
    "    x = self.final_conv(x)\n",
    "    return x\n",
    "\n",
    "model =  Unet_resnet(3, 19).to(device)\n",
    "dummy_tensor = torch.rand(2,3,512,1024)\n",
    "test_output = model(dummy_tensor.to(device))\n",
    "print(test_output.shape)"
   ]
  },
  {
   "cell_type": "markdown",
   "metadata": {},
   "source": [
    "# 3. Define Dataset and Dataloader"
   ]
  },
  {
   "cell_type": "code",
   "execution_count": 8,
   "metadata": {
    "execution": {
     "iopub.execute_input": "2024-12-08T11:23:55.637409Z",
     "iopub.status.busy": "2024-12-08T11:23:55.636701Z",
     "iopub.status.idle": "2024-12-08T11:23:55.644083Z",
     "shell.execute_reply": "2024-12-08T11:23:55.643188Z",
     "shell.execute_reply.started": "2024-12-08T11:23:55.637374Z"
    },
    "trusted": true
   },
   "outputs": [
    {
     "name": "stderr",
     "output_type": "stream",
     "text": [
      "/opt/conda/lib/python3.10/site-packages/torchvision/transforms/v2/_deprecated.py:42: UserWarning: The transform `ToTensor()` is deprecated and will be removed in a future release. Instead, please use `v2.Compose([v2.ToImage(), v2.ToDtype(torch.float32, scale=True)])`.Output is equivalent up to float precision.\n",
      "  warnings.warn(\n"
     ]
    }
   ],
   "source": [
    "image_size = (512, 1024)\n",
    "\n",
    "train_transform = v2.Compose([\n",
    "    v2.Resize((image_size[0], image_size[1]), antialias=True),\n",
    "    v2.ToTensor(),\n",
    "    v2.Normalize(mean=[0.485, 0.456, 0.406], std=[0.229, 0.224, 0.225])\n",
    "])\n",
    "\n",
    "\n",
    "val_transform = v2.Compose([\n",
    "    v2.Resize((image_size[0], image_size[1]), antialias=True),\n",
    "    v2.ToTensor(),\n",
    "    v2.Normalize(mean=[0.485, 0.456, 0.406], std=[0.229, 0.224, 0.225])\n",
    "])"
   ]
  },
  {
   "cell_type": "code",
   "execution_count": 18,
   "metadata": {
    "execution": {
     "iopub.execute_input": "2024-12-08T11:24:45.013621Z",
     "iopub.status.busy": "2024-12-08T11:24:45.012784Z",
     "iopub.status.idle": "2024-12-08T11:24:45.020972Z",
     "shell.execute_reply": "2024-12-08T11:24:45.019936Z",
     "shell.execute_reply.started": "2024-12-08T11:24:45.013587Z"
    },
    "trusted": true
   },
   "outputs": [],
   "source": [
    "color_map = np.array([\n",
    "    [128, 64, 128],   # 0: Road\n",
    "    [244, 35, 232],   # 1: Sidewalk\n",
    "    [ 70, 70, 70],    # 2: Building\n",
    "    [102, 102, 156],  # 3: Wall\n",
    "    [190, 153, 153],  # 4: Fence\n",
    "    [153, 153, 153],  # 5: Pole\n",
    "    [250, 170, 30],   # 6: Traffic light\n",
    "    [220, 220, 0],    # 7: Traffic sign\n",
    "    [107, 142, 35],   # 8: Vegetation\n",
    "    [152, 251, 152],  # 9: Terrain\n",
    "    [70, 130, 180],   # 10: Sky\n",
    "    [220, 20, 60],    # 11: Person\n",
    "    [255, 0, 0],      # 12: Rider\n",
    "    [0, 0, 142],      # 13: Car\n",
    "    [0, 0, 70],       # 14: Truck\n",
    "    [0, 60, 100],     # 15: Bus\n",
    "    [0, 80, 100],     # 16: Train\n",
    "    [0, 0, 230],      # 17: Motorcycle\n",
    "    [119, 11, 32],    # 18: Bicycle\n",
    "], dtype=np.uint8)\n",
    "\n",
    "label_mapping = {\n",
    "    -1: -1,\n",
    "    0: -1,\n",
    "    1: -1,\n",
    "    2: -1,\n",
    "    3: -1,\n",
    "    4: -1,\n",
    "    5: -1,\n",
    "    6: -1,\n",
    "    7: 0,\n",
    "    8: 1,\n",
    "    9: -1,\n",
    "    10: -1,\n",
    "    11: 2,\n",
    "    12: 3,\n",
    "    13: 4, \n",
    "    14: -1,\n",
    "    15: -1,\n",
    "    16: -1,\n",
    "    17: 5,\n",
    "    18: -1,\n",
    "    19: 6,\n",
    "    20: 7,\n",
    "    21: 8,\n",
    "    22: 9,\n",
    "    23: 10,\n",
    "    24: 11,\n",
    "    25: 12,\n",
    "    26: 13,\n",
    "    27: 14,\n",
    "    28: 15,\n",
    "    29: -1,\n",
    "    30: -1,\n",
    "    31: 16,\n",
    "    32: 17,\n",
    "    33: 18,\n",
    "}\n"
   ]
  },
  {
   "cell_type": "code",
   "execution_count": 9,
   "metadata": {
    "execution": {
     "iopub.execute_input": "2024-12-08T11:23:58.945472Z",
     "iopub.status.busy": "2024-12-08T11:23:58.944781Z",
     "iopub.status.idle": "2024-12-08T11:23:58.953962Z",
     "shell.execute_reply": "2024-12-08T11:23:58.953067Z",
     "shell.execute_reply.started": "2024-12-08T11:23:58.945439Z"
    },
    "trusted": true
   },
   "outputs": [],
   "source": [
    "random.seed(42)\n",
    "class CityscapeDataset(Dataset):\n",
    "    def __init__(self, image_dir, mask_dir, split, transform, flip_prob=0.5):\n",
    "        self.transform = transform\n",
    "        self.flip_prob = flip_prob\n",
    "\n",
    "        # Get all input image paths\n",
    "        self.image_paths = sorted([os.path.join(dp, f) for dp, dn, fn in os.walk(os.path.expanduser(image_dir+'/'+split)) for f in fn if f.endswith('.png')])\n",
    "        self.mask_paths = sorted([os.path.join(dp, f) for dp, dn, fn in os.walk(os.path.expanduser(mask_dir+'/'+split)) for f in fn if f.endswith('_labelIds.png')])\n",
    "\n",
    "        if len(self.image_paths) != len(self.mask_paths):\n",
    "            assert(\"Warning: Number of images and labels do not match!\")\n",
    "\n",
    "    def __len__(self):\n",
    "        return len(self.image_paths)\n",
    "\n",
    "    def __getitem__(self, idx):\n",
    "        image_path = self.image_paths[idx]\n",
    "        mask_path = self.mask_paths[idx]\n",
    "\n",
    "        image = Image.open(image_path).convert('RGB')\n",
    "        mask = Image.open(mask_path)\n",
    "\n",
    "        if random.random() < self.flip_prob:\n",
    "            image = image.transpose(Image.FLIP_LEFT_RIGHT)\n",
    "            mask = mask.transpose(Image.FLIP_LEFT_RIGHT)\n",
    "        \n",
    "        if self.transform is not None:\n",
    "            image = self.transform(image)\n",
    "        # image = image.permute(1, 2, 0)\n",
    "        \n",
    "        mask = np.array(mask, dtype=np.int64)\n",
    "        mask = np.vectorize(lambda x: label_mapping.get(x, -1))(mask)\n",
    "        mask = torch.tensor(mask, dtype=torch.long)\n",
    "\n",
    "        return image, mask"
   ]
  },
  {
   "cell_type": "code",
   "execution_count": 10,
   "metadata": {
    "execution": {
     "iopub.execute_input": "2024-12-08T11:24:02.204540Z",
     "iopub.status.busy": "2024-12-08T11:24:02.203620Z",
     "iopub.status.idle": "2024-12-08T11:24:02.208328Z",
     "shell.execute_reply": "2024-12-08T11:24:02.207375Z",
     "shell.execute_reply.started": "2024-12-08T11:24:02.204506Z"
    },
    "trusted": true
   },
   "outputs": [],
   "source": [
    "imgs_dir = \"/kaggle/input/cityscapes/Cityspaces/images\"\n",
    "masks_dir = \"/kaggle/input/cityscapes/Cityspaces/gtFine\""
   ]
  },
  {
   "cell_type": "code",
   "execution_count": 11,
   "metadata": {
    "execution": {
     "iopub.execute_input": "2024-12-08T11:24:04.366390Z",
     "iopub.status.busy": "2024-12-08T11:24:04.366031Z",
     "iopub.status.idle": "2024-12-08T11:24:05.223623Z",
     "shell.execute_reply": "2024-12-08T11:24:05.222669Z",
     "shell.execute_reply.started": "2024-12-08T11:24:04.366360Z"
    },
    "trusted": true
   },
   "outputs": [],
   "source": [
    "images = sorted([os.path.join(dp, f) for dp, dn, fn in os.walk(os.path.expanduser(imgs_dir+'/train')) for f in fn if f.endswith('.png')])"
   ]
  },
  {
   "cell_type": "code",
   "execution_count": 12,
   "metadata": {
    "execution": {
     "iopub.execute_input": "2024-12-08T11:24:06.315938Z",
     "iopub.status.busy": "2024-12-08T11:24:06.315606Z",
     "iopub.status.idle": "2024-12-08T11:24:25.015021Z",
     "shell.execute_reply": "2024-12-08T11:24:25.014344Z",
     "shell.execute_reply.started": "2024-12-08T11:24:06.315908Z"
    },
    "trusted": true
   },
   "outputs": [],
   "source": [
    "masks = sorted([os.path.join(dp, f) for dp, dn, fn in os.walk(os.path.expanduser(masks_dir+'/train')) for f in fn if f.endswith('_labelIds.png')])"
   ]
  },
  {
   "cell_type": "code",
   "execution_count": 13,
   "metadata": {
    "execution": {
     "iopub.execute_input": "2024-12-08T11:24:25.016774Z",
     "iopub.status.busy": "2024-12-08T11:24:25.016500Z",
     "iopub.status.idle": "2024-12-08T11:24:25.021920Z",
     "shell.execute_reply": "2024-12-08T11:24:25.021183Z",
     "shell.execute_reply.started": "2024-12-08T11:24:25.016749Z"
    },
    "trusted": true
   },
   "outputs": [
    {
     "data": {
      "text/plain": [
       "2975"
      ]
     },
     "execution_count": 13,
     "metadata": {},
     "output_type": "execute_result"
    }
   ],
   "source": [
    "len(images)"
   ]
  },
  {
   "cell_type": "code",
   "execution_count": 14,
   "metadata": {
    "execution": {
     "iopub.execute_input": "2024-12-08T11:24:25.023410Z",
     "iopub.status.busy": "2024-12-08T11:24:25.023064Z",
     "iopub.status.idle": "2024-12-08T11:24:25.034182Z",
     "shell.execute_reply": "2024-12-08T11:24:25.033323Z",
     "shell.execute_reply.started": "2024-12-08T11:24:25.023374Z"
    },
    "trusted": true
   },
   "outputs": [
    {
     "data": {
      "text/plain": [
       "2975"
      ]
     },
     "execution_count": 14,
     "metadata": {},
     "output_type": "execute_result"
    }
   ],
   "source": [
    "cnt = 0\n",
    "for i, m in zip(images, masks):\n",
    "    if i[49:-16] == m[49:-20]:\n",
    "        cnt += 1\n",
    "\n",
    "cnt"
   ]
  },
  {
   "cell_type": "code",
   "execution_count": 19,
   "metadata": {
    "execution": {
     "iopub.execute_input": "2024-12-08T11:25:00.238470Z",
     "iopub.status.busy": "2024-12-08T11:25:00.237754Z",
     "iopub.status.idle": "2024-12-08T11:25:03.589359Z",
     "shell.execute_reply": "2024-12-08T11:25:03.588663Z",
     "shell.execute_reply.started": "2024-12-08T11:25:00.238436Z"
    },
    "trusted": true
   },
   "outputs": [],
   "source": [
    "train_dataset = CityscapeDataset(imgs_dir, masks_dir, split='train', transform=train_transform, flip_prob=0.5)\n",
    "val_dataset = CityscapeDataset(imgs_dir, masks_dir, split='val', transform=val_transform, flip_prob=0)"
   ]
  },
  {
   "cell_type": "code",
   "execution_count": 20,
   "metadata": {
    "execution": {
     "iopub.execute_input": "2024-12-08T11:25:06.169818Z",
     "iopub.status.busy": "2024-12-08T11:25:06.169488Z",
     "iopub.status.idle": "2024-12-08T11:25:06.640845Z",
     "shell.execute_reply": "2024-12-08T11:25:06.639919Z",
     "shell.execute_reply.started": "2024-12-08T11:25:06.169791Z"
    },
    "trusted": true
   },
   "outputs": [
    {
     "data": {
      "text/plain": [
       "torch.Size([3, 512, 1024])"
      ]
     },
     "execution_count": 20,
     "metadata": {},
     "output_type": "execute_result"
    }
   ],
   "source": [
    "train_dataset[0][0].shape"
   ]
  },
  {
   "cell_type": "code",
   "execution_count": 21,
   "metadata": {
    "execution": {
     "iopub.execute_input": "2024-12-08T11:25:09.343422Z",
     "iopub.status.busy": "2024-12-08T11:25:09.342553Z",
     "iopub.status.idle": "2024-12-08T11:25:09.348545Z",
     "shell.execute_reply": "2024-12-08T11:25:09.347672Z",
     "shell.execute_reply.started": "2024-12-08T11:25:09.343387Z"
    },
    "trusted": true
   },
   "outputs": [
    {
     "data": {
      "text/plain": [
       "500"
      ]
     },
     "execution_count": 21,
     "metadata": {},
     "output_type": "execute_result"
    }
   ],
   "source": [
    "len(val_dataset)"
   ]
  },
  {
   "cell_type": "code",
   "execution_count": 22,
   "metadata": {
    "execution": {
     "iopub.execute_input": "2024-12-08T11:25:11.257135Z",
     "iopub.status.busy": "2024-12-08T11:25:11.256347Z",
     "iopub.status.idle": "2024-12-08T11:25:11.261251Z",
     "shell.execute_reply": "2024-12-08T11:25:11.260315Z",
     "shell.execute_reply.started": "2024-12-08T11:25:11.257104Z"
    },
    "trusted": true
   },
   "outputs": [],
   "source": [
    "def get_sampler(dataset):\n",
    "    if torch.distributed.is_initialized():\n",
    "        from torch.utils.data.distributed import DistributedSampler\n",
    "        return DistributedSampler(dataset)\n",
    "    else:\n",
    "        return None"
   ]
  },
  {
   "cell_type": "code",
   "execution_count": 23,
   "metadata": {
    "execution": {
     "iopub.execute_input": "2024-12-08T11:25:14.639188Z",
     "iopub.status.busy": "2024-12-08T11:25:14.638823Z",
     "iopub.status.idle": "2024-12-08T11:25:14.643821Z",
     "shell.execute_reply": "2024-12-08T11:25:14.642921Z",
     "shell.execute_reply.started": "2024-12-08T11:25:14.639128Z"
    },
    "trusted": true
   },
   "outputs": [],
   "source": [
    "train_subset_indices = list(range(-600, -1))\n",
    "val_subset_indices = list(range(50))\n",
    "\n",
    "train_subset = Subset(train_dataset, train_subset_indices)\n",
    "train_sampler = get_sampler(train_subset)\n",
    "\n",
    "val_subset = Subset(val_dataset, val_subset_indices)\n",
    "val_sampler = get_sampler(val_subset)"
   ]
  },
  {
   "cell_type": "code",
   "execution_count": 24,
   "metadata": {
    "execution": {
     "iopub.execute_input": "2024-12-08T11:25:18.331015Z",
     "iopub.status.busy": "2024-12-08T11:25:18.330674Z",
     "iopub.status.idle": "2024-12-08T11:25:18.336036Z",
     "shell.execute_reply": "2024-12-08T11:25:18.335074Z",
     "shell.execute_reply.started": "2024-12-08T11:25:18.330986Z"
    },
    "trusted": true
   },
   "outputs": [],
   "source": [
    "num_workers = os.cpu_count()\n",
    "batch_size = 4\n",
    "\n",
    "train_loader = DataLoader(train_subset, batch_size=batch_size, shuffle=True, num_workers=num_workers, sampler=train_sampler)\n",
    "val_loader = DataLoader(val_subset, batch_size=batch_size, shuffle=False, num_workers=num_workers, sampler=val_sampler)"
   ]
  },
  {
   "cell_type": "code",
   "execution_count": 23,
   "metadata": {
    "execution": {
     "iopub.execute_input": "2024-12-08T08:40:59.792311Z",
     "iopub.status.busy": "2024-12-08T08:40:59.791671Z",
     "iopub.status.idle": "2024-12-08T08:40:59.800910Z",
     "shell.execute_reply": "2024-12-08T08:40:59.800037Z",
     "shell.execute_reply.started": "2024-12-08T08:40:59.792274Z"
    },
    "trusted": true
   },
   "outputs": [
    {
     "data": {
      "text/plain": [
       "150"
      ]
     },
     "execution_count": 23,
     "metadata": {},
     "output_type": "execute_result"
    }
   ],
   "source": [
    "len(train_loader)"
   ]
  },
  {
   "cell_type": "code",
   "execution_count": 24,
   "metadata": {
    "execution": {
     "iopub.execute_input": "2024-12-08T08:40:59.802229Z",
     "iopub.status.busy": "2024-12-08T08:40:59.801897Z",
     "iopub.status.idle": "2024-12-08T08:40:59.810754Z",
     "shell.execute_reply": "2024-12-08T08:40:59.809968Z",
     "shell.execute_reply.started": "2024-12-08T08:40:59.802192Z"
    },
    "trusted": true
   },
   "outputs": [
    {
     "data": {
      "text/plain": [
       "13"
      ]
     },
     "execution_count": 24,
     "metadata": {},
     "output_type": "execute_result"
    }
   ],
   "source": [
    "len(val_loader)"
   ]
  },
  {
   "cell_type": "code",
   "execution_count": 25,
   "metadata": {
    "execution": {
     "iopub.execute_input": "2024-12-08T08:40:59.811933Z",
     "iopub.status.busy": "2024-12-08T08:40:59.811693Z",
     "iopub.status.idle": "2024-12-08T08:41:06.624861Z",
     "shell.execute_reply": "2024-12-08T08:41:06.624039Z",
     "shell.execute_reply.started": "2024-12-08T08:40:59.811897Z"
    },
    "trusted": true
   },
   "outputs": [],
   "source": [
    "img, msk = next(iter(train_loader))"
   ]
  },
  {
   "cell_type": "code",
   "execution_count": 26,
   "metadata": {
    "execution": {
     "iopub.execute_input": "2024-12-08T08:41:06.626660Z",
     "iopub.status.busy": "2024-12-08T08:41:06.626361Z",
     "iopub.status.idle": "2024-12-08T08:41:06.632870Z",
     "shell.execute_reply": "2024-12-08T08:41:06.632066Z",
     "shell.execute_reply.started": "2024-12-08T08:41:06.626631Z"
    },
    "trusted": true
   },
   "outputs": [
    {
     "data": {
      "text/plain": [
       "torch.Size([4, 3, 512, 1024])"
      ]
     },
     "execution_count": 26,
     "metadata": {},
     "output_type": "execute_result"
    }
   ],
   "source": [
    "img.shape"
   ]
  },
  {
   "cell_type": "code",
   "execution_count": 27,
   "metadata": {
    "execution": {
     "iopub.execute_input": "2024-12-08T08:41:06.634222Z",
     "iopub.status.busy": "2024-12-08T08:41:06.633905Z",
     "iopub.status.idle": "2024-12-08T08:41:06.645989Z",
     "shell.execute_reply": "2024-12-08T08:41:06.645270Z",
     "shell.execute_reply.started": "2024-12-08T08:41:06.634179Z"
    },
    "trusted": true
   },
   "outputs": [
    {
     "data": {
      "text/plain": [
       "torch.Size([4, 1024, 2048])"
      ]
     },
     "execution_count": 27,
     "metadata": {},
     "output_type": "execute_result"
    }
   ],
   "source": [
    "msk.shape"
   ]
  },
  {
   "cell_type": "markdown",
   "metadata": {},
   "source": [
    "# 4. Define controller"
   ]
  },
  {
   "cell_type": "code",
   "execution_count": 25,
   "metadata": {
    "execution": {
     "iopub.execute_input": "2024-12-08T11:25:23.563111Z",
     "iopub.status.busy": "2024-12-08T11:25:23.562775Z",
     "iopub.status.idle": "2024-12-08T11:25:23.567615Z",
     "shell.execute_reply": "2024-12-08T11:25:23.566686Z",
     "shell.execute_reply.started": "2024-12-08T11:25:23.563081Z"
    },
    "trusted": true
   },
   "outputs": [],
   "source": [
    "def save_model(model, file_path):\n",
    "    file_path = file_path + '.pth'\n",
    "    dir_name = os.path.dirname(file_path)\n",
    "    if dir_name and not os.path.exists(dir_name):\n",
    "        os.makedirs(dir_name)\n",
    "    \n",
    "    # Save\n",
    "    torch.save(model.state_dict(), file_path)\n",
    "    print(f\"Model is saved to: {file_path}\")"
   ]
  },
  {
   "cell_type": "code",
   "execution_count": 26,
   "metadata": {
    "execution": {
     "iopub.execute_input": "2024-12-08T11:25:26.076257Z",
     "iopub.status.busy": "2024-12-08T11:25:26.075344Z",
     "iopub.status.idle": "2024-12-08T11:25:26.080895Z",
     "shell.execute_reply": "2024-12-08T11:25:26.079806Z",
     "shell.execute_reply.started": "2024-12-08T11:25:26.076222Z"
    },
    "trusted": true
   },
   "outputs": [],
   "source": [
    "# Configure logging\n",
    "logging.basicConfig(\n",
    "    filename='/kaggle/working/logs/training_log_1.log',\n",
    "    level=logging.INFO,\n",
    "    format='%(asctime)s - %(levelname)s - %(message)s'\n",
    ")\n",
    "console = logging.StreamHandler()  # To also log to the console\n",
    "console.setLevel(logging.INFO)\n",
    "formatter = logging.Formatter('%(asctime)s - %(message)s')\n",
    "console.setFormatter(formatter)\n",
    "logging.getLogger().addHandler(console)"
   ]
  },
  {
   "cell_type": "code",
   "execution_count": 27,
   "metadata": {
    "execution": {
     "iopub.execute_input": "2024-12-08T11:25:30.375537Z",
     "iopub.status.busy": "2024-12-08T11:25:30.375139Z",
     "iopub.status.idle": "2024-12-08T11:26:24.212430Z",
     "shell.execute_reply": "2024-12-08T11:26:24.211614Z",
     "shell.execute_reply.started": "2024-12-08T11:25:30.375505Z"
    },
    "trusted": true
   },
   "outputs": [
    {
     "name": "stderr",
     "output_type": "stream",
     "text": [
      "\u001b[34m\u001b[1mwandb\u001b[0m: Using wandb-core as the SDK backend.  Please refer to https://wandb.me/wandb-core for more information.\n",
      "\u001b[34m\u001b[1mwandb\u001b[0m: Logging into wandb.ai. (Learn how to deploy a W&B server locally: https://wandb.me/wandb-server)\n",
      "\u001b[34m\u001b[1mwandb\u001b[0m: You can find your API key in your browser here: https://wandb.ai/authorize\n",
      "\u001b[34m\u001b[1mwandb\u001b[0m: Paste an API key from your profile and hit enter, or press ctrl+c to quit:"
     ]
    },
    {
     "name": "stdout",
     "output_type": "stream",
     "text": [
      "  ········\n"
     ]
    },
    {
     "name": "stderr",
     "output_type": "stream",
     "text": [
      "\u001b[34m\u001b[1mwandb\u001b[0m: Appending key for api.wandb.ai to your netrc file: /root/.netrc\n"
     ]
    },
    {
     "data": {
      "text/plain": [
       "True"
      ]
     },
     "execution_count": 27,
     "metadata": {},
     "output_type": "execute_result"
    }
   ],
   "source": [
    "import wandb\n",
    "wandb.login()"
   ]
  },
  {
   "cell_type": "code",
   "execution_count": 29,
   "metadata": {
    "execution": {
     "iopub.execute_input": "2024-12-08T11:26:38.811112Z",
     "iopub.status.busy": "2024-12-08T11:26:38.810776Z",
     "iopub.status.idle": "2024-12-08T11:26:38.815073Z",
     "shell.execute_reply": "2024-12-08T11:26:38.814133Z",
     "shell.execute_reply.started": "2024-12-08T11:26:38.811083Z"
    },
    "trusted": true
   },
   "outputs": [],
   "source": [
    "epochs = 50"
   ]
  },
  {
   "cell_type": "code",
   "execution_count": 30,
   "metadata": {
    "execution": {
     "iopub.execute_input": "2024-12-08T11:26:40.062424Z",
     "iopub.status.busy": "2024-12-08T11:26:40.062035Z",
     "iopub.status.idle": "2024-12-08T11:26:40.069710Z",
     "shell.execute_reply": "2024-12-08T11:26:40.068700Z",
     "shell.execute_reply.started": "2024-12-08T11:26:40.062389Z"
    },
    "trusted": true
   },
   "outputs": [
    {
     "name": "stderr",
     "output_type": "stream",
     "text": [
      "/tmp/ipykernel_23/709905294.py:12: FutureWarning: `torch.cuda.amp.GradScaler(args...)` is deprecated. Please use `torch.amp.GradScaler('cuda', args...)` instead.\n",
      "  scaler = torch.cuda.amp.GradScaler()\n"
     ]
    }
   ],
   "source": [
    "lr = 0.003\n",
    "WD = 0.001\n",
    "\n",
    "class_weights = torch.FloatTensor([0.8373, 0.918, 0.866, 1.0345, \n",
    "                                        1.0166, 0.9969, 0.9754, 1.0489,\n",
    "                                        0.8786, 1.0023, 0.9539, 0.9843, \n",
    "                                        1.1116, 0.9037, 1.0865, 1.0955, \n",
    "                                        1.0865, 1.1529, 1.0507]).cuda()\n",
    "\n",
    "criterion = nn.CrossEntropyLoss(ignore_index = -1, weight=class_weights)\n",
    "optimizer = torch.optim.Adam(params = unet.parameters(), lr=lr, weight_decay=WD)\n",
    "scaler = torch.cuda.amp.GradScaler()"
   ]
  },
  {
   "cell_type": "code",
   "execution_count": 31,
   "metadata": {
    "execution": {
     "iopub.execute_input": "2024-12-08T11:26:42.438483Z",
     "iopub.status.busy": "2024-12-08T11:26:42.438084Z",
     "iopub.status.idle": "2024-12-08T11:26:43.602584Z",
     "shell.execute_reply": "2024-12-08T11:26:43.601798Z",
     "shell.execute_reply.started": "2024-12-08T11:26:42.438454Z"
    },
    "trusted": true
   },
   "outputs": [
    {
     "name": "stderr",
     "output_type": "stream",
     "text": [
      "\u001b[34m\u001b[1mwandb\u001b[0m: Currently logged in as: \u001b[33mlongluv1605\u001b[0m (\u001b[33mlongluv1605-institute-for-artificial-intelligence\u001b[0m). Use \u001b[1m`wandb login --relogin`\u001b[0m to force relogin\n"
     ]
    },
    {
     "data": {
      "text/html": [
       "Tracking run with wandb version 0.18.7"
      ],
      "text/plain": [
       "<IPython.core.display.HTML object>"
      ]
     },
     "metadata": {},
     "output_type": "display_data"
    },
    {
     "data": {
      "text/html": [
       "Run data is saved locally in <code>/kaggle/working/wandb/run-20241208_112642-29ei011q</code>"
      ],
      "text/plain": [
       "<IPython.core.display.HTML object>"
      ]
     },
     "metadata": {},
     "output_type": "display_data"
    },
    {
     "data": {
      "text/html": [
       "Syncing run <strong><a href='https://wandb.ai/longluv1605-institute-for-artificial-intelligence/image-segmentation/runs/29ei011q' target=\"_blank\">unet-scratch</a></strong> to <a href='https://wandb.ai/longluv1605-institute-for-artificial-intelligence/image-segmentation' target=\"_blank\">Weights & Biases</a> (<a href='https://wandb.me/developer-guide' target=\"_blank\">docs</a>)<br/>"
      ],
      "text/plain": [
       "<IPython.core.display.HTML object>"
      ]
     },
     "metadata": {},
     "output_type": "display_data"
    },
    {
     "data": {
      "text/html": [
       " View project at <a href='https://wandb.ai/longluv1605-institute-for-artificial-intelligence/image-segmentation' target=\"_blank\">https://wandb.ai/longluv1605-institute-for-artificial-intelligence/image-segmentation</a>"
      ],
      "text/plain": [
       "<IPython.core.display.HTML object>"
      ]
     },
     "metadata": {},
     "output_type": "display_data"
    },
    {
     "data": {
      "text/html": [
       " View run at <a href='https://wandb.ai/longluv1605-institute-for-artificial-intelligence/image-segmentation/runs/29ei011q' target=\"_blank\">https://wandb.ai/longluv1605-institute-for-artificial-intelligence/image-segmentation/runs/29ei011q</a>"
      ],
      "text/plain": [
       "<IPython.core.display.HTML object>"
      ]
     },
     "metadata": {},
     "output_type": "display_data"
    },
    {
     "data": {
      "text/html": [
       "<button onClick=\"this.nextSibling.style.display='block';this.style.display='none';\">Display W&B run</button><iframe src='https://wandb.ai/longluv1605-institute-for-artificial-intelligence/image-segmentation/runs/29ei011q?jupyter=true' style='border:none;width:100%;height:420px;display:none;'></iframe>"
      ],
      "text/plain": [
       "<wandb.sdk.wandb_run.Run at 0x7d28c9dcd360>"
      ]
     },
     "execution_count": 31,
     "metadata": {},
     "output_type": "execute_result"
    }
   ],
   "source": [
    "# Initialize W&B project\n",
    "wandb.init(\n",
    "    project=\"image-segmentation\",  \n",
    "    name=\"unet-scratch\",     \n",
    "    config={                 \n",
    "        \"epochs\": epochs,\n",
    "        \"batch_size\": train_loader.batch_size,\n",
    "        \"learning_rate\": optimizer.defaults['lr'],\n",
    "        \"weight_decay\": optimizer.defaults['weight_decay'],\n",
    "        \"architecture\": unet.__class__.__name__,\n",
    "    }\n",
    ")"
   ]
  },
  {
   "cell_type": "code",
   "execution_count": 34,
   "metadata": {
    "execution": {
     "iopub.execute_input": "2024-12-08T08:41:12.679252Z",
     "iopub.status.busy": "2024-12-08T08:41:12.679022Z",
     "iopub.status.idle": "2024-12-08T08:41:12.683496Z",
     "shell.execute_reply": "2024-12-08T08:41:12.682695Z",
     "shell.execute_reply.started": "2024-12-08T08:41:12.679229Z"
    },
    "trusted": true
   },
   "outputs": [],
   "source": [
    "torch.cuda.empty_cache()"
   ]
  },
  {
   "cell_type": "code",
   "execution_count": null,
   "metadata": {},
   "outputs": [],
   "source": [
    "def iou_loss(pred, target, num_classes = 19):\n",
    "  pred = F.softmax(pred, dim = 1) # chuyển về thành xác suất cho từng channel\n",
    "  iou_per_class = []\n",
    "  for c in range(num_classes):\n",
    "    pred_c = pred[:,c,:,:] # (B, H, W) cho channel c đang xét\n",
    "    target_c = (target == c).float() # trả về 1.0 if index có giá trị là c else 0.0\n",
    "    intersection = torch.sum(pred_c * target_c, dim = (1,2)) # tính giao\n",
    "    union = torch.sum(pred_c, dim = (1,2)) + torch.sum(target_c, dim = (1,2)) - intersection # tính hợp\n",
    "    iou = torch.where(union == 0, torch.tensor(1.0).to(pred.device), intersection / union)  # tính iou, nếu union == 0, gán iou = 1\n",
    "    iou_per_class.append(iou)\n",
    "    # có thể tính thêm dice loss = 2 * intersection / union + intersection\n",
    "    \n",
    "  mean_iou = torch.mean(torch.stack(iou_per_class, dim = 1), dim = 1) # stack iou theo từng ảnh rồi tính mean iou cho từng ảnh\n",
    "  iou_loss = 1 - mean_iou\n",
    "  final_loss = torch.mean(iou_loss) # mean iou loss \n",
    "  return final_loss"
   ]
  },
  {
   "cell_type": "code",
   "execution_count": null,
   "metadata": {
    "execution": {
     "iopub.execute_input": "2024-12-08T11:28:14.403012Z",
     "iopub.status.busy": "2024-12-08T11:28:14.402427Z",
     "iopub.status.idle": "2024-12-08T11:28:14.416491Z",
     "shell.execute_reply": "2024-12-08T11:28:14.415635Z",
     "shell.execute_reply.started": "2024-12-08T11:28:14.402982Z"
    },
    "trusted": true
   },
   "outputs": [],
   "source": [
    "def train_model(model, train_loader, val_loader, criterion, optimizer, scaler, device, save_path=None, epochs=10):\n",
    "    best_loss = float('inf')\n",
    "\n",
    "    train_losses = []\n",
    "    val_losses = []\n",
    "    train_accuracy = []\n",
    "    val_accuracy = []\n",
    "    \n",
    "    model.train()\n",
    "    for epoch in range(epochs):\n",
    "        train_loss, train_acc = 0, 0\n",
    "        logging.info(f\"Starting Epoch {epoch + 1}/{epochs}\")\n",
    "\n",
    "        for images, masks in tqdm(train_loader, unit='batch', desc=f'Training [{epoch+1}/{epochs}]'):\n",
    "            images, masks = images.to(device), masks.to(device)\n",
    "            \n",
    "            with torch.cuda.amp.autocast():\n",
    "                mask_logits = model(images) # (B, C, H, W)\n",
    "    \n",
    "                # Resize to original size of mask\n",
    "                mask_logits = F.interpolate(mask_logits, size=(1024, 2048), mode='bilinear', align_corners=False)\n",
    "    \n",
    "                # Permute channel to last size\n",
    "                # mask_logits = mask_logits.permute(0, 2, 3, 1) # (B, H, W, C)\n",
    "    \n",
    "                # Loss\n",
    "                loss = iou_loss(mask_logits, masks)\n",
    "            train_loss += loss.item()\n",
    "\n",
    "            # Update\n",
    "            optimizer.zero_grad()\n",
    "            scaler.scale(loss).backward()\n",
    "            scaler.step(optimizer)\n",
    "            scaler.update()\n",
    "\n",
    "            # Calculate accuracy over pixel\n",
    "            mask_pred = torch.argmax(mask_logits, dim = -1)\n",
    "            mask_pred[masks == -1] = -1\n",
    "            \n",
    "            valid_mask = masks != -1\n",
    "            acc_per_batch = torch.eq(mask_pred[valid_mask], masks[valid_mask]).sum().item()\n",
    "            train_acc += (acc_per_batch / masks.numel())\n",
    "        avg_train_loss = train_loss / len(train_loader)\n",
    "        avg_train_acc = train_acc / len(train_loader)\n",
    "        \n",
    "        print(f'---> Train loss: {avg_train_loss:.4f}')\n",
    "        print(f'---> Train acc: {avg_train_acc:.4f}')\n",
    "        logging.info(f\"Epoch {epoch + 1} - Train Loss: {avg_train_loss:.4f}, Train Accuracy: {avg_train_acc:.4f}\")\n",
    "        wandb.log({\"train_loss\": avg_train_loss, \"train_acc\": avg_train_acc, \"epoch\": epoch + 1})\n",
    "\n",
    "        train_losses.append(avg_train_loss)\n",
    "        train_accuracy.append(avg_train_acc)\n",
    "        \n",
    "        # Validate\n",
    "        val_loss, val_acc = 0,0\n",
    "        model.eval()\n",
    "        with torch.inference_mode():\n",
    "            for images, masks in tqdm(val_loader, unit='batch', desc=f'Validate [{epoch+1}/{epochs}]'):\n",
    "                images, masks = images.to(device), masks.to(device)\n",
    "                \n",
    "                with torch.cuda.amp.autocast():\n",
    "                    mask_logits = model(images)\n",
    "                    mask_logits = F.interpolate(mask_logits, size=(1024, 2048), mode='bilinear', align_corners=False)\n",
    "                    mask_logits = mask_logits.permute(0,2,3,1)\n",
    "                    loss = criterion(mask_logits.reshape(-1, 19), masks.view(-1))\n",
    "                val_loss += loss.item()\n",
    "                \n",
    "                mask_pred = torch.argmax(mask_logits, dim = -1)\n",
    "                mask_pred[masks == -1] = -1\n",
    "\n",
    "                valid_mask = masks != -1\n",
    "                acc_per_batch = torch.eq(mask_pred[valid_mask], masks[valid_mask]).sum().item()\n",
    "                val_acc += (acc_per_batch / masks.numel())\n",
    "        avg_val_loss = val_loss / len(val_loader)\n",
    "        avg_val_acc = val_acc / len(val_loader)\n",
    "        \n",
    "        print(f'---> Valid loss: {avg_val_loss:.4f}')\n",
    "        print(f'---> Valid acc: {avg_val_acc:.4f}')\n",
    "        logging.info(f\"Epoch {epoch + 1} - Val Loss: {avg_val_loss:.4f}, Val Accuracy: {avg_val_acc:.4f}\")\n",
    "        wandb.log({\"val_loss\": avg_val_loss, \"val_acc\": avg_val_acc, \"epoch\": epoch + 1})\n",
    "        \n",
    "        val_losses.append(avg_val_loss)\n",
    "        val_accuracy.append(avg_val_acc)\n",
    "        \n",
    "        if save_path is not None:\n",
    "            if avg_val_loss < best_loss:\n",
    "                best_loss = avg_val_loss\n",
    "                save_model(model, save_path + f'_epoch{epoch+1}')\n",
    "                wandb.save(f\"{save_path}_epoch{epoch+1}.pth\")\n",
    "                logging.info(f\"Model saved at {save_path}_epoch{epoch + 1}.pth\")\n",
    "    return train_losses, val_losses, train_accuracy, val_accuracy"
   ]
  },
  {
   "cell_type": "markdown",
   "metadata": {},
   "source": [
    "# 5. Train"
   ]
  },
  {
   "cell_type": "code",
   "execution_count": 36,
   "metadata": {
    "execution": {
     "iopub.execute_input": "2024-12-08T08:41:12.703503Z",
     "iopub.status.busy": "2024-12-08T08:41:12.703266Z",
     "iopub.status.idle": "2024-12-08T08:41:12.716437Z",
     "shell.execute_reply": "2024-12-08T08:41:12.715637Z",
     "shell.execute_reply.started": "2024-12-08T08:41:12.703480Z"
    },
    "trusted": true
   },
   "outputs": [],
   "source": [
    "save_path = '/kaggle/working/models/unet'"
   ]
  },
  {
   "cell_type": "code",
   "execution_count": 37,
   "metadata": {
    "execution": {
     "iopub.execute_input": "2024-12-08T08:41:12.717624Z",
     "iopub.status.busy": "2024-12-08T08:41:12.717381Z",
     "iopub.status.idle": "2024-12-08T11:08:09.471798Z",
     "shell.execute_reply": "2024-12-08T11:08:09.470945Z",
     "shell.execute_reply.started": "2024-12-08T08:41:12.717602Z"
    },
    "trusted": true
   },
   "outputs": [
    {
     "name": "stderr",
     "output_type": "stream",
     "text": [
      "2024-12-08 08:41:12,724 - Starting Epoch 1/50\n",
      "Training [1/50]:   0%|          | 0/150 [00:00<?, ?batch/s]/tmp/ipykernel_23/3483330389.py:17: FutureWarning: `torch.cuda.amp.autocast(args...)` is deprecated. Please use `torch.amp.autocast('cuda', args...)` instead.\n",
      "  with torch.cuda.amp.autocast():\n",
      "/opt/conda/lib/python3.10/site-packages/torch/nn/parallel/parallel_apply.py:79: FutureWarning: `torch.cuda.amp.autocast(args...)` is deprecated. Please use `torch.amp.autocast('cuda', args...)` instead.\n",
      "  with torch.cuda.device(device), torch.cuda.stream(stream), autocast(enabled=autocast_enabled):\n",
      "Training [1/50]: 100%|██████████| 150/150 [02:42<00:00,  1.08s/batch]\n",
      "2024-12-08 08:43:55,377 - Epoch 1 - Train Loss: 1.3661, Train Accuracy: 0.5635\n"
     ]
    },
    {
     "name": "stdout",
     "output_type": "stream",
     "text": [
      "---> Train loss: 1.3661\n",
      "---> Train acc: 0.5635\n"
     ]
    },
    {
     "name": "stderr",
     "output_type": "stream",
     "text": [
      "Validate [1/50]:   0%|          | 0/13 [00:00<?, ?batch/s]/tmp/ipykernel_23/3483330389.py:61: FutureWarning: `torch.cuda.amp.autocast(args...)` is deprecated. Please use `torch.amp.autocast('cuda', args...)` instead.\n",
      "  with torch.cuda.amp.autocast():\n",
      "Validate [1/50]: 100%|██████████| 13/13 [00:13<00:00,  1.06s/batch]\n",
      "2024-12-08 08:44:09,125 - Epoch 1 - Val Loss: 1.5233, Val Accuracy: 0.4686\n"
     ]
    },
    {
     "name": "stdout",
     "output_type": "stream",
     "text": [
      "---> Valid loss: 1.5233\n",
      "---> Valid acc: 0.4686\n"
     ]
    },
    {
     "name": "stderr",
     "output_type": "stream",
     "text": [
      "\u001b[34m\u001b[1mwandb\u001b[0m: \u001b[33mWARNING\u001b[0m Saving files without folders. If you want to preserve subdirectories pass base_path to wandb.save, i.e. wandb.save(\"/mnt/folder/file.h5\", base_path=\"/mnt\")\n",
      "2024-12-08 08:44:09,368 - Model saved at /kaggle/working/models/unet_epoch1.pth\n",
      "2024-12-08 08:44:09,369 - Starting Epoch 2/50\n"
     ]
    },
    {
     "name": "stdout",
     "output_type": "stream",
     "text": [
      "Model is saved to: /kaggle/working/models/unet_epoch1.pth\n"
     ]
    },
    {
     "name": "stderr",
     "output_type": "stream",
     "text": [
      "Training [2/50]: 100%|██████████| 150/150 [02:45<00:00,  1.10s/batch]\n",
      "2024-12-08 08:46:54,717 - Epoch 2 - Train Loss: 1.4368, Train Accuracy: 0.5123\n"
     ]
    },
    {
     "name": "stdout",
     "output_type": "stream",
     "text": [
      "---> Train loss: 1.4368\n",
      "---> Train acc: 0.5123\n"
     ]
    },
    {
     "name": "stderr",
     "output_type": "stream",
     "text": [
      "Validate [2/50]: 100%|██████████| 13/13 [00:14<00:00,  1.10s/batch]\n",
      "2024-12-08 08:47:09,019 - Epoch 2 - Val Loss: 1.6399, Val Accuracy: 0.4431\n",
      "2024-12-08 08:47:09,020 - Starting Epoch 3/50\n"
     ]
    },
    {
     "name": "stdout",
     "output_type": "stream",
     "text": [
      "---> Valid loss: 1.6399\n",
      "---> Valid acc: 0.4431\n"
     ]
    },
    {
     "name": "stderr",
     "output_type": "stream",
     "text": [
      "Training [3/50]: 100%|██████████| 150/150 [02:51<00:00,  1.14s/batch]\n",
      "2024-12-08 08:50:00,492 - Epoch 3 - Train Loss: 1.3954, Train Accuracy: 0.5263\n"
     ]
    },
    {
     "name": "stdout",
     "output_type": "stream",
     "text": [
      "---> Train loss: 1.3954\n",
      "---> Train acc: 0.5263\n"
     ]
    },
    {
     "name": "stderr",
     "output_type": "stream",
     "text": [
      "Validate [3/50]: 100%|██████████| 13/13 [00:14<00:00,  1.10s/batch]\n",
      "2024-12-08 08:50:14,838 - Epoch 3 - Val Loss: 1.3394, Val Accuracy: 0.5341\n"
     ]
    },
    {
     "name": "stdout",
     "output_type": "stream",
     "text": [
      "---> Valid loss: 1.3394\n",
      "---> Valid acc: 0.5341\n"
     ]
    },
    {
     "name": "stderr",
     "output_type": "stream",
     "text": [
      "2024-12-08 08:50:15,047 - Model saved at /kaggle/working/models/unet_epoch3.pth\n",
      "2024-12-08 08:50:15,048 - Starting Epoch 4/50\n"
     ]
    },
    {
     "name": "stdout",
     "output_type": "stream",
     "text": [
      "Model is saved to: /kaggle/working/models/unet_epoch3.pth\n"
     ]
    },
    {
     "name": "stderr",
     "output_type": "stream",
     "text": [
      "Training [4/50]: 100%|██████████| 150/150 [02:42<00:00,  1.08s/batch]\n",
      "2024-12-08 08:52:57,086 - Epoch 4 - Train Loss: 1.3622, Train Accuracy: 0.5356\n"
     ]
    },
    {
     "name": "stdout",
     "output_type": "stream",
     "text": [
      "---> Train loss: 1.3622\n",
      "---> Train acc: 0.5356\n"
     ]
    },
    {
     "name": "stderr",
     "output_type": "stream",
     "text": [
      "Validate [4/50]: 100%|██████████| 13/13 [00:13<00:00,  1.05s/batch]\n",
      "2024-12-08 08:53:10,744 - Epoch 4 - Val Loss: 1.2944, Val Accuracy: 0.5494\n"
     ]
    },
    {
     "name": "stdout",
     "output_type": "stream",
     "text": [
      "---> Valid loss: 1.2944\n",
      "---> Valid acc: 0.5494\n",
      "Model is saved to: /kaggle/working/models/unet_epoch4.pth\n"
     ]
    },
    {
     "name": "stderr",
     "output_type": "stream",
     "text": [
      "2024-12-08 08:53:10,946 - Model saved at /kaggle/working/models/unet_epoch4.pth\n",
      "2024-12-08 08:53:10,947 - Starting Epoch 5/50\n",
      "Training [5/50]: 100%|██████████| 150/150 [02:40<00:00,  1.07s/batch]\n",
      "2024-12-08 08:55:51,538 - Epoch 5 - Train Loss: 1.3216, Train Accuracy: 0.5486\n"
     ]
    },
    {
     "name": "stdout",
     "output_type": "stream",
     "text": [
      "---> Train loss: 1.3216\n",
      "---> Train acc: 0.5486\n"
     ]
    },
    {
     "name": "stderr",
     "output_type": "stream",
     "text": [
      "Validate [5/50]: 100%|██████████| 13/13 [00:13<00:00,  1.05s/batch]\n",
      "2024-12-08 08:56:05,245 - Epoch 5 - Val Loss: 1.3697, Val Accuracy: 0.5267\n",
      "2024-12-08 08:56:05,247 - Starting Epoch 6/50\n"
     ]
    },
    {
     "name": "stdout",
     "output_type": "stream",
     "text": [
      "---> Valid loss: 1.3697\n",
      "---> Valid acc: 0.5267\n"
     ]
    },
    {
     "name": "stderr",
     "output_type": "stream",
     "text": [
      "Training [6/50]: 100%|██████████| 150/150 [02:42<00:00,  1.08s/batch]\n",
      "2024-12-08 08:58:47,488 - Epoch 6 - Train Loss: 1.2922, Train Accuracy: 0.5599\n"
     ]
    },
    {
     "name": "stdout",
     "output_type": "stream",
     "text": [
      "---> Train loss: 1.2922\n",
      "---> Train acc: 0.5599\n"
     ]
    },
    {
     "name": "stderr",
     "output_type": "stream",
     "text": [
      "Validate [6/50]: 100%|██████████| 13/13 [00:14<00:00,  1.08s/batch]\n",
      "2024-12-08 08:59:01,560 - Epoch 6 - Val Loss: 1.4445, Val Accuracy: 0.4803\n",
      "2024-12-08 08:59:01,562 - Starting Epoch 7/50\n"
     ]
    },
    {
     "name": "stdout",
     "output_type": "stream",
     "text": [
      "---> Valid loss: 1.4445\n",
      "---> Valid acc: 0.4803\n"
     ]
    },
    {
     "name": "stderr",
     "output_type": "stream",
     "text": [
      "Training [7/50]: 100%|██████████| 150/150 [02:39<00:00,  1.06s/batch]\n",
      "2024-12-08 09:01:40,703 - Epoch 7 - Train Loss: 1.3006, Train Accuracy: 0.5582\n"
     ]
    },
    {
     "name": "stdout",
     "output_type": "stream",
     "text": [
      "---> Train loss: 1.3006\n",
      "---> Train acc: 0.5582\n"
     ]
    },
    {
     "name": "stderr",
     "output_type": "stream",
     "text": [
      "Validate [7/50]: 100%|██████████| 13/13 [00:13<00:00,  1.02s/batch]\n",
      "2024-12-08 09:01:54,014 - Epoch 7 - Val Loss: 1.2442, Val Accuracy: 0.5527\n"
     ]
    },
    {
     "name": "stdout",
     "output_type": "stream",
     "text": [
      "---> Valid loss: 1.2442\n",
      "---> Valid acc: 0.5527\n"
     ]
    },
    {
     "name": "stderr",
     "output_type": "stream",
     "text": [
      "2024-12-08 09:01:54,248 - Model saved at /kaggle/working/models/unet_epoch7.pth\n",
      "2024-12-08 09:01:54,250 - Starting Epoch 8/50\n"
     ]
    },
    {
     "name": "stdout",
     "output_type": "stream",
     "text": [
      "Model is saved to: /kaggle/working/models/unet_epoch7.pth\n"
     ]
    },
    {
     "name": "stderr",
     "output_type": "stream",
     "text": [
      "Training [8/50]: 100%|██████████| 150/150 [02:45<00:00,  1.10s/batch]\n",
      "2024-12-08 09:04:39,750 - Epoch 8 - Train Loss: 1.2714, Train Accuracy: 0.5576\n"
     ]
    },
    {
     "name": "stdout",
     "output_type": "stream",
     "text": [
      "---> Train loss: 1.2714\n",
      "---> Train acc: 0.5576\n"
     ]
    },
    {
     "name": "stderr",
     "output_type": "stream",
     "text": [
      "Validate [8/50]: 100%|██████████| 13/13 [00:14<00:00,  1.10s/batch]\n",
      "2024-12-08 09:04:54,023 - Epoch 8 - Val Loss: 1.3620, Val Accuracy: 0.5225\n",
      "2024-12-08 09:04:54,025 - Starting Epoch 9/50\n"
     ]
    },
    {
     "name": "stdout",
     "output_type": "stream",
     "text": [
      "---> Valid loss: 1.3620\n",
      "---> Valid acc: 0.5225\n"
     ]
    },
    {
     "name": "stderr",
     "output_type": "stream",
     "text": [
      "Training [9/50]: 100%|██████████| 150/150 [02:44<00:00,  1.09s/batch]\n",
      "2024-12-08 09:07:38,082 - Epoch 9 - Train Loss: 1.2683, Train Accuracy: 0.5635\n"
     ]
    },
    {
     "name": "stdout",
     "output_type": "stream",
     "text": [
      "---> Train loss: 1.2683\n",
      "---> Train acc: 0.5635\n"
     ]
    },
    {
     "name": "stderr",
     "output_type": "stream",
     "text": [
      "Validate [9/50]: 100%|██████████| 13/13 [00:13<00:00,  1.05s/batch]\n",
      "2024-12-08 09:07:51,767 - Epoch 9 - Val Loss: 1.3258, Val Accuracy: 0.5348\n",
      "2024-12-08 09:07:51,769 - Starting Epoch 10/50\n"
     ]
    },
    {
     "name": "stdout",
     "output_type": "stream",
     "text": [
      "---> Valid loss: 1.3258\n",
      "---> Valid acc: 0.5348\n"
     ]
    },
    {
     "name": "stderr",
     "output_type": "stream",
     "text": [
      "Training [10/50]: 100%|██████████| 150/150 [02:42<00:00,  1.08s/batch]\n",
      "2024-12-08 09:10:34,161 - Epoch 10 - Train Loss: 1.2443, Train Accuracy: 0.5690\n"
     ]
    },
    {
     "name": "stdout",
     "output_type": "stream",
     "text": [
      "---> Train loss: 1.2443\n",
      "---> Train acc: 0.5690\n"
     ]
    },
    {
     "name": "stderr",
     "output_type": "stream",
     "text": [
      "Validate [10/50]: 100%|██████████| 13/13 [00:13<00:00,  1.06s/batch]\n",
      "2024-12-08 09:10:48,007 - Epoch 10 - Val Loss: 1.3377, Val Accuracy: 0.5338\n",
      "2024-12-08 09:10:48,009 - Starting Epoch 11/50\n"
     ]
    },
    {
     "name": "stdout",
     "output_type": "stream",
     "text": [
      "---> Valid loss: 1.3377\n",
      "---> Valid acc: 0.5338\n"
     ]
    },
    {
     "name": "stderr",
     "output_type": "stream",
     "text": [
      "Training [11/50]: 100%|██████████| 150/150 [02:40<00:00,  1.07s/batch]\n",
      "2024-12-08 09:13:28,116 - Epoch 11 - Train Loss: 1.2157, Train Accuracy: 0.5789\n"
     ]
    },
    {
     "name": "stdout",
     "output_type": "stream",
     "text": [
      "---> Train loss: 1.2157\n",
      "---> Train acc: 0.5789\n"
     ]
    },
    {
     "name": "stderr",
     "output_type": "stream",
     "text": [
      "Validate [11/50]: 100%|██████████| 13/13 [00:13<00:00,  1.06s/batch]\n",
      "2024-12-08 09:13:41,858 - Epoch 11 - Val Loss: 1.2448, Val Accuracy: 0.5537\n",
      "2024-12-08 09:13:41,859 - Starting Epoch 12/50\n"
     ]
    },
    {
     "name": "stdout",
     "output_type": "stream",
     "text": [
      "---> Valid loss: 1.2448\n",
      "---> Valid acc: 0.5537\n"
     ]
    },
    {
     "name": "stderr",
     "output_type": "stream",
     "text": [
      "Training [12/50]: 100%|██████████| 150/150 [02:44<00:00,  1.10s/batch]\n",
      "2024-12-08 09:16:26,397 - Epoch 12 - Train Loss: 1.2121, Train Accuracy: 0.5797\n"
     ]
    },
    {
     "name": "stdout",
     "output_type": "stream",
     "text": [
      "---> Train loss: 1.2121\n",
      "---> Train acc: 0.5797\n"
     ]
    },
    {
     "name": "stderr",
     "output_type": "stream",
     "text": [
      "Validate [12/50]: 100%|██████████| 13/13 [00:14<00:00,  1.09s/batch]\n",
      "2024-12-08 09:16:40,588 - Epoch 12 - Val Loss: 1.2563, Val Accuracy: 0.5427\n",
      "2024-12-08 09:16:40,589 - Starting Epoch 13/50\n"
     ]
    },
    {
     "name": "stdout",
     "output_type": "stream",
     "text": [
      "---> Valid loss: 1.2563\n",
      "---> Valid acc: 0.5427\n"
     ]
    },
    {
     "name": "stderr",
     "output_type": "stream",
     "text": [
      "Training [13/50]: 100%|██████████| 150/150 [02:41<00:00,  1.08s/batch]\n",
      "2024-12-08 09:19:21,927 - Epoch 13 - Train Loss: 1.2027, Train Accuracy: 0.5834\n"
     ]
    },
    {
     "name": "stdout",
     "output_type": "stream",
     "text": [
      "---> Train loss: 1.2027\n",
      "---> Train acc: 0.5834\n"
     ]
    },
    {
     "name": "stderr",
     "output_type": "stream",
     "text": [
      "Validate [13/50]: 100%|██████████| 13/13 [00:13<00:00,  1.05s/batch]\n",
      "2024-12-08 09:19:35,628 - Epoch 13 - Val Loss: 1.2521, Val Accuracy: 0.5514\n",
      "2024-12-08 09:19:35,630 - Starting Epoch 14/50\n"
     ]
    },
    {
     "name": "stdout",
     "output_type": "stream",
     "text": [
      "---> Valid loss: 1.2521\n",
      "---> Valid acc: 0.5514\n"
     ]
    },
    {
     "name": "stderr",
     "output_type": "stream",
     "text": [
      "Training [14/50]: 100%|██████████| 150/150 [02:40<00:00,  1.07s/batch]\n",
      "2024-12-08 09:22:16,411 - Epoch 14 - Train Loss: 1.1932, Train Accuracy: 0.5860\n"
     ]
    },
    {
     "name": "stdout",
     "output_type": "stream",
     "text": [
      "---> Train loss: 1.1932\n",
      "---> Train acc: 0.5860\n"
     ]
    },
    {
     "name": "stderr",
     "output_type": "stream",
     "text": [
      "Validate [14/50]: 100%|██████████| 13/13 [00:13<00:00,  1.05s/batch]\n",
      "2024-12-08 09:22:30,097 - Epoch 14 - Val Loss: 1.2978, Val Accuracy: 0.5404\n",
      "2024-12-08 09:22:30,098 - Starting Epoch 15/50\n"
     ]
    },
    {
     "name": "stdout",
     "output_type": "stream",
     "text": [
      "---> Valid loss: 1.2978\n",
      "---> Valid acc: 0.5404\n"
     ]
    },
    {
     "name": "stderr",
     "output_type": "stream",
     "text": [
      "Training [15/50]: 100%|██████████| 150/150 [02:40<00:00,  1.07s/batch]\n",
      "2024-12-08 09:25:10,514 - Epoch 15 - Train Loss: 1.2051, Train Accuracy: 0.5825\n"
     ]
    },
    {
     "name": "stdout",
     "output_type": "stream",
     "text": [
      "---> Train loss: 1.2051\n",
      "---> Train acc: 0.5825\n"
     ]
    },
    {
     "name": "stderr",
     "output_type": "stream",
     "text": [
      "Validate [15/50]: 100%|██████████| 13/13 [00:13<00:00,  1.05s/batch]\n",
      "2024-12-08 09:25:24,177 - Epoch 15 - Val Loss: 1.2572, Val Accuracy: 0.5639\n",
      "2024-12-08 09:25:24,178 - Starting Epoch 16/50\n"
     ]
    },
    {
     "name": "stdout",
     "output_type": "stream",
     "text": [
      "---> Valid loss: 1.2572\n",
      "---> Valid acc: 0.5639\n"
     ]
    },
    {
     "name": "stderr",
     "output_type": "stream",
     "text": [
      "Training [16/50]: 100%|██████████| 150/150 [02:43<00:00,  1.09s/batch]\n",
      "2024-12-08 09:28:07,557 - Epoch 16 - Train Loss: 1.2166, Train Accuracy: 0.5811\n"
     ]
    },
    {
     "name": "stdout",
     "output_type": "stream",
     "text": [
      "---> Train loss: 1.2166\n",
      "---> Train acc: 0.5811\n"
     ]
    },
    {
     "name": "stderr",
     "output_type": "stream",
     "text": [
      "Validate [16/50]: 100%|██████████| 13/13 [00:13<00:00,  1.04s/batch]\n",
      "2024-12-08 09:28:21,102 - Epoch 16 - Val Loss: 1.3223, Val Accuracy: 0.5084\n",
      "2024-12-08 09:28:21,104 - Starting Epoch 17/50\n"
     ]
    },
    {
     "name": "stdout",
     "output_type": "stream",
     "text": [
      "---> Valid loss: 1.3223\n",
      "---> Valid acc: 0.5084\n"
     ]
    },
    {
     "name": "stderr",
     "output_type": "stream",
     "text": [
      "Training [17/50]: 100%|██████████| 150/150 [02:42<00:00,  1.08s/batch]\n",
      "2024-12-08 09:31:03,625 - Epoch 17 - Train Loss: 1.2107, Train Accuracy: 0.5792\n"
     ]
    },
    {
     "name": "stdout",
     "output_type": "stream",
     "text": [
      "---> Train loss: 1.2107\n",
      "---> Train acc: 0.5792\n"
     ]
    },
    {
     "name": "stderr",
     "output_type": "stream",
     "text": [
      "Validate [17/50]: 100%|██████████| 13/13 [00:13<00:00,  1.03s/batch]\n",
      "2024-12-08 09:31:17,070 - Epoch 17 - Val Loss: 1.1762, Val Accuracy: 0.5761\n"
     ]
    },
    {
     "name": "stdout",
     "output_type": "stream",
     "text": [
      "---> Valid loss: 1.1762\n",
      "---> Valid acc: 0.5761\n"
     ]
    },
    {
     "name": "stderr",
     "output_type": "stream",
     "text": [
      "2024-12-08 09:31:17,279 - Model saved at /kaggle/working/models/unet_epoch17.pth\n",
      "2024-12-08 09:31:17,280 - Starting Epoch 18/50\n"
     ]
    },
    {
     "name": "stdout",
     "output_type": "stream",
     "text": [
      "Model is saved to: /kaggle/working/models/unet_epoch17.pth\n"
     ]
    },
    {
     "name": "stderr",
     "output_type": "stream",
     "text": [
      "Training [18/50]: 100%|██████████| 150/150 [02:42<00:00,  1.08s/batch]\n",
      "2024-12-08 09:33:59,474 - Epoch 18 - Train Loss: 1.1742, Train Accuracy: 0.5908\n"
     ]
    },
    {
     "name": "stdout",
     "output_type": "stream",
     "text": [
      "---> Train loss: 1.1742\n",
      "---> Train acc: 0.5908\n"
     ]
    },
    {
     "name": "stderr",
     "output_type": "stream",
     "text": [
      "Validate [18/50]: 100%|██████████| 13/13 [00:13<00:00,  1.05s/batch]\n",
      "2024-12-08 09:34:13,086 - Epoch 18 - Val Loss: 1.2760, Val Accuracy: 0.5284\n",
      "2024-12-08 09:34:13,088 - Starting Epoch 19/50\n"
     ]
    },
    {
     "name": "stdout",
     "output_type": "stream",
     "text": [
      "---> Valid loss: 1.2760\n",
      "---> Valid acc: 0.5284\n"
     ]
    },
    {
     "name": "stderr",
     "output_type": "stream",
     "text": [
      "Training [19/50]: 100%|██████████| 150/150 [02:41<00:00,  1.08s/batch]\n",
      "2024-12-08 09:36:55,109 - Epoch 19 - Train Loss: 1.1770, Train Accuracy: 0.5903\n"
     ]
    },
    {
     "name": "stdout",
     "output_type": "stream",
     "text": [
      "---> Train loss: 1.1770\n",
      "---> Train acc: 0.5903\n"
     ]
    },
    {
     "name": "stderr",
     "output_type": "stream",
     "text": [
      "Validate [19/50]: 100%|██████████| 13/13 [00:14<00:00,  1.08s/batch]\n",
      "2024-12-08 09:37:09,161 - Epoch 19 - Val Loss: 1.3842, Val Accuracy: 0.5229\n",
      "2024-12-08 09:37:09,162 - Starting Epoch 20/50\n"
     ]
    },
    {
     "name": "stdout",
     "output_type": "stream",
     "text": [
      "---> Valid loss: 1.3842\n",
      "---> Valid acc: 0.5229\n"
     ]
    },
    {
     "name": "stderr",
     "output_type": "stream",
     "text": [
      "Training [20/50]: 100%|██████████| 150/150 [02:43<00:00,  1.09s/batch]\n",
      "2024-12-08 09:39:52,269 - Epoch 20 - Train Loss: 1.1655, Train Accuracy: 0.5954\n"
     ]
    },
    {
     "name": "stdout",
     "output_type": "stream",
     "text": [
      "---> Train loss: 1.1655\n",
      "---> Train acc: 0.5954\n"
     ]
    },
    {
     "name": "stderr",
     "output_type": "stream",
     "text": [
      "Validate [20/50]: 100%|██████████| 13/13 [00:13<00:00,  1.03s/batch]\n",
      "2024-12-08 09:40:05,742 - Epoch 20 - Val Loss: 1.1733, Val Accuracy: 0.5747\n"
     ]
    },
    {
     "name": "stdout",
     "output_type": "stream",
     "text": [
      "---> Valid loss: 1.1733\n",
      "---> Valid acc: 0.5747\n",
      "Model is saved to: /kaggle/working/models/unet_epoch20.pth\n"
     ]
    },
    {
     "name": "stderr",
     "output_type": "stream",
     "text": [
      "2024-12-08 09:40:05,943 - Model saved at /kaggle/working/models/unet_epoch20.pth\n",
      "2024-12-08 09:40:05,945 - Starting Epoch 21/50\n",
      "Training [21/50]: 100%|██████████| 150/150 [02:41<00:00,  1.08s/batch]\n",
      "2024-12-08 09:42:47,664 - Epoch 21 - Train Loss: 1.1565, Train Accuracy: 0.5993\n"
     ]
    },
    {
     "name": "stdout",
     "output_type": "stream",
     "text": [
      "---> Train loss: 1.1565\n",
      "---> Train acc: 0.5993\n"
     ]
    },
    {
     "name": "stderr",
     "output_type": "stream",
     "text": [
      "Validate [21/50]: 100%|██████████| 13/13 [00:14<00:00,  1.11s/batch]\n",
      "2024-12-08 09:43:02,049 - Epoch 21 - Val Loss: 1.2066, Val Accuracy: 0.5671\n",
      "2024-12-08 09:43:02,051 - Starting Epoch 22/50\n"
     ]
    },
    {
     "name": "stdout",
     "output_type": "stream",
     "text": [
      "---> Valid loss: 1.2066\n",
      "---> Valid acc: 0.5671\n"
     ]
    },
    {
     "name": "stderr",
     "output_type": "stream",
     "text": [
      "Training [22/50]: 100%|██████████| 150/150 [02:42<00:00,  1.09s/batch]\n",
      "2024-12-08 09:45:45,013 - Epoch 22 - Train Loss: 1.1523, Train Accuracy: 0.5972\n"
     ]
    },
    {
     "name": "stdout",
     "output_type": "stream",
     "text": [
      "---> Train loss: 1.1523\n",
      "---> Train acc: 0.5972\n"
     ]
    },
    {
     "name": "stderr",
     "output_type": "stream",
     "text": [
      "Validate [22/50]: 100%|██████████| 13/13 [00:13<00:00,  1.06s/batch]\n",
      "2024-12-08 09:45:58,832 - Epoch 22 - Val Loss: 1.2119, Val Accuracy: 0.5611\n",
      "2024-12-08 09:45:58,833 - Starting Epoch 23/50\n"
     ]
    },
    {
     "name": "stdout",
     "output_type": "stream",
     "text": [
      "---> Valid loss: 1.2119\n",
      "---> Valid acc: 0.5611\n"
     ]
    },
    {
     "name": "stderr",
     "output_type": "stream",
     "text": [
      "Training [23/50]: 100%|██████████| 150/150 [02:40<00:00,  1.07s/batch]\n",
      "2024-12-08 09:48:39,454 - Epoch 23 - Train Loss: 1.1534, Train Accuracy: 0.5966\n"
     ]
    },
    {
     "name": "stdout",
     "output_type": "stream",
     "text": [
      "---> Train loss: 1.1534\n",
      "---> Train acc: 0.5966\n"
     ]
    },
    {
     "name": "stderr",
     "output_type": "stream",
     "text": [
      "Validate [23/50]: 100%|██████████| 13/13 [00:13<00:00,  1.07s/batch]\n",
      "2024-12-08 09:48:53,447 - Epoch 23 - Val Loss: 1.2386, Val Accuracy: 0.5545\n",
      "2024-12-08 09:48:53,448 - Starting Epoch 24/50\n"
     ]
    },
    {
     "name": "stdout",
     "output_type": "stream",
     "text": [
      "---> Valid loss: 1.2386\n",
      "---> Valid acc: 0.5545\n"
     ]
    },
    {
     "name": "stderr",
     "output_type": "stream",
     "text": [
      "Training [24/50]: 100%|██████████| 150/150 [02:44<00:00,  1.09s/batch]\n",
      "2024-12-08 09:51:37,517 - Epoch 24 - Train Loss: 1.1304, Train Accuracy: 0.6063\n"
     ]
    },
    {
     "name": "stdout",
     "output_type": "stream",
     "text": [
      "---> Train loss: 1.1304\n",
      "---> Train acc: 0.6063\n"
     ]
    },
    {
     "name": "stderr",
     "output_type": "stream",
     "text": [
      "Validate [24/50]: 100%|██████████| 13/13 [00:13<00:00,  1.05s/batch]\n",
      "2024-12-08 09:51:51,183 - Epoch 24 - Val Loss: 1.1829, Val Accuracy: 0.5656\n",
      "2024-12-08 09:51:51,185 - Starting Epoch 25/50\n"
     ]
    },
    {
     "name": "stdout",
     "output_type": "stream",
     "text": [
      "---> Valid loss: 1.1829\n",
      "---> Valid acc: 0.5656\n"
     ]
    },
    {
     "name": "stderr",
     "output_type": "stream",
     "text": [
      "Training [25/50]: 100%|██████████| 150/150 [02:43<00:00,  1.09s/batch]\n",
      "2024-12-08 09:54:34,232 - Epoch 25 - Train Loss: 1.1552, Train Accuracy: 0.5959\n"
     ]
    },
    {
     "name": "stdout",
     "output_type": "stream",
     "text": [
      "---> Train loss: 1.1552\n",
      "---> Train acc: 0.5959\n"
     ]
    },
    {
     "name": "stderr",
     "output_type": "stream",
     "text": [
      "Validate [25/50]: 100%|██████████| 13/13 [00:13<00:00,  1.07s/batch]\n",
      "2024-12-08 09:54:48,179 - Epoch 25 - Val Loss: 1.1751, Val Accuracy: 0.5771\n",
      "2024-12-08 09:54:48,181 - Starting Epoch 26/50\n"
     ]
    },
    {
     "name": "stdout",
     "output_type": "stream",
     "text": [
      "---> Valid loss: 1.1751\n",
      "---> Valid acc: 0.5771\n"
     ]
    },
    {
     "name": "stderr",
     "output_type": "stream",
     "text": [
      "Training [26/50]: 100%|██████████| 150/150 [02:42<00:00,  1.08s/batch]\n",
      "2024-12-08 09:57:30,725 - Epoch 26 - Train Loss: 1.1398, Train Accuracy: 0.6024\n"
     ]
    },
    {
     "name": "stdout",
     "output_type": "stream",
     "text": [
      "---> Train loss: 1.1398\n",
      "---> Train acc: 0.6024\n"
     ]
    },
    {
     "name": "stderr",
     "output_type": "stream",
     "text": [
      "Validate [26/50]: 100%|██████████| 13/13 [00:13<00:00,  1.04s/batch]\n",
      "2024-12-08 09:57:44,324 - Epoch 26 - Val Loss: 1.1560, Val Accuracy: 0.5843\n"
     ]
    },
    {
     "name": "stdout",
     "output_type": "stream",
     "text": [
      "---> Valid loss: 1.1560\n",
      "---> Valid acc: 0.5843\n",
      "Model is saved to: /kaggle/working/models/unet_epoch26.pth\n"
     ]
    },
    {
     "name": "stderr",
     "output_type": "stream",
     "text": [
      "2024-12-08 09:57:44,526 - Model saved at /kaggle/working/models/unet_epoch26.pth\n",
      "2024-12-08 09:57:44,527 - Starting Epoch 27/50\n",
      "Training [27/50]: 100%|██████████| 150/150 [02:42<00:00,  1.08s/batch]\n",
      "2024-12-08 10:00:26,627 - Epoch 27 - Train Loss: 1.1143, Train Accuracy: 0.6097\n"
     ]
    },
    {
     "name": "stdout",
     "output_type": "stream",
     "text": [
      "---> Train loss: 1.1143\n",
      "---> Train acc: 0.6097\n"
     ]
    },
    {
     "name": "stderr",
     "output_type": "stream",
     "text": [
      "Validate [27/50]: 100%|██████████| 13/13 [00:14<00:00,  1.09s/batch]\n",
      "2024-12-08 10:00:40,876 - Epoch 27 - Val Loss: 1.1556, Val Accuracy: 0.5782\n"
     ]
    },
    {
     "name": "stdout",
     "output_type": "stream",
     "text": [
      "---> Valid loss: 1.1556\n",
      "---> Valid acc: 0.5782\n",
      "Model is saved to: /kaggle/working/models/unet_epoch27.pth\n"
     ]
    },
    {
     "name": "stderr",
     "output_type": "stream",
     "text": [
      "2024-12-08 10:00:41,076 - Model saved at /kaggle/working/models/unet_epoch27.pth\n",
      "2024-12-08 10:00:41,078 - Starting Epoch 28/50\n",
      "Training [28/50]: 100%|██████████| 150/150 [02:41<00:00,  1.08s/batch]\n",
      "2024-12-08 10:03:22,539 - Epoch 28 - Train Loss: 1.1355, Train Accuracy: 0.6030\n"
     ]
    },
    {
     "name": "stdout",
     "output_type": "stream",
     "text": [
      "---> Train loss: 1.1355\n",
      "---> Train acc: 0.6030\n"
     ]
    },
    {
     "name": "stderr",
     "output_type": "stream",
     "text": [
      "Validate [28/50]: 100%|██████████| 13/13 [00:13<00:00,  1.04s/batch]\n",
      "2024-12-08 10:03:36,129 - Epoch 28 - Val Loss: 1.2575, Val Accuracy: 0.5402\n",
      "2024-12-08 10:03:36,130 - Starting Epoch 29/50\n"
     ]
    },
    {
     "name": "stdout",
     "output_type": "stream",
     "text": [
      "---> Valid loss: 1.2575\n",
      "---> Valid acc: 0.5402\n"
     ]
    },
    {
     "name": "stderr",
     "output_type": "stream",
     "text": [
      "Training [29/50]: 100%|██████████| 150/150 [02:41<00:00,  1.08s/batch]\n",
      "2024-12-08 10:06:18,042 - Epoch 29 - Train Loss: 1.1239, Train Accuracy: 0.6066\n"
     ]
    },
    {
     "name": "stdout",
     "output_type": "stream",
     "text": [
      "---> Train loss: 1.1239\n",
      "---> Train acc: 0.6066\n"
     ]
    },
    {
     "name": "stderr",
     "output_type": "stream",
     "text": [
      "Validate [29/50]: 100%|██████████| 13/13 [00:13<00:00,  1.05s/batch]\n",
      "2024-12-08 10:06:31,764 - Epoch 29 - Val Loss: 1.1939, Val Accuracy: 0.5611\n",
      "2024-12-08 10:06:31,765 - Starting Epoch 30/50\n"
     ]
    },
    {
     "name": "stdout",
     "output_type": "stream",
     "text": [
      "---> Valid loss: 1.1939\n",
      "---> Valid acc: 0.5611\n"
     ]
    },
    {
     "name": "stderr",
     "output_type": "stream",
     "text": [
      "Training [30/50]: 100%|██████████| 150/150 [02:42<00:00,  1.08s/batch]\n",
      "2024-12-08 10:09:14,273 - Epoch 30 - Train Loss: 1.1230, Train Accuracy: 0.6073\n"
     ]
    },
    {
     "name": "stdout",
     "output_type": "stream",
     "text": [
      "---> Train loss: 1.1230\n",
      "---> Train acc: 0.6073\n"
     ]
    },
    {
     "name": "stderr",
     "output_type": "stream",
     "text": [
      "Validate [30/50]: 100%|██████████| 13/13 [00:13<00:00,  1.04s/batch]\n",
      "2024-12-08 10:09:27,769 - Epoch 30 - Val Loss: 1.2457, Val Accuracy: 0.5451\n",
      "2024-12-08 10:09:27,771 - Starting Epoch 31/50\n"
     ]
    },
    {
     "name": "stdout",
     "output_type": "stream",
     "text": [
      "---> Valid loss: 1.2457\n",
      "---> Valid acc: 0.5451\n"
     ]
    },
    {
     "name": "stderr",
     "output_type": "stream",
     "text": [
      "Training [31/50]: 100%|██████████| 150/150 [02:44<00:00,  1.10s/batch]\n",
      "2024-12-08 10:12:12,550 - Epoch 31 - Train Loss: 1.1264, Train Accuracy: 0.6052\n"
     ]
    },
    {
     "name": "stdout",
     "output_type": "stream",
     "text": [
      "---> Train loss: 1.1264\n",
      "---> Train acc: 0.6052\n"
     ]
    },
    {
     "name": "stderr",
     "output_type": "stream",
     "text": [
      "Validate [31/50]: 100%|██████████| 13/13 [00:13<00:00,  1.04s/batch]\n",
      "2024-12-08 10:12:26,143 - Epoch 31 - Val Loss: 1.1961, Val Accuracy: 0.5724\n",
      "2024-12-08 10:12:26,145 - Starting Epoch 32/50\n"
     ]
    },
    {
     "name": "stdout",
     "output_type": "stream",
     "text": [
      "---> Valid loss: 1.1961\n",
      "---> Valid acc: 0.5724\n"
     ]
    },
    {
     "name": "stderr",
     "output_type": "stream",
     "text": [
      "Training [32/50]: 100%|██████████| 150/150 [02:40<00:00,  1.07s/batch]\n",
      "2024-12-08 10:15:06,401 - Epoch 32 - Train Loss: 1.1082, Train Accuracy: 0.6099\n"
     ]
    },
    {
     "name": "stdout",
     "output_type": "stream",
     "text": [
      "---> Train loss: 1.1082\n",
      "---> Train acc: 0.6099\n"
     ]
    },
    {
     "name": "stderr",
     "output_type": "stream",
     "text": [
      "Validate [32/50]: 100%|██████████| 13/13 [00:13<00:00,  1.05s/batch]\n",
      "2024-12-08 10:15:20,035 - Epoch 32 - Val Loss: 1.2166, Val Accuracy: 0.5549\n",
      "2024-12-08 10:15:20,036 - Starting Epoch 33/50\n"
     ]
    },
    {
     "name": "stdout",
     "output_type": "stream",
     "text": [
      "---> Valid loss: 1.2166\n",
      "---> Valid acc: 0.5549\n"
     ]
    },
    {
     "name": "stderr",
     "output_type": "stream",
     "text": [
      "Training [33/50]: 100%|██████████| 150/150 [02:41<00:00,  1.08s/batch]\n",
      "2024-12-08 10:18:01,625 - Epoch 33 - Train Loss: 1.1093, Train Accuracy: 0.6105\n"
     ]
    },
    {
     "name": "stdout",
     "output_type": "stream",
     "text": [
      "---> Train loss: 1.1093\n",
      "---> Train acc: 0.6105\n"
     ]
    },
    {
     "name": "stderr",
     "output_type": "stream",
     "text": [
      "Validate [33/50]: 100%|██████████| 13/13 [00:13<00:00,  1.04s/batch]\n",
      "2024-12-08 10:18:15,162 - Epoch 33 - Val Loss: 1.2939, Val Accuracy: 0.5248\n",
      "2024-12-08 10:18:15,163 - Starting Epoch 34/50\n"
     ]
    },
    {
     "name": "stdout",
     "output_type": "stream",
     "text": [
      "---> Valid loss: 1.2939\n",
      "---> Valid acc: 0.5248\n"
     ]
    },
    {
     "name": "stderr",
     "output_type": "stream",
     "text": [
      "Training [34/50]: 100%|██████████| 150/150 [02:43<00:00,  1.09s/batch]\n",
      "2024-12-08 10:20:58,980 - Epoch 34 - Train Loss: 1.1450, Train Accuracy: 0.5997\n"
     ]
    },
    {
     "name": "stdout",
     "output_type": "stream",
     "text": [
      "---> Train loss: 1.1450\n",
      "---> Train acc: 0.5997\n"
     ]
    },
    {
     "name": "stderr",
     "output_type": "stream",
     "text": [
      "Validate [34/50]: 100%|██████████| 13/13 [00:14<00:00,  1.09s/batch]\n",
      "2024-12-08 10:21:13,105 - Epoch 34 - Val Loss: 1.1997, Val Accuracy: 0.5571\n",
      "2024-12-08 10:21:13,106 - Starting Epoch 35/50\n"
     ]
    },
    {
     "name": "stdout",
     "output_type": "stream",
     "text": [
      "---> Valid loss: 1.1997\n",
      "---> Valid acc: 0.5571\n"
     ]
    },
    {
     "name": "stderr",
     "output_type": "stream",
     "text": [
      "Training [35/50]: 100%|██████████| 150/150 [02:39<00:00,  1.06s/batch]\n",
      "2024-12-08 10:23:52,830 - Epoch 35 - Train Loss: 1.1388, Train Accuracy: 0.6013\n"
     ]
    },
    {
     "name": "stdout",
     "output_type": "stream",
     "text": [
      "---> Train loss: 1.1388\n",
      "---> Train acc: 0.6013\n"
     ]
    },
    {
     "name": "stderr",
     "output_type": "stream",
     "text": [
      "Validate [35/50]: 100%|██████████| 13/13 [00:13<00:00,  1.06s/batch]\n",
      "2024-12-08 10:24:06,581 - Epoch 35 - Val Loss: 1.1964, Val Accuracy: 0.5638\n",
      "2024-12-08 10:24:06,583 - Starting Epoch 36/50\n"
     ]
    },
    {
     "name": "stdout",
     "output_type": "stream",
     "text": [
      "---> Valid loss: 1.1964\n",
      "---> Valid acc: 0.5638\n"
     ]
    },
    {
     "name": "stderr",
     "output_type": "stream",
     "text": [
      "Training [36/50]: 100%|██████████| 150/150 [02:43<00:00,  1.09s/batch]\n",
      "2024-12-08 10:26:49,727 - Epoch 36 - Train Loss: 1.1151, Train Accuracy: 0.6074\n"
     ]
    },
    {
     "name": "stdout",
     "output_type": "stream",
     "text": [
      "---> Train loss: 1.1151\n",
      "---> Train acc: 0.6074\n"
     ]
    },
    {
     "name": "stderr",
     "output_type": "stream",
     "text": [
      "Validate [36/50]: 100%|██████████| 13/13 [00:13<00:00,  1.08s/batch]\n",
      "2024-12-08 10:27:03,730 - Epoch 36 - Val Loss: 1.1959, Val Accuracy: 0.5591\n",
      "2024-12-08 10:27:03,731 - Starting Epoch 37/50\n"
     ]
    },
    {
     "name": "stdout",
     "output_type": "stream",
     "text": [
      "---> Valid loss: 1.1959\n",
      "---> Valid acc: 0.5591\n"
     ]
    },
    {
     "name": "stderr",
     "output_type": "stream",
     "text": [
      "Training [37/50]: 100%|██████████| 150/150 [02:44<00:00,  1.10s/batch]\n",
      "2024-12-08 10:29:48,299 - Epoch 37 - Train Loss: 1.1021, Train Accuracy: 0.6109\n"
     ]
    },
    {
     "name": "stdout",
     "output_type": "stream",
     "text": [
      "---> Train loss: 1.1021\n",
      "---> Train acc: 0.6109\n"
     ]
    },
    {
     "name": "stderr",
     "output_type": "stream",
     "text": [
      "Validate [37/50]: 100%|██████████| 13/13 [00:13<00:00,  1.03s/batch]\n",
      "2024-12-08 10:30:01,690 - Epoch 37 - Val Loss: 1.2234, Val Accuracy: 0.5557\n",
      "2024-12-08 10:30:01,691 - Starting Epoch 38/50\n"
     ]
    },
    {
     "name": "stdout",
     "output_type": "stream",
     "text": [
      "---> Valid loss: 1.2234\n",
      "---> Valid acc: 0.5557\n"
     ]
    },
    {
     "name": "stderr",
     "output_type": "stream",
     "text": [
      "Training [38/50]: 100%|██████████| 150/150 [02:41<00:00,  1.08s/batch]\n",
      "2024-12-08 10:32:43,109 - Epoch 38 - Train Loss: 1.1076, Train Accuracy: 0.6106\n"
     ]
    },
    {
     "name": "stdout",
     "output_type": "stream",
     "text": [
      "---> Train loss: 1.1076\n",
      "---> Train acc: 0.6106\n"
     ]
    },
    {
     "name": "stderr",
     "output_type": "stream",
     "text": [
      "Validate [38/50]: 100%|██████████| 13/13 [00:13<00:00,  1.07s/batch]\n",
      "2024-12-08 10:32:57,005 - Epoch 38 - Val Loss: 1.1284, Val Accuracy: 0.5827\n"
     ]
    },
    {
     "name": "stdout",
     "output_type": "stream",
     "text": [
      "---> Valid loss: 1.1284\n",
      "---> Valid acc: 0.5827\n"
     ]
    },
    {
     "name": "stderr",
     "output_type": "stream",
     "text": [
      "2024-12-08 10:32:57,239 - Model saved at /kaggle/working/models/unet_epoch38.pth\n",
      "2024-12-08 10:32:57,240 - Starting Epoch 39/50\n"
     ]
    },
    {
     "name": "stdout",
     "output_type": "stream",
     "text": [
      "Model is saved to: /kaggle/working/models/unet_epoch38.pth\n"
     ]
    },
    {
     "name": "stderr",
     "output_type": "stream",
     "text": [
      "Training [39/50]: 100%|██████████| 150/150 [02:42<00:00,  1.08s/batch]\n",
      "2024-12-08 10:35:39,696 - Epoch 39 - Train Loss: 1.1055, Train Accuracy: 0.6100\n"
     ]
    },
    {
     "name": "stdout",
     "output_type": "stream",
     "text": [
      "---> Train loss: 1.1055\n",
      "---> Train acc: 0.6100\n"
     ]
    },
    {
     "name": "stderr",
     "output_type": "stream",
     "text": [
      "Validate [39/50]: 100%|██████████| 13/13 [00:13<00:00,  1.05s/batch]\n",
      "2024-12-08 10:35:53,362 - Epoch 39 - Val Loss: 1.1176, Val Accuracy: 0.5874\n"
     ]
    },
    {
     "name": "stdout",
     "output_type": "stream",
     "text": [
      "---> Valid loss: 1.1176\n",
      "---> Valid acc: 0.5874\n"
     ]
    },
    {
     "name": "stderr",
     "output_type": "stream",
     "text": [
      "2024-12-08 10:35:53,570 - Model saved at /kaggle/working/models/unet_epoch39.pth\n",
      "2024-12-08 10:35:53,571 - Starting Epoch 40/50\n"
     ]
    },
    {
     "name": "stdout",
     "output_type": "stream",
     "text": [
      "Model is saved to: /kaggle/working/models/unet_epoch39.pth\n"
     ]
    },
    {
     "name": "stderr",
     "output_type": "stream",
     "text": [
      "Training [40/50]: 100%|██████████| 150/150 [02:43<00:00,  1.09s/batch]\n",
      "2024-12-08 10:38:37,065 - Epoch 40 - Train Loss: 1.1022, Train Accuracy: 0.6115\n"
     ]
    },
    {
     "name": "stdout",
     "output_type": "stream",
     "text": [
      "---> Train loss: 1.1022\n",
      "---> Train acc: 0.6115\n"
     ]
    },
    {
     "name": "stderr",
     "output_type": "stream",
     "text": [
      "Validate [40/50]: 100%|██████████| 13/13 [00:14<00:00,  1.09s/batch]\n",
      "2024-12-08 10:38:51,259 - Epoch 40 - Val Loss: 1.1886, Val Accuracy: 0.5708\n",
      "2024-12-08 10:38:51,260 - Starting Epoch 41/50\n"
     ]
    },
    {
     "name": "stdout",
     "output_type": "stream",
     "text": [
      "---> Valid loss: 1.1886\n",
      "---> Valid acc: 0.5708\n"
     ]
    },
    {
     "name": "stderr",
     "output_type": "stream",
     "text": [
      "Training [41/50]: 100%|██████████| 150/150 [02:43<00:00,  1.09s/batch]\n",
      "2024-12-08 10:41:34,513 - Epoch 41 - Train Loss: 1.0974, Train Accuracy: 0.6128\n"
     ]
    },
    {
     "name": "stdout",
     "output_type": "stream",
     "text": [
      "---> Train loss: 1.0974\n",
      "---> Train acc: 0.6128\n"
     ]
    },
    {
     "name": "stderr",
     "output_type": "stream",
     "text": [
      "Validate [41/50]: 100%|██████████| 13/13 [00:13<00:00,  1.05s/batch]\n",
      "2024-12-08 10:41:48,195 - Epoch 41 - Val Loss: 1.1515, Val Accuracy: 0.5794\n",
      "2024-12-08 10:41:48,196 - Starting Epoch 42/50\n"
     ]
    },
    {
     "name": "stdout",
     "output_type": "stream",
     "text": [
      "---> Valid loss: 1.1515\n",
      "---> Valid acc: 0.5794\n"
     ]
    },
    {
     "name": "stderr",
     "output_type": "stream",
     "text": [
      "Training [42/50]: 100%|██████████| 150/150 [02:43<00:00,  1.09s/batch]\n",
      "2024-12-08 10:44:31,670 - Epoch 42 - Train Loss: 1.0865, Train Accuracy: 0.6187\n"
     ]
    },
    {
     "name": "stdout",
     "output_type": "stream",
     "text": [
      "---> Train loss: 1.0865\n",
      "---> Train acc: 0.6187\n"
     ]
    },
    {
     "name": "stderr",
     "output_type": "stream",
     "text": [
      "Validate [42/50]: 100%|██████████| 13/13 [00:14<00:00,  1.08s/batch]\n",
      "2024-12-08 10:44:45,722 - Epoch 42 - Val Loss: 1.1203, Val Accuracy: 0.5920\n",
      "2024-12-08 10:44:45,723 - Starting Epoch 43/50\n"
     ]
    },
    {
     "name": "stdout",
     "output_type": "stream",
     "text": [
      "---> Valid loss: 1.1203\n",
      "---> Valid acc: 0.5920\n"
     ]
    },
    {
     "name": "stderr",
     "output_type": "stream",
     "text": [
      "Training [43/50]: 100%|██████████| 150/150 [02:40<00:00,  1.07s/batch]\n",
      "2024-12-08 10:47:26,663 - Epoch 43 - Train Loss: 1.0866, Train Accuracy: 0.6172\n"
     ]
    },
    {
     "name": "stdout",
     "output_type": "stream",
     "text": [
      "---> Train loss: 1.0866\n",
      "---> Train acc: 0.6172\n"
     ]
    },
    {
     "name": "stderr",
     "output_type": "stream",
     "text": [
      "Validate [43/50]: 100%|██████████| 13/13 [00:13<00:00,  1.03s/batch]\n",
      "2024-12-08 10:47:40,108 - Epoch 43 - Val Loss: 1.1601, Val Accuracy: 0.5755\n",
      "2024-12-08 10:47:40,109 - Starting Epoch 44/50\n"
     ]
    },
    {
     "name": "stdout",
     "output_type": "stream",
     "text": [
      "---> Valid loss: 1.1601\n",
      "---> Valid acc: 0.5755\n"
     ]
    },
    {
     "name": "stderr",
     "output_type": "stream",
     "text": [
      "Training [44/50]: 100%|██████████| 150/150 [02:43<00:00,  1.09s/batch]\n",
      "2024-12-08 10:50:23,854 - Epoch 44 - Train Loss: 1.0840, Train Accuracy: 0.6182\n"
     ]
    },
    {
     "name": "stdout",
     "output_type": "stream",
     "text": [
      "---> Train loss: 1.0840\n",
      "---> Train acc: 0.6182\n"
     ]
    },
    {
     "name": "stderr",
     "output_type": "stream",
     "text": [
      "Validate [44/50]: 100%|██████████| 13/13 [00:14<00:00,  1.10s/batch]\n",
      "2024-12-08 10:50:38,124 - Epoch 44 - Val Loss: 1.1714, Val Accuracy: 0.5667\n",
      "2024-12-08 10:50:38,125 - Starting Epoch 45/50\n"
     ]
    },
    {
     "name": "stdout",
     "output_type": "stream",
     "text": [
      "---> Valid loss: 1.1714\n",
      "---> Valid acc: 0.5667\n"
     ]
    },
    {
     "name": "stderr",
     "output_type": "stream",
     "text": [
      "Training [45/50]: 100%|██████████| 150/150 [02:41<00:00,  1.07s/batch]\n",
      "2024-12-08 10:53:19,376 - Epoch 45 - Train Loss: 1.0871, Train Accuracy: 0.6176\n"
     ]
    },
    {
     "name": "stdout",
     "output_type": "stream",
     "text": [
      "---> Train loss: 1.0871\n",
      "---> Train acc: 0.6176\n"
     ]
    },
    {
     "name": "stderr",
     "output_type": "stream",
     "text": [
      "Validate [45/50]: 100%|██████████| 13/13 [00:13<00:00,  1.05s/batch]\n",
      "2024-12-08 10:53:32,993 - Epoch 45 - Val Loss: 1.1852, Val Accuracy: 0.5677\n",
      "2024-12-08 10:53:32,994 - Starting Epoch 46/50\n"
     ]
    },
    {
     "name": "stdout",
     "output_type": "stream",
     "text": [
      "---> Valid loss: 1.1852\n",
      "---> Valid acc: 0.5677\n"
     ]
    },
    {
     "name": "stderr",
     "output_type": "stream",
     "text": [
      "Training [46/50]: 100%|██████████| 150/150 [02:41<00:00,  1.07s/batch]\n",
      "2024-12-08 10:56:14,125 - Epoch 46 - Train Loss: 1.0761, Train Accuracy: 0.6212\n"
     ]
    },
    {
     "name": "stdout",
     "output_type": "stream",
     "text": [
      "---> Train loss: 1.0761\n",
      "---> Train acc: 0.6212\n"
     ]
    },
    {
     "name": "stderr",
     "output_type": "stream",
     "text": [
      "Validate [46/50]: 100%|██████████| 13/13 [00:13<00:00,  1.06s/batch]\n",
      "2024-12-08 10:56:27,869 - Epoch 46 - Val Loss: 1.2496, Val Accuracy: 0.5393\n",
      "2024-12-08 10:56:27,870 - Starting Epoch 47/50\n"
     ]
    },
    {
     "name": "stdout",
     "output_type": "stream",
     "text": [
      "---> Valid loss: 1.2496\n",
      "---> Valid acc: 0.5393\n"
     ]
    },
    {
     "name": "stderr",
     "output_type": "stream",
     "text": [
      "Training [47/50]: 100%|██████████| 150/150 [02:42<00:00,  1.09s/batch]\n",
      "2024-12-08 10:59:10,739 - Epoch 47 - Train Loss: 1.0732, Train Accuracy: 0.6222\n"
     ]
    },
    {
     "name": "stdout",
     "output_type": "stream",
     "text": [
      "---> Train loss: 1.0732\n",
      "---> Train acc: 0.6222\n"
     ]
    },
    {
     "name": "stderr",
     "output_type": "stream",
     "text": [
      "Validate [47/50]: 100%|██████████| 13/13 [00:13<00:00,  1.06s/batch]\n",
      "2024-12-08 10:59:24,594 - Epoch 47 - Val Loss: 1.1228, Val Accuracy: 0.5832\n",
      "2024-12-08 10:59:24,595 - Starting Epoch 48/50\n"
     ]
    },
    {
     "name": "stdout",
     "output_type": "stream",
     "text": [
      "---> Valid loss: 1.1228\n",
      "---> Valid acc: 0.5832\n"
     ]
    },
    {
     "name": "stderr",
     "output_type": "stream",
     "text": [
      "Training [48/50]: 100%|██████████| 150/150 [02:42<00:00,  1.08s/batch]\n",
      "2024-12-08 11:02:07,010 - Epoch 48 - Train Loss: 1.0825, Train Accuracy: 0.6196\n"
     ]
    },
    {
     "name": "stdout",
     "output_type": "stream",
     "text": [
      "---> Train loss: 1.0825\n",
      "---> Train acc: 0.6196\n"
     ]
    },
    {
     "name": "stderr",
     "output_type": "stream",
     "text": [
      "Validate [48/50]: 100%|██████████| 13/13 [00:13<00:00,  1.04s/batch]\n",
      "2024-12-08 11:02:20,612 - Epoch 48 - Val Loss: 1.1218, Val Accuracy: 0.5897\n",
      "2024-12-08 11:02:20,613 - Starting Epoch 49/50\n"
     ]
    },
    {
     "name": "stdout",
     "output_type": "stream",
     "text": [
      "---> Valid loss: 1.1218\n",
      "---> Valid acc: 0.5897\n"
     ]
    },
    {
     "name": "stderr",
     "output_type": "stream",
     "text": [
      "Training [49/50]: 100%|██████████| 150/150 [02:40<00:00,  1.07s/batch]\n",
      "2024-12-08 11:05:01,073 - Epoch 49 - Train Loss: 1.0642, Train Accuracy: 0.6225\n"
     ]
    },
    {
     "name": "stdout",
     "output_type": "stream",
     "text": [
      "---> Train loss: 1.0642\n",
      "---> Train acc: 0.6225\n"
     ]
    },
    {
     "name": "stderr",
     "output_type": "stream",
     "text": [
      "Validate [49/50]: 100%|██████████| 13/13 [00:13<00:00,  1.07s/batch]\n",
      "2024-12-08 11:05:14,976 - Epoch 49 - Val Loss: 1.1276, Val Accuracy: 0.5905\n",
      "2024-12-08 11:05:14,978 - Starting Epoch 50/50\n"
     ]
    },
    {
     "name": "stdout",
     "output_type": "stream",
     "text": [
      "---> Valid loss: 1.1276\n",
      "---> Valid acc: 0.5905\n"
     ]
    },
    {
     "name": "stderr",
     "output_type": "stream",
     "text": [
      "Training [50/50]: 100%|██████████| 150/150 [02:40<00:00,  1.07s/batch]\n",
      "2024-12-08 11:07:55,883 - Epoch 50 - Train Loss: 1.0778, Train Accuracy: 0.6196\n"
     ]
    },
    {
     "name": "stdout",
     "output_type": "stream",
     "text": [
      "---> Train loss: 1.0778\n",
      "---> Train acc: 0.6196\n"
     ]
    },
    {
     "name": "stderr",
     "output_type": "stream",
     "text": [
      "Validate [50/50]: 100%|██████████| 13/13 [00:13<00:00,  1.04s/batch]\n",
      "2024-12-08 11:08:09,466 - Epoch 50 - Val Loss: 1.1324, Val Accuracy: 0.5871\n"
     ]
    },
    {
     "name": "stdout",
     "output_type": "stream",
     "text": [
      "---> Valid loss: 1.1324\n",
      "---> Valid acc: 0.5871\n"
     ]
    }
   ],
   "source": [
    "train_losses, val_losses, train_accuracy, val_accuracy = train_model(unet, train_loader, val_loader, criterion, optimizer, scaler, device, save_path, epochs=50)"
   ]
  },
  {
   "cell_type": "markdown",
   "metadata": {},
   "source": [
    "# 6. Visualize results"
   ]
  },
  {
   "cell_type": "code",
   "execution_count": 38,
   "metadata": {
    "execution": {
     "iopub.execute_input": "2024-12-08T11:08:09.473581Z",
     "iopub.status.busy": "2024-12-08T11:08:09.473283Z",
     "iopub.status.idle": "2024-12-08T11:08:10.281459Z",
     "shell.execute_reply": "2024-12-08T11:08:10.280643Z",
     "shell.execute_reply.started": "2024-12-08T11:08:09.473551Z"
    },
    "jupyter": {
     "source_hidden": true
    },
    "trusted": true
   },
   "outputs": [
    {
     "data": {
      "text/plain": [
       "Text(0.5, 1.0, 'Train Accuracy')"
      ]
     },
     "execution_count": 38,
     "metadata": {},
     "output_type": "execute_result"
    },
    {
     "data": {
      "image/png": "[encoded data removed]",
      "text/plain": [
       "<Figure size 1600x1600 with 4 Axes>"
      ]
     },
     "metadata": {},
     "output_type": "display_data"
    }
   ],
   "source": [
    "plt.figure(figsize=(16, 16))\n",
    "\n",
    "plt.subplot(2, 2, 1)\n",
    "plt.plot(train_losses)\n",
    "plt.xlabel('Epoch')\n",
    "plt.ylabel('Loss')\n",
    "plt.title(\"Train Loss\")\n",
    "\n",
    "plt.subplot(2, 2, 2)\n",
    "plt.plot(val_losses)\n",
    "plt.xlabel('Epoch')\n",
    "plt.ylabel('Loss')\n",
    "plt.title(\"Val Loss\")\n",
    "\n",
    "plt.subplot(2, 2, 3)\n",
    "plt.plot(train_accuracy)\n",
    "plt.xlabel('Epoch')\n",
    "plt.ylabel('Loss')\n",
    "plt.title(\"Train Accuracy\")\n",
    "\n",
    "plt.subplot(2, 2, 4)\n",
    "plt.plot(val_accuracy)\n",
    "plt.xlabel('Epoch')\n",
    "plt.ylabel('Loss')\n",
    "plt.title(\"Train Accuracy\")"
   ]
  },
  {
   "cell_type": "code",
   "execution_count": 39,
   "metadata": {
    "execution": {
     "iopub.execute_input": "2024-12-08T11:08:10.283252Z",
     "iopub.status.busy": "2024-12-08T11:08:10.282674Z",
     "iopub.status.idle": "2024-12-08T11:08:10.291614Z",
     "shell.execute_reply": "2024-12-08T11:08:10.290844Z",
     "shell.execute_reply.started": "2024-12-08T11:08:10.283213Z"
    },
    "trusted": true
   },
   "outputs": [],
   "source": [
    "def get_mask(model, image):\n",
    "    \"\"\"\n",
    "        model: UNet model\n",
    "        image: input image, size of (B, C, W, H)\n",
    "    \"\"\"\n",
    "    # Compute logit\n",
    "    model.eval()\n",
    "    mask_logit = model(image)\n",
    "    mask_logit = F.interpolate(mask_logit, size=(1024, 2048), mode='bilinear', align_corners=False)\n",
    "    print(mask_logit.shape)\n",
    "    mask_logit = mask_logit.permute(0, 2, 3, 1)\n",
    "    mask_pred = torch.argmax(mask_logit, dim = -1) # Get label\n",
    "    print(mask_pred.shape)\n",
    "    mask_pred = mask_pred.squeeze() # Remove batch\n",
    "    mask_pred = mask_pred.cpu().numpy()\n",
    "    print(mask_pred.shape)\n",
    "    \n",
    "    # Color mapping\n",
    "    rgb_mask = np.zeros((1024, 2048, 3), dtype=np.uint8)\n",
    "    for class_id in range(color_map.shape[0]):\n",
    "        rgb_mask[mask_pred == class_id] = color_map[class_id]\n",
    "\n",
    "    return rgb_mask"
   ]
  },
  {
   "cell_type": "code",
   "execution_count": 40,
   "metadata": {
    "execution": {
     "iopub.execute_input": "2024-12-08T11:08:10.292891Z",
     "iopub.status.busy": "2024-12-08T11:08:10.292647Z",
     "iopub.status.idle": "2024-12-08T11:08:10.304806Z",
     "shell.execute_reply": "2024-12-08T11:08:10.304039Z",
     "shell.execute_reply.started": "2024-12-08T11:08:10.292867Z"
    },
    "trusted": true
   },
   "outputs": [],
   "source": [
    "def show_img(path):\n",
    "    image = Image.open(path).convert('RGB')\n",
    "    print(np.array(image)[0][:3])\n",
    "    original_size = image.size\n",
    "    \n",
    "    print(original_size)\n",
    "    plt.imshow(image)"
   ]
  },
  {
   "cell_type": "code",
   "execution_count": 41,
   "metadata": {
    "execution": {
     "iopub.execute_input": "2024-12-08T11:08:10.306154Z",
     "iopub.status.busy": "2024-12-08T11:08:10.305768Z",
     "iopub.status.idle": "2024-12-08T11:08:10.783849Z",
     "shell.execute_reply": "2024-12-08T11:08:10.782982Z",
     "shell.execute_reply.started": "2024-12-08T11:08:10.306115Z"
    },
    "trusted": true
   },
   "outputs": [],
   "source": [
    "img = val_subset[0]"
   ]
  },
  {
   "cell_type": "code",
   "execution_count": 42,
   "metadata": {
    "execution": {
     "iopub.execute_input": "2024-12-08T11:08:10.785331Z",
     "iopub.status.busy": "2024-12-08T11:08:10.785027Z",
     "iopub.status.idle": "2024-12-08T11:08:10.792495Z",
     "shell.execute_reply": "2024-12-08T11:08:10.791326Z",
     "shell.execute_reply.started": "2024-12-08T11:08:10.785300Z"
    },
    "trusted": true
   },
   "outputs": [
    {
     "data": {
      "text/plain": [
       "torch.Size([3, 512, 1024])"
      ]
     },
     "execution_count": 42,
     "metadata": {},
     "output_type": "execute_result"
    }
   ],
   "source": [
    "img[0].shape"
   ]
  },
  {
   "cell_type": "code",
   "execution_count": 43,
   "metadata": {
    "execution": {
     "iopub.execute_input": "2024-12-08T11:08:10.793765Z",
     "iopub.status.busy": "2024-12-08T11:08:10.793497Z",
     "iopub.status.idle": "2024-12-08T11:08:10.801711Z",
     "shell.execute_reply": "2024-12-08T11:08:10.801038Z",
     "shell.execute_reply.started": "2024-12-08T11:08:10.793737Z"
    },
    "trusted": true
   },
   "outputs": [],
   "source": [
    "in_img = torch.Tensor(img[0].unsqueeze(0))"
   ]
  },
  {
   "cell_type": "code",
   "execution_count": 44,
   "metadata": {
    "execution": {
     "iopub.execute_input": "2024-12-08T11:08:10.803335Z",
     "iopub.status.busy": "2024-12-08T11:08:10.802537Z",
     "iopub.status.idle": "2024-12-08T11:08:10.811960Z",
     "shell.execute_reply": "2024-12-08T11:08:10.811239Z",
     "shell.execute_reply.started": "2024-12-08T11:08:10.803302Z"
    },
    "trusted": true
   },
   "outputs": [
    {
     "data": {
      "text/plain": [
       "torch.Size([1, 3, 512, 1024])"
      ]
     },
     "execution_count": 44,
     "metadata": {},
     "output_type": "execute_result"
    }
   ],
   "source": [
    "in_img.shape"
   ]
  },
  {
   "cell_type": "code",
   "execution_count": 45,
   "metadata": {
    "execution": {
     "iopub.execute_input": "2024-12-08T11:08:10.813201Z",
     "iopub.status.busy": "2024-12-08T11:08:10.812945Z",
     "iopub.status.idle": "2024-12-08T11:08:10.821001Z",
     "shell.execute_reply": "2024-12-08T11:08:10.820292Z",
     "shell.execute_reply.started": "2024-12-08T11:08:10.813174Z"
    },
    "trusted": true
   },
   "outputs": [
    {
     "data": {
      "text/plain": [
       "torch.Size([2097152])"
      ]
     },
     "execution_count": 45,
     "metadata": {},
     "output_type": "execute_result"
    }
   ],
   "source": [
    "img[1].view(-1).shape"
   ]
  },
  {
   "cell_type": "code",
   "execution_count": 46,
   "metadata": {
    "execution": {
     "iopub.execute_input": "2024-12-08T11:08:10.822158Z",
     "iopub.status.busy": "2024-12-08T11:08:10.821895Z",
     "iopub.status.idle": "2024-12-08T11:08:11.188284Z",
     "shell.execute_reply": "2024-12-08T11:08:11.187608Z",
     "shell.execute_reply.started": "2024-12-08T11:08:10.822131Z"
    },
    "trusted": true
   },
   "outputs": [
    {
     "name": "stdout",
     "output_type": "stream",
     "text": [
      "torch.Size([1, 19, 1024, 2048])\n",
      "torch.Size([1, 1024, 2048])\n",
      "(1024, 2048)\n"
     ]
    }
   ],
   "source": [
    "pred = get_mask(unet, in_img)"
   ]
  },
  {
   "cell_type": "code",
   "execution_count": 47,
   "metadata": {
    "execution": {
     "iopub.execute_input": "2024-12-08T11:08:11.189511Z",
     "iopub.status.busy": "2024-12-08T11:08:11.189246Z",
     "iopub.status.idle": "2024-12-08T11:08:11.195531Z",
     "shell.execute_reply": "2024-12-08T11:08:11.194731Z",
     "shell.execute_reply.started": "2024-12-08T11:08:11.189484Z"
    },
    "trusted": true
   },
   "outputs": [],
   "source": [
    "pred_img = Image.fromarray(pred)"
   ]
  },
  {
   "cell_type": "code",
   "execution_count": 48,
   "metadata": {
    "execution": {
     "iopub.execute_input": "2024-12-08T11:08:11.197366Z",
     "iopub.status.busy": "2024-12-08T11:08:11.196665Z",
     "iopub.status.idle": "2024-12-08T11:08:11.863229Z",
     "shell.execute_reply": "2024-12-08T11:08:11.862384Z",
     "shell.execute_reply.started": "2024-12-08T11:08:11.197328Z"
    },
    "jupyter": {
     "source_hidden": true
    },
    "trusted": true
   },
   "outputs": [
    {
     "name": "stdout",
     "output_type": "stream",
     "text": [
      "[[82 97 59]\n",
      " [83 98 60]\n",
      " [84 99 62]]\n",
      "(2048, 1024)\n"
     ]
    },
    {
     "data": {
      "image/png": "[encoded data removed]",
      "text/plain": [
       "<Figure size 640x480 with 1 Axes>"
      ]
     },
     "metadata": {},
     "output_type": "display_data"
    }
   ],
   "source": [
    "img_path = '/kaggle/input/cityscapes/Cityspaces/images/val/frankfurt/frankfurt_000000_000294_leftImg8bit.png'\n",
    "\n",
    "show_img(img_path)"
   ]
  },
  {
   "cell_type": "code",
   "execution_count": 49,
   "metadata": {
    "execution": {
     "iopub.execute_input": "2024-12-08T11:08:11.864540Z",
     "iopub.status.busy": "2024-12-08T11:08:11.864278Z",
     "iopub.status.idle": "2024-12-08T11:08:12.417324Z",
     "shell.execute_reply": "2024-12-08T11:08:12.416436Z",
     "shell.execute_reply.started": "2024-12-08T11:08:11.864515Z"
    },
    "trusted": true
   },
   "outputs": [
    {
     "name": "stdout",
     "output_type": "stream",
     "text": [
      "[[0 0 0]\n",
      " [0 0 0]\n",
      " [0 0 0]]\n",
      "(2048, 1024)\n"
     ]
    },
    {
     "data": {
      "image/png": "[encoded data removed]",
      "text/plain": [
       "<Figure size 640x480 with 1 Axes>"
      ]
     },
     "metadata": {},
     "output_type": "display_data"
    }
   ],
   "source": [
    "gt = '/kaggle/input/cityscapes/Cityspaces/gtFine/val/frankfurt/frankfurt_000000_000294_gtFine_color.png'\n",
    "show_img(gt)"
   ]
  },
  {
   "cell_type": "code",
   "execution_count": 50,
   "metadata": {
    "execution": {
     "iopub.execute_input": "2024-12-08T11:08:12.418690Z",
     "iopub.status.busy": "2024-12-08T11:08:12.418416Z",
     "iopub.status.idle": "2024-12-08T11:08:12.933318Z",
     "shell.execute_reply": "2024-12-08T11:08:12.932379Z",
     "shell.execute_reply.started": "2024-12-08T11:08:12.418664Z"
    },
    "jupyter": {
     "source_hidden": true
    },
    "trusted": true
   },
   "outputs": [
    {
     "data": {
      "text/plain": [
       "<matplotlib.image.AxesImage at 0x78184b9aad10>"
      ]
     },
     "execution_count": 50,
     "metadata": {},
     "output_type": "execute_result"
    },
    {
     "data": {
      "image/png": "[encoded data removed]",
      "text/plain": [
       "<Figure size 640x480 with 1 Axes>"
      ]
     },
     "metadata": {},
     "output_type": "display_data"
    }
   ],
   "source": [
    "plt.imshow(pred_img)"
   ]
  },
  {
   "cell_type": "markdown",
   "metadata": {},
   "source": [
    "# 7. Hyperparameter tuning"
   ]
  },
  {
   "cell_type": "code",
   "execution_count": 32,
   "metadata": {
    "execution": {
     "iopub.execute_input": "2024-12-08T11:27:53.144310Z",
     "iopub.status.busy": "2024-12-08T11:27:53.143911Z",
     "iopub.status.idle": "2024-12-08T11:27:53.149586Z",
     "shell.execute_reply": "2024-12-08T11:27:53.148699Z",
     "shell.execute_reply.started": "2024-12-08T11:27:53.144272Z"
    },
    "trusted": true
   },
   "outputs": [],
   "source": [
    "hyper_params = {\n",
    "    'lr': [0.003, 0.001, 0.0005, 0.0003],\n",
    "    'weight_decay': [0.01, 0.001],\n",
    "    'optim': ['Adam', 'SGD']\n",
    "}"
   ]
  },
  {
   "cell_type": "code",
   "execution_count": 33,
   "metadata": {
    "execution": {
     "iopub.execute_input": "2024-12-08T11:27:55.892827Z",
     "iopub.status.busy": "2024-12-08T11:27:55.892469Z",
     "iopub.status.idle": "2024-12-08T11:27:55.902800Z",
     "shell.execute_reply": "2024-12-08T11:27:55.901984Z",
     "shell.execute_reply.started": "2024-12-08T11:27:55.892799Z"
    },
    "trusted": true
   },
   "outputs": [],
   "source": [
    "def hyper_tuning_model(model, hyper_params, train_loader, val_loader, scaler, device, save_path, epochs=10):\n",
    "    keys, values = hyper_params.keys(), hyper_params.values()\n",
    "    param_combinations = [dict(zip(keys, v)) for v in product(*values)]\n",
    "\n",
    "    best_params = None\n",
    "    best_accuracy = 0.0\n",
    "\n",
    "\n",
    "    for params in param_combinations:\n",
    "        print(f\"Training with parameters: {params}\")\n",
    "        \n",
    "        # Initialize W&B project\n",
    "        wandb.init(\n",
    "            project=\"image-segmentation\",  \n",
    "            name=\"unet-scratch-tuning\",     \n",
    "            config={                 \n",
    "                \"epochs\": epochs,\n",
    "                \"batch_size\": train_loader.batch_size,\n",
    "                \"learning_rate\": params['lr'],\n",
    "                \"weight_decay\": params['weight_decay'],\n",
    "                \"architecture\": model.__class__.__name__,\n",
    "            }\n",
    "        )\n",
    "        \n",
    "        # Clone the model to ensure it's fresh for each configuration\n",
    "        current_model = model(3, 19).to(device)\n",
    "        current_model = nn.DataParallel(current_model)\n",
    "        # Define optimizer\n",
    "        if params['optim'] == 'Adam':\n",
    "            optimizer = torch.optim.Adam(current_model.parameters(), lr=params['lr'], weight_decay=params['weight_decay'])\n",
    "        elif params['optim'] == 'SGD':\n",
    "            optimizer = torch.optim.SGD(current_model.parameters(), lr=params['lr'], weight_decay=params['weight_decay'])\n",
    "        \n",
    "        criterion = nn.CrossEntropyLoss()\n",
    "\n",
    "        # Training loop\n",
    "        train_losses, val_losses, train_accuracy, val_accuracy = train_model(current_model, train_loader, val_loader, criterion, optimizer, scaler, device, save_path, epochs=epochs)\n",
    "\n",
    "        # Check if this configuration is the best\n",
    "        if val_accuracy > best_accuracy:\n",
    "            best_accuracy = val_accuracy\n",
    "            best_params = params\n",
    "\n",
    "    return {\n",
    "        'best_params': best_params,\n",
    "        'best_accuracy': best_accuracy\n",
    "    }"
   ]
  },
  {
   "cell_type": "code",
   "execution_count": 34,
   "metadata": {
    "execution": {
     "iopub.execute_input": "2024-12-08T11:27:57.367709Z",
     "iopub.status.busy": "2024-12-08T11:27:57.366850Z",
     "iopub.status.idle": "2024-12-08T11:27:57.372062Z",
     "shell.execute_reply": "2024-12-08T11:27:57.371196Z",
     "shell.execute_reply.started": "2024-12-08T11:27:57.367674Z"
    },
    "trusted": true
   },
   "outputs": [],
   "source": [
    "torch.cuda.empty_cache()"
   ]
  },
  {
   "cell_type": "code",
   "execution_count": 37,
   "metadata": {
    "execution": {
     "iopub.execute_input": "2024-12-08T11:28:24.458280Z",
     "iopub.status.busy": "2024-12-08T11:28:24.457890Z",
     "iopub.status.idle": "2024-12-08T11:28:36.284895Z",
     "shell.execute_reply": "2024-12-08T11:28:36.283620Z",
     "shell.execute_reply.started": "2024-12-08T11:28:24.458250Z"
    },
    "trusted": true
   },
   "outputs": [
    {
     "name": "stdout",
     "output_type": "stream",
     "text": [
      "Training with parameters: {'lr': 0.003, 'weight_decay': 0.01, 'optim': 'Adam'}\n"
     ]
    },
    {
     "data": {
      "text/html": [
       "Finishing last run (ID:oqorek2f) before initializing another..."
      ],
      "text/plain": [
       "<IPython.core.display.HTML object>"
      ]
     },
     "metadata": {},
     "output_type": "display_data"
    },
    {
     "data": {
      "text/html": [
       " View run <strong style=\"color:#cdcd00\">unet-scratch-tuning</strong> at: <a href='https://wandb.ai/longluv1605-institute-for-artificial-intelligence/image-segmentation/runs/oqorek2f' target=\"_blank\">https://wandb.ai/longluv1605-institute-for-artificial-intelligence/image-segmentation/runs/oqorek2f</a><br/> View project at: <a href='https://wandb.ai/longluv1605-institute-for-artificial-intelligence/image-segmentation' target=\"_blank\">https://wandb.ai/longluv1605-institute-for-artificial-intelligence/image-segmentation</a><br/>Synced 5 W&B file(s), 0 media file(s), 0 artifact file(s) and 0 other file(s)"
      ],
      "text/plain": [
       "<IPython.core.display.HTML object>"
      ]
     },
     "metadata": {},
     "output_type": "display_data"
    },
    {
     "data": {
      "text/html": [
       "Find logs at: <code>./wandb/run-20241208_112800-oqorek2f/logs</code>"
      ],
      "text/plain": [
       "<IPython.core.display.HTML object>"
      ]
     },
     "metadata": {},
     "output_type": "display_data"
    },
    {
     "data": {
      "text/html": [
       "Successfully finished last run (ID:oqorek2f). Initializing new run:<br/>"
      ],
      "text/plain": [
       "<IPython.core.display.HTML object>"
      ]
     },
     "metadata": {},
     "output_type": "display_data"
    },
    {
     "data": {
      "text/html": [
       "Tracking run with wandb version 0.18.7"
      ],
      "text/plain": [
       "<IPython.core.display.HTML object>"
      ]
     },
     "metadata": {},
     "output_type": "display_data"
    },
    {
     "data": {
      "text/html": [
       "Run data is saved locally in <code>/kaggle/working/wandb/run-20241208_112824-7pa9qywy</code>"
      ],
      "text/plain": [
       "<IPython.core.display.HTML object>"
      ]
     },
     "metadata": {},
     "output_type": "display_data"
    },
    {
     "data": {
      "text/html": [
       "Syncing run <strong><a href='https://wandb.ai/longluv1605-institute-for-artificial-intelligence/image-segmentation/runs/7pa9qywy' target=\"_blank\">unet-scratch-tuning</a></strong> to <a href='https://wandb.ai/longluv1605-institute-for-artificial-intelligence/image-segmentation' target=\"_blank\">Weights & Biases</a> (<a href='https://wandb.me/developer-guide' target=\"_blank\">docs</a>)<br/>"
      ],
      "text/plain": [
       "<IPython.core.display.HTML object>"
      ]
     },
     "metadata": {},
     "output_type": "display_data"
    },
    {
     "data": {
      "text/html": [
       " View project at <a href='https://wandb.ai/longluv1605-institute-for-artificial-intelligence/image-segmentation' target=\"_blank\">https://wandb.ai/longluv1605-institute-for-artificial-intelligence/image-segmentation</a>"
      ],
      "text/plain": [
       "<IPython.core.display.HTML object>"
      ]
     },
     "metadata": {},
     "output_type": "display_data"
    },
    {
     "data": {
      "text/html": [
       " View run at <a href='https://wandb.ai/longluv1605-institute-for-artificial-intelligence/image-segmentation/runs/7pa9qywy' target=\"_blank\">https://wandb.ai/longluv1605-institute-for-artificial-intelligence/image-segmentation/runs/7pa9qywy</a>"
      ],
      "text/plain": [
       "<IPython.core.display.HTML object>"
      ]
     },
     "metadata": {},
     "output_type": "display_data"
    },
    {
     "name": "stderr",
     "output_type": "stream",
     "text": [
      "2024-12-08 11:28:27,274 - Starting Epoch 1/10\n",
      "Training [1/10]:   0%|          | 0/150 [00:00<?, ?batch/s]/tmp/ipykernel_23/3483330389.py:17: FutureWarning: `torch.cuda.amp.autocast(args...)` is deprecated. Please use `torch.amp.autocast('cuda', args...)` instead.\n",
      "  with torch.cuda.amp.autocast():\n",
      "/opt/conda/lib/python3.10/site-packages/torch/nn/parallel/parallel_apply.py:79: FutureWarning: `torch.cuda.amp.autocast(args...)` is deprecated. Please use `torch.amp.autocast('cuda', args...)` instead.\n",
      "  with torch.cuda.device(device), torch.cuda.stream(stream), autocast(enabled=autocast_enabled):\n",
      "/usr/local/src/pytorch/aten/src/ATen/native/cuda/Loss.cu:250: nll_loss_forward_reduce_cuda_kernel_2d: block: [0,0,0], thread: [0,0,0] Assertion `t >= 0 && t < n_classes` failed.\n",
      "/usr/local/src/pytorch/aten/src/ATen/native/cuda/Loss.cu:250: nll_loss_forward_reduce_cuda_kernel_2d: block: [0,0,0], thread: [1,0,0] Assertion `t >= 0 && t < n_classes` failed.\n",
      "/usr/local/src/pytorch/aten/src/ATen/native/cuda/Loss.cu:250: nll_loss_forward_reduce_cuda_kernel_2d: block: [0,0,0], thread: [2,0,0] Assertion `t >= 0 && t < n_classes` failed.\n",
      "/usr/local/src/pytorch/aten/src/ATen/native/cuda/Loss.cu:250: nll_loss_forward_reduce_cuda_kernel_2d: block: [0,0,0], thread: [3,0,0] Assertion `t >= 0 && t < n_classes` failed.\n",
      "/usr/local/src/pytorch/aten/src/ATen/native/cuda/Loss.cu:250: nll_loss_forward_reduce_cuda_kernel_2d: block: [0,0,0], thread: [4,0,0] Assertion `t >= 0 && t < n_classes` failed.\n",
      "/usr/local/src/pytorch/aten/src/ATen/native/cuda/Loss.cu:250: nll_loss_forward_reduce_cuda_kernel_2d: block: [0,0,0], thread: [5,0,0] Assertion `t >= 0 && t < n_classes` failed.\n",
      "/usr/local/src/pytorch/aten/src/ATen/native/cuda/Loss.cu:250: nll_loss_forward_reduce_cuda_kernel_2d: block: [0,0,0], thread: [6,0,0] Assertion `t >= 0 && t < n_classes` failed.\n",
      "/usr/local/src/pytorch/aten/src/ATen/native/cuda/Loss.cu:250: nll_loss_forward_reduce_cuda_kernel_2d: block: [0,0,0], thread: [7,0,0] Assertion `t >= 0 && t < n_classes` failed.\n",
      "/usr/local/src/pytorch/aten/src/ATen/native/cuda/Loss.cu:250: nll_loss_forward_reduce_cuda_kernel_2d: block: [0,0,0], thread: [8,0,0] Assertion `t >= 0 && t < n_classes` failed.\n",
      "/usr/local/src/pytorch/aten/src/ATen/native/cuda/Loss.cu:250: nll_loss_forward_reduce_cuda_kernel_2d: block: [0,0,0], thread: [9,0,0] Assertion `t >= 0 && t < n_classes` failed.\n",
      "/usr/local/src/pytorch/aten/src/ATen/native/cuda/Loss.cu:250: nll_loss_forward_reduce_cuda_kernel_2d: block: [0,0,0], thread: [10,0,0] Assertion `t >= 0 && t < n_classes` failed.\n",
      "/usr/local/src/pytorch/aten/src/ATen/native/cuda/Loss.cu:250: nll_loss_forward_reduce_cuda_kernel_2d: block: [0,0,0], thread: [11,0,0] Assertion `t >= 0 && t < n_classes` failed.\n",
      "/usr/local/src/pytorch/aten/src/ATen/native/cuda/Loss.cu:250: nll_loss_forward_reduce_cuda_kernel_2d: block: [0,0,0], thread: [12,0,0] Assertion `t >= 0 && t < n_classes` failed.\n",
      "/usr/local/src/pytorch/aten/src/ATen/native/cuda/Loss.cu:250: nll_loss_forward_reduce_cuda_kernel_2d: block: [0,0,0], thread: [13,0,0] Assertion `t >= 0 && t < n_classes` failed.\n",
      "/usr/local/src/pytorch/aten/src/ATen/native/cuda/Loss.cu:250: nll_loss_forward_reduce_cuda_kernel_2d: block: [0,0,0], thread: [14,0,0] Assertion `t >= 0 && t < n_classes` failed.\n",
      "/usr/local/src/pytorch/aten/src/ATen/native/cuda/Loss.cu:250: nll_loss_forward_reduce_cuda_kernel_2d: block: [0,0,0], thread: [15,0,0] Assertion `t >= 0 && t < n_classes` failed.\n",
      "/usr/local/src/pytorch/aten/src/ATen/native/cuda/Loss.cu:250: nll_loss_forward_reduce_cuda_kernel_2d: block: [0,0,0], thread: [16,0,0] Assertion `t >= 0 && t < n_classes` failed.\n",
      "/usr/local/src/pytorch/aten/src/ATen/native/cuda/Loss.cu:250: nll_loss_forward_reduce_cuda_kernel_2d: block: [0,0,0], thread: [17,0,0] Assertion `t >= 0 && t < n_classes` failed.\n",
      "/usr/local/src/pytorch/aten/src/ATen/native/cuda/Loss.cu:250: nll_loss_forward_reduce_cuda_kernel_2d: block: [0,0,0], thread: [18,0,0] Assertion `t >= 0 && t < n_classes` failed.\n",
      "/usr/local/src/pytorch/aten/src/ATen/native/cuda/Loss.cu:250: nll_loss_forward_reduce_cuda_kernel_2d: block: [0,0,0], thread: [19,0,0] Assertion `t >= 0 && t < n_classes` failed.\n",
      "/usr/local/src/pytorch/aten/src/ATen/native/cuda/Loss.cu:250: nll_loss_forward_reduce_cuda_kernel_2d: block: [0,0,0], thread: [20,0,0] Assertion `t >= 0 && t < n_classes` failed.\n",
      "/usr/local/src/pytorch/aten/src/ATen/native/cuda/Loss.cu:250: nll_loss_forward_reduce_cuda_kernel_2d: block: [0,0,0], thread: [21,0,0] Assertion `t >= 0 && t < n_classes` failed.\n",
      "/usr/local/src/pytorch/aten/src/ATen/native/cuda/Loss.cu:250: nll_loss_forward_reduce_cuda_kernel_2d: block: [0,0,0], thread: [22,0,0] Assertion `t >= 0 && t < n_classes` failed.\n",
      "/usr/local/src/pytorch/aten/src/ATen/native/cuda/Loss.cu:250: nll_loss_forward_reduce_cuda_kernel_2d: block: [0,0,0], thread: [23,0,0] Assertion `t >= 0 && t < n_classes` failed.\n",
      "/usr/local/src/pytorch/aten/src/ATen/native/cuda/Loss.cu:250: nll_loss_forward_reduce_cuda_kernel_2d: block: [0,0,0], thread: [24,0,0] Assertion `t >= 0 && t < n_classes` failed.\n",
      "/usr/local/src/pytorch/aten/src/ATen/native/cuda/Loss.cu:250: nll_loss_forward_reduce_cuda_kernel_2d: block: [0,0,0], thread: [25,0,0] Assertion `t >= 0 && t < n_classes` failed.\n",
      "/usr/local/src/pytorch/aten/src/ATen/native/cuda/Loss.cu:250: nll_loss_forward_reduce_cuda_kernel_2d: block: [0,0,0], thread: [26,0,0] Assertion `t >= 0 && t < n_classes` failed.\n",
      "/usr/local/src/pytorch/aten/src/ATen/native/cuda/Loss.cu:250: nll_loss_forward_reduce_cuda_kernel_2d: block: [0,0,0], thread: [27,0,0] Assertion `t >= 0 && t < n_classes` failed.\n",
      "/usr/local/src/pytorch/aten/src/ATen/native/cuda/Loss.cu:250: nll_loss_forward_reduce_cuda_kernel_2d: block: [0,0,0], thread: [28,0,0] Assertion `t >= 0 && t < n_classes` failed.\n",
      "/usr/local/src/pytorch/aten/src/ATen/native/cuda/Loss.cu:250: nll_loss_forward_reduce_cuda_kernel_2d: block: [0,0,0], thread: [29,0,0] Assertion `t >= 0 && t < n_classes` failed.\n",
      "/usr/local/src/pytorch/aten/src/ATen/native/cuda/Loss.cu:250: nll_loss_forward_reduce_cuda_kernel_2d: block: [0,0,0], thread: [30,0,0] Assertion `t >= 0 && t < n_classes` failed.\n",
      "/usr/local/src/pytorch/aten/src/ATen/native/cuda/Loss.cu:250: nll_loss_forward_reduce_cuda_kernel_2d: block: [0,0,0], thread: [31,0,0] Assertion `t >= 0 && t < n_classes` failed.\n",
      "Training [1/10]:   0%|          | 0/150 [00:08<?, ?batch/s]\n"
     ]
    },
    {
     "ename": "RuntimeError",
     "evalue": "CUDA error: device-side assert triggered\nCUDA kernel errors might be asynchronously reported at some other API call, so the stacktrace below might be incorrect.\nFor debugging consider passing CUDA_LAUNCH_BLOCKING=1\nCompile with `TORCH_USE_CUDA_DSA` to enable device-side assertions.\n",
     "output_type": "error",
     "traceback": [
      "\u001b[0;31m---------------------------------------------------------------------------\u001b[0m",
      "\u001b[0;31mRuntimeError\u001b[0m                              Traceback (most recent call last)",
      "Cell \u001b[0;32mIn[37], line 2\u001b[0m\n\u001b[1;32m      1\u001b[0m save_path \u001b[38;5;241m=\u001b[39m \u001b[38;5;124m'\u001b[39m\u001b[38;5;124m/kaggle/working/tuned/models/unet\u001b[39m\u001b[38;5;124m'\u001b[39m\n\u001b[0;32m----> 2\u001b[0m best_result \u001b[38;5;241m=\u001b[39m \u001b[43mhyper_tuning_model\u001b[49m\u001b[43m(\u001b[49m\u001b[43mUNet\u001b[49m\u001b[43m,\u001b[49m\u001b[43m \u001b[49m\u001b[43mhyper_params\u001b[49m\u001b[43m,\u001b[49m\u001b[43m \u001b[49m\u001b[43mtrain_loader\u001b[49m\u001b[43m,\u001b[49m\u001b[43m \u001b[49m\u001b[43mval_loader\u001b[49m\u001b[43m,\u001b[49m\u001b[43m \u001b[49m\u001b[43mscaler\u001b[49m\u001b[43m,\u001b[49m\u001b[43m \u001b[49m\u001b[43mdevice\u001b[49m\u001b[43m,\u001b[49m\u001b[43m \u001b[49m\u001b[43msave_path\u001b[49m\u001b[43m,\u001b[49m\u001b[43m \u001b[49m\u001b[43mepochs\u001b[49m\u001b[38;5;241;43m=\u001b[39;49m\u001b[38;5;241;43m10\u001b[39;49m\u001b[43m)\u001b[49m\n\u001b[1;32m      4\u001b[0m \u001b[38;5;66;03m# Kết quả tốt nhất\u001b[39;00m\n\u001b[1;32m      5\u001b[0m \u001b[38;5;28mprint\u001b[39m(\u001b[38;5;124mf\u001b[39m\u001b[38;5;124m\"\u001b[39m\u001b[38;5;124mBest Hyperparameters: \u001b[39m\u001b[38;5;132;01m{\u001b[39;00mbest_result[\u001b[38;5;124m'\u001b[39m\u001b[38;5;124mbest_params\u001b[39m\u001b[38;5;124m'\u001b[39m]\u001b[38;5;132;01m}\u001b[39;00m\u001b[38;5;124m\"\u001b[39m)\n",
      "Cell \u001b[0;32mIn[33], line 37\u001b[0m, in \u001b[0;36mhyper_tuning_model\u001b[0;34m(model, hyper_params, train_loader, val_loader, scaler, device, save_path, epochs)\u001b[0m\n\u001b[1;32m     34\u001b[0m criterion \u001b[38;5;241m=\u001b[39m nn\u001b[38;5;241m.\u001b[39mCrossEntropyLoss()\n\u001b[1;32m     36\u001b[0m \u001b[38;5;66;03m# Training loop\u001b[39;00m\n\u001b[0;32m---> 37\u001b[0m train_losses, val_losses, train_accuracy, val_accuracy \u001b[38;5;241m=\u001b[39m \u001b[43mtrain_model\u001b[49m\u001b[43m(\u001b[49m\u001b[43mcurrent_model\u001b[49m\u001b[43m,\u001b[49m\u001b[43m \u001b[49m\u001b[43mtrain_loader\u001b[49m\u001b[43m,\u001b[49m\u001b[43m \u001b[49m\u001b[43mval_loader\u001b[49m\u001b[43m,\u001b[49m\u001b[43m \u001b[49m\u001b[43mcriterion\u001b[49m\u001b[43m,\u001b[49m\u001b[43m \u001b[49m\u001b[43moptimizer\u001b[49m\u001b[43m,\u001b[49m\u001b[43m \u001b[49m\u001b[43mscaler\u001b[49m\u001b[43m,\u001b[49m\u001b[43m \u001b[49m\u001b[43mdevice\u001b[49m\u001b[43m,\u001b[49m\u001b[43m \u001b[49m\u001b[43msave_path\u001b[49m\u001b[43m,\u001b[49m\u001b[43m \u001b[49m\u001b[43mepochs\u001b[49m\u001b[38;5;241;43m=\u001b[39;49m\u001b[43mepochs\u001b[49m\u001b[43m)\u001b[49m\n\u001b[1;32m     39\u001b[0m \u001b[38;5;66;03m# Check if this configuration is the best\u001b[39;00m\n\u001b[1;32m     40\u001b[0m \u001b[38;5;28;01mif\u001b[39;00m val_accuracy \u001b[38;5;241m>\u001b[39m best_accuracy:\n",
      "Cell \u001b[0;32mIn[36], line 28\u001b[0m, in \u001b[0;36mtrain_model\u001b[0;34m(model, train_loader, val_loader, criterion, optimizer, scaler, device, save_path, epochs)\u001b[0m\n\u001b[1;32m     26\u001b[0m     \u001b[38;5;66;03m# Loss\u001b[39;00m\n\u001b[1;32m     27\u001b[0m     loss \u001b[38;5;241m=\u001b[39m criterion(mask_logits\u001b[38;5;241m.\u001b[39mreshape(\u001b[38;5;241m-\u001b[39m\u001b[38;5;241m1\u001b[39m, \u001b[38;5;241m19\u001b[39m), masks\u001b[38;5;241m.\u001b[39mview(\u001b[38;5;241m-\u001b[39m\u001b[38;5;241m1\u001b[39m))\n\u001b[0;32m---> 28\u001b[0m train_loss \u001b[38;5;241m+\u001b[39m\u001b[38;5;241m=\u001b[39m \u001b[43mloss\u001b[49m\u001b[38;5;241;43m.\u001b[39;49m\u001b[43mitem\u001b[49m\u001b[43m(\u001b[49m\u001b[43m)\u001b[49m\n\u001b[1;32m     30\u001b[0m \u001b[38;5;66;03m# Update\u001b[39;00m\n\u001b[1;32m     31\u001b[0m optimizer\u001b[38;5;241m.\u001b[39mzero_grad()\n",
      "\u001b[0;31mRuntimeError\u001b[0m: CUDA error: device-side assert triggered\nCUDA kernel errors might be asynchronously reported at some other API call, so the stacktrace below might be incorrect.\nFor debugging consider passing CUDA_LAUNCH_BLOCKING=1\nCompile with `TORCH_USE_CUDA_DSA` to enable device-side assertions.\n"
     ]
    }
   ],
   "source": [
    "save_path = '/kaggle/working/tuned/models/unet'\n",
    "best_result = hyper_tuning_model(UNet, hyper_params, train_loader, val_loader, scaler, device, save_path, epochs=10)\n",
    "\n",
    "# Kết quả tốt nhất\n",
    "print(f\"Best Hyperparameters: {best_result['best_params']}\")\n",
    "print(f\"Best Validation Accuracy: {best_result['best_accuracy']:.4f}\")"
   ]
  },
  {
   "cell_type": "code",
   "execution_count": null,
   "metadata": {
    "execution": {
     "iopub.status.busy": "2024-12-08T11:08:12.954329Z",
     "iopub.status.idle": "2024-12-08T11:08:12.954636Z",
     "shell.execute_reply": "2024-12-08T11:08:12.954504Z",
     "shell.execute_reply.started": "2024-12-08T11:08:12.954488Z"
    },
    "trusted": true
   },
   "outputs": [],
   "source": [
    "torch.save(best_result['best_params'], '/kaggle/working/tuning/best_params_1.pkl')"
   ]
  }
 ],
 "metadata": {
  "kaggle": {
   "accelerator": "nvidiaTeslaT4",
   "dataSources": [
    {
     "datasetId": 645942,
     "sourceId": 1144795,
     "sourceType": "datasetVersion"
    }
   ],
   "dockerImageVersionId": 30804,
   "isGpuEnabled": true,
   "isInternetEnabled": true,
   "language": "python",
   "sourceType": "notebook"
  },
  "kernelspec": {
   "display_name": "Python 3",
   "language": "python",
   "name": "python3"
  },
  "language_info": {
   "codemirror_mode": {
    "name": "ipython",
    "version": 3
   },
   "file_extension": ".py",
   "mimetype": "text/x-python",
   "name": "python",
   "nbconvert_exporter": "python",
   "pygments_lexer": "ipython3",
   "version": "3.10.14"
  }
 },
 "nbformat": 4,
 "nbformat_minor": 4
}
