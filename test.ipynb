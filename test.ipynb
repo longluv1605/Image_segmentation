{
 "cells": [
  {
   "cell_type": "code",
   "execution_count": 1,
   "metadata": {},
   "outputs": [],
   "source": [
    "import numpy as np\n",
    "from PIL import Image\n",
    "\n",
    "import torch\n",
    "import torch.nn.functional as F"
   ]
  },
  {
   "cell_type": "code",
   "execution_count": 2,
   "metadata": {},
   "outputs": [],
   "source": [
    "im_frame = Image.open('data/Dataset_BUSI_with_GT/benign/benign (300)_mask.png')\n",
    "np_frame = np.array(im_frame)"
   ]
  },
  {
   "cell_type": "code",
   "execution_count": 3,
   "metadata": {},
   "outputs": [
    {
     "data": {
      "text/plain": [
       "(387, 463)"
      ]
     },
     "execution_count": 3,
     "metadata": {},
     "output_type": "execute_result"
    }
   ],
   "source": [
    "np_frame.shape"
   ]
  },
  {
   "cell_type": "code",
   "execution_count": 67,
   "metadata": {},
   "outputs": [],
   "source": [
    "pred = torch.randn(size=(2, 19, 1024, 2048))"
   ]
  },
  {
   "cell_type": "code",
   "execution_count": 68,
   "metadata": {},
   "outputs": [],
   "source": [
    "def iou_loss(pred, target, num_classes = 19):\n",
    "  pred = F.softmax(pred, dim = 1) # chuyển về thành xác suất cho từng channel\n",
    "  iou_per_class = []\n",
    "  for c in range(num_classes):\n",
    "    pred_c = pred[:,c,:,:] # (B, H, W) cho channel c đang xét\n",
    "    target_c = (target == c).float() # trả về 1.0 if index có giá trị là c else 0.0\n",
    "    intersection = torch.sum(pred_c * target_c, dim = (1,2)) # tính giao\n",
    "    union = torch.sum(pred_c, dim = (1,2)) + torch.sum(target_c, dim = (1,2)) - intersection # tính hợp\n",
    "    iou = torch.where(union == 0, torch.tensor(1.0).to(pred.device), intersection / union)  # tính iou, nếu union == 0, gán iou = 1\n",
    "    iou_per_class.append(iou)\n",
    "    # có thể tính thêm dice loss = 2 * intersection / union + intersection\n",
    "    \n",
    "  mean_iou = torch.mean(torch.stack(iou_per_class, dim = 1), dim = 1) # stack iou theo từng ảnh rồi tính mean iou cho từng ảnh\n",
    "  iou_loss = 1 - mean_iou\n",
    "  final_loss = torch.mean(iou_loss) # mean iou loss \n",
    "  return final_loss"
   ]
  },
  {
   "cell_type": "code",
   "execution_count": 69,
   "metadata": {},
   "outputs": [],
   "source": [
    "def calculate_iou(output, target, num_classes=19):\n",
    "    with torch.no_grad():\n",
    "        # Lấy nhãn dự đoán bằng cách lấy argmax theo chiều classes\n",
    "        predicted = torch.argmax(output, dim=1)  # [batch_size, height, width]\n",
    "\n",
    "        # Tạo tensor để lưu trữ tổng IoU cho từng lớp\n",
    "        ious = []\n",
    "\n",
    "        # Lấy các lớp xuất hiện trong predicted và target\n",
    "        classes_in_true = torch.unique(target)\n",
    "        classes_in_pred = torch.unique(predicted)\n",
    "\n",
    "        # Loại bỏ lớp -1 khỏi danh sách các lớp cần duyệt trong ground truth\n",
    "        classes_in_true_no_neg1 = classes_in_true[classes_in_true != -1]\n",
    "\n",
    "        # Tính IoU cho các lớp có trong ground truth (ngoại trừ lớp -1)\n",
    "        for cls in classes_in_true_no_neg1:\n",
    "            cls = cls.item()  # Chuyển sang kiểu int để sử dụng như chỉ mục\n",
    "\n",
    "            # Mask cho từng lớp\n",
    "            pred_mask = (predicted == cls)\n",
    "            true_mask = (target == cls)\n",
    "\n",
    "            # Tính Intersection và Union\n",
    "            intersection = torch.sum(pred_mask & true_mask).item()\n",
    "            union = torch.sum(pred_mask | true_mask).item()\n",
    "\n",
    "            if union == 0:\n",
    "                ious.append(float('nan'))  # Nếu không có pixel nào thuộc lớp đó\n",
    "            else:\n",
    "                ious.append(intersection / union)\n",
    "\n",
    "        # Tính IoU cho lớp -1 trong `y_true` với các lớp trong `y_pred` mà không có trong `y_true`\n",
    "        neg1_pixels = (target == -1)\n",
    "        if torch.sum(neg1_pixels) > 0:\n",
    "            pred_classes_not_in_true = torch.tensor(\n",
    "                [cls for cls in classes_in_pred if cls not in classes_in_true_no_neg1],\n",
    "                device=target.device\n",
    "            )\n",
    "\n",
    "            # Tính IoU cho các pixel lớp -1\n",
    "            pred_mask_neg1 = torch.isin(predicted, pred_classes_not_in_true)  # Chỉ có trên PyTorch 1.10+\n",
    "            intersection_neg1 = torch.sum(neg1_pixels & pred_mask_neg1).item()\n",
    "            union_neg1 = torch.sum(neg1_pixels | pred_mask_neg1).item()\n",
    "\n",
    "            if union_neg1 == 0:\n",
    "                ious.append(float('nan'))\n",
    "            else:\n",
    "                ious.append(intersection_neg1 / union_neg1)\n",
    "\n",
    "    # Tính mIoU bằng cách lấy trung bình các IoU, bỏ qua giá trị NaN\n",
    "    return np.nanmean(ious)"
   ]
  },
  {
   "cell_type": "code",
   "execution_count": 70,
   "metadata": {},
   "outputs": [
    {
     "data": {
      "text/plain": [
       "tensor(0.9730)"
      ]
     },
     "execution_count": 70,
     "metadata": {},
     "output_type": "execute_result"
    }
   ],
   "source": [
    "iou_loss(pred, target)"
   ]
  },
  {
   "cell_type": "code",
   "execution_count": 71,
   "metadata": {},
   "outputs": [
    {
     "data": {
      "text/plain": [
       "0.02698446676252961"
      ]
     },
     "execution_count": 71,
     "metadata": {},
     "output_type": "execute_result"
    }
   ],
   "source": [
    "calculate_iou(pred, target, num_classes=19)"
   ]
  },
  {
   "cell_type": "code",
   "execution_count": 72,
   "metadata": {},
   "outputs": [],
   "source": [
    "predicted = torch.argmax(pred, dim=1)"
   ]
  },
  {
   "cell_type": "code",
   "execution_count": null,
   "metadata": {},
   "outputs": [],
   "source": []
  }
 ],
 "metadata": {
  "kernelspec": {
   "display_name": "Python 3",
   "language": "python",
   "name": "python3"
  },
  "language_info": {
   "codemirror_mode": {
    "name": "ipython",
    "version": 3
   },
   "file_extension": ".py",
   "mimetype": "text/x-python",
   "name": "python",
   "nbconvert_exporter": "python",
   "pygments_lexer": "ipython3",
   "version": "3.12.4"
  }
 },
 "nbformat": 4,
 "nbformat_minor": 2
}
