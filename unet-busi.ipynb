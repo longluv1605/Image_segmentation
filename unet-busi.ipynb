{
 "cells": [
  {
   "cell_type": "code",
   "execution_count": 33,
   "metadata": {},
   "outputs": [],
   "source": [
    "import os\n",
    "import numpy as np\n",
    "from PIL import Image\n",
    "\n",
    "from sklearn.model_selection import train_test_split\n",
    "\n",
    "import torch\n",
    "import torch.nn as nn\n",
    "import torch.nn.functional as F\n",
    "from torch.utils.data import Dataset, DataLoader\n",
    "\n",
    "from torchvision.transforms import transforms\n",
    "import torchvision.transforms.functional as TF\n",
    "\n",
    "import matplotlib.pyplot as plt\n",
    "\n",
    "from tqdm import tqdm"
   ]
  },
  {
   "cell_type": "code",
   "execution_count": 34,
   "metadata": {},
   "outputs": [
    {
     "data": {
      "text/plain": [
       "device(type='cuda')"
      ]
     },
     "execution_count": 34,
     "metadata": {},
     "output_type": "execute_result"
    }
   ],
   "source": [
    "device = torch.device('cuda' if torch.cuda.is_available() else 'cpu')\n",
    "device"
   ]
  },
  {
   "cell_type": "markdown",
   "metadata": {},
   "source": [
    "# 1. Data preparation"
   ]
  },
  {
   "cell_type": "code",
   "execution_count": 27,
   "metadata": {},
   "outputs": [
    {
     "data": {
      "text/plain": [
       "(457, 113)"
      ]
     },
     "execution_count": 27,
     "metadata": {},
     "output_type": "execute_result"
    }
   ],
   "source": [
    "def load_data(root_dir, val_size=0.2):\n",
    "    X_b_paths = sorted([os.path.join(dp, f) for dp, dn, fn in os.walk(os.path.expanduser(root_dir+'/benign')) for f in fn if f.endswith(').png')])\n",
    "    y_b_paths = sorted([os.path.join(dp, f) for dp, dn, fn in os.walk(os.path.expanduser(root_dir+'/benign')) for f in fn if f.endswith(')_mask.png')])\n",
    "    X_m_paths = sorted([os.path.join(dp, f) for dp, dn, fn in os.walk(os.path.expanduser(root_dir+'/malognant')) for f in fn if f.endswith(').png')])\n",
    "    y_m_paths = sorted([os.path.join(dp, f) for dp, dn, fn in os.walk(os.path.expanduser(root_dir+'/malognant')) for f in fn if f.endswith(')_mask.png')])\n",
    "    X_n_paths = sorted([os.path.join(dp, f) for dp, dn, fn in os.walk(os.path.expanduser(root_dir+'/normal')) for f in fn if f.endswith(').png')])\n",
    "    y_n_paths = sorted([os.path.join(dp, f) for dp, dn, fn in os.walk(os.path.expanduser(root_dir+'/normal')) for f in fn if f.endswith(')_mask.png')])\n",
    "    \n",
    "    b_pos = int(-len(X_b_paths)*val_size)\n",
    "    m_pos = int(-len(X_m_paths)*val_size)\n",
    "    n_pos = int(-len(X_n_paths)*val_size)\n",
    "    \n",
    "    X_train_paths = X_b_paths[:b_pos] + X_m_paths[:m_pos] + X_n_paths[:n_pos]\n",
    "    y_train_paths = y_b_paths[:b_pos] + y_m_paths[:m_pos] + y_n_paths[:n_pos]    \n",
    "    X_val_paths = X_b_paths[b_pos:] + X_m_paths[m_pos:] + X_n_paths[n_pos:]\n",
    "    y_val_paths = y_b_paths[b_pos:] + y_m_paths[m_pos:] + y_n_paths[n_pos:]\n",
    "    \n",
    "    return X_train_paths, y_train_paths, X_val_paths, y_val_paths\n",
    "    \n",
    "root_dir = 'data/Dataset_BUSI_with_GT'\n",
    "X_train_paths, y_train_paths, X_val_paths, y_val_paths = load_data(root_dir, val_size=0.2)\n",
    "\n",
    "len(X_train_paths), len(X_val_paths)"
   ]
  },
  {
   "cell_type": "code",
   "execution_count": 24,
   "metadata": {},
   "outputs": [],
   "source": [
    "class BUSI_Dataset(Dataset):\n",
    "    def __init__(self, X_paths, y_paths, transform=None):\n",
    "        self.X_paths = X_paths\n",
    "        self.y_paths = y_paths\n",
    "        self.transform = transform\n",
    "        \n",
    "    def __len__(self):\n",
    "        return len(self.X_paths)\n",
    "    \n",
    "    def __getitem__(self, idx):\n",
    "        image_path = self.X_paths[idx]\n",
    "        mask_path = self.y_paths[idx]\n",
    "        \n",
    "        image = Image.open(image_path).convert('L')\n",
    "        mask = Image.open(mask_path).convert('L')\n",
    "        \n",
    "        if self.transform:\n",
    "            image = self.transform(image)\n",
    "            mask = self.transform(mask)\n",
    "            \n",
    "        return image, mask"
   ]
  },
  {
   "cell_type": "code",
   "execution_count": 25,
   "metadata": {},
   "outputs": [],
   "source": [
    "image_size = 224\n",
    "train_transforms = transforms.Compose([\n",
    "    transforms.Resize([image_size, image_size]),\n",
    "    transforms.ToTensor(),\n",
    "])\n",
    "val_transforms = transforms.Compose([\n",
    "    transforms.Resize([image_size, image_size]),\n",
    "    transforms.ToTensor(),\n",
    "])"
   ]
  },
  {
   "cell_type": "code",
   "execution_count": 28,
   "metadata": {},
   "outputs": [],
   "source": [
    "train_dataset = BUSI_Dataset(X_train_paths, y_train_paths, train_transforms)\n",
    "val_dataset = BUSI_Dataset(X_val_paths, y_val_paths, val_transforms)"
   ]
  },
  {
   "cell_type": "code",
   "execution_count": 29,
   "metadata": {},
   "outputs": [],
   "source": [
    "batch_size = 8\n",
    "train_loader = DataLoader(train_dataset, batch_size=batch_size, shuffle=True)\n",
    "val_loader = DataLoader(val_dataset, batch_size=batch_size, shuffle=False)"
   ]
  },
  {
   "cell_type": "code",
   "execution_count": 30,
   "metadata": {},
   "outputs": [
    {
     "data": {
      "text/plain": [
       "(torch.Size([8, 1, 224, 224]), torch.Size([8, 1, 224, 224]))"
      ]
     },
     "execution_count": 30,
     "metadata": {},
     "output_type": "execute_result"
    }
   ],
   "source": [
    "img, mask = next(iter(train_loader))\n",
    "\n",
    "img.shape, mask.shape"
   ]
  },
  {
   "cell_type": "markdown",
   "metadata": {},
   "source": [
    "# 2. Define model"
   ]
  },
  {
   "cell_type": "code",
   "execution_count": 31,
   "metadata": {},
   "outputs": [],
   "source": [
    "class DoubleConv(nn.Module):\n",
    "    def __init__(self, in_channels, out_channels):\n",
    "        super(DoubleConv, self).__init__()\n",
    "\n",
    "        self.block = nn.Sequential(\n",
    "            nn.Conv2d(in_channels, out_channels, 3, 1, 1),\n",
    "            nn.BatchNorm2d(out_channels),\n",
    "            nn.ReLU(inplace=True),\n",
    "            nn.Conv2d(out_channels, out_channels, 3, 1, 1),\n",
    "            nn.BatchNorm2d(out_channels),\n",
    "            nn.ReLU(inplace=True)\n",
    "        )\n",
    "\n",
    "    def forward(self, x):\n",
    "        return self.block(x)"
   ]
  },
  {
   "cell_type": "code",
   "execution_count": 35,
   "metadata": {},
   "outputs": [],
   "source": [
    "class UNet(nn.Module):\n",
    "    def __init__(self, in_channels=1, out_channels=2):\n",
    "        super(UNet, self).__init__()\n",
    "\n",
    "        # Define channels for different stages\n",
    "        channels = [64, 128, 256, 512]\n",
    "        \n",
    "        # Define pooling layer\n",
    "        self.maxpool = nn.MaxPool2d(2, 2)\n",
    "    \n",
    "        # Define encoder\n",
    "        self.encoder = nn.ModuleList()\n",
    "        for channel in channels:\n",
    "            self.encoder.append(DoubleConv(in_channels, channel))\n",
    "            in_channels = channel\n",
    "\n",
    "        # Define bottleneck layer\n",
    "        self.bottleneck = DoubleConv(channels[-1], channels[-1] * 2)\n",
    "        \n",
    "        # Define decoder\n",
    "        self.decoder = nn.ModuleList()\n",
    "        for channel in reversed(channels):\n",
    "            self.decoder.append(nn.ConvTranspose2d(channel * 2, channel, 2, 2))\n",
    "            self.decoder.append(DoubleConv(channel * 2, channel))\n",
    "\n",
    "        # Define last layer\n",
    "        self.last = nn.Conv2d(channels[0], out_channels, 1)\n",
    "\n",
    "    def forward(self, x):\n",
    "        # Define storage for connections\n",
    "        skip_connections = []\n",
    "\n",
    "        # Down stages\n",
    "        for block in self.encoder:\n",
    "            x = block(x)\n",
    "            skip_connections.append(x)\n",
    "            x = self.maxpool(x)\n",
    "\n",
    "        # Bottleneck passing\n",
    "        x = self.bottleneck(x)\n",
    "\n",
    "        # Reverse list for easily taking\n",
    "        skip_connections = skip_connections[::-1]\n",
    "\n",
    "        # Up stages\n",
    "        for i in range (0, len(self.decoder), 2):\n",
    "            # Conv Transpose\n",
    "            x = self.decoder[i](x)\n",
    "\n",
    "            # Passing main block\n",
    "            skip_connection = skip_connections[i // 2]\n",
    "\n",
    "            ## Resize if neccessary\n",
    "            if x.shape != skip_connection.shape:\n",
    "                skip_connection = TF.resize(skip_connection, x.shape[2:]) # Resize except batch and channel\n",
    "            ## Apply skip connection\n",
    "            x = torch.cat((skip_connection, x), dim=1) # Concat by channel\n",
    "\n",
    "            ## Go through conv block\n",
    "            x = self.decoder[i+1](x)\n",
    "\n",
    "        # Passing last layer to get output that each channel stand for each instance\n",
    "        return self.last(x)"
   ]
  },
  {
   "cell_type": "code",
   "execution_count": 36,
   "metadata": {},
   "outputs": [],
   "source": [
    "unet = UNet(1, 2).to(device)\n",
    "unet = nn.DataParallel(unet)"
   ]
  },
  {
   "cell_type": "markdown",
   "metadata": {},
   "source": [
    "# 3. Define controller"
   ]
  },
  {
   "cell_type": "code",
   "execution_count": null,
   "metadata": {},
   "outputs": [],
   "source": [
    "def save_model(model, file_path):\n",
    "    file_path = file_path + '.pth'\n",
    "    dir_name = os.path.dirname(file_path)\n",
    "    if dir_name and not os.path.exists(dir_name):\n",
    "        os.makedirs(dir_name)\n",
    "    \n",
    "    # Save\n",
    "    torch.save(model.state_dict(), file_path)\n",
    "    print(f\"Model is saved to: {file_path}\")"
   ]
  },
  {
   "cell_type": "code",
   "execution_count": null,
   "metadata": {},
   "outputs": [
    {
     "name": "stderr",
     "output_type": "stream",
     "text": [
      "/tmp/ipykernel_23/709905294.py:12: FutureWarning: `torch.cuda.amp.GradScaler(args...)` is deprecated. Please use `torch.amp.GradScaler('cuda', args...)` instead.\n",
      "  scaler = torch.cuda.amp.GradScaler()\n"
     ]
    }
   ],
   "source": [
    "lr = 0.003\n",
    "WD = 0.001\n",
    "\n",
    "criterion = nn.CrossEntropyLoss(ignore_index = 0)\n",
    "optimizer = torch.optim.Adam(params = unet.parameters(), lr=lr, weight_decay=WD)"
   ]
  },
  {
   "cell_type": "code",
   "execution_count": null,
   "metadata": {},
   "outputs": [],
   "source": [
    "def train_model(model, train_loader, val_loader, criterion, optimizer, device, save_path=None, epochs=10):\n",
    "    best_loss = float('inf')\n",
    "\n",
    "    train_losses = []\n",
    "    val_losses = []\n",
    "    train_accuracy = []\n",
    "    val_accuracy = []\n",
    "    \n",
    "    model.train()\n",
    "    for epoch in range(epochs):\n",
    "        train_loss, train_acc = 0, 0\n",
    "\n",
    "        for images, masks in tqdm(train_loader, unit='batch', desc=f'Training [{epoch+1}/{epochs}]'):\n",
    "            images, masks = images.to(device), masks.to(device)\n",
    "\n",
    "            mask_logits = model(images) # (B, C, H, W)\n",
    "\n",
    "            # Permute channel to last size\n",
    "            mask_logits = mask_logits.permute(0, 2, 3, 1) # (B, H, W, C)\n",
    "            \n",
    "            # Loss\n",
    "            loss = criterion(mask_logits.reshape(-1, 2), masks.view(-1))\n",
    "            train_loss += loss.item()\n",
    "\n",
    "            # Update\n",
    "            optimizer.zero_grad()\n",
    "            loss.backward()\n",
    "            optimizer.step()\n",
    "\n",
    "            # Calculate accuracy over pixel\n",
    "            mask_pred = torch.argmax(mask_logits, dim = -1)\n",
    "            acc_per_batch = torch.eq(mask_pred, masks).sum().item()\n",
    "            train_acc += (acc_per_batch / masks.numel())\n",
    "        avg_train_loss = train_loss / len(train_loader)\n",
    "        avg_train_acc = train_acc / len(train_loader)\n",
    "        \n",
    "        print(f'---> Train loss: {avg_train_loss:.4f}')\n",
    "        print(f'---> Train acc: {avg_train_acc:.4f}')\n",
    "\n",
    "        train_losses.append(avg_train_loss)\n",
    "        train_accuracy.append(avg_train_acc)\n",
    "        \n",
    "        # Validate\n",
    "        val_loss, val_acc = 0,0\n",
    "        model.eval()\n",
    "        with torch.inference_mode():\n",
    "            for images, masks in tqdm(val_loader, unit='batch', desc=f'Validate [{epoch+1}/{epochs}]'):\n",
    "                images, masks = images.to(device), masks.to(device)\n",
    "                \n",
    "                mask_logits = model(images)\n",
    "                mask_logits = mask_logits.permute(0,2,3,1)\n",
    "                loss = criterion(mask_logits.reshape(-1, 2), masks.view(-1))\n",
    "                val_loss += loss.item()\n",
    "                \n",
    "                mask_pred = torch.argmax(mask_logits, dim = -1)\n",
    "                acc_per_batch = torch.eq(mask_pred, masks).sum().item()\n",
    "                val_acc += (acc_per_batch / masks.numel())\n",
    "        avg_val_loss = val_loss / len(val_loader)\n",
    "        avg_val_acc = val_acc / len(val_loader)\n",
    "        \n",
    "        print(f'---> Valid loss: {avg_val_loss:.4f}')\n",
    "        print(f'---> Valid acc: {avg_val_acc:.4f}')\n",
    "        \n",
    "        val_losses.append(avg_val_loss)\n",
    "        val_accuracy.append(avg_val_acc)\n",
    "        \n",
    "        if save_path is not None:\n",
    "            if avg_val_loss < best_loss:\n",
    "                best_loss = avg_val_loss\n",
    "                save_model(model, save_path + f'_epoch{epoch+1}')\n",
    "    return train_losses, val_losses, train_accuracy, val_accuracy"
   ]
  },
  {
   "cell_type": "markdown",
   "metadata": {},
   "source": [
    "# 5. Train"
   ]
  },
  {
   "cell_type": "code",
   "execution_count": null,
   "metadata": {},
   "outputs": [],
   "source": [
    "save_path = '/kaggle/working/models/unet'"
   ]
  },
  {
   "cell_type": "code",
   "execution_count": null,
   "metadata": {},
   "outputs": [
    {
     "name": "stderr",
     "output_type": "stream",
     "text": [
      "2024-12-08 08:41:12,724 - Starting Epoch 1/50\n",
      "Training [1/50]:   0%|          | 0/150 [00:00<?, ?batch/s]/tmp/ipykernel_23/3483330389.py:17: FutureWarning: `torch.cuda.amp.autocast(args...)` is deprecated. Please use `torch.amp.autocast('cuda', args...)` instead.\n",
      "  with torch.cuda.amp.autocast():\n",
      "/opt/conda/lib/python3.10/site-packages/torch/nn/parallel/parallel_apply.py:79: FutureWarning: `torch.cuda.amp.autocast(args...)` is deprecated. Please use `torch.amp.autocast('cuda', args...)` instead.\n",
      "  with torch.cuda.device(device), torch.cuda.stream(stream), autocast(enabled=autocast_enabled):\n",
      "Training [1/50]: 100%|██████████| 150/150 [02:42<00:00,  1.08s/batch]\n",
      "2024-12-08 08:43:55,377 - Epoch 1 - Train Loss: 1.3661, Train Accuracy: 0.5635\n"
     ]
    },
    {
     "name": "stdout",
     "output_type": "stream",
     "text": [
      "---> Train loss: 1.3661\n",
      "---> Train acc: 0.5635\n"
     ]
    },
    {
     "name": "stderr",
     "output_type": "stream",
     "text": [
      "Validate [1/50]:   0%|          | 0/13 [00:00<?, ?batch/s]/tmp/ipykernel_23/3483330389.py:61: FutureWarning: `torch.cuda.amp.autocast(args...)` is deprecated. Please use `torch.amp.autocast('cuda', args...)` instead.\n",
      "  with torch.cuda.amp.autocast():\n",
      "Validate [1/50]: 100%|██████████| 13/13 [00:13<00:00,  1.06s/batch]\n",
      "2024-12-08 08:44:09,125 - Epoch 1 - Val Loss: 1.5233, Val Accuracy: 0.4686\n"
     ]
    },
    {
     "name": "stdout",
     "output_type": "stream",
     "text": [
      "---> Valid loss: 1.5233\n",
      "---> Valid acc: 0.4686\n"
     ]
    },
    {
     "name": "stderr",
     "output_type": "stream",
     "text": [
      "\u001b[34m\u001b[1mwandb\u001b[0m: \u001b[33mWARNING\u001b[0m Saving files without folders. If you want to preserve subdirectories pass base_path to wandb.save, i.e. wandb.save(\"/mnt/folder/file.h5\", base_path=\"/mnt\")\n",
      "2024-12-08 08:44:09,368 - Model saved at /kaggle/working/models/unet_epoch1.pth\n",
      "2024-12-08 08:44:09,369 - Starting Epoch 2/50\n"
     ]
    },
    {
     "name": "stdout",
     "output_type": "stream",
     "text": [
      "Model is saved to: /kaggle/working/models/unet_epoch1.pth\n"
     ]
    },
    {
     "name": "stderr",
     "output_type": "stream",
     "text": [
      "Training [2/50]: 100%|██████████| 150/150 [02:45<00:00,  1.10s/batch]\n",
      "2024-12-08 08:46:54,717 - Epoch 2 - Train Loss: 1.4368, Train Accuracy: 0.5123\n"
     ]
    },
    {
     "name": "stdout",
     "output_type": "stream",
     "text": [
      "---> Train loss: 1.4368\n",
      "---> Train acc: 0.5123\n"
     ]
    },
    {
     "name": "stderr",
     "output_type": "stream",
     "text": [
      "Validate [2/50]: 100%|██████████| 13/13 [00:14<00:00,  1.10s/batch]\n",
      "2024-12-08 08:47:09,019 - Epoch 2 - Val Loss: 1.6399, Val Accuracy: 0.4431\n",
      "2024-12-08 08:47:09,020 - Starting Epoch 3/50\n"
     ]
    },
    {
     "name": "stdout",
     "output_type": "stream",
     "text": [
      "---> Valid loss: 1.6399\n",
      "---> Valid acc: 0.4431\n"
     ]
    },
    {
     "name": "stderr",
     "output_type": "stream",
     "text": [
      "Training [3/50]: 100%|██████████| 150/150 [02:51<00:00,  1.14s/batch]\n",
      "2024-12-08 08:50:00,492 - Epoch 3 - Train Loss: 1.3954, Train Accuracy: 0.5263\n"
     ]
    },
    {
     "name": "stdout",
     "output_type": "stream",
     "text": [
      "---> Train loss: 1.3954\n",
      "---> Train acc: 0.5263\n"
     ]
    },
    {
     "name": "stderr",
     "output_type": "stream",
     "text": [
      "Validate [3/50]: 100%|██████████| 13/13 [00:14<00:00,  1.10s/batch]\n",
      "2024-12-08 08:50:14,838 - Epoch 3 - Val Loss: 1.3394, Val Accuracy: 0.5341\n"
     ]
    },
    {
     "name": "stdout",
     "output_type": "stream",
     "text": [
      "---> Valid loss: 1.3394\n",
      "---> Valid acc: 0.5341\n"
     ]
    },
    {
     "name": "stderr",
     "output_type": "stream",
     "text": [
      "2024-12-08 08:50:15,047 - Model saved at /kaggle/working/models/unet_epoch3.pth\n",
      "2024-12-08 08:50:15,048 - Starting Epoch 4/50\n"
     ]
    },
    {
     "name": "stdout",
     "output_type": "stream",
     "text": [
      "Model is saved to: /kaggle/working/models/unet_epoch3.pth\n"
     ]
    },
    {
     "name": "stderr",
     "output_type": "stream",
     "text": [
      "Training [4/50]: 100%|██████████| 150/150 [02:42<00:00,  1.08s/batch]\n",
      "2024-12-08 08:52:57,086 - Epoch 4 - Train Loss: 1.3622, Train Accuracy: 0.5356\n"
     ]
    },
    {
     "name": "stdout",
     "output_type": "stream",
     "text": [
      "---> Train loss: 1.3622\n",
      "---> Train acc: 0.5356\n"
     ]
    },
    {
     "name": "stderr",
     "output_type": "stream",
     "text": [
      "Validate [4/50]: 100%|██████████| 13/13 [00:13<00:00,  1.05s/batch]\n",
      "2024-12-08 08:53:10,744 - Epoch 4 - Val Loss: 1.2944, Val Accuracy: 0.5494\n"
     ]
    },
    {
     "name": "stdout",
     "output_type": "stream",
     "text": [
      "---> Valid loss: 1.2944\n",
      "---> Valid acc: 0.5494\n",
      "Model is saved to: /kaggle/working/models/unet_epoch4.pth\n"
     ]
    },
    {
     "name": "stderr",
     "output_type": "stream",
     "text": [
      "2024-12-08 08:53:10,946 - Model saved at /kaggle/working/models/unet_epoch4.pth\n",
      "2024-12-08 08:53:10,947 - Starting Epoch 5/50\n",
      "Training [5/50]: 100%|██████████| 150/150 [02:40<00:00,  1.07s/batch]\n",
      "2024-12-08 08:55:51,538 - Epoch 5 - Train Loss: 1.3216, Train Accuracy: 0.5486\n"
     ]
    },
    {
     "name": "stdout",
     "output_type": "stream",
     "text": [
      "---> Train loss: 1.3216\n",
      "---> Train acc: 0.5486\n"
     ]
    },
    {
     "name": "stderr",
     "output_type": "stream",
     "text": [
      "Validate [5/50]: 100%|██████████| 13/13 [00:13<00:00,  1.05s/batch]\n",
      "2024-12-08 08:56:05,245 - Epoch 5 - Val Loss: 1.3697, Val Accuracy: 0.5267\n",
      "2024-12-08 08:56:05,247 - Starting Epoch 6/50\n"
     ]
    },
    {
     "name": "stdout",
     "output_type": "stream",
     "text": [
      "---> Valid loss: 1.3697\n",
      "---> Valid acc: 0.5267\n"
     ]
    },
    {
     "name": "stderr",
     "output_type": "stream",
     "text": [
      "Training [6/50]: 100%|██████████| 150/150 [02:42<00:00,  1.08s/batch]\n",
      "2024-12-08 08:58:47,488 - Epoch 6 - Train Loss: 1.2922, Train Accuracy: 0.5599\n"
     ]
    },
    {
     "name": "stdout",
     "output_type": "stream",
     "text": [
      "---> Train loss: 1.2922\n",
      "---> Train acc: 0.5599\n"
     ]
    },
    {
     "name": "stderr",
     "output_type": "stream",
     "text": [
      "Validate [6/50]: 100%|██████████| 13/13 [00:14<00:00,  1.08s/batch]\n",
      "2024-12-08 08:59:01,560 - Epoch 6 - Val Loss: 1.4445, Val Accuracy: 0.4803\n",
      "2024-12-08 08:59:01,562 - Starting Epoch 7/50\n"
     ]
    },
    {
     "name": "stdout",
     "output_type": "stream",
     "text": [
      "---> Valid loss: 1.4445\n",
      "---> Valid acc: 0.4803\n"
     ]
    },
    {
     "name": "stderr",
     "output_type": "stream",
     "text": [
      "Training [7/50]: 100%|██████████| 150/150 [02:39<00:00,  1.06s/batch]\n",
      "2024-12-08 09:01:40,703 - Epoch 7 - Train Loss: 1.3006, Train Accuracy: 0.5582\n"
     ]
    },
    {
     "name": "stdout",
     "output_type": "stream",
     "text": [
      "---> Train loss: 1.3006\n",
      "---> Train acc: 0.5582\n"
     ]
    },
    {
     "name": "stderr",
     "output_type": "stream",
     "text": [
      "Validate [7/50]: 100%|██████████| 13/13 [00:13<00:00,  1.02s/batch]\n",
      "2024-12-08 09:01:54,014 - Epoch 7 - Val Loss: 1.2442, Val Accuracy: 0.5527\n"
     ]
    },
    {
     "name": "stdout",
     "output_type": "stream",
     "text": [
      "---> Valid loss: 1.2442\n",
      "---> Valid acc: 0.5527\n"
     ]
    },
    {
     "name": "stderr",
     "output_type": "stream",
     "text": [
      "2024-12-08 09:01:54,248 - Model saved at /kaggle/working/models/unet_epoch7.pth\n",
      "2024-12-08 09:01:54,250 - Starting Epoch 8/50\n"
     ]
    },
    {
     "name": "stdout",
     "output_type": "stream",
     "text": [
      "Model is saved to: /kaggle/working/models/unet_epoch7.pth\n"
     ]
    },
    {
     "name": "stderr",
     "output_type": "stream",
     "text": [
      "Training [8/50]: 100%|██████████| 150/150 [02:45<00:00,  1.10s/batch]\n",
      "2024-12-08 09:04:39,750 - Epoch 8 - Train Loss: 1.2714, Train Accuracy: 0.5576\n"
     ]
    },
    {
     "name": "stdout",
     "output_type": "stream",
     "text": [
      "---> Train loss: 1.2714\n",
      "---> Train acc: 0.5576\n"
     ]
    },
    {
     "name": "stderr",
     "output_type": "stream",
     "text": [
      "Validate [8/50]: 100%|██████████| 13/13 [00:14<00:00,  1.10s/batch]\n",
      "2024-12-08 09:04:54,023 - Epoch 8 - Val Loss: 1.3620, Val Accuracy: 0.5225\n",
      "2024-12-08 09:04:54,025 - Starting Epoch 9/50\n"
     ]
    },
    {
     "name": "stdout",
     "output_type": "stream",
     "text": [
      "---> Valid loss: 1.3620\n",
      "---> Valid acc: 0.5225\n"
     ]
    },
    {
     "name": "stderr",
     "output_type": "stream",
     "text": [
      "Training [9/50]: 100%|██████████| 150/150 [02:44<00:00,  1.09s/batch]\n",
      "2024-12-08 09:07:38,082 - Epoch 9 - Train Loss: 1.2683, Train Accuracy: 0.5635\n"
     ]
    },
    {
     "name": "stdout",
     "output_type": "stream",
     "text": [
      "---> Train loss: 1.2683\n",
      "---> Train acc: 0.5635\n"
     ]
    },
    {
     "name": "stderr",
     "output_type": "stream",
     "text": [
      "Validate [9/50]: 100%|██████████| 13/13 [00:13<00:00,  1.05s/batch]\n",
      "2024-12-08 09:07:51,767 - Epoch 9 - Val Loss: 1.3258, Val Accuracy: 0.5348\n",
      "2024-12-08 09:07:51,769 - Starting Epoch 10/50\n"
     ]
    },
    {
     "name": "stdout",
     "output_type": "stream",
     "text": [
      "---> Valid loss: 1.3258\n",
      "---> Valid acc: 0.5348\n"
     ]
    },
    {
     "name": "stderr",
     "output_type": "stream",
     "text": [
      "Training [10/50]: 100%|██████████| 150/150 [02:42<00:00,  1.08s/batch]\n",
      "2024-12-08 09:10:34,161 - Epoch 10 - Train Loss: 1.2443, Train Accuracy: 0.5690\n"
     ]
    },
    {
     "name": "stdout",
     "output_type": "stream",
     "text": [
      "---> Train loss: 1.2443\n",
      "---> Train acc: 0.5690\n"
     ]
    },
    {
     "name": "stderr",
     "output_type": "stream",
     "text": [
      "Validate [10/50]: 100%|██████████| 13/13 [00:13<00:00,  1.06s/batch]\n",
      "2024-12-08 09:10:48,007 - Epoch 10 - Val Loss: 1.3377, Val Accuracy: 0.5338\n",
      "2024-12-08 09:10:48,009 - Starting Epoch 11/50\n"
     ]
    },
    {
     "name": "stdout",
     "output_type": "stream",
     "text": [
      "---> Valid loss: 1.3377\n",
      "---> Valid acc: 0.5338\n"
     ]
    },
    {
     "name": "stderr",
     "output_type": "stream",
     "text": [
      "Training [11/50]: 100%|██████████| 150/150 [02:40<00:00,  1.07s/batch]\n",
      "2024-12-08 09:13:28,116 - Epoch 11 - Train Loss: 1.2157, Train Accuracy: 0.5789\n"
     ]
    },
    {
     "name": "stdout",
     "output_type": "stream",
     "text": [
      "---> Train loss: 1.2157\n",
      "---> Train acc: 0.5789\n"
     ]
    },
    {
     "name": "stderr",
     "output_type": "stream",
     "text": [
      "Validate [11/50]: 100%|██████████| 13/13 [00:13<00:00,  1.06s/batch]\n",
      "2024-12-08 09:13:41,858 - Epoch 11 - Val Loss: 1.2448, Val Accuracy: 0.5537\n",
      "2024-12-08 09:13:41,859 - Starting Epoch 12/50\n"
     ]
    },
    {
     "name": "stdout",
     "output_type": "stream",
     "text": [
      "---> Valid loss: 1.2448\n",
      "---> Valid acc: 0.5537\n"
     ]
    },
    {
     "name": "stderr",
     "output_type": "stream",
     "text": [
      "Training [12/50]: 100%|██████████| 150/150 [02:44<00:00,  1.10s/batch]\n",
      "2024-12-08 09:16:26,397 - Epoch 12 - Train Loss: 1.2121, Train Accuracy: 0.5797\n"
     ]
    },
    {
     "name": "stdout",
     "output_type": "stream",
     "text": [
      "---> Train loss: 1.2121\n",
      "---> Train acc: 0.5797\n"
     ]
    },
    {
     "name": "stderr",
     "output_type": "stream",
     "text": [
      "Validate [12/50]: 100%|██████████| 13/13 [00:14<00:00,  1.09s/batch]\n",
      "2024-12-08 09:16:40,588 - Epoch 12 - Val Loss: 1.2563, Val Accuracy: 0.5427\n",
      "2024-12-08 09:16:40,589 - Starting Epoch 13/50\n"
     ]
    },
    {
     "name": "stdout",
     "output_type": "stream",
     "text": [
      "---> Valid loss: 1.2563\n",
      "---> Valid acc: 0.5427\n"
     ]
    },
    {
     "name": "stderr",
     "output_type": "stream",
     "text": [
      "Training [13/50]: 100%|██████████| 150/150 [02:41<00:00,  1.08s/batch]\n",
      "2024-12-08 09:19:21,927 - Epoch 13 - Train Loss: 1.2027, Train Accuracy: 0.5834\n"
     ]
    },
    {
     "name": "stdout",
     "output_type": "stream",
     "text": [
      "---> Train loss: 1.2027\n",
      "---> Train acc: 0.5834\n"
     ]
    },
    {
     "name": "stderr",
     "output_type": "stream",
     "text": [
      "Validate [13/50]: 100%|██████████| 13/13 [00:13<00:00,  1.05s/batch]\n",
      "2024-12-08 09:19:35,628 - Epoch 13 - Val Loss: 1.2521, Val Accuracy: 0.5514\n",
      "2024-12-08 09:19:35,630 - Starting Epoch 14/50\n"
     ]
    },
    {
     "name": "stdout",
     "output_type": "stream",
     "text": [
      "---> Valid loss: 1.2521\n",
      "---> Valid acc: 0.5514\n"
     ]
    },
    {
     "name": "stderr",
     "output_type": "stream",
     "text": [
      "Training [14/50]: 100%|██████████| 150/150 [02:40<00:00,  1.07s/batch]\n",
      "2024-12-08 09:22:16,411 - Epoch 14 - Train Loss: 1.1932, Train Accuracy: 0.5860\n"
     ]
    },
    {
     "name": "stdout",
     "output_type": "stream",
     "text": [
      "---> Train loss: 1.1932\n",
      "---> Train acc: 0.5860\n"
     ]
    },
    {
     "name": "stderr",
     "output_type": "stream",
     "text": [
      "Validate [14/50]: 100%|██████████| 13/13 [00:13<00:00,  1.05s/batch]\n",
      "2024-12-08 09:22:30,097 - Epoch 14 - Val Loss: 1.2978, Val Accuracy: 0.5404\n",
      "2024-12-08 09:22:30,098 - Starting Epoch 15/50\n"
     ]
    },
    {
     "name": "stdout",
     "output_type": "stream",
     "text": [
      "---> Valid loss: 1.2978\n",
      "---> Valid acc: 0.5404\n"
     ]
    },
    {
     "name": "stderr",
     "output_type": "stream",
     "text": [
      "Training [15/50]: 100%|██████████| 150/150 [02:40<00:00,  1.07s/batch]\n",
      "2024-12-08 09:25:10,514 - Epoch 15 - Train Loss: 1.2051, Train Accuracy: 0.5825\n"
     ]
    },
    {
     "name": "stdout",
     "output_type": "stream",
     "text": [
      "---> Train loss: 1.2051\n",
      "---> Train acc: 0.5825\n"
     ]
    },
    {
     "name": "stderr",
     "output_type": "stream",
     "text": [
      "Validate [15/50]: 100%|██████████| 13/13 [00:13<00:00,  1.05s/batch]\n",
      "2024-12-08 09:25:24,177 - Epoch 15 - Val Loss: 1.2572, Val Accuracy: 0.5639\n",
      "2024-12-08 09:25:24,178 - Starting Epoch 16/50\n"
     ]
    },
    {
     "name": "stdout",
     "output_type": "stream",
     "text": [
      "---> Valid loss: 1.2572\n",
      "---> Valid acc: 0.5639\n"
     ]
    },
    {
     "name": "stderr",
     "output_type": "stream",
     "text": [
      "Training [16/50]: 100%|██████████| 150/150 [02:43<00:00,  1.09s/batch]\n",
      "2024-12-08 09:28:07,557 - Epoch 16 - Train Loss: 1.2166, Train Accuracy: 0.5811\n"
     ]
    },
    {
     "name": "stdout",
     "output_type": "stream",
     "text": [
      "---> Train loss: 1.2166\n",
      "---> Train acc: 0.5811\n"
     ]
    },
    {
     "name": "stderr",
     "output_type": "stream",
     "text": [
      "Validate [16/50]: 100%|██████████| 13/13 [00:13<00:00,  1.04s/batch]\n",
      "2024-12-08 09:28:21,102 - Epoch 16 - Val Loss: 1.3223, Val Accuracy: 0.5084\n",
      "2024-12-08 09:28:21,104 - Starting Epoch 17/50\n"
     ]
    },
    {
     "name": "stdout",
     "output_type": "stream",
     "text": [
      "---> Valid loss: 1.3223\n",
      "---> Valid acc: 0.5084\n"
     ]
    },
    {
     "name": "stderr",
     "output_type": "stream",
     "text": [
      "Training [17/50]: 100%|██████████| 150/150 [02:42<00:00,  1.08s/batch]\n",
      "2024-12-08 09:31:03,625 - Epoch 17 - Train Loss: 1.2107, Train Accuracy: 0.5792\n"
     ]
    },
    {
     "name": "stdout",
     "output_type": "stream",
     "text": [
      "---> Train loss: 1.2107\n",
      "---> Train acc: 0.5792\n"
     ]
    },
    {
     "name": "stderr",
     "output_type": "stream",
     "text": [
      "Validate [17/50]: 100%|██████████| 13/13 [00:13<00:00,  1.03s/batch]\n",
      "2024-12-08 09:31:17,070 - Epoch 17 - Val Loss: 1.1762, Val Accuracy: 0.5761\n"
     ]
    },
    {
     "name": "stdout",
     "output_type": "stream",
     "text": [
      "---> Valid loss: 1.1762\n",
      "---> Valid acc: 0.5761\n"
     ]
    },
    {
     "name": "stderr",
     "output_type": "stream",
     "text": [
      "2024-12-08 09:31:17,279 - Model saved at /kaggle/working/models/unet_epoch17.pth\n",
      "2024-12-08 09:31:17,280 - Starting Epoch 18/50\n"
     ]
    },
    {
     "name": "stdout",
     "output_type": "stream",
     "text": [
      "Model is saved to: /kaggle/working/models/unet_epoch17.pth\n"
     ]
    },
    {
     "name": "stderr",
     "output_type": "stream",
     "text": [
      "Training [18/50]: 100%|██████████| 150/150 [02:42<00:00,  1.08s/batch]\n",
      "2024-12-08 09:33:59,474 - Epoch 18 - Train Loss: 1.1742, Train Accuracy: 0.5908\n"
     ]
    },
    {
     "name": "stdout",
     "output_type": "stream",
     "text": [
      "---> Train loss: 1.1742\n",
      "---> Train acc: 0.5908\n"
     ]
    },
    {
     "name": "stderr",
     "output_type": "stream",
     "text": [
      "Validate [18/50]: 100%|██████████| 13/13 [00:13<00:00,  1.05s/batch]\n",
      "2024-12-08 09:34:13,086 - Epoch 18 - Val Loss: 1.2760, Val Accuracy: 0.5284\n",
      "2024-12-08 09:34:13,088 - Starting Epoch 19/50\n"
     ]
    },
    {
     "name": "stdout",
     "output_type": "stream",
     "text": [
      "---> Valid loss: 1.2760\n",
      "---> Valid acc: 0.5284\n"
     ]
    },
    {
     "name": "stderr",
     "output_type": "stream",
     "text": [
      "Training [19/50]: 100%|██████████| 150/150 [02:41<00:00,  1.08s/batch]\n",
      "2024-12-08 09:36:55,109 - Epoch 19 - Train Loss: 1.1770, Train Accuracy: 0.5903\n"
     ]
    },
    {
     "name": "stdout",
     "output_type": "stream",
     "text": [
      "---> Train loss: 1.1770\n",
      "---> Train acc: 0.5903\n"
     ]
    },
    {
     "name": "stderr",
     "output_type": "stream",
     "text": [
      "Validate [19/50]: 100%|██████████| 13/13 [00:14<00:00,  1.08s/batch]\n",
      "2024-12-08 09:37:09,161 - Epoch 19 - Val Loss: 1.3842, Val Accuracy: 0.5229\n",
      "2024-12-08 09:37:09,162 - Starting Epoch 20/50\n"
     ]
    },
    {
     "name": "stdout",
     "output_type": "stream",
     "text": [
      "---> Valid loss: 1.3842\n",
      "---> Valid acc: 0.5229\n"
     ]
    },
    {
     "name": "stderr",
     "output_type": "stream",
     "text": [
      "Training [20/50]: 100%|██████████| 150/150 [02:43<00:00,  1.09s/batch]\n",
      "2024-12-08 09:39:52,269 - Epoch 20 - Train Loss: 1.1655, Train Accuracy: 0.5954\n"
     ]
    },
    {
     "name": "stdout",
     "output_type": "stream",
     "text": [
      "---> Train loss: 1.1655\n",
      "---> Train acc: 0.5954\n"
     ]
    },
    {
     "name": "stderr",
     "output_type": "stream",
     "text": [
      "Validate [20/50]: 100%|██████████| 13/13 [00:13<00:00,  1.03s/batch]\n",
      "2024-12-08 09:40:05,742 - Epoch 20 - Val Loss: 1.1733, Val Accuracy: 0.5747\n"
     ]
    },
    {
     "name": "stdout",
     "output_type": "stream",
     "text": [
      "---> Valid loss: 1.1733\n",
      "---> Valid acc: 0.5747\n",
      "Model is saved to: /kaggle/working/models/unet_epoch20.pth\n"
     ]
    },
    {
     "name": "stderr",
     "output_type": "stream",
     "text": [
      "2024-12-08 09:40:05,943 - Model saved at /kaggle/working/models/unet_epoch20.pth\n",
      "2024-12-08 09:40:05,945 - Starting Epoch 21/50\n",
      "Training [21/50]: 100%|██████████| 150/150 [02:41<00:00,  1.08s/batch]\n",
      "2024-12-08 09:42:47,664 - Epoch 21 - Train Loss: 1.1565, Train Accuracy: 0.5993\n"
     ]
    },
    {
     "name": "stdout",
     "output_type": "stream",
     "text": [
      "---> Train loss: 1.1565\n",
      "---> Train acc: 0.5993\n"
     ]
    },
    {
     "name": "stderr",
     "output_type": "stream",
     "text": [
      "Validate [21/50]: 100%|██████████| 13/13 [00:14<00:00,  1.11s/batch]\n",
      "2024-12-08 09:43:02,049 - Epoch 21 - Val Loss: 1.2066, Val Accuracy: 0.5671\n",
      "2024-12-08 09:43:02,051 - Starting Epoch 22/50\n"
     ]
    },
    {
     "name": "stdout",
     "output_type": "stream",
     "text": [
      "---> Valid loss: 1.2066\n",
      "---> Valid acc: 0.5671\n"
     ]
    },
    {
     "name": "stderr",
     "output_type": "stream",
     "text": [
      "Training [22/50]: 100%|██████████| 150/150 [02:42<00:00,  1.09s/batch]\n",
      "2024-12-08 09:45:45,013 - Epoch 22 - Train Loss: 1.1523, Train Accuracy: 0.5972\n"
     ]
    },
    {
     "name": "stdout",
     "output_type": "stream",
     "text": [
      "---> Train loss: 1.1523\n",
      "---> Train acc: 0.5972\n"
     ]
    },
    {
     "name": "stderr",
     "output_type": "stream",
     "text": [
      "Validate [22/50]: 100%|██████████| 13/13 [00:13<00:00,  1.06s/batch]\n",
      "2024-12-08 09:45:58,832 - Epoch 22 - Val Loss: 1.2119, Val Accuracy: 0.5611\n",
      "2024-12-08 09:45:58,833 - Starting Epoch 23/50\n"
     ]
    },
    {
     "name": "stdout",
     "output_type": "stream",
     "text": [
      "---> Valid loss: 1.2119\n",
      "---> Valid acc: 0.5611\n"
     ]
    },
    {
     "name": "stderr",
     "output_type": "stream",
     "text": [
      "Training [23/50]: 100%|██████████| 150/150 [02:40<00:00,  1.07s/batch]\n",
      "2024-12-08 09:48:39,454 - Epoch 23 - Train Loss: 1.1534, Train Accuracy: 0.5966\n"
     ]
    },
    {
     "name": "stdout",
     "output_type": "stream",
     "text": [
      "---> Train loss: 1.1534\n",
      "---> Train acc: 0.5966\n"
     ]
    },
    {
     "name": "stderr",
     "output_type": "stream",
     "text": [
      "Validate [23/50]: 100%|██████████| 13/13 [00:13<00:00,  1.07s/batch]\n",
      "2024-12-08 09:48:53,447 - Epoch 23 - Val Loss: 1.2386, Val Accuracy: 0.5545\n",
      "2024-12-08 09:48:53,448 - Starting Epoch 24/50\n"
     ]
    },
    {
     "name": "stdout",
     "output_type": "stream",
     "text": [
      "---> Valid loss: 1.2386\n",
      "---> Valid acc: 0.5545\n"
     ]
    },
    {
     "name": "stderr",
     "output_type": "stream",
     "text": [
      "Training [24/50]: 100%|██████████| 150/150 [02:44<00:00,  1.09s/batch]\n",
      "2024-12-08 09:51:37,517 - Epoch 24 - Train Loss: 1.1304, Train Accuracy: 0.6063\n"
     ]
    },
    {
     "name": "stdout",
     "output_type": "stream",
     "text": [
      "---> Train loss: 1.1304\n",
      "---> Train acc: 0.6063\n"
     ]
    },
    {
     "name": "stderr",
     "output_type": "stream",
     "text": [
      "Validate [24/50]: 100%|██████████| 13/13 [00:13<00:00,  1.05s/batch]\n",
      "2024-12-08 09:51:51,183 - Epoch 24 - Val Loss: 1.1829, Val Accuracy: 0.5656\n",
      "2024-12-08 09:51:51,185 - Starting Epoch 25/50\n"
     ]
    },
    {
     "name": "stdout",
     "output_type": "stream",
     "text": [
      "---> Valid loss: 1.1829\n",
      "---> Valid acc: 0.5656\n"
     ]
    },
    {
     "name": "stderr",
     "output_type": "stream",
     "text": [
      "Training [25/50]: 100%|██████████| 150/150 [02:43<00:00,  1.09s/batch]\n",
      "2024-12-08 09:54:34,232 - Epoch 25 - Train Loss: 1.1552, Train Accuracy: 0.5959\n"
     ]
    },
    {
     "name": "stdout",
     "output_type": "stream",
     "text": [
      "---> Train loss: 1.1552\n",
      "---> Train acc: 0.5959\n"
     ]
    },
    {
     "name": "stderr",
     "output_type": "stream",
     "text": [
      "Validate [25/50]: 100%|██████████| 13/13 [00:13<00:00,  1.07s/batch]\n",
      "2024-12-08 09:54:48,179 - Epoch 25 - Val Loss: 1.1751, Val Accuracy: 0.5771\n",
      "2024-12-08 09:54:48,181 - Starting Epoch 26/50\n"
     ]
    },
    {
     "name": "stdout",
     "output_type": "stream",
     "text": [
      "---> Valid loss: 1.1751\n",
      "---> Valid acc: 0.5771\n"
     ]
    },
    {
     "name": "stderr",
     "output_type": "stream",
     "text": [
      "Training [26/50]: 100%|██████████| 150/150 [02:42<00:00,  1.08s/batch]\n",
      "2024-12-08 09:57:30,725 - Epoch 26 - Train Loss: 1.1398, Train Accuracy: 0.6024\n"
     ]
    },
    {
     "name": "stdout",
     "output_type": "stream",
     "text": [
      "---> Train loss: 1.1398\n",
      "---> Train acc: 0.6024\n"
     ]
    },
    {
     "name": "stderr",
     "output_type": "stream",
     "text": [
      "Validate [26/50]: 100%|██████████| 13/13 [00:13<00:00,  1.04s/batch]\n",
      "2024-12-08 09:57:44,324 - Epoch 26 - Val Loss: 1.1560, Val Accuracy: 0.5843\n"
     ]
    },
    {
     "name": "stdout",
     "output_type": "stream",
     "text": [
      "---> Valid loss: 1.1560\n",
      "---> Valid acc: 0.5843\n",
      "Model is saved to: /kaggle/working/models/unet_epoch26.pth\n"
     ]
    },
    {
     "name": "stderr",
     "output_type": "stream",
     "text": [
      "2024-12-08 09:57:44,526 - Model saved at /kaggle/working/models/unet_epoch26.pth\n",
      "2024-12-08 09:57:44,527 - Starting Epoch 27/50\n",
      "Training [27/50]: 100%|██████████| 150/150 [02:42<00:00,  1.08s/batch]\n",
      "2024-12-08 10:00:26,627 - Epoch 27 - Train Loss: 1.1143, Train Accuracy: 0.6097\n"
     ]
    },
    {
     "name": "stdout",
     "output_type": "stream",
     "text": [
      "---> Train loss: 1.1143\n",
      "---> Train acc: 0.6097\n"
     ]
    },
    {
     "name": "stderr",
     "output_type": "stream",
     "text": [
      "Validate [27/50]: 100%|██████████| 13/13 [00:14<00:00,  1.09s/batch]\n",
      "2024-12-08 10:00:40,876 - Epoch 27 - Val Loss: 1.1556, Val Accuracy: 0.5782\n"
     ]
    },
    {
     "name": "stdout",
     "output_type": "stream",
     "text": [
      "---> Valid loss: 1.1556\n",
      "---> Valid acc: 0.5782\n",
      "Model is saved to: /kaggle/working/models/unet_epoch27.pth\n"
     ]
    },
    {
     "name": "stderr",
     "output_type": "stream",
     "text": [
      "2024-12-08 10:00:41,076 - Model saved at /kaggle/working/models/unet_epoch27.pth\n",
      "2024-12-08 10:00:41,078 - Starting Epoch 28/50\n",
      "Training [28/50]: 100%|██████████| 150/150 [02:41<00:00,  1.08s/batch]\n",
      "2024-12-08 10:03:22,539 - Epoch 28 - Train Loss: 1.1355, Train Accuracy: 0.6030\n"
     ]
    },
    {
     "name": "stdout",
     "output_type": "stream",
     "text": [
      "---> Train loss: 1.1355\n",
      "---> Train acc: 0.6030\n"
     ]
    },
    {
     "name": "stderr",
     "output_type": "stream",
     "text": [
      "Validate [28/50]: 100%|██████████| 13/13 [00:13<00:00,  1.04s/batch]\n",
      "2024-12-08 10:03:36,129 - Epoch 28 - Val Loss: 1.2575, Val Accuracy: 0.5402\n",
      "2024-12-08 10:03:36,130 - Starting Epoch 29/50\n"
     ]
    },
    {
     "name": "stdout",
     "output_type": "stream",
     "text": [
      "---> Valid loss: 1.2575\n",
      "---> Valid acc: 0.5402\n"
     ]
    },
    {
     "name": "stderr",
     "output_type": "stream",
     "text": [
      "Training [29/50]: 100%|██████████| 150/150 [02:41<00:00,  1.08s/batch]\n",
      "2024-12-08 10:06:18,042 - Epoch 29 - Train Loss: 1.1239, Train Accuracy: 0.6066\n"
     ]
    },
    {
     "name": "stdout",
     "output_type": "stream",
     "text": [
      "---> Train loss: 1.1239\n",
      "---> Train acc: 0.6066\n"
     ]
    },
    {
     "name": "stderr",
     "output_type": "stream",
     "text": [
      "Validate [29/50]: 100%|██████████| 13/13 [00:13<00:00,  1.05s/batch]\n",
      "2024-12-08 10:06:31,764 - Epoch 29 - Val Loss: 1.1939, Val Accuracy: 0.5611\n",
      "2024-12-08 10:06:31,765 - Starting Epoch 30/50\n"
     ]
    },
    {
     "name": "stdout",
     "output_type": "stream",
     "text": [
      "---> Valid loss: 1.1939\n",
      "---> Valid acc: 0.5611\n"
     ]
    },
    {
     "name": "stderr",
     "output_type": "stream",
     "text": [
      "Training [30/50]: 100%|██████████| 150/150 [02:42<00:00,  1.08s/batch]\n",
      "2024-12-08 10:09:14,273 - Epoch 30 - Train Loss: 1.1230, Train Accuracy: 0.6073\n"
     ]
    },
    {
     "name": "stdout",
     "output_type": "stream",
     "text": [
      "---> Train loss: 1.1230\n",
      "---> Train acc: 0.6073\n"
     ]
    },
    {
     "name": "stderr",
     "output_type": "stream",
     "text": [
      "Validate [30/50]: 100%|██████████| 13/13 [00:13<00:00,  1.04s/batch]\n",
      "2024-12-08 10:09:27,769 - Epoch 30 - Val Loss: 1.2457, Val Accuracy: 0.5451\n",
      "2024-12-08 10:09:27,771 - Starting Epoch 31/50\n"
     ]
    },
    {
     "name": "stdout",
     "output_type": "stream",
     "text": [
      "---> Valid loss: 1.2457\n",
      "---> Valid acc: 0.5451\n"
     ]
    },
    {
     "name": "stderr",
     "output_type": "stream",
     "text": [
      "Training [31/50]: 100%|██████████| 150/150 [02:44<00:00,  1.10s/batch]\n",
      "2024-12-08 10:12:12,550 - Epoch 31 - Train Loss: 1.1264, Train Accuracy: 0.6052\n"
     ]
    },
    {
     "name": "stdout",
     "output_type": "stream",
     "text": [
      "---> Train loss: 1.1264\n",
      "---> Train acc: 0.6052\n"
     ]
    },
    {
     "name": "stderr",
     "output_type": "stream",
     "text": [
      "Validate [31/50]: 100%|██████████| 13/13 [00:13<00:00,  1.04s/batch]\n",
      "2024-12-08 10:12:26,143 - Epoch 31 - Val Loss: 1.1961, Val Accuracy: 0.5724\n",
      "2024-12-08 10:12:26,145 - Starting Epoch 32/50\n"
     ]
    },
    {
     "name": "stdout",
     "output_type": "stream",
     "text": [
      "---> Valid loss: 1.1961\n",
      "---> Valid acc: 0.5724\n"
     ]
    },
    {
     "name": "stderr",
     "output_type": "stream",
     "text": [
      "Training [32/50]: 100%|██████████| 150/150 [02:40<00:00,  1.07s/batch]\n",
      "2024-12-08 10:15:06,401 - Epoch 32 - Train Loss: 1.1082, Train Accuracy: 0.6099\n"
     ]
    },
    {
     "name": "stdout",
     "output_type": "stream",
     "text": [
      "---> Train loss: 1.1082\n",
      "---> Train acc: 0.6099\n"
     ]
    },
    {
     "name": "stderr",
     "output_type": "stream",
     "text": [
      "Validate [32/50]: 100%|██████████| 13/13 [00:13<00:00,  1.05s/batch]\n",
      "2024-12-08 10:15:20,035 - Epoch 32 - Val Loss: 1.2166, Val Accuracy: 0.5549\n",
      "2024-12-08 10:15:20,036 - Starting Epoch 33/50\n"
     ]
    },
    {
     "name": "stdout",
     "output_type": "stream",
     "text": [
      "---> Valid loss: 1.2166\n",
      "---> Valid acc: 0.5549\n"
     ]
    },
    {
     "name": "stderr",
     "output_type": "stream",
     "text": [
      "Training [33/50]: 100%|██████████| 150/150 [02:41<00:00,  1.08s/batch]\n",
      "2024-12-08 10:18:01,625 - Epoch 33 - Train Loss: 1.1093, Train Accuracy: 0.6105\n"
     ]
    },
    {
     "name": "stdout",
     "output_type": "stream",
     "text": [
      "---> Train loss: 1.1093\n",
      "---> Train acc: 0.6105\n"
     ]
    },
    {
     "name": "stderr",
     "output_type": "stream",
     "text": [
      "Validate [33/50]: 100%|██████████| 13/13 [00:13<00:00,  1.04s/batch]\n",
      "2024-12-08 10:18:15,162 - Epoch 33 - Val Loss: 1.2939, Val Accuracy: 0.5248\n",
      "2024-12-08 10:18:15,163 - Starting Epoch 34/50\n"
     ]
    },
    {
     "name": "stdout",
     "output_type": "stream",
     "text": [
      "---> Valid loss: 1.2939\n",
      "---> Valid acc: 0.5248\n"
     ]
    },
    {
     "name": "stderr",
     "output_type": "stream",
     "text": [
      "Training [34/50]: 100%|██████████| 150/150 [02:43<00:00,  1.09s/batch]\n",
      "2024-12-08 10:20:58,980 - Epoch 34 - Train Loss: 1.1450, Train Accuracy: 0.5997\n"
     ]
    },
    {
     "name": "stdout",
     "output_type": "stream",
     "text": [
      "---> Train loss: 1.1450\n",
      "---> Train acc: 0.5997\n"
     ]
    },
    {
     "name": "stderr",
     "output_type": "stream",
     "text": [
      "Validate [34/50]: 100%|██████████| 13/13 [00:14<00:00,  1.09s/batch]\n",
      "2024-12-08 10:21:13,105 - Epoch 34 - Val Loss: 1.1997, Val Accuracy: 0.5571\n",
      "2024-12-08 10:21:13,106 - Starting Epoch 35/50\n"
     ]
    },
    {
     "name": "stdout",
     "output_type": "stream",
     "text": [
      "---> Valid loss: 1.1997\n",
      "---> Valid acc: 0.5571\n"
     ]
    },
    {
     "name": "stderr",
     "output_type": "stream",
     "text": [
      "Training [35/50]: 100%|██████████| 150/150 [02:39<00:00,  1.06s/batch]\n",
      "2024-12-08 10:23:52,830 - Epoch 35 - Train Loss: 1.1388, Train Accuracy: 0.6013\n"
     ]
    },
    {
     "name": "stdout",
     "output_type": "stream",
     "text": [
      "---> Train loss: 1.1388\n",
      "---> Train acc: 0.6013\n"
     ]
    },
    {
     "name": "stderr",
     "output_type": "stream",
     "text": [
      "Validate [35/50]: 100%|██████████| 13/13 [00:13<00:00,  1.06s/batch]\n",
      "2024-12-08 10:24:06,581 - Epoch 35 - Val Loss: 1.1964, Val Accuracy: 0.5638\n",
      "2024-12-08 10:24:06,583 - Starting Epoch 36/50\n"
     ]
    },
    {
     "name": "stdout",
     "output_type": "stream",
     "text": [
      "---> Valid loss: 1.1964\n",
      "---> Valid acc: 0.5638\n"
     ]
    },
    {
     "name": "stderr",
     "output_type": "stream",
     "text": [
      "Training [36/50]: 100%|██████████| 150/150 [02:43<00:00,  1.09s/batch]\n",
      "2024-12-08 10:26:49,727 - Epoch 36 - Train Loss: 1.1151, Train Accuracy: 0.6074\n"
     ]
    },
    {
     "name": "stdout",
     "output_type": "stream",
     "text": [
      "---> Train loss: 1.1151\n",
      "---> Train acc: 0.6074\n"
     ]
    },
    {
     "name": "stderr",
     "output_type": "stream",
     "text": [
      "Validate [36/50]: 100%|██████████| 13/13 [00:13<00:00,  1.08s/batch]\n",
      "2024-12-08 10:27:03,730 - Epoch 36 - Val Loss: 1.1959, Val Accuracy: 0.5591\n",
      "2024-12-08 10:27:03,731 - Starting Epoch 37/50\n"
     ]
    },
    {
     "name": "stdout",
     "output_type": "stream",
     "text": [
      "---> Valid loss: 1.1959\n",
      "---> Valid acc: 0.5591\n"
     ]
    },
    {
     "name": "stderr",
     "output_type": "stream",
     "text": [
      "Training [37/50]: 100%|██████████| 150/150 [02:44<00:00,  1.10s/batch]\n",
      "2024-12-08 10:29:48,299 - Epoch 37 - Train Loss: 1.1021, Train Accuracy: 0.6109\n"
     ]
    },
    {
     "name": "stdout",
     "output_type": "stream",
     "text": [
      "---> Train loss: 1.1021\n",
      "---> Train acc: 0.6109\n"
     ]
    },
    {
     "name": "stderr",
     "output_type": "stream",
     "text": [
      "Validate [37/50]: 100%|██████████| 13/13 [00:13<00:00,  1.03s/batch]\n",
      "2024-12-08 10:30:01,690 - Epoch 37 - Val Loss: 1.2234, Val Accuracy: 0.5557\n",
      "2024-12-08 10:30:01,691 - Starting Epoch 38/50\n"
     ]
    },
    {
     "name": "stdout",
     "output_type": "stream",
     "text": [
      "---> Valid loss: 1.2234\n",
      "---> Valid acc: 0.5557\n"
     ]
    },
    {
     "name": "stderr",
     "output_type": "stream",
     "text": [
      "Training [38/50]: 100%|██████████| 150/150 [02:41<00:00,  1.08s/batch]\n",
      "2024-12-08 10:32:43,109 - Epoch 38 - Train Loss: 1.1076, Train Accuracy: 0.6106\n"
     ]
    },
    {
     "name": "stdout",
     "output_type": "stream",
     "text": [
      "---> Train loss: 1.1076\n",
      "---> Train acc: 0.6106\n"
     ]
    },
    {
     "name": "stderr",
     "output_type": "stream",
     "text": [
      "Validate [38/50]: 100%|██████████| 13/13 [00:13<00:00,  1.07s/batch]\n",
      "2024-12-08 10:32:57,005 - Epoch 38 - Val Loss: 1.1284, Val Accuracy: 0.5827\n"
     ]
    },
    {
     "name": "stdout",
     "output_type": "stream",
     "text": [
      "---> Valid loss: 1.1284\n",
      "---> Valid acc: 0.5827\n"
     ]
    },
    {
     "name": "stderr",
     "output_type": "stream",
     "text": [
      "2024-12-08 10:32:57,239 - Model saved at /kaggle/working/models/unet_epoch38.pth\n",
      "2024-12-08 10:32:57,240 - Starting Epoch 39/50\n"
     ]
    },
    {
     "name": "stdout",
     "output_type": "stream",
     "text": [
      "Model is saved to: /kaggle/working/models/unet_epoch38.pth\n"
     ]
    },
    {
     "name": "stderr",
     "output_type": "stream",
     "text": [
      "Training [39/50]: 100%|██████████| 150/150 [02:42<00:00,  1.08s/batch]\n",
      "2024-12-08 10:35:39,696 - Epoch 39 - Train Loss: 1.1055, Train Accuracy: 0.6100\n"
     ]
    },
    {
     "name": "stdout",
     "output_type": "stream",
     "text": [
      "---> Train loss: 1.1055\n",
      "---> Train acc: 0.6100\n"
     ]
    },
    {
     "name": "stderr",
     "output_type": "stream",
     "text": [
      "Validate [39/50]: 100%|██████████| 13/13 [00:13<00:00,  1.05s/batch]\n",
      "2024-12-08 10:35:53,362 - Epoch 39 - Val Loss: 1.1176, Val Accuracy: 0.5874\n"
     ]
    },
    {
     "name": "stdout",
     "output_type": "stream",
     "text": [
      "---> Valid loss: 1.1176\n",
      "---> Valid acc: 0.5874\n"
     ]
    },
    {
     "name": "stderr",
     "output_type": "stream",
     "text": [
      "2024-12-08 10:35:53,570 - Model saved at /kaggle/working/models/unet_epoch39.pth\n",
      "2024-12-08 10:35:53,571 - Starting Epoch 40/50\n"
     ]
    },
    {
     "name": "stdout",
     "output_type": "stream",
     "text": [
      "Model is saved to: /kaggle/working/models/unet_epoch39.pth\n"
     ]
    },
    {
     "name": "stderr",
     "output_type": "stream",
     "text": [
      "Training [40/50]: 100%|██████████| 150/150 [02:43<00:00,  1.09s/batch]\n",
      "2024-12-08 10:38:37,065 - Epoch 40 - Train Loss: 1.1022, Train Accuracy: 0.6115\n"
     ]
    },
    {
     "name": "stdout",
     "output_type": "stream",
     "text": [
      "---> Train loss: 1.1022\n",
      "---> Train acc: 0.6115\n"
     ]
    },
    {
     "name": "stderr",
     "output_type": "stream",
     "text": [
      "Validate [40/50]: 100%|██████████| 13/13 [00:14<00:00,  1.09s/batch]\n",
      "2024-12-08 10:38:51,259 - Epoch 40 - Val Loss: 1.1886, Val Accuracy: 0.5708\n",
      "2024-12-08 10:38:51,260 - Starting Epoch 41/50\n"
     ]
    },
    {
     "name": "stdout",
     "output_type": "stream",
     "text": [
      "---> Valid loss: 1.1886\n",
      "---> Valid acc: 0.5708\n"
     ]
    },
    {
     "name": "stderr",
     "output_type": "stream",
     "text": [
      "Training [41/50]: 100%|██████████| 150/150 [02:43<00:00,  1.09s/batch]\n",
      "2024-12-08 10:41:34,513 - Epoch 41 - Train Loss: 1.0974, Train Accuracy: 0.6128\n"
     ]
    },
    {
     "name": "stdout",
     "output_type": "stream",
     "text": [
      "---> Train loss: 1.0974\n",
      "---> Train acc: 0.6128\n"
     ]
    },
    {
     "name": "stderr",
     "output_type": "stream",
     "text": [
      "Validate [41/50]: 100%|██████████| 13/13 [00:13<00:00,  1.05s/batch]\n",
      "2024-12-08 10:41:48,195 - Epoch 41 - Val Loss: 1.1515, Val Accuracy: 0.5794\n",
      "2024-12-08 10:41:48,196 - Starting Epoch 42/50\n"
     ]
    },
    {
     "name": "stdout",
     "output_type": "stream",
     "text": [
      "---> Valid loss: 1.1515\n",
      "---> Valid acc: 0.5794\n"
     ]
    },
    {
     "name": "stderr",
     "output_type": "stream",
     "text": [
      "Training [42/50]: 100%|██████████| 150/150 [02:43<00:00,  1.09s/batch]\n",
      "2024-12-08 10:44:31,670 - Epoch 42 - Train Loss: 1.0865, Train Accuracy: 0.6187\n"
     ]
    },
    {
     "name": "stdout",
     "output_type": "stream",
     "text": [
      "---> Train loss: 1.0865\n",
      "---> Train acc: 0.6187\n"
     ]
    },
    {
     "name": "stderr",
     "output_type": "stream",
     "text": [
      "Validate [42/50]: 100%|██████████| 13/13 [00:14<00:00,  1.08s/batch]\n",
      "2024-12-08 10:44:45,722 - Epoch 42 - Val Loss: 1.1203, Val Accuracy: 0.5920\n",
      "2024-12-08 10:44:45,723 - Starting Epoch 43/50\n"
     ]
    },
    {
     "name": "stdout",
     "output_type": "stream",
     "text": [
      "---> Valid loss: 1.1203\n",
      "---> Valid acc: 0.5920\n"
     ]
    },
    {
     "name": "stderr",
     "output_type": "stream",
     "text": [
      "Training [43/50]: 100%|██████████| 150/150 [02:40<00:00,  1.07s/batch]\n",
      "2024-12-08 10:47:26,663 - Epoch 43 - Train Loss: 1.0866, Train Accuracy: 0.6172\n"
     ]
    },
    {
     "name": "stdout",
     "output_type": "stream",
     "text": [
      "---> Train loss: 1.0866\n",
      "---> Train acc: 0.6172\n"
     ]
    },
    {
     "name": "stderr",
     "output_type": "stream",
     "text": [
      "Validate [43/50]: 100%|██████████| 13/13 [00:13<00:00,  1.03s/batch]\n",
      "2024-12-08 10:47:40,108 - Epoch 43 - Val Loss: 1.1601, Val Accuracy: 0.5755\n",
      "2024-12-08 10:47:40,109 - Starting Epoch 44/50\n"
     ]
    },
    {
     "name": "stdout",
     "output_type": "stream",
     "text": [
      "---> Valid loss: 1.1601\n",
      "---> Valid acc: 0.5755\n"
     ]
    },
    {
     "name": "stderr",
     "output_type": "stream",
     "text": [
      "Training [44/50]: 100%|██████████| 150/150 [02:43<00:00,  1.09s/batch]\n",
      "2024-12-08 10:50:23,854 - Epoch 44 - Train Loss: 1.0840, Train Accuracy: 0.6182\n"
     ]
    },
    {
     "name": "stdout",
     "output_type": "stream",
     "text": [
      "---> Train loss: 1.0840\n",
      "---> Train acc: 0.6182\n"
     ]
    },
    {
     "name": "stderr",
     "output_type": "stream",
     "text": [
      "Validate [44/50]: 100%|██████████| 13/13 [00:14<00:00,  1.10s/batch]\n",
      "2024-12-08 10:50:38,124 - Epoch 44 - Val Loss: 1.1714, Val Accuracy: 0.5667\n",
      "2024-12-08 10:50:38,125 - Starting Epoch 45/50\n"
     ]
    },
    {
     "name": "stdout",
     "output_type": "stream",
     "text": [
      "---> Valid loss: 1.1714\n",
      "---> Valid acc: 0.5667\n"
     ]
    },
    {
     "name": "stderr",
     "output_type": "stream",
     "text": [
      "Training [45/50]: 100%|██████████| 150/150 [02:41<00:00,  1.07s/batch]\n",
      "2024-12-08 10:53:19,376 - Epoch 45 - Train Loss: 1.0871, Train Accuracy: 0.6176\n"
     ]
    },
    {
     "name": "stdout",
     "output_type": "stream",
     "text": [
      "---> Train loss: 1.0871\n",
      "---> Train acc: 0.6176\n"
     ]
    },
    {
     "name": "stderr",
     "output_type": "stream",
     "text": [
      "Validate [45/50]: 100%|██████████| 13/13 [00:13<00:00,  1.05s/batch]\n",
      "2024-12-08 10:53:32,993 - Epoch 45 - Val Loss: 1.1852, Val Accuracy: 0.5677\n",
      "2024-12-08 10:53:32,994 - Starting Epoch 46/50\n"
     ]
    },
    {
     "name": "stdout",
     "output_type": "stream",
     "text": [
      "---> Valid loss: 1.1852\n",
      "---> Valid acc: 0.5677\n"
     ]
    },
    {
     "name": "stderr",
     "output_type": "stream",
     "text": [
      "Training [46/50]: 100%|██████████| 150/150 [02:41<00:00,  1.07s/batch]\n",
      "2024-12-08 10:56:14,125 - Epoch 46 - Train Loss: 1.0761, Train Accuracy: 0.6212\n"
     ]
    },
    {
     "name": "stdout",
     "output_type": "stream",
     "text": [
      "---> Train loss: 1.0761\n",
      "---> Train acc: 0.6212\n"
     ]
    },
    {
     "name": "stderr",
     "output_type": "stream",
     "text": [
      "Validate [46/50]: 100%|██████████| 13/13 [00:13<00:00,  1.06s/batch]\n",
      "2024-12-08 10:56:27,869 - Epoch 46 - Val Loss: 1.2496, Val Accuracy: 0.5393\n",
      "2024-12-08 10:56:27,870 - Starting Epoch 47/50\n"
     ]
    },
    {
     "name": "stdout",
     "output_type": "stream",
     "text": [
      "---> Valid loss: 1.2496\n",
      "---> Valid acc: 0.5393\n"
     ]
    },
    {
     "name": "stderr",
     "output_type": "stream",
     "text": [
      "Training [47/50]: 100%|██████████| 150/150 [02:42<00:00,  1.09s/batch]\n",
      "2024-12-08 10:59:10,739 - Epoch 47 - Train Loss: 1.0732, Train Accuracy: 0.6222\n"
     ]
    },
    {
     "name": "stdout",
     "output_type": "stream",
     "text": [
      "---> Train loss: 1.0732\n",
      "---> Train acc: 0.6222\n"
     ]
    },
    {
     "name": "stderr",
     "output_type": "stream",
     "text": [
      "Validate [47/50]: 100%|██████████| 13/13 [00:13<00:00,  1.06s/batch]\n",
      "2024-12-08 10:59:24,594 - Epoch 47 - Val Loss: 1.1228, Val Accuracy: 0.5832\n",
      "2024-12-08 10:59:24,595 - Starting Epoch 48/50\n"
     ]
    },
    {
     "name": "stdout",
     "output_type": "stream",
     "text": [
      "---> Valid loss: 1.1228\n",
      "---> Valid acc: 0.5832\n"
     ]
    },
    {
     "name": "stderr",
     "output_type": "stream",
     "text": [
      "Training [48/50]: 100%|██████████| 150/150 [02:42<00:00,  1.08s/batch]\n",
      "2024-12-08 11:02:07,010 - Epoch 48 - Train Loss: 1.0825, Train Accuracy: 0.6196\n"
     ]
    },
    {
     "name": "stdout",
     "output_type": "stream",
     "text": [
      "---> Train loss: 1.0825\n",
      "---> Train acc: 0.6196\n"
     ]
    },
    {
     "name": "stderr",
     "output_type": "stream",
     "text": [
      "Validate [48/50]: 100%|██████████| 13/13 [00:13<00:00,  1.04s/batch]\n",
      "2024-12-08 11:02:20,612 - Epoch 48 - Val Loss: 1.1218, Val Accuracy: 0.5897\n",
      "2024-12-08 11:02:20,613 - Starting Epoch 49/50\n"
     ]
    },
    {
     "name": "stdout",
     "output_type": "stream",
     "text": [
      "---> Valid loss: 1.1218\n",
      "---> Valid acc: 0.5897\n"
     ]
    },
    {
     "name": "stderr",
     "output_type": "stream",
     "text": [
      "Training [49/50]: 100%|██████████| 150/150 [02:40<00:00,  1.07s/batch]\n",
      "2024-12-08 11:05:01,073 - Epoch 49 - Train Loss: 1.0642, Train Accuracy: 0.6225\n"
     ]
    },
    {
     "name": "stdout",
     "output_type": "stream",
     "text": [
      "---> Train loss: 1.0642\n",
      "---> Train acc: 0.6225\n"
     ]
    },
    {
     "name": "stderr",
     "output_type": "stream",
     "text": [
      "Validate [49/50]: 100%|██████████| 13/13 [00:13<00:00,  1.07s/batch]\n",
      "2024-12-08 11:05:14,976 - Epoch 49 - Val Loss: 1.1276, Val Accuracy: 0.5905\n",
      "2024-12-08 11:05:14,978 - Starting Epoch 50/50\n"
     ]
    },
    {
     "name": "stdout",
     "output_type": "stream",
     "text": [
      "---> Valid loss: 1.1276\n",
      "---> Valid acc: 0.5905\n"
     ]
    },
    {
     "name": "stderr",
     "output_type": "stream",
     "text": [
      "Training [50/50]: 100%|██████████| 150/150 [02:40<00:00,  1.07s/batch]\n",
      "2024-12-08 11:07:55,883 - Epoch 50 - Train Loss: 1.0778, Train Accuracy: 0.6196\n"
     ]
    },
    {
     "name": "stdout",
     "output_type": "stream",
     "text": [
      "---> Train loss: 1.0778\n",
      "---> Train acc: 0.6196\n"
     ]
    },
    {
     "name": "stderr",
     "output_type": "stream",
     "text": [
      "Validate [50/50]: 100%|██████████| 13/13 [00:13<00:00,  1.04s/batch]\n",
      "2024-12-08 11:08:09,466 - Epoch 50 - Val Loss: 1.1324, Val Accuracy: 0.5871\n"
     ]
    },
    {
     "name": "stdout",
     "output_type": "stream",
     "text": [
      "---> Valid loss: 1.1324\n",
      "---> Valid acc: 0.5871\n"
     ]
    }
   ],
   "source": [
    "train_losses, val_losses, train_accuracy, val_accuracy = train_model(unet, train_loader, val_loader, criterion, optimizer, device, save_path, epochs=10)"
   ]
  },
  {
   "cell_type": "markdown",
   "metadata": {},
   "source": [
    "# 6. Visualize results"
   ]
  },
  {
   "cell_type": "code",
   "execution_count": null,
   "metadata": {},
   "outputs": [
    {
     "data": {
      "text/plain": [
       "Text(0.5, 1.0, 'Train Accuracy')"
      ]
     },
     "metadata": {},
     "output_type": "display_data"
    },
    {
     "data": {
      "image/png": "[encoded data removed]",
      "text/plain": [
       "<Figure size 1600x1600 with 4 Axes>"
      ]
     },
     "metadata": {},
     "output_type": "display_data"
    }
   ],
   "source": [
    "plt.figure(figsize=(16, 16))\n",
    "\n",
    "plt.subplot(2, 2, 1)\n",
    "plt.plot(train_losses)\n",
    "plt.xlabel('Epoch')\n",
    "plt.ylabel('Loss')\n",
    "plt.title(\"Train Loss\")\n",
    "\n",
    "plt.subplot(2, 2, 2)\n",
    "plt.plot(val_losses)\n",
    "plt.xlabel('Epoch')\n",
    "plt.ylabel('Loss')\n",
    "plt.title(\"Val Loss\")\n",
    "\n",
    "plt.subplot(2, 2, 3)\n",
    "plt.plot(train_accuracy)\n",
    "plt.xlabel('Epoch')\n",
    "plt.ylabel('Loss')\n",
    "plt.title(\"Train Accuracy\")\n",
    "\n",
    "plt.subplot(2, 2, 4)\n",
    "plt.plot(val_accuracy)\n",
    "plt.xlabel('Epoch')\n",
    "plt.ylabel('Loss')\n",
    "plt.title(\"Val Accuracy\")"
   ]
  },
  {
   "cell_type": "code",
   "execution_count": null,
   "metadata": {},
   "outputs": [],
   "source": [
    "def get_mask(model, image):\n",
    "    \"\"\"\n",
    "        model: UNet model\n",
    "        image: input image, size of (B, C, W, H)\n",
    "    \"\"\"\n",
    "    # Compute logit\n",
    "    model.eval()\n",
    "    mask_logit = model(image)\n",
    "    mask_logit = F.interpolate(mask_logit, size=(1024, 2048), mode='bilinear', align_corners=False)\n",
    "    print(mask_logit.shape)\n",
    "    mask_logit = mask_logit.permute(0, 2, 3, 1)\n",
    "    mask_pred = torch.argmax(mask_logit, dim = -1) # Get label\n",
    "    print(mask_pred.shape)\n",
    "    mask_pred = mask_pred.squeeze() # Remove batch\n",
    "    mask_pred = mask_pred.cpu().numpy()\n",
    "    print(mask_pred.shape)\n",
    "    \n",
    "    # Color mapping\n",
    "    rgb_mask = np.zeros((1024, 2048, 3), dtype=np.uint8)\n",
    "    for class_id in range(color_map.shape[0]):\n",
    "        rgb_mask[mask_pred == class_id] = color_map[class_id]\n",
    "\n",
    "    return rgb_mask"
   ]
  }
 ],
 "metadata": {
  "kernelspec": {
   "display_name": "Python 3",
   "language": "python",
   "name": "python3"
  },
  "language_info": {
   "codemirror_mode": {
    "name": "ipython",
    "version": 3
   },
   "file_extension": ".py",
   "mimetype": "text/x-python",
   "name": "python",
   "nbconvert_exporter": "python",
   "pygments_lexer": "ipython3",
   "version": "3.12.4"
  }
 },
 "nbformat": 4,
 "nbformat_minor": 2
}
