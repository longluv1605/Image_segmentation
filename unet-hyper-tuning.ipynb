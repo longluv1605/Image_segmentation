{
 "cells": [
  {
   "cell_type": "markdown",
   "metadata": {},
   "source": [
    "# 1. Import libs"
   ]
  },
  {
   "cell_type": "code",
   "execution_count": 1,
   "metadata": {
    "execution": {
     "iopub.execute_input": "2024-12-13T06:51:02.389867Z",
     "iopub.status.busy": "2024-12-13T06:51:02.389611Z",
     "iopub.status.idle": "2024-12-13T06:51:12.011168Z",
     "shell.execute_reply": "2024-12-13T06:51:12.010114Z",
     "shell.execute_reply.started": "2024-12-13T06:51:02.389837Z"
    },
    "trusted": true
   },
   "outputs": [
    {
     "name": "stdout",
     "output_type": "stream",
     "text": [
      "Requirement already satisfied: wandb in /opt/conda/lib/python3.10/site-packages (0.18.7)\n",
      "Requirement already satisfied: click!=8.0.0,>=7.1 in /opt/conda/lib/python3.10/site-packages (from wandb) (8.1.7)\n",
      "Requirement already satisfied: docker-pycreds>=0.4.0 in /opt/conda/lib/python3.10/site-packages (from wandb) (0.4.0)\n",
      "Requirement already satisfied: gitpython!=3.1.29,>=1.0.0 in /opt/conda/lib/python3.10/site-packages (from wandb) (3.1.43)\n",
      "Requirement already satisfied: platformdirs in /opt/conda/lib/python3.10/site-packages (from wandb) (3.11.0)\n",
      "Requirement already satisfied: protobuf!=4.21.0,!=5.28.0,<6,>=3.19.0 in /opt/conda/lib/python3.10/site-packages (from wandb) (3.20.3)\n",
      "Requirement already satisfied: psutil>=5.0.0 in /opt/conda/lib/python3.10/site-packages (from wandb) (5.9.3)\n",
      "Requirement already satisfied: pyyaml in /opt/conda/lib/python3.10/site-packages (from wandb) (6.0.2)\n",
      "Requirement already satisfied: requests<3,>=2.0.0 in /opt/conda/lib/python3.10/site-packages (from wandb) (2.32.3)\n",
      "Requirement already satisfied: sentry-sdk>=2.0.0 in /opt/conda/lib/python3.10/site-packages (from wandb) (2.19.0)\n",
      "Requirement already satisfied: setproctitle in /opt/conda/lib/python3.10/site-packages (from wandb) (1.3.4)\n",
      "Requirement already satisfied: setuptools in /opt/conda/lib/python3.10/site-packages (from wandb) (70.0.0)\n",
      "Requirement already satisfied: typing-extensions<5,>=4.4 in /opt/conda/lib/python3.10/site-packages (from wandb) (4.12.2)\n",
      "Requirement already satisfied: six>=1.4.0 in /opt/conda/lib/python3.10/site-packages (from docker-pycreds>=0.4.0->wandb) (1.16.0)\n",
      "Requirement already satisfied: gitdb<5,>=4.0.1 in /opt/conda/lib/python3.10/site-packages (from gitpython!=3.1.29,>=1.0.0->wandb) (4.0.11)\n",
      "Requirement already satisfied: charset-normalizer<4,>=2 in /opt/conda/lib/python3.10/site-packages (from requests<3,>=2.0.0->wandb) (3.3.2)\n",
      "Requirement already satisfied: idna<4,>=2.5 in /opt/conda/lib/python3.10/site-packages (from requests<3,>=2.0.0->wandb) (3.7)\n",
      "Requirement already satisfied: urllib3<3,>=1.21.1 in /opt/conda/lib/python3.10/site-packages (from requests<3,>=2.0.0->wandb) (1.26.18)\n",
      "Requirement already satisfied: certifi>=2017.4.17 in /opt/conda/lib/python3.10/site-packages (from requests<3,>=2.0.0->wandb) (2024.6.2)\n",
      "Requirement already satisfied: smmap<6,>=3.0.1 in /opt/conda/lib/python3.10/site-packages (from gitdb<5,>=4.0.1->gitpython!=3.1.29,>=1.0.0->wandb) (5.0.1)\n"
     ]
    }
   ],
   "source": [
    "!pip install wandb"
   ]
  },
  {
   "cell_type": "code",
   "execution_count": 2,
   "metadata": {
    "execution": {
     "iopub.execute_input": "2024-12-13T06:51:12.013153Z",
     "iopub.status.busy": "2024-12-13T06:51:12.012852Z",
     "iopub.status.idle": "2024-12-13T06:51:15.874785Z",
     "shell.execute_reply": "2024-12-13T06:51:15.873721Z",
     "shell.execute_reply.started": "2024-12-13T06:51:12.013125Z"
    },
    "trusted": true
   },
   "outputs": [],
   "source": [
    "import os\n",
    "import logging\n",
    "import numpy as np\n",
    "import random\n",
    "import matplotlib.pyplot as plt\n",
    "from itertools import product\n",
    "\n",
    "import torch\n",
    "import torch.nn as nn\n",
    "import torch.nn.functional as F\n",
    "import torchvision.transforms.functional as TF\n",
    "\n",
    "from PIL import Image\n",
    "from torch.utils.data import Dataset, DataLoader, Subset\n",
    "from torchvision.transforms import v2\n",
    "\n",
    "from tqdm import tqdm"
   ]
  },
  {
   "cell_type": "code",
   "execution_count": 3,
   "metadata": {
    "execution": {
     "iopub.execute_input": "2024-12-13T06:51:22.526245Z",
     "iopub.status.busy": "2024-12-13T06:51:22.525358Z",
     "iopub.status.idle": "2024-12-13T06:51:22.618584Z",
     "shell.execute_reply": "2024-12-13T06:51:22.617618Z",
     "shell.execute_reply.started": "2024-12-13T06:51:22.526194Z"
    },
    "trusted": true
   },
   "outputs": [
    {
     "data": {
      "text/plain": [
       "device(type='cuda')"
      ]
     },
     "execution_count": 3,
     "metadata": {},
     "output_type": "execute_result"
    }
   ],
   "source": [
    "device = torch.device('cuda' if torch.cuda.is_available() else 'cpu')\n",
    "device"
   ]
  },
  {
   "cell_type": "code",
   "execution_count": 4,
   "metadata": {
    "execution": {
     "iopub.execute_input": "2024-12-13T06:51:27.857390Z",
     "iopub.status.busy": "2024-12-13T06:51:27.856981Z",
     "iopub.status.idle": "2024-12-13T06:51:30.805296Z",
     "shell.execute_reply": "2024-12-13T06:51:30.804514Z",
     "shell.execute_reply.started": "2024-12-13T06:51:27.857357Z"
    },
    "trusted": true
   },
   "outputs": [
    {
     "name": "stderr",
     "output_type": "stream",
     "text": [
      "\u001b[34m\u001b[1mwandb\u001b[0m: Using wandb-core as the SDK backend.  Please refer to https://wandb.me/wandb-core for more information.\n",
      "\u001b[34m\u001b[1mwandb\u001b[0m: W&B API key is configured. Use \u001b[1m`wandb login --relogin`\u001b[0m to force relogin\n",
      "\u001b[34m\u001b[1mwandb\u001b[0m: \u001b[33mWARNING\u001b[0m If you're specifying your api key in code, ensure this code is not shared publicly.\n",
      "\u001b[34m\u001b[1mwandb\u001b[0m: \u001b[33mWARNING\u001b[0m Consider setting the WANDB_API_KEY environment variable, or running `wandb login` from the command line.\n",
      "\u001b[34m\u001b[1mwandb\u001b[0m: Appending key for api.wandb.ai to your netrc file: /root/.netrc\n"
     ]
    },
    {
     "data": {
      "text/plain": [
       "True"
      ]
     },
     "execution_count": 4,
     "metadata": {},
     "output_type": "execute_result"
    }
   ],
   "source": [
    "from kaggle_secrets import UserSecretsClient\n",
    "user_secrets = UserSecretsClient()\n",
    "wandb_api_key = user_secrets.get_secret(\"wandb-api-key\")\n",
    "\n",
    "import wandb\n",
    "wandb.login(key=wandb_api_key)"
   ]
  },
  {
   "cell_type": "markdown",
   "metadata": {},
   "source": [
    "# 2. Define UNet"
   ]
  },
  {
   "cell_type": "code",
   "execution_count": 5,
   "metadata": {
    "execution": {
     "iopub.execute_input": "2024-12-13T06:51:32.513884Z",
     "iopub.status.busy": "2024-12-13T06:51:32.513362Z",
     "iopub.status.idle": "2024-12-13T06:51:32.519804Z",
     "shell.execute_reply": "2024-12-13T06:51:32.518894Z",
     "shell.execute_reply.started": "2024-12-13T06:51:32.513853Z"
    },
    "trusted": true
   },
   "outputs": [],
   "source": [
    "class DoubleConv(nn.Module):\n",
    "    def __init__(self, in_channels, out_channels):\n",
    "        super(DoubleConv, self).__init__()\n",
    "\n",
    "        self.block = nn.Sequential(\n",
    "            nn.Conv2d(in_channels, out_channels, 3, 1, 1),\n",
    "            nn.BatchNorm2d(out_channels),\n",
    "            nn.ReLU(inplace=True),\n",
    "            nn.Conv2d(out_channels, out_channels, 3, 1, 1),\n",
    "            nn.BatchNorm2d(out_channels),\n",
    "            nn.ReLU(inplace=True)\n",
    "        )\n",
    "\n",
    "    def forward(self, x):\n",
    "        return self.block(x)"
   ]
  },
  {
   "cell_type": "code",
   "execution_count": 6,
   "metadata": {
    "execution": {
     "iopub.execute_input": "2024-12-13T06:51:34.041089Z",
     "iopub.status.busy": "2024-12-13T06:51:34.040445Z",
     "iopub.status.idle": "2024-12-13T06:51:34.050388Z",
     "shell.execute_reply": "2024-12-13T06:51:34.049428Z",
     "shell.execute_reply.started": "2024-12-13T06:51:34.041057Z"
    },
    "trusted": true
   },
   "outputs": [],
   "source": [
    "class UNet(nn.Module):\n",
    "    def __init__(self, in_channels=3, out_channels=19):\n",
    "        super(UNet, self).__init__()\n",
    "\n",
    "        # Define channels for different stages\n",
    "        channels = [64, 128, 256, 512]\n",
    "        \n",
    "        # Define pooling layer\n",
    "        self.maxpool = nn.MaxPool2d(2, 2)\n",
    "    \n",
    "        # Define encoder\n",
    "        self.encoder = nn.ModuleList()\n",
    "        for channel in channels:\n",
    "            self.encoder.append(DoubleConv(in_channels, channel))\n",
    "            in_channels = channel\n",
    "\n",
    "        # Define bottleneck layer\n",
    "        self.bottleneck = DoubleConv(channels[-1], channels[-1] * 2)\n",
    "        \n",
    "        # Define decoder\n",
    "        self.decoder = nn.ModuleList()\n",
    "        for channel in reversed(channels):\n",
    "            self.decoder.append(nn.ConvTranspose2d(channel * 2, channel, 2, 2))\n",
    "            self.decoder.append(DoubleConv(channel * 2, channel))\n",
    "\n",
    "        # Define last layer\n",
    "        self.last = nn.Conv2d(channels[0], out_channels, 1)\n",
    "\n",
    "    def forward(self, x):\n",
    "        # Define storage for connections\n",
    "        skip_connections = []\n",
    "\n",
    "        # Down stages\n",
    "        for block in self.encoder:\n",
    "            x = block(x)\n",
    "            skip_connections.append(x)\n",
    "            x = self.maxpool(x)\n",
    "\n",
    "        # Bottleneck passing\n",
    "        x = self.bottleneck(x)\n",
    "\n",
    "        # Reverse list for easily taking\n",
    "        skip_connections = skip_connections[::-1]\n",
    "\n",
    "        # Up stages\n",
    "        for i in range (0, len(self.decoder), 2):\n",
    "            # Conv Transpose\n",
    "            x = self.decoder[i](x)\n",
    "\n",
    "            # Passing main block\n",
    "            skip_connection = skip_connections[i // 2]\n",
    "\n",
    "            ## Resize if neccessary\n",
    "            if x.shape != skip_connection.shape:\n",
    "                skip_connection = TF.resize(skip_connection, x.shape[2:]) # Resize except batch and channel\n",
    "            ## Apply skip connection\n",
    "            x = torch.cat((skip_connection, x), dim=1) # Concat by channel\n",
    "\n",
    "            ## Go through conv block\n",
    "            x = self.decoder[i+1](x)\n",
    "\n",
    "        # Passing last layer to get output that each channel stand for each instance\n",
    "        return self.last(x)\n",
    "                "
   ]
  },
  {
   "cell_type": "code",
   "execution_count": 23,
   "metadata": {
    "execution": {
     "iopub.execute_input": "2024-12-13T06:53:27.879731Z",
     "iopub.status.busy": "2024-12-13T06:53:27.879101Z",
     "iopub.status.idle": "2024-12-13T06:53:28.372322Z",
     "shell.execute_reply": "2024-12-13T06:53:28.371618Z",
     "shell.execute_reply.started": "2024-12-13T06:53:27.879690Z"
    },
    "trusted": true
   },
   "outputs": [],
   "source": [
    "unet = UNet(3, 19).to(device)\n",
    "unet = nn.DataParallel(unet)"
   ]
  },
  {
   "cell_type": "markdown",
   "metadata": {},
   "source": [
    "# 3. Define Dataset and Dataloader"
   ]
  },
  {
   "cell_type": "code",
   "execution_count": 8,
   "metadata": {
    "execution": {
     "iopub.execute_input": "2024-12-13T06:51:38.501128Z",
     "iopub.status.busy": "2024-12-13T06:51:38.500794Z",
     "iopub.status.idle": "2024-12-13T06:51:38.506581Z",
     "shell.execute_reply": "2024-12-13T06:51:38.505702Z",
     "shell.execute_reply.started": "2024-12-13T06:51:38.501098Z"
    },
    "trusted": true
   },
   "outputs": [],
   "source": [
    "image_size = (512, 1024)\n",
    "\n",
    "train_transform = v2.Compose([\n",
    "    v2.Resize((image_size[0], image_size[1]), antialias=True),\n",
    "    v2.ToTensor(),\n",
    "    v2.Normalize(mean=[0.485, 0.456, 0.406], std=[0.229, 0.224, 0.225])\n",
    "])\n",
    "\n",
    "\n",
    "val_transform = v2.Compose([\n",
    "    v2.Resize((image_size[0], image_size[1]), antialias=True),\n",
    "    v2.ToTensor(),\n",
    "    v2.Normalize(mean=[0.485, 0.456, 0.406], std=[0.229, 0.224, 0.225])\n",
    "])"
   ]
  },
  {
   "cell_type": "code",
   "execution_count": 9,
   "metadata": {
    "execution": {
     "iopub.execute_input": "2024-12-13T06:51:40.283835Z",
     "iopub.status.busy": "2024-12-13T06:51:40.283163Z",
     "iopub.status.idle": "2024-12-13T06:51:40.296439Z",
     "shell.execute_reply": "2024-12-13T06:51:40.295196Z",
     "shell.execute_reply.started": "2024-12-13T06:51:40.283784Z"
    },
    "trusted": true
   },
   "outputs": [],
   "source": [
    "color_map = np.array([\n",
    "    [128, 64, 128],   # 0: Road\n",
    "    [244, 35, 232],   # 1: Sidewalk\n",
    "    [ 70, 70, 70],    # 2: Building\n",
    "    [102, 102, 156],  # 3: Wall\n",
    "    [190, 153, 153],  # 4: Fence\n",
    "    [153, 153, 153],  # 5: Pole\n",
    "    [250, 170, 30],   # 6: Traffic light\n",
    "    [220, 220, 0],    # 7: Traffic sign\n",
    "    [107, 142, 35],   # 8: Vegetation\n",
    "    [152, 251, 152],  # 9: Terrain\n",
    "    [70, 130, 180],   # 10: Sky\n",
    "    [220, 20, 60],    # 11: Person\n",
    "    [255, 0, 0],      # 12: Rider\n",
    "    [0, 0, 142],      # 13: Car\n",
    "    [0, 0, 70],       # 14: Truck\n",
    "    [0, 60, 100],     # 15: Bus\n",
    "    [0, 80, 100],     # 16: Train\n",
    "    [0, 0, 230],      # 17: Motorcycle\n",
    "    [119, 11, 32],    # 18: Bicycle\n",
    "], dtype=np.uint8)\n",
    "\n",
    "label_mapping = {\n",
    "    -1: -1,\n",
    "    0: -1,\n",
    "    1: -1,\n",
    "    2: -1,\n",
    "    3: -1,\n",
    "    4: -1,\n",
    "    5: -1,\n",
    "    6: -1,\n",
    "    7: 0,\n",
    "    8: 1,\n",
    "    9: -1,\n",
    "    10: -1,\n",
    "    11: 2,\n",
    "    12: 3,\n",
    "    13: 4, \n",
    "    14: -1,\n",
    "    15: -1,\n",
    "    16: -1,\n",
    "    17: 5,\n",
    "    18: -1,\n",
    "    19: 6,\n",
    "    20: 7,\n",
    "    21: 8,\n",
    "    22: 9,\n",
    "    23: 10,\n",
    "    24: 11,\n",
    "    25: 12,\n",
    "    26: 13,\n",
    "    27: 14,\n",
    "    28: 15,\n",
    "    29: -1,\n",
    "    30: -1,\n",
    "    31: 16,\n",
    "    32: 17,\n",
    "    33: 18,\n",
    "}\n"
   ]
  },
  {
   "cell_type": "code",
   "execution_count": 10,
   "metadata": {
    "execution": {
     "iopub.execute_input": "2024-12-13T06:51:42.592359Z",
     "iopub.status.busy": "2024-12-13T06:51:42.591463Z",
     "iopub.status.idle": "2024-12-13T06:51:42.600975Z",
     "shell.execute_reply": "2024-12-13T06:51:42.600011Z",
     "shell.execute_reply.started": "2024-12-13T06:51:42.592288Z"
    },
    "trusted": true
   },
   "outputs": [],
   "source": [
    "random.seed(42)\n",
    "class CityscapeDataset(Dataset):\n",
    "    def __init__(self, image_dir, mask_dir, split, transform, flip_prob=0.5):\n",
    "        self.transform = transform\n",
    "        self.flip_prob = flip_prob\n",
    "\n",
    "        # Get all input image paths\n",
    "        self.image_paths = sorted([os.path.join(dp, f) for dp, dn, fn in os.walk(os.path.expanduser(image_dir+'/'+split)) for f in fn if f.endswith('.png')])\n",
    "        self.mask_paths = sorted([os.path.join(dp, f) for dp, dn, fn in os.walk(os.path.expanduser(mask_dir+'/'+split)) for f in fn if f.endswith('_labelIds.png')])\n",
    "\n",
    "        if len(self.image_paths) != len(self.mask_paths):\n",
    "            assert(\"Warning: Number of images and labels do not match!\")\n",
    "\n",
    "    def __len__(self):\n",
    "        return len(self.image_paths)\n",
    "\n",
    "    def __getitem__(self, idx):\n",
    "        image_path = self.image_paths[idx]\n",
    "        mask_path = self.mask_paths[idx]\n",
    "\n",
    "        image = Image.open(image_path).convert('RGB')\n",
    "        mask = Image.open(mask_path)\n",
    "\n",
    "        if random.random() < self.flip_prob:\n",
    "            image = image.transpose(Image.FLIP_LEFT_RIGHT)\n",
    "            mask = mask.transpose(Image.FLIP_LEFT_RIGHT)\n",
    "        \n",
    "        if self.transform is not None:\n",
    "            image = self.transform(image)\n",
    "        # image = image.permute(1, 2, 0)\n",
    "        \n",
    "        mask = np.array(mask, dtype=np.int64)\n",
    "        mask = np.vectorize(lambda x: label_mapping.get(x, -1))(mask)\n",
    "        mask = torch.tensor(mask, dtype=torch.long)\n",
    "\n",
    "        return image, mask"
   ]
  },
  {
   "cell_type": "code",
   "execution_count": 12,
   "metadata": {
    "execution": {
     "iopub.execute_input": "2024-12-13T06:52:03.381280Z",
     "iopub.status.busy": "2024-12-13T06:52:03.381007Z",
     "iopub.status.idle": "2024-12-13T06:52:05.897352Z",
     "shell.execute_reply": "2024-12-13T06:52:05.896479Z",
     "shell.execute_reply.started": "2024-12-13T06:52:03.381255Z"
    },
    "trusted": true
   },
   "outputs": [
    {
     "name": "stdout",
     "output_type": "stream",
     "text": [
      "2975\n"
     ]
    }
   ],
   "source": [
    "imgs_dir = \"/kaggle/input/cityscapes/Cityspaces/images\"\n",
    "masks_dir = \"/kaggle/input/cityscapes/Cityspaces/gtFine\"\n",
    "images = sorted([os.path.join(dp, f) for dp, dn, fn in os.walk(os.path.expanduser(imgs_dir+'/train')) \n",
    "                for f in fn if f.endswith('.png')])\n",
    "masks = sorted([os.path.join(dp, f) for dp, dn, fn in os.walk(os.path.expanduser(masks_dir+'/train')) \n",
    "                for f in fn if f.endswith('_labelIds.png')])\n",
    "\n",
    "cnt = 0\n",
    "for i, m in zip(images, masks):\n",
    "    if i[49:-16] == m[49:-20]:\n",
    "        cnt += 1\n",
    "print(cnt)\n",
    "assert(cnt == len(images) and cnt == len(masks))"
   ]
  },
  {
   "cell_type": "code",
   "execution_count": 13,
   "metadata": {
    "execution": {
     "iopub.execute_input": "2024-12-13T06:52:13.882588Z",
     "iopub.status.busy": "2024-12-13T06:52:13.882224Z",
     "iopub.status.idle": "2024-12-13T06:52:20.463150Z",
     "shell.execute_reply": "2024-12-13T06:52:20.462181Z",
     "shell.execute_reply.started": "2024-12-13T06:52:13.882558Z"
    },
    "trusted": true
   },
   "outputs": [
    {
     "name": "stdout",
     "output_type": "stream",
     "text": [
      "torch.Size([3, 512, 1024]) 500\n"
     ]
    }
   ],
   "source": [
    "train_dataset = CityscapeDataset(imgs_dir, masks_dir, split='train', transform=train_transform, flip_prob=0.5)\n",
    "val_dataset = CityscapeDataset(imgs_dir, masks_dir, split='val', transform=val_transform, flip_prob=0)\n",
    "print(train_dataset[0][0].shape, len(val_dataset))"
   ]
  },
  {
   "cell_type": "code",
   "execution_count": 14,
   "metadata": {
    "execution": {
     "iopub.execute_input": "2024-12-13T06:52:20.465173Z",
     "iopub.status.busy": "2024-12-13T06:52:20.464872Z",
     "iopub.status.idle": "2024-12-13T06:52:20.469800Z",
     "shell.execute_reply": "2024-12-13T06:52:20.468869Z",
     "shell.execute_reply.started": "2024-12-13T06:52:20.465143Z"
    },
    "trusted": true
   },
   "outputs": [],
   "source": [
    "def get_sampler(dataset):\n",
    "    if torch.distributed.is_initialized():\n",
    "        from torch.utils.data.distributed import DistributedSampler\n",
    "        return DistributedSampler(dataset)\n",
    "    else:\n",
    "        return None"
   ]
  },
  {
   "cell_type": "code",
   "execution_count": 15,
   "metadata": {
    "execution": {
     "iopub.execute_input": "2024-12-13T06:52:20.471245Z",
     "iopub.status.busy": "2024-12-13T06:52:20.470911Z",
     "iopub.status.idle": "2024-12-13T06:52:20.479682Z",
     "shell.execute_reply": "2024-12-13T06:52:20.478858Z",
     "shell.execute_reply.started": "2024-12-13T06:52:20.471202Z"
    },
    "trusted": true
   },
   "outputs": [],
   "source": [
    "train_subset_indices = list(range(-600, -1))\n",
    "val_subset_indices = list(range(50))\n",
    "\n",
    "train_subset = Subset(train_dataset, train_subset_indices)\n",
    "train_sampler = get_sampler(train_subset)\n",
    "\n",
    "val_subset = Subset(val_dataset, val_subset_indices)\n",
    "val_sampler = get_sampler(val_subset)"
   ]
  },
  {
   "cell_type": "code",
   "execution_count": 21,
   "metadata": {
    "execution": {
     "iopub.execute_input": "2024-12-13T06:53:03.727604Z",
     "iopub.status.busy": "2024-12-13T06:53:03.727230Z",
     "iopub.status.idle": "2024-12-13T06:53:03.733094Z",
     "shell.execute_reply": "2024-12-13T06:53:03.732036Z",
     "shell.execute_reply.started": "2024-12-13T06:53:03.727573Z"
    },
    "trusted": true
   },
   "outputs": [],
   "source": [
    "num_workers = os.cpu_count()\n",
    "batch_size = 4\n",
    "\n",
    "train_loader = DataLoader(train_subset, batch_size=batch_size, shuffle=True, num_workers=num_workers, sampler=train_sampler)\n",
    "val_loader = DataLoader(val_subset, batch_size=batch_size, shuffle=False, num_workers=num_workers, sampler=val_sampler)"
   ]
  },
  {
   "cell_type": "code",
   "execution_count": 39,
   "metadata": {
    "execution": {
     "iopub.execute_input": "2024-12-13T02:09:35.379320Z",
     "iopub.status.busy": "2024-12-13T02:09:35.379034Z",
     "iopub.status.idle": "2024-12-13T02:09:43.205091Z",
     "shell.execute_reply": "2024-12-13T02:09:43.204100Z",
     "shell.execute_reply.started": "2024-12-13T02:09:35.379292Z"
    },
    "trusted": true
   },
   "outputs": [
    {
     "name": "stdout",
     "output_type": "stream",
     "text": [
      "150 13\n",
      "torch.Size([4, 3, 512, 1024]) torch.Size([4, 1024, 2048])\n"
     ]
    }
   ],
   "source": [
    "print(len(train_loader), len(val_loader))\n",
    "img, msk = next(iter(train_loader))\n",
    "print(img.shape, msk.shape)"
   ]
  },
  {
   "cell_type": "markdown",
   "metadata": {},
   "source": [
    "# 4. Define controller"
   ]
  },
  {
   "cell_type": "code",
   "execution_count": 16,
   "metadata": {
    "execution": {
     "iopub.execute_input": "2024-12-13T06:52:27.248621Z",
     "iopub.status.busy": "2024-12-13T06:52:27.247933Z",
     "iopub.status.idle": "2024-12-13T06:52:27.253268Z",
     "shell.execute_reply": "2024-12-13T06:52:27.252359Z",
     "shell.execute_reply.started": "2024-12-13T06:52:27.248586Z"
    },
    "trusted": true
   },
   "outputs": [],
   "source": [
    "def save_model(model, file_path):\n",
    "    file_path = file_path + '.pth'\n",
    "    dir_name = os.path.dirname(file_path)\n",
    "    if dir_name and not os.path.exists(dir_name):\n",
    "        os.makedirs(dir_name)\n",
    "    \n",
    "    # Save\n",
    "    torch.save(model.state_dict(), file_path)\n",
    "    print(f\"Model is saved to: {file_path}\")"
   ]
  },
  {
   "cell_type": "code",
   "execution_count": 24,
   "metadata": {
    "execution": {
     "iopub.execute_input": "2024-12-13T06:53:31.494018Z",
     "iopub.status.busy": "2024-12-13T06:53:31.493684Z",
     "iopub.status.idle": "2024-12-13T06:53:31.501485Z",
     "shell.execute_reply": "2024-12-13T06:53:31.500475Z",
     "shell.execute_reply.started": "2024-12-13T06:53:31.493991Z"
    },
    "trusted": true
   },
   "outputs": [],
   "source": [
    "lr = 0.003\n",
    "WD = 0.001\n",
    "\n",
    "class_weights = torch.FloatTensor([0.8373, 0.918, 0.866, 1.0345, \n",
    "                                        1.0166, 0.9969, 0.9754, 1.0489,\n",
    "                                        0.8786, 1.0023, 0.9539, 0.9843, \n",
    "                                        1.1116, 0.9037, 1.0865, 1.0955, \n",
    "                                        1.0865, 1.1529, 1.0507]).cuda()\n",
    "\n",
    "criterion = nn.CrossEntropyLoss(ignore_index = -1, weight=class_weights)\n",
    "optimizer = torch.optim.Adam(params = unet.parameters(), lr=lr, weight_decay=WD)\n",
    "scaler = torch.amp.GradScaler('cuda')"
   ]
  },
  {
   "cell_type": "code",
   "execution_count": 42,
   "metadata": {
    "execution": {
     "iopub.execute_input": "2024-12-13T02:09:43.228516Z",
     "iopub.status.busy": "2024-12-13T02:09:43.227930Z",
     "iopub.status.idle": "2024-12-13T02:09:43.336588Z",
     "shell.execute_reply": "2024-12-13T02:09:43.335622Z",
     "shell.execute_reply.started": "2024-12-13T02:09:43.228470Z"
    },
    "trusted": true
   },
   "outputs": [],
   "source": [
    "torch.cuda.empty_cache()"
   ]
  },
  {
   "cell_type": "code",
   "execution_count": 17,
   "metadata": {
    "execution": {
     "iopub.execute_input": "2024-12-13T06:52:32.553869Z",
     "iopub.status.busy": "2024-12-13T06:52:32.552886Z",
     "iopub.status.idle": "2024-12-13T06:52:32.566124Z",
     "shell.execute_reply": "2024-12-13T06:52:32.565265Z",
     "shell.execute_reply.started": "2024-12-13T06:52:32.553832Z"
    },
    "trusted": true
   },
   "outputs": [],
   "source": [
    "def train_model(model, train_loader, val_loader, criterion, optimizer, scaler, \n",
    "                device, save_path=None, epochs=10, wandb_writer=None):\n",
    "    best_loss = float('inf')\n",
    "\n",
    "    train_losses = []\n",
    "    val_losses = []\n",
    "    train_accuracy = []\n",
    "    val_accuracy = []\n",
    "    \n",
    "    model.train()\n",
    "    for epoch in range(epochs):\n",
    "        train_loss, train_acc = 0, 0\n",
    "        logging.info(f\"Starting Epoch {epoch + 1}/{epochs}\")\n",
    "\n",
    "        for images, masks in tqdm(train_loader, unit='batch', desc=f'Training [{epoch+1}/{epochs}]'):\n",
    "            images, masks = images.to(device), masks.to(device)\n",
    "            \n",
    "            with torch.amp.autocast('cuda'):\n",
    "                mask_logits = model(images) # (B, C, H, W)\n",
    "    \n",
    "                # Resize to original size of mask\n",
    "                mask_logits = F.interpolate(mask_logits, size=(1024, 2048), mode='bilinear', align_corners=False)\n",
    "    \n",
    "                # # Permute channel to last size\n",
    "                # mask_logits = mask_logits.permute(0, 2, 3, 1) # (B, H, W, C)\n",
    "                # print(mask_logits.shape, masks.shape)\n",
    "                # Loss\n",
    "                loss = criterion(mask_logits, masks.squeeze(1))\n",
    "            train_loss += loss.item()\n",
    "\n",
    "            # Update\n",
    "            optimizer.zero_grad()\n",
    "            scaler.scale(loss).backward()\n",
    "            scaler.step(optimizer)\n",
    "            scaler.update()\n",
    "\n",
    "            # Calculate accuracy over pixel\n",
    "            mask_pred = torch.argmax(mask_logits, dim = 1)\n",
    "            mask_pred[masks == -1] = -1\n",
    "            \n",
    "            valid_mask = masks != -1\n",
    "            acc_per_batch = torch.eq(mask_pred[valid_mask], masks[valid_mask]).sum().item()\n",
    "            train_acc += (acc_per_batch / masks.numel())\n",
    "        avg_train_loss = train_loss / len(train_loader)\n",
    "        avg_train_acc = train_acc / len(train_loader)\n",
    "        \n",
    "        print(f'---> Train loss: {avg_train_loss:.4f}')\n",
    "        print(f'---> Train acc: {avg_train_acc:.4f}')\n",
    "\n",
    "        train_losses.append(avg_train_loss)\n",
    "        train_accuracy.append(avg_train_acc)\n",
    "        if wandb_writer is not None:\n",
    "            wandb.log({\"Train_loss\": avg_train_loss, \"Train_acc\": avg_train_acc})\n",
    "        \n",
    "        # Validate\n",
    "        val_loss, val_acc = 0,0\n",
    "        model.eval()\n",
    "        with torch.inference_mode():\n",
    "            for images, masks in tqdm(val_loader, unit='batch', desc=f'Validate [{epoch+1}/{epochs}]'):\n",
    "                images, masks = images.to(device), masks.to(device)\n",
    "                \n",
    "                with torch.amp.autocast('cuda'):\n",
    "                    mask_logits = model(images)\n",
    "                    mask_logits = F.interpolate(mask_logits, size=(1024, 2048), mode='bilinear', align_corners=False)\n",
    "                    # mask_logits = mask_logits.permute(0,2,3,1)\n",
    "                    loss = criterion(mask_logits, masks.squeeze(1))\n",
    "                val_loss += loss.item()\n",
    "                \n",
    "                mask_pred = torch.argmax(mask_logits, dim = 1)\n",
    "                mask_pred[masks == -1] = -1\n",
    "\n",
    "                valid_mask = masks != -1\n",
    "                acc_per_batch = torch.eq(mask_pred[valid_mask], masks[valid_mask]).sum().item()\n",
    "                val_acc += (acc_per_batch / masks.numel())\n",
    "        avg_val_loss = val_loss / len(val_loader)\n",
    "        avg_val_acc = val_acc / len(val_loader)\n",
    "        \n",
    "        print(f'---> Valid loss: {avg_val_loss:.4f}')\n",
    "        print(f'---> Valid acc: {avg_val_acc:.4f}')\n",
    "        \n",
    "        val_losses.append(avg_val_loss)\n",
    "        val_accuracy.append(avg_val_acc)\n",
    "        if wandb_writer is not None:\n",
    "            wandb.log({\"val_loss\": avg_val_loss, \"val_acc\": avg_val_acc})\n",
    "        if save_path is not None:\n",
    "            if avg_val_loss < best_loss:\n",
    "                best_loss = avg_val_loss\n",
    "                save_model(model, save_path + f'_epoch{epoch+1}')\n",
    "                if wandb_writer is not None:\n",
    "                    wandb.save(f\"{save_path}_epoch{epoch+1}.pth\")\n",
    "    return train_losses, val_losses, train_accuracy, val_accuracy"
   ]
  },
  {
   "cell_type": "markdown",
   "metadata": {},
   "source": [
    "# 5. Hyperparameter tuning"
   ]
  },
  {
   "cell_type": "code",
   "execution_count": 39,
   "metadata": {
    "execution": {
     "iopub.execute_input": "2024-12-13T08:03:32.467982Z",
     "iopub.status.busy": "2024-12-13T08:03:32.467675Z",
     "iopub.status.idle": "2024-12-13T08:03:32.473414Z",
     "shell.execute_reply": "2024-12-13T08:03:32.472466Z",
     "shell.execute_reply.started": "2024-12-13T08:03:32.467957Z"
    },
    "trusted": true
   },
   "outputs": [],
   "source": [
    "hyper_params = {\n",
    "    'lr': [0.003, 0.001, 0.0005, 0.0003],\n",
    "    'weight_decay': [0.01, 0.001],\n",
    "    'optim': ['Adam', 'SGD']\n",
    "}"
   ]
  },
  {
   "cell_type": "code",
   "execution_count": 40,
   "metadata": {
    "execution": {
     "iopub.execute_input": "2024-12-13T08:03:33.192252Z",
     "iopub.status.busy": "2024-12-13T08:03:33.191911Z",
     "iopub.status.idle": "2024-12-13T08:03:33.201807Z",
     "shell.execute_reply": "2024-12-13T08:03:33.201133Z",
     "shell.execute_reply.started": "2024-12-13T08:03:33.192220Z"
    },
    "trusted": true
   },
   "outputs": [],
   "source": [
    "def hyper_tuning_model(model_class, hyper_params, train_loader, val_loader, \n",
    "                       device, save_path, class_weights, epochs=10):\n",
    "\n",
    "    wandb.init(project=\"unet-hyperparam-tuning\", reinit=True)\n",
    "    \n",
    "    keys, values = hyper_params.keys(), hyper_params.values()\n",
    "    param_combinations = [dict(zip(keys, v)) for v in product(*values)]\n",
    "\n",
    "    best_params = None\n",
    "    best_accuracy = 0.0\n",
    "\n",
    "    for params in param_combinations:\n",
    "        wandb.config.update(params)\n",
    "        print(f\"Training with parameters: {params}\")\n",
    "        \n",
    "        # Clone the model to ensure it's fresh for each configuration\n",
    "        current_model = model_class(3, 19).to(device)\n",
    "        current_model = nn.DataParallel(current_model)\n",
    "        # Define optimizer\n",
    "        if params['optim'] == 'Adam':\n",
    "            optimizer = torch.optim.Adam(current_model.parameters(), lr=params['lr'], weight_decay=params['weight_decay'])\n",
    "        elif params['optim'] == 'SGD':\n",
    "            optimizer = torch.optim.SGD(current_model.parameters(), lr=params['lr'], weight_decay=params['weight_decay'])\n",
    "        \n",
    "        criterion = nn.CrossEntropyLoss(ignore_index=-1, weight=class_weights)\n",
    "        scaler = torch.amp.GradScaler('cuda')\n",
    "        # Training loop\n",
    "        train_losses, val_losses, train_accuracy, val_accuracy = train_model(current_model, train_loader, val_loader, \n",
    "                                                                             criterion, optimizer, scaler, \n",
    "                                                                             device, save_path, \n",
    "                                                                             epochs=epochs, wandb_writer=wandb)\n",
    "\n",
    "        # Check if this configuration is the best\n",
    "        if np.max(val_accuracy) > best_accuracy:\n",
    "            best_accuracy = np.max(val_accuracy)\n",
    "            best_params = params\n",
    "            model_path = f\"{save_path}_{params['lr']}_{params['weight_decay']}_{params['optim']}\"\n",
    "            save_model(current_model, model_path)\n",
    "            artifact = wandb.Artifact(f\"unet-model-{params['lr']}-{params['weight_decay']}-{params['optim']}\", type=\"model\")\n",
    "            artifact.add_file(model_path + '.pth')\n",
    "            wandb.log_artifact(artifact)\n",
    "    \n",
    "    wandb.finish()\n",
    "    return {\n",
    "        'best_params': best_params,\n",
    "        'best_accuracy': best_accuracy\n",
    "    }"
   ]
  },
  {
   "cell_type": "code",
   "execution_count": 41,
   "metadata": {
    "execution": {
     "iopub.execute_input": "2024-12-13T08:03:33.872597Z",
     "iopub.status.busy": "2024-12-13T08:03:33.871961Z",
     "iopub.status.idle": "2024-12-13T15:36:41.351651Z",
     "shell.execute_reply": "2024-12-13T15:36:41.350712Z",
     "shell.execute_reply.started": "2024-12-13T08:03:33.872562Z"
    },
    "trusted": true
   },
   "outputs": [
    {
     "data": {
      "text/html": [
       "Finishing last run (ID:pb0kkc7m) before initializing another..."
      ],
      "text/plain": [
       "<IPython.core.display.HTML object>"
      ]
     },
     "metadata": {},
     "output_type": "display_data"
    },
    {
     "data": {
      "application/vnd.jupyter.widget-view+json": {
       "model_id": "",
       "version_major": 2,
       "version_minor": 0
      },
      "text/plain": [
       "VBox(children=(Label(value='1.159 MB of 474.086 MB uploaded\\r'), FloatProgress(value=0.002444673000215783, max…"
      ]
     },
     "metadata": {},
     "output_type": "display_data"
    },
    {
     "data": {
      "text/html": [
       "\n",
       "    <style>\n",
       "        .wandb-row {\n",
       "            display: flex;\n",
       "            flex-direction: row;\n",
       "            flex-wrap: wrap;\n",
       "            justify-content: flex-start;\n",
       "            width: 100%;\n",
       "        }\n",
       "        .wandb-col {\n",
       "            display: flex;\n",
       "            flex-direction: column;\n",
       "            flex-basis: 100%;\n",
       "            flex: 1;\n",
       "            padding: 10px;\n",
       "        }\n",
       "    </style>\n",
       "<div class=\"wandb-row\"><div class=\"wandb-col\"><h3>Run history:</h3><br/><table class=\"wandb\"><tr><td>Train_acc</td><td>█▁▅▇▇▇██</td></tr><tr><td>Train_loss</td><td>▄█▄▂▃▂▂▁</td></tr><tr><td>val_acc</td><td>▄▆▆▁▆▇▆█</td></tr><tr><td>val_loss</td><td>▆▄▆█▄▃▃▁</td></tr></table><br/></div><div class=\"wandb-col\"><h3>Run summary:</h3><br/><table class=\"wandb\"><tr><td>Train_acc</td><td>0.55073</td></tr><tr><td>Train_loss</td><td>1.32804</td></tr><tr><td>val_acc</td><td>0.55344</td></tr><tr><td>val_loss</td><td>1.29323</td></tr></table><br/></div></div>"
      ],
      "text/plain": [
       "<IPython.core.display.HTML object>"
      ]
     },
     "metadata": {},
     "output_type": "display_data"
    },
    {
     "data": {
      "text/html": [
       " View run <strong style=\"color:#cdcd00\">earthy-rain-13</strong> at: <a href='https://wandb.ai/longluv1605-institute-for-artificial-intelligence/unet-hyperparam-tuning/runs/pb0kkc7m' target=\"_blank\">https://wandb.ai/longluv1605-institute-for-artificial-intelligence/unet-hyperparam-tuning/runs/pb0kkc7m</a><br/> View project at: <a href='https://wandb.ai/longluv1605-institute-for-artificial-intelligence/unet-hyperparam-tuning' target=\"_blank\">https://wandb.ai/longluv1605-institute-for-artificial-intelligence/unet-hyperparam-tuning</a><br/>Synced 5 W&B file(s), 0 media file(s), 0 artifact file(s) and 4 other file(s)"
      ],
      "text/plain": [
       "<IPython.core.display.HTML object>"
      ]
     },
     "metadata": {},
     "output_type": "display_data"
    },
    {
     "data": {
      "text/html": [
       "Find logs at: <code>./wandb/run-20241213_074003-pb0kkc7m/logs</code>"
      ],
      "text/plain": [
       "<IPython.core.display.HTML object>"
      ]
     },
     "metadata": {},
     "output_type": "display_data"
    },
    {
     "data": {
      "text/html": [
       "Successfully finished last run (ID:pb0kkc7m). Initializing new run:<br/>"
      ],
      "text/plain": [
       "<IPython.core.display.HTML object>"
      ]
     },
     "metadata": {},
     "output_type": "display_data"
    },
    {
     "data": {
      "text/html": [
       "Tracking run with wandb version 0.18.7"
      ],
      "text/plain": [
       "<IPython.core.display.HTML object>"
      ]
     },
     "metadata": {},
     "output_type": "display_data"
    },
    {
     "data": {
      "text/html": [
       "Run data is saved locally in <code>/kaggle/working/wandb/run-20241213_080333-8y0lgk6z</code>"
      ],
      "text/plain": [
       "<IPython.core.display.HTML object>"
      ]
     },
     "metadata": {},
     "output_type": "display_data"
    },
    {
     "data": {
      "text/html": [
       "Syncing run <strong><a href='https://wandb.ai/longluv1605-institute-for-artificial-intelligence/unet-hyperparam-tuning/runs/8y0lgk6z' target=\"_blank\">magic-snow-14</a></strong> to <a href='https://wandb.ai/longluv1605-institute-for-artificial-intelligence/unet-hyperparam-tuning' target=\"_blank\">Weights & Biases</a> (<a href='https://wandb.me/developer-guide' target=\"_blank\">docs</a>)<br/>"
      ],
      "text/plain": [
       "<IPython.core.display.HTML object>"
      ]
     },
     "metadata": {},
     "output_type": "display_data"
    },
    {
     "data": {
      "text/html": [
       " View project at <a href='https://wandb.ai/longluv1605-institute-for-artificial-intelligence/unet-hyperparam-tuning' target=\"_blank\">https://wandb.ai/longluv1605-institute-for-artificial-intelligence/unet-hyperparam-tuning</a>"
      ],
      "text/plain": [
       "<IPython.core.display.HTML object>"
      ]
     },
     "metadata": {},
     "output_type": "display_data"
    },
    {
     "data": {
      "text/html": [
       " View run at <a href='https://wandb.ai/longluv1605-institute-for-artificial-intelligence/unet-hyperparam-tuning/runs/8y0lgk6z' target=\"_blank\">https://wandb.ai/longluv1605-institute-for-artificial-intelligence/unet-hyperparam-tuning/runs/8y0lgk6z</a>"
      ],
      "text/plain": [
       "<IPython.core.display.HTML object>"
      ]
     },
     "metadata": {},
     "output_type": "display_data"
    },
    {
     "name": "stdout",
     "output_type": "stream",
     "text": [
      "Training with parameters: {'lr': 0.003, 'weight_decay': 0.01, 'optim': 'Adam'}\n"
     ]
    },
    {
     "name": "stderr",
     "output_type": "stream",
     "text": [
      "Training [1/10]: 100%|██████████| 150/150 [02:43<00:00,  1.09s/batch]\n"
     ]
    },
    {
     "name": "stdout",
     "output_type": "stream",
     "text": [
      "---> Train loss: 1.4194\n",
      "---> Train acc: 0.5431\n"
     ]
    },
    {
     "name": "stderr",
     "output_type": "stream",
     "text": [
      "Validate [1/10]: 100%|██████████| 13/13 [00:13<00:00,  1.04s/batch]\n"
     ]
    },
    {
     "name": "stdout",
     "output_type": "stream",
     "text": [
      "---> Valid loss: 1.4113\n",
      "---> Valid acc: 0.5127\n",
      "Model is saved to: /kaggle/working/tuned/unet_epoch1.pth\n"
     ]
    },
    {
     "name": "stderr",
     "output_type": "stream",
     "text": [
      "Training [2/10]: 100%|██████████| 150/150 [02:38<00:00,  1.06s/batch]\n"
     ]
    },
    {
     "name": "stdout",
     "output_type": "stream",
     "text": [
      "---> Train loss: 1.4856\n",
      "---> Train acc: 0.5040\n"
     ]
    },
    {
     "name": "stderr",
     "output_type": "stream",
     "text": [
      "Validate [2/10]: 100%|██████████| 13/13 [00:12<00:00,  1.01batch/s]\n"
     ]
    },
    {
     "name": "stdout",
     "output_type": "stream",
     "text": [
      "---> Valid loss: 1.4584\n",
      "---> Valid acc: 0.5132\n"
     ]
    },
    {
     "name": "stderr",
     "output_type": "stream",
     "text": [
      "Training [3/10]: 100%|██████████| 150/150 [02:35<00:00,  1.04s/batch]\n"
     ]
    },
    {
     "name": "stdout",
     "output_type": "stream",
     "text": [
      "---> Train loss: 1.4300\n",
      "---> Train acc: 0.5270\n"
     ]
    },
    {
     "name": "stderr",
     "output_type": "stream",
     "text": [
      "Validate [3/10]: 100%|██████████| 13/13 [00:12<00:00,  1.03batch/s]\n"
     ]
    },
    {
     "name": "stdout",
     "output_type": "stream",
     "text": [
      "---> Valid loss: 1.3334\n",
      "---> Valid acc: 0.5299\n",
      "Model is saved to: /kaggle/working/tuned/unet_epoch3.pth\n"
     ]
    },
    {
     "name": "stderr",
     "output_type": "stream",
     "text": [
      "Training [4/10]: 100%|██████████| 150/150 [02:36<00:00,  1.04s/batch]\n"
     ]
    },
    {
     "name": "stdout",
     "output_type": "stream",
     "text": [
      "---> Train loss: 1.4015\n",
      "---> Train acc: 0.5307\n"
     ]
    },
    {
     "name": "stderr",
     "output_type": "stream",
     "text": [
      "Validate [4/10]: 100%|██████████| 13/13 [00:12<00:00,  1.02batch/s]\n"
     ]
    },
    {
     "name": "stdout",
     "output_type": "stream",
     "text": [
      "---> Valid loss: 1.3936\n",
      "---> Valid acc: 0.5252\n"
     ]
    },
    {
     "name": "stderr",
     "output_type": "stream",
     "text": [
      "Training [5/10]: 100%|██████████| 150/150 [02:38<00:00,  1.06s/batch]\n"
     ]
    },
    {
     "name": "stdout",
     "output_type": "stream",
     "text": [
      "---> Train loss: 1.4282\n",
      "---> Train acc: 0.5242\n"
     ]
    },
    {
     "name": "stderr",
     "output_type": "stream",
     "text": [
      "Validate [5/10]: 100%|██████████| 13/13 [00:13<00:00,  1.02s/batch]\n"
     ]
    },
    {
     "name": "stdout",
     "output_type": "stream",
     "text": [
      "---> Valid loss: 1.4297\n",
      "---> Valid acc: 0.5174\n"
     ]
    },
    {
     "name": "stderr",
     "output_type": "stream",
     "text": [
      "Training [6/10]: 100%|██████████| 150/150 [02:35<00:00,  1.04s/batch]\n"
     ]
    },
    {
     "name": "stdout",
     "output_type": "stream",
     "text": [
      "---> Train loss: 1.3743\n",
      "---> Train acc: 0.5434\n"
     ]
    },
    {
     "name": "stderr",
     "output_type": "stream",
     "text": [
      "Validate [6/10]: 100%|██████████| 13/13 [00:13<00:00,  1.01s/batch]\n"
     ]
    },
    {
     "name": "stdout",
     "output_type": "stream",
     "text": [
      "---> Valid loss: 1.4803\n",
      "---> Valid acc: 0.4917\n"
     ]
    },
    {
     "name": "stderr",
     "output_type": "stream",
     "text": [
      "Training [7/10]: 100%|██████████| 150/150 [02:33<00:00,  1.03s/batch]\n"
     ]
    },
    {
     "name": "stdout",
     "output_type": "stream",
     "text": [
      "---> Train loss: 1.3589\n",
      "---> Train acc: 0.5459\n"
     ]
    },
    {
     "name": "stderr",
     "output_type": "stream",
     "text": [
      "Validate [7/10]: 100%|██████████| 13/13 [00:13<00:00,  1.04s/batch]\n"
     ]
    },
    {
     "name": "stdout",
     "output_type": "stream",
     "text": [
      "---> Valid loss: 1.4422\n",
      "---> Valid acc: 0.5239\n"
     ]
    },
    {
     "name": "stderr",
     "output_type": "stream",
     "text": [
      "Training [8/10]: 100%|██████████| 150/150 [02:35<00:00,  1.04s/batch]\n"
     ]
    },
    {
     "name": "stdout",
     "output_type": "stream",
     "text": [
      "---> Train loss: 1.3358\n",
      "---> Train acc: 0.5509\n"
     ]
    },
    {
     "name": "stderr",
     "output_type": "stream",
     "text": [
      "Validate [8/10]: 100%|██████████| 13/13 [00:12<00:00,  1.01batch/s]\n"
     ]
    },
    {
     "name": "stdout",
     "output_type": "stream",
     "text": [
      "---> Valid loss: 1.4201\n",
      "---> Valid acc: 0.4798\n"
     ]
    },
    {
     "name": "stderr",
     "output_type": "stream",
     "text": [
      "Training [9/10]: 100%|██████████| 150/150 [02:37<00:00,  1.05s/batch]\n"
     ]
    },
    {
     "name": "stdout",
     "output_type": "stream",
     "text": [
      "---> Train loss: 1.3692\n",
      "---> Train acc: 0.5408\n"
     ]
    },
    {
     "name": "stderr",
     "output_type": "stream",
     "text": [
      "Validate [9/10]: 100%|██████████| 13/13 [00:12<00:00,  1.01batch/s]\n"
     ]
    },
    {
     "name": "stdout",
     "output_type": "stream",
     "text": [
      "---> Valid loss: 1.4120\n",
      "---> Valid acc: 0.5172\n"
     ]
    },
    {
     "name": "stderr",
     "output_type": "stream",
     "text": [
      "Training [10/10]: 100%|██████████| 150/150 [02:37<00:00,  1.05s/batch]\n"
     ]
    },
    {
     "name": "stdout",
     "output_type": "stream",
     "text": [
      "---> Train loss: 1.3300\n",
      "---> Train acc: 0.5514\n"
     ]
    },
    {
     "name": "stderr",
     "output_type": "stream",
     "text": [
      "Validate [10/10]: 100%|██████████| 13/13 [00:12<00:00,  1.02batch/s]\n"
     ]
    },
    {
     "name": "stdout",
     "output_type": "stream",
     "text": [
      "---> Valid loss: 1.3635\n",
      "---> Valid acc: 0.5215\n",
      "Model is saved to: /kaggle/working/tuned/unet_0.003_0.01_Adam.pth\n",
      "Training with parameters: {'lr': 0.003, 'weight_decay': 0.01, 'optim': 'SGD'}\n"
     ]
    },
    {
     "name": "stderr",
     "output_type": "stream",
     "text": [
      "Training [1/10]: 100%|██████████| 150/150 [02:35<00:00,  1.04s/batch]\n"
     ]
    },
    {
     "name": "stdout",
     "output_type": "stream",
     "text": [
      "---> Train loss: 2.1801\n",
      "---> Train acc: 0.4705\n"
     ]
    },
    {
     "name": "stderr",
     "output_type": "stream",
     "text": [
      "Validate [1/10]: 100%|██████████| 13/13 [00:13<00:00,  1.00s/batch]\n"
     ]
    },
    {
     "name": "stdout",
     "output_type": "stream",
     "text": [
      "---> Valid loss: 1.8264\n",
      "---> Valid acc: 0.5199\n",
      "Model is saved to: /kaggle/working/tuned/unet_epoch1.pth\n"
     ]
    },
    {
     "name": "stderr",
     "output_type": "stream",
     "text": [
      "Training [2/10]: 100%|██████████| 150/150 [02:42<00:00,  1.08s/batch]\n"
     ]
    },
    {
     "name": "stdout",
     "output_type": "stream",
     "text": [
      "---> Train loss: 1.4915\n",
      "---> Train acc: 0.5129\n"
     ]
    },
    {
     "name": "stderr",
     "output_type": "stream",
     "text": [
      "Validate [2/10]: 100%|██████████| 13/13 [00:12<00:00,  1.00batch/s]\n"
     ]
    },
    {
     "name": "stdout",
     "output_type": "stream",
     "text": [
      "---> Valid loss: 1.3131\n",
      "---> Valid acc: 0.5455\n",
      "Model is saved to: /kaggle/working/tuned/unet_epoch2.pth\n"
     ]
    },
    {
     "name": "stderr",
     "output_type": "stream",
     "text": [
      "Training [3/10]: 100%|██████████| 150/150 [02:37<00:00,  1.05s/batch]\n"
     ]
    },
    {
     "name": "stdout",
     "output_type": "stream",
     "text": [
      "---> Train loss: 1.2941\n",
      "---> Train acc: 0.5597\n"
     ]
    },
    {
     "name": "stderr",
     "output_type": "stream",
     "text": [
      "Validate [3/10]: 100%|██████████| 13/13 [00:12<00:00,  1.03batch/s]\n"
     ]
    },
    {
     "name": "stdout",
     "output_type": "stream",
     "text": [
      "---> Valid loss: 1.6157\n",
      "---> Valid acc: 0.3930\n"
     ]
    },
    {
     "name": "stderr",
     "output_type": "stream",
     "text": [
      "Training [4/10]: 100%|██████████| 150/150 [02:38<00:00,  1.06s/batch]\n"
     ]
    },
    {
     "name": "stdout",
     "output_type": "stream",
     "text": [
      "---> Train loss: 1.2100\n",
      "---> Train acc: 0.5885\n"
     ]
    },
    {
     "name": "stderr",
     "output_type": "stream",
     "text": [
      "Validate [4/10]: 100%|██████████| 13/13 [00:13<00:00,  1.00s/batch]\n"
     ]
    },
    {
     "name": "stdout",
     "output_type": "stream",
     "text": [
      "---> Valid loss: 1.1809\n",
      "---> Valid acc: 0.5913\n",
      "Model is saved to: /kaggle/working/tuned/unet_epoch4.pth\n"
     ]
    },
    {
     "name": "stderr",
     "output_type": "stream",
     "text": [
      "Training [5/10]: 100%|██████████| 150/150 [02:38<00:00,  1.06s/batch]\n"
     ]
    },
    {
     "name": "stdout",
     "output_type": "stream",
     "text": [
      "---> Train loss: 1.1430\n",
      "---> Train acc: 0.6073\n"
     ]
    },
    {
     "name": "stderr",
     "output_type": "stream",
     "text": [
      "Validate [5/10]: 100%|██████████| 13/13 [00:13<00:00,  1.00s/batch]\n"
     ]
    },
    {
     "name": "stdout",
     "output_type": "stream",
     "text": [
      "---> Valid loss: 1.1063\n",
      "---> Valid acc: 0.5979\n",
      "Model is saved to: /kaggle/working/tuned/unet_epoch5.pth\n"
     ]
    },
    {
     "name": "stderr",
     "output_type": "stream",
     "text": [
      "Training [6/10]: 100%|██████████| 150/150 [02:39<00:00,  1.06s/batch]\n"
     ]
    },
    {
     "name": "stdout",
     "output_type": "stream",
     "text": [
      "---> Train loss: 1.0968\n",
      "---> Train acc: 0.6212\n"
     ]
    },
    {
     "name": "stderr",
     "output_type": "stream",
     "text": [
      "Validate [6/10]: 100%|██████████| 13/13 [00:12<00:00,  1.03batch/s]\n"
     ]
    },
    {
     "name": "stdout",
     "output_type": "stream",
     "text": [
      "---> Valid loss: 1.4014\n",
      "---> Valid acc: 0.5427\n"
     ]
    },
    {
     "name": "stderr",
     "output_type": "stream",
     "text": [
      "Training [7/10]: 100%|██████████| 150/150 [02:38<00:00,  1.06s/batch]\n"
     ]
    },
    {
     "name": "stdout",
     "output_type": "stream",
     "text": [
      "---> Train loss: 1.0485\n",
      "---> Train acc: 0.6339\n"
     ]
    },
    {
     "name": "stderr",
     "output_type": "stream",
     "text": [
      "Validate [7/10]: 100%|██████████| 13/13 [00:12<00:00,  1.01batch/s]\n"
     ]
    },
    {
     "name": "stdout",
     "output_type": "stream",
     "text": [
      "---> Valid loss: 1.0114\n",
      "---> Valid acc: 0.6171\n",
      "Model is saved to: /kaggle/working/tuned/unet_epoch7.pth\n"
     ]
    },
    {
     "name": "stderr",
     "output_type": "stream",
     "text": [
      "Training [8/10]: 100%|██████████| 150/150 [02:39<00:00,  1.06s/batch]\n"
     ]
    },
    {
     "name": "stdout",
     "output_type": "stream",
     "text": [
      "---> Train loss: 1.0172\n",
      "---> Train acc: 0.6446\n"
     ]
    },
    {
     "name": "stderr",
     "output_type": "stream",
     "text": [
      "Validate [8/10]: 100%|██████████| 13/13 [00:13<00:00,  1.01s/batch]\n"
     ]
    },
    {
     "name": "stdout",
     "output_type": "stream",
     "text": [
      "---> Valid loss: 1.0072\n",
      "---> Valid acc: 0.6205\n",
      "Model is saved to: /kaggle/working/tuned/unet_epoch8.pth\n"
     ]
    },
    {
     "name": "stderr",
     "output_type": "stream",
     "text": [
      "Training [9/10]: 100%|██████████| 150/150 [02:35<00:00,  1.03s/batch]\n"
     ]
    },
    {
     "name": "stdout",
     "output_type": "stream",
     "text": [
      "---> Train loss: 0.9730\n",
      "---> Train acc: 0.6551\n"
     ]
    },
    {
     "name": "stderr",
     "output_type": "stream",
     "text": [
      "Validate [9/10]: 100%|██████████| 13/13 [00:13<00:00,  1.00s/batch]\n"
     ]
    },
    {
     "name": "stdout",
     "output_type": "stream",
     "text": [
      "---> Valid loss: 1.1343\n",
      "---> Valid acc: 0.5831\n"
     ]
    },
    {
     "name": "stderr",
     "output_type": "stream",
     "text": [
      "Training [10/10]: 100%|██████████| 150/150 [02:39<00:00,  1.07s/batch]\n"
     ]
    },
    {
     "name": "stdout",
     "output_type": "stream",
     "text": [
      "---> Train loss: 1.0559\n",
      "---> Train acc: 0.6317\n"
     ]
    },
    {
     "name": "stderr",
     "output_type": "stream",
     "text": [
      "Validate [10/10]: 100%|██████████| 13/13 [00:12<00:00,  1.02batch/s]\n"
     ]
    },
    {
     "name": "stdout",
     "output_type": "stream",
     "text": [
      "---> Valid loss: 0.9414\n",
      "---> Valid acc: 0.6351\n",
      "Model is saved to: /kaggle/working/tuned/unet_epoch10.pth\n",
      "Model is saved to: /kaggle/working/tuned/unet_0.003_0.01_SGD.pth\n",
      "Training with parameters: {'lr': 0.003, 'weight_decay': 0.001, 'optim': 'Adam'}\n"
     ]
    },
    {
     "name": "stderr",
     "output_type": "stream",
     "text": [
      "Training [1/10]: 100%|██████████| 150/150 [02:39<00:00,  1.06s/batch]\n"
     ]
    },
    {
     "name": "stdout",
     "output_type": "stream",
     "text": [
      "---> Train loss: 1.3254\n",
      "---> Train acc: 0.5727\n"
     ]
    },
    {
     "name": "stderr",
     "output_type": "stream",
     "text": [
      "Validate [1/10]: 100%|██████████| 13/13 [00:12<00:00,  1.03batch/s]\n"
     ]
    },
    {
     "name": "stdout",
     "output_type": "stream",
     "text": [
      "---> Valid loss: 1.2777\n",
      "---> Valid acc: 0.5491\n",
      "Model is saved to: /kaggle/working/tuned/unet_epoch1.pth\n"
     ]
    },
    {
     "name": "stderr",
     "output_type": "stream",
     "text": [
      "Training [2/10]: 100%|██████████| 150/150 [02:40<00:00,  1.07s/batch]\n"
     ]
    },
    {
     "name": "stdout",
     "output_type": "stream",
     "text": [
      "---> Train loss: 1.4222\n",
      "---> Train acc: 0.5129\n"
     ]
    },
    {
     "name": "stderr",
     "output_type": "stream",
     "text": [
      "Validate [2/10]: 100%|██████████| 13/13 [00:13<00:00,  1.01s/batch]\n"
     ]
    },
    {
     "name": "stdout",
     "output_type": "stream",
     "text": [
      "---> Valid loss: 1.3521\n",
      "---> Valid acc: 0.5028\n"
     ]
    },
    {
     "name": "stderr",
     "output_type": "stream",
     "text": [
      "Training [3/10]: 100%|██████████| 150/150 [02:36<00:00,  1.04s/batch]\n"
     ]
    },
    {
     "name": "stdout",
     "output_type": "stream",
     "text": [
      "---> Train loss: 1.3107\n",
      "---> Train acc: 0.5506\n"
     ]
    },
    {
     "name": "stderr",
     "output_type": "stream",
     "text": [
      "Validate [3/10]: 100%|██████████| 13/13 [00:12<00:00,  1.01batch/s]\n"
     ]
    },
    {
     "name": "stdout",
     "output_type": "stream",
     "text": [
      "---> Valid loss: 1.3517\n",
      "---> Valid acc: 0.5296\n"
     ]
    },
    {
     "name": "stderr",
     "output_type": "stream",
     "text": [
      "Training [4/10]: 100%|██████████| 150/150 [02:36<00:00,  1.05s/batch]\n"
     ]
    },
    {
     "name": "stdout",
     "output_type": "stream",
     "text": [
      "---> Train loss: 1.3146\n",
      "---> Train acc: 0.5478\n"
     ]
    },
    {
     "name": "stderr",
     "output_type": "stream",
     "text": [
      "Validate [4/10]: 100%|██████████| 13/13 [00:12<00:00,  1.02batch/s]\n"
     ]
    },
    {
     "name": "stdout",
     "output_type": "stream",
     "text": [
      "---> Valid loss: 1.2413\n",
      "---> Valid acc: 0.5620\n",
      "Model is saved to: /kaggle/working/tuned/unet_epoch4.pth\n"
     ]
    },
    {
     "name": "stderr",
     "output_type": "stream",
     "text": [
      "Training [5/10]: 100%|██████████| 150/150 [02:39<00:00,  1.06s/batch]\n"
     ]
    },
    {
     "name": "stdout",
     "output_type": "stream",
     "text": [
      "---> Train loss: 1.2888\n",
      "---> Train acc: 0.5578\n"
     ]
    },
    {
     "name": "stderr",
     "output_type": "stream",
     "text": [
      "Validate [5/10]: 100%|██████████| 13/13 [00:12<00:00,  1.03batch/s]\n"
     ]
    },
    {
     "name": "stdout",
     "output_type": "stream",
     "text": [
      "---> Valid loss: 1.3968\n",
      "---> Valid acc: 0.5214\n"
     ]
    },
    {
     "name": "stderr",
     "output_type": "stream",
     "text": [
      "Training [6/10]: 100%|██████████| 150/150 [02:35<00:00,  1.04s/batch]\n"
     ]
    },
    {
     "name": "stdout",
     "output_type": "stream",
     "text": [
      "---> Train loss: 1.2809\n",
      "---> Train acc: 0.5597\n"
     ]
    },
    {
     "name": "stderr",
     "output_type": "stream",
     "text": [
      "Validate [6/10]: 100%|██████████| 13/13 [00:13<00:00,  1.01s/batch]\n"
     ]
    },
    {
     "name": "stdout",
     "output_type": "stream",
     "text": [
      "---> Valid loss: 1.2533\n",
      "---> Valid acc: 0.5571\n"
     ]
    },
    {
     "name": "stderr",
     "output_type": "stream",
     "text": [
      "Training [7/10]: 100%|██████████| 150/150 [02:34<00:00,  1.03s/batch]\n"
     ]
    },
    {
     "name": "stdout",
     "output_type": "stream",
     "text": [
      "---> Train loss: 1.2323\n",
      "---> Train acc: 0.5719\n"
     ]
    },
    {
     "name": "stderr",
     "output_type": "stream",
     "text": [
      "Validate [7/10]: 100%|██████████| 13/13 [00:12<00:00,  1.01batch/s]\n"
     ]
    },
    {
     "name": "stdout",
     "output_type": "stream",
     "text": [
      "---> Valid loss: 1.3117\n",
      "---> Valid acc: 0.5482\n"
     ]
    },
    {
     "name": "stderr",
     "output_type": "stream",
     "text": [
      "Training [8/10]: 100%|██████████| 150/150 [02:38<00:00,  1.05s/batch]\n"
     ]
    },
    {
     "name": "stdout",
     "output_type": "stream",
     "text": [
      "---> Train loss: 1.2208\n",
      "---> Train acc: 0.5775\n"
     ]
    },
    {
     "name": "stderr",
     "output_type": "stream",
     "text": [
      "Validate [8/10]: 100%|██████████| 13/13 [00:12<00:00,  1.02batch/s]\n"
     ]
    },
    {
     "name": "stdout",
     "output_type": "stream",
     "text": [
      "---> Valid loss: 1.2813\n",
      "---> Valid acc: 0.5470\n"
     ]
    },
    {
     "name": "stderr",
     "output_type": "stream",
     "text": [
      "Training [9/10]: 100%|██████████| 150/150 [02:37<00:00,  1.05s/batch]\n"
     ]
    },
    {
     "name": "stdout",
     "output_type": "stream",
     "text": [
      "---> Train loss: 1.1983\n",
      "---> Train acc: 0.5878\n"
     ]
    },
    {
     "name": "stderr",
     "output_type": "stream",
     "text": [
      "Validate [9/10]: 100%|██████████| 13/13 [00:12<00:00,  1.02batch/s]\n"
     ]
    },
    {
     "name": "stdout",
     "output_type": "stream",
     "text": [
      "---> Valid loss: 1.1949\n",
      "---> Valid acc: 0.5797\n",
      "Model is saved to: /kaggle/working/tuned/unet_epoch9.pth\n"
     ]
    },
    {
     "name": "stderr",
     "output_type": "stream",
     "text": [
      "Training [10/10]: 100%|██████████| 150/150 [02:31<00:00,  1.01s/batch]\n"
     ]
    },
    {
     "name": "stdout",
     "output_type": "stream",
     "text": [
      "---> Train loss: 1.1982\n",
      "---> Train acc: 0.5854\n"
     ]
    },
    {
     "name": "stderr",
     "output_type": "stream",
     "text": [
      "Validate [10/10]: 100%|██████████| 13/13 [00:12<00:00,  1.04batch/s]\n"
     ]
    },
    {
     "name": "stdout",
     "output_type": "stream",
     "text": [
      "---> Valid loss: 1.2057\n",
      "---> Valid acc: 0.5733\n",
      "Training with parameters: {'lr': 0.003, 'weight_decay': 0.001, 'optim': 'SGD'}\n"
     ]
    },
    {
     "name": "stderr",
     "output_type": "stream",
     "text": [
      "Training [1/10]: 100%|██████████| 150/150 [02:40<00:00,  1.07s/batch]\n"
     ]
    },
    {
     "name": "stdout",
     "output_type": "stream",
     "text": [
      "---> Train loss: 2.2784\n",
      "---> Train acc: 0.4405\n"
     ]
    },
    {
     "name": "stderr",
     "output_type": "stream",
     "text": [
      "Validate [1/10]: 100%|██████████| 13/13 [00:12<00:00,  1.00batch/s]\n"
     ]
    },
    {
     "name": "stdout",
     "output_type": "stream",
     "text": [
      "---> Valid loss: 1.8664\n",
      "---> Valid acc: 0.5041\n",
      "Model is saved to: /kaggle/working/tuned/unet_epoch1.pth\n"
     ]
    },
    {
     "name": "stderr",
     "output_type": "stream",
     "text": [
      "Training [2/10]: 100%|██████████| 150/150 [02:37<00:00,  1.05s/batch]\n"
     ]
    },
    {
     "name": "stdout",
     "output_type": "stream",
     "text": [
      "---> Train loss: 1.5144\n",
      "---> Train acc: 0.5049\n"
     ]
    },
    {
     "name": "stderr",
     "output_type": "stream",
     "text": [
      "Validate [2/10]: 100%|██████████| 13/13 [00:13<00:00,  1.01s/batch]\n"
     ]
    },
    {
     "name": "stdout",
     "output_type": "stream",
     "text": [
      "---> Valid loss: 1.4296\n",
      "---> Valid acc: 0.4905\n",
      "Model is saved to: /kaggle/working/tuned/unet_epoch2.pth\n"
     ]
    },
    {
     "name": "stderr",
     "output_type": "stream",
     "text": [
      "Training [3/10]: 100%|██████████| 150/150 [02:33<00:00,  1.02s/batch]\n"
     ]
    },
    {
     "name": "stdout",
     "output_type": "stream",
     "text": [
      "---> Train loss: 1.3745\n",
      "---> Train acc: 0.5387\n"
     ]
    },
    {
     "name": "stderr",
     "output_type": "stream",
     "text": [
      "Validate [3/10]: 100%|██████████| 13/13 [00:12<00:00,  1.03batch/s]\n"
     ]
    },
    {
     "name": "stdout",
     "output_type": "stream",
     "text": [
      "---> Valid loss: 1.3203\n",
      "---> Valid acc: 0.5247\n",
      "Model is saved to: /kaggle/working/tuned/unet_epoch3.pth\n"
     ]
    },
    {
     "name": "stderr",
     "output_type": "stream",
     "text": [
      "Training [4/10]: 100%|██████████| 150/150 [02:38<00:00,  1.05s/batch]\n"
     ]
    },
    {
     "name": "stdout",
     "output_type": "stream",
     "text": [
      "---> Train loss: 1.2137\n",
      "---> Train acc: 0.5876\n"
     ]
    },
    {
     "name": "stderr",
     "output_type": "stream",
     "text": [
      "Validate [4/10]: 100%|██████████| 13/13 [00:12<00:00,  1.03batch/s]\n"
     ]
    },
    {
     "name": "stdout",
     "output_type": "stream",
     "text": [
      "---> Valid loss: 1.4126\n",
      "---> Valid acc: 0.5006\n"
     ]
    },
    {
     "name": "stderr",
     "output_type": "stream",
     "text": [
      "Training [5/10]: 100%|██████████| 150/150 [02:38<00:00,  1.06s/batch]\n"
     ]
    },
    {
     "name": "stdout",
     "output_type": "stream",
     "text": [
      "---> Train loss: 1.1476\n",
      "---> Train acc: 0.6056\n"
     ]
    },
    {
     "name": "stderr",
     "output_type": "stream",
     "text": [
      "Validate [5/10]: 100%|██████████| 13/13 [00:12<00:00,  1.04batch/s]\n"
     ]
    },
    {
     "name": "stdout",
     "output_type": "stream",
     "text": [
      "---> Valid loss: 1.4683\n",
      "---> Valid acc: 0.5008\n"
     ]
    },
    {
     "name": "stderr",
     "output_type": "stream",
     "text": [
      "Training [6/10]: 100%|██████████| 150/150 [02:38<00:00,  1.05s/batch]\n"
     ]
    },
    {
     "name": "stdout",
     "output_type": "stream",
     "text": [
      "---> Train loss: 1.0794\n",
      "---> Train acc: 0.6272\n"
     ]
    },
    {
     "name": "stderr",
     "output_type": "stream",
     "text": [
      "Validate [6/10]: 100%|██████████| 13/13 [00:13<00:00,  1.03s/batch]\n"
     ]
    },
    {
     "name": "stdout",
     "output_type": "stream",
     "text": [
      "---> Valid loss: 1.1419\n",
      "---> Valid acc: 0.5932\n",
      "Model is saved to: /kaggle/working/tuned/unet_epoch6.pth\n"
     ]
    },
    {
     "name": "stderr",
     "output_type": "stream",
     "text": [
      "Training [7/10]: 100%|██████████| 150/150 [02:33<00:00,  1.02s/batch]\n"
     ]
    },
    {
     "name": "stdout",
     "output_type": "stream",
     "text": [
      "---> Train loss: 1.0526\n",
      "---> Train acc: 0.6349\n"
     ]
    },
    {
     "name": "stderr",
     "output_type": "stream",
     "text": [
      "Validate [7/10]: 100%|██████████| 13/13 [00:12<00:00,  1.01batch/s]\n"
     ]
    },
    {
     "name": "stdout",
     "output_type": "stream",
     "text": [
      "---> Valid loss: 1.1077\n",
      "---> Valid acc: 0.6049\n",
      "Model is saved to: /kaggle/working/tuned/unet_epoch7.pth\n"
     ]
    },
    {
     "name": "stderr",
     "output_type": "stream",
     "text": [
      "Training [8/10]: 100%|██████████| 150/150 [02:37<00:00,  1.05s/batch]\n"
     ]
    },
    {
     "name": "stdout",
     "output_type": "stream",
     "text": [
      "---> Train loss: 1.0311\n",
      "---> Train acc: 0.6399\n"
     ]
    },
    {
     "name": "stderr",
     "output_type": "stream",
     "text": [
      "Validate [8/10]: 100%|██████████| 13/13 [00:12<00:00,  1.03batch/s]\n"
     ]
    },
    {
     "name": "stdout",
     "output_type": "stream",
     "text": [
      "---> Valid loss: 1.1352\n",
      "---> Valid acc: 0.5814\n"
     ]
    },
    {
     "name": "stderr",
     "output_type": "stream",
     "text": [
      "Training [9/10]: 100%|██████████| 150/150 [02:38<00:00,  1.05s/batch]\n"
     ]
    },
    {
     "name": "stdout",
     "output_type": "stream",
     "text": [
      "---> Train loss: 0.9803\n",
      "---> Train acc: 0.6551\n"
     ]
    },
    {
     "name": "stderr",
     "output_type": "stream",
     "text": [
      "Validate [9/10]: 100%|██████████| 13/13 [00:12<00:00,  1.02batch/s]\n"
     ]
    },
    {
     "name": "stdout",
     "output_type": "stream",
     "text": [
      "---> Valid loss: 1.3393\n",
      "---> Valid acc: 0.5356\n"
     ]
    },
    {
     "name": "stderr",
     "output_type": "stream",
     "text": [
      "Training [10/10]: 100%|██████████| 150/150 [02:35<00:00,  1.04s/batch]\n"
     ]
    },
    {
     "name": "stdout",
     "output_type": "stream",
     "text": [
      "---> Train loss: 0.9511\n",
      "---> Train acc: 0.6625\n"
     ]
    },
    {
     "name": "stderr",
     "output_type": "stream",
     "text": [
      "Validate [10/10]: 100%|██████████| 13/13 [00:12<00:00,  1.02batch/s]\n"
     ]
    },
    {
     "name": "stdout",
     "output_type": "stream",
     "text": [
      "---> Valid loss: 0.9441\n",
      "---> Valid acc: 0.6410\n",
      "Model is saved to: /kaggle/working/tuned/unet_epoch10.pth\n",
      "Model is saved to: /kaggle/working/tuned/unet_0.003_0.001_SGD.pth\n",
      "Training with parameters: {'lr': 0.001, 'weight_decay': 0.01, 'optim': 'Adam'}\n"
     ]
    },
    {
     "name": "stderr",
     "output_type": "stream",
     "text": [
      "Training [1/10]: 100%|██████████| 150/150 [02:34<00:00,  1.03s/batch]\n"
     ]
    },
    {
     "name": "stdout",
     "output_type": "stream",
     "text": [
      "---> Train loss: 1.3738\n",
      "---> Train acc: 0.5863\n"
     ]
    },
    {
     "name": "stderr",
     "output_type": "stream",
     "text": [
      "Validate [1/10]: 100%|██████████| 13/13 [00:13<00:00,  1.05s/batch]\n"
     ]
    },
    {
     "name": "stdout",
     "output_type": "stream",
     "text": [
      "---> Valid loss: 1.3148\n",
      "---> Valid acc: 0.5363\n",
      "Model is saved to: /kaggle/working/tuned/unet_epoch1.pth\n"
     ]
    },
    {
     "name": "stderr",
     "output_type": "stream",
     "text": [
      "Training [2/10]: 100%|██████████| 150/150 [02:40<00:00,  1.07s/batch]\n"
     ]
    },
    {
     "name": "stdout",
     "output_type": "stream",
     "text": [
      "---> Train loss: 1.3611\n",
      "---> Train acc: 0.5396\n"
     ]
    },
    {
     "name": "stderr",
     "output_type": "stream",
     "text": [
      "Validate [2/10]: 100%|██████████| 13/13 [00:12<00:00,  1.03batch/s]\n"
     ]
    },
    {
     "name": "stdout",
     "output_type": "stream",
     "text": [
      "---> Valid loss: 1.4212\n",
      "---> Valid acc: 0.4861\n"
     ]
    },
    {
     "name": "stderr",
     "output_type": "stream",
     "text": [
      "Training [3/10]: 100%|██████████| 150/150 [02:31<00:00,  1.01s/batch]\n"
     ]
    },
    {
     "name": "stdout",
     "output_type": "stream",
     "text": [
      "---> Train loss: 1.2625\n",
      "---> Train acc: 0.5700\n"
     ]
    },
    {
     "name": "stderr",
     "output_type": "stream",
     "text": [
      "Validate [3/10]: 100%|██████████| 13/13 [00:12<00:00,  1.01batch/s]\n"
     ]
    },
    {
     "name": "stdout",
     "output_type": "stream",
     "text": [
      "---> Valid loss: 1.3085\n",
      "---> Valid acc: 0.5378\n",
      "Model is saved to: /kaggle/working/tuned/unet_epoch3.pth\n"
     ]
    },
    {
     "name": "stderr",
     "output_type": "stream",
     "text": [
      "Training [4/10]: 100%|██████████| 150/150 [02:34<00:00,  1.03s/batch]\n"
     ]
    },
    {
     "name": "stdout",
     "output_type": "stream",
     "text": [
      "---> Train loss: 1.2548\n",
      "---> Train acc: 0.5697\n"
     ]
    },
    {
     "name": "stderr",
     "output_type": "stream",
     "text": [
      "Validate [4/10]: 100%|██████████| 13/13 [00:12<00:00,  1.02batch/s]\n"
     ]
    },
    {
     "name": "stdout",
     "output_type": "stream",
     "text": [
      "---> Valid loss: 1.2424\n",
      "---> Valid acc: 0.5632\n",
      "Model is saved to: /kaggle/working/tuned/unet_epoch4.pth\n"
     ]
    },
    {
     "name": "stderr",
     "output_type": "stream",
     "text": [
      "Training [5/10]: 100%|██████████| 150/150 [02:34<00:00,  1.03s/batch]\n"
     ]
    },
    {
     "name": "stdout",
     "output_type": "stream",
     "text": [
      "---> Train loss: 1.2152\n",
      "---> Train acc: 0.5828\n"
     ]
    },
    {
     "name": "stderr",
     "output_type": "stream",
     "text": [
      "Validate [5/10]: 100%|██████████| 13/13 [00:12<00:00,  1.04batch/s]\n"
     ]
    },
    {
     "name": "stdout",
     "output_type": "stream",
     "text": [
      "---> Valid loss: 1.2273\n",
      "---> Valid acc: 0.5691\n",
      "Model is saved to: /kaggle/working/tuned/unet_epoch5.pth\n"
     ]
    },
    {
     "name": "stderr",
     "output_type": "stream",
     "text": [
      "Training [6/10]: 100%|██████████| 150/150 [02:37<00:00,  1.05s/batch]\n"
     ]
    },
    {
     "name": "stdout",
     "output_type": "stream",
     "text": [
      "---> Train loss: 1.2015\n",
      "---> Train acc: 0.5862\n"
     ]
    },
    {
     "name": "stderr",
     "output_type": "stream",
     "text": [
      "Validate [6/10]: 100%|██████████| 13/13 [00:12<00:00,  1.00batch/s]\n"
     ]
    },
    {
     "name": "stdout",
     "output_type": "stream",
     "text": [
      "---> Valid loss: 1.2306\n",
      "---> Valid acc: 0.5527\n"
     ]
    },
    {
     "name": "stderr",
     "output_type": "stream",
     "text": [
      "Training [7/10]: 100%|██████████| 150/150 [02:35<00:00,  1.04s/batch]\n"
     ]
    },
    {
     "name": "stdout",
     "output_type": "stream",
     "text": [
      "---> Train loss: 1.1975\n",
      "---> Train acc: 0.5873\n"
     ]
    },
    {
     "name": "stderr",
     "output_type": "stream",
     "text": [
      "Validate [7/10]: 100%|██████████| 13/13 [00:12<00:00,  1.00batch/s]\n"
     ]
    },
    {
     "name": "stdout",
     "output_type": "stream",
     "text": [
      "---> Valid loss: 1.2810\n",
      "---> Valid acc: 0.5575\n"
     ]
    },
    {
     "name": "stderr",
     "output_type": "stream",
     "text": [
      "Training [8/10]: 100%|██████████| 150/150 [02:37<00:00,  1.05s/batch]\n"
     ]
    },
    {
     "name": "stdout",
     "output_type": "stream",
     "text": [
      "---> Train loss: 1.2017\n",
      "---> Train acc: 0.5859\n"
     ]
    },
    {
     "name": "stderr",
     "output_type": "stream",
     "text": [
      "Validate [8/10]: 100%|██████████| 13/13 [00:12<00:00,  1.00batch/s]\n"
     ]
    },
    {
     "name": "stdout",
     "output_type": "stream",
     "text": [
      "---> Valid loss: 1.2655\n",
      "---> Valid acc: 0.5449\n"
     ]
    },
    {
     "name": "stderr",
     "output_type": "stream",
     "text": [
      "Training [9/10]: 100%|██████████| 150/150 [02:31<00:00,  1.01s/batch]\n"
     ]
    },
    {
     "name": "stdout",
     "output_type": "stream",
     "text": [
      "---> Train loss: 1.1896\n",
      "---> Train acc: 0.5885\n"
     ]
    },
    {
     "name": "stderr",
     "output_type": "stream",
     "text": [
      "Validate [9/10]: 100%|██████████| 13/13 [00:12<00:00,  1.04batch/s]\n"
     ]
    },
    {
     "name": "stdout",
     "output_type": "stream",
     "text": [
      "---> Valid loss: 1.2107\n",
      "---> Valid acc: 0.5740\n",
      "Model is saved to: /kaggle/working/tuned/unet_epoch9.pth\n"
     ]
    },
    {
     "name": "stderr",
     "output_type": "stream",
     "text": [
      "Training [10/10]: 100%|██████████| 150/150 [02:34<00:00,  1.03s/batch]\n"
     ]
    },
    {
     "name": "stdout",
     "output_type": "stream",
     "text": [
      "---> Train loss: 1.2029\n",
      "---> Train acc: 0.5848\n"
     ]
    },
    {
     "name": "stderr",
     "output_type": "stream",
     "text": [
      "Validate [10/10]: 100%|██████████| 13/13 [00:12<00:00,  1.05batch/s]\n"
     ]
    },
    {
     "name": "stdout",
     "output_type": "stream",
     "text": [
      "---> Valid loss: 1.2069\n",
      "---> Valid acc: 0.5758\n",
      "Model is saved to: /kaggle/working/tuned/unet_epoch10.pth\n",
      "Training with parameters: {'lr': 0.001, 'weight_decay': 0.01, 'optim': 'SGD'}\n"
     ]
    },
    {
     "name": "stderr",
     "output_type": "stream",
     "text": [
      "Training [1/10]: 100%|██████████| 150/150 [02:34<00:00,  1.03s/batch]\n"
     ]
    },
    {
     "name": "stdout",
     "output_type": "stream",
     "text": [
      "---> Train loss: 2.4828\n",
      "---> Train acc: 0.4129\n"
     ]
    },
    {
     "name": "stderr",
     "output_type": "stream",
     "text": [
      "Validate [1/10]: 100%|██████████| 13/13 [00:12<00:00,  1.04batch/s]\n"
     ]
    },
    {
     "name": "stdout",
     "output_type": "stream",
     "text": [
      "---> Valid loss: 2.1755\n",
      "---> Valid acc: 0.4886\n",
      "Model is saved to: /kaggle/working/tuned/unet_epoch1.pth\n"
     ]
    },
    {
     "name": "stderr",
     "output_type": "stream",
     "text": [
      "Training [2/10]: 100%|██████████| 150/150 [02:37<00:00,  1.05s/batch]\n"
     ]
    },
    {
     "name": "stdout",
     "output_type": "stream",
     "text": [
      "---> Train loss: 1.5614\n",
      "---> Train acc: 0.5295\n"
     ]
    },
    {
     "name": "stderr",
     "output_type": "stream",
     "text": [
      "Validate [2/10]: 100%|██████████| 13/13 [00:12<00:00,  1.01batch/s]\n"
     ]
    },
    {
     "name": "stdout",
     "output_type": "stream",
     "text": [
      "---> Valid loss: 1.4070\n",
      "---> Valid acc: 0.5303\n",
      "Model is saved to: /kaggle/working/tuned/unet_epoch2.pth\n"
     ]
    },
    {
     "name": "stderr",
     "output_type": "stream",
     "text": [
      "Training [3/10]: 100%|██████████| 150/150 [02:37<00:00,  1.05s/batch]\n"
     ]
    },
    {
     "name": "stdout",
     "output_type": "stream",
     "text": [
      "---> Train loss: 1.3337\n",
      "---> Train acc: 0.5577\n"
     ]
    },
    {
     "name": "stderr",
     "output_type": "stream",
     "text": [
      "Validate [3/10]: 100%|██████████| 13/13 [00:13<00:00,  1.01s/batch]\n"
     ]
    },
    {
     "name": "stdout",
     "output_type": "stream",
     "text": [
      "---> Valid loss: 1.2765\n",
      "---> Valid acc: 0.5623\n",
      "Model is saved to: /kaggle/working/tuned/unet_epoch3.pth\n"
     ]
    },
    {
     "name": "stderr",
     "output_type": "stream",
     "text": [
      "Training [4/10]: 100%|██████████| 150/150 [02:36<00:00,  1.04s/batch]\n"
     ]
    },
    {
     "name": "stdout",
     "output_type": "stream",
     "text": [
      "---> Train loss: 1.2803\n",
      "---> Train acc: 0.5705\n"
     ]
    },
    {
     "name": "stderr",
     "output_type": "stream",
     "text": [
      "Validate [4/10]: 100%|██████████| 13/13 [00:13<00:00,  1.00s/batch]\n"
     ]
    },
    {
     "name": "stdout",
     "output_type": "stream",
     "text": [
      "---> Valid loss: 1.2857\n",
      "---> Valid acc: 0.5520\n"
     ]
    },
    {
     "name": "stderr",
     "output_type": "stream",
     "text": [
      "Training [5/10]: 100%|██████████| 150/150 [02:38<00:00,  1.06s/batch]\n"
     ]
    },
    {
     "name": "stdout",
     "output_type": "stream",
     "text": [
      "---> Train loss: 1.2295\n",
      "---> Train acc: 0.5857\n"
     ]
    },
    {
     "name": "stderr",
     "output_type": "stream",
     "text": [
      "Validate [5/10]: 100%|██████████| 13/13 [00:12<00:00,  1.02batch/s]\n"
     ]
    },
    {
     "name": "stdout",
     "output_type": "stream",
     "text": [
      "---> Valid loss: 1.2151\n",
      "---> Valid acc: 0.5737\n",
      "Model is saved to: /kaggle/working/tuned/unet_epoch5.pth\n"
     ]
    },
    {
     "name": "stderr",
     "output_type": "stream",
     "text": [
      "Training [6/10]: 100%|██████████| 150/150 [02:41<00:00,  1.08s/batch]\n"
     ]
    },
    {
     "name": "stdout",
     "output_type": "stream",
     "text": [
      "---> Train loss: 1.1659\n",
      "---> Train acc: 0.6029\n"
     ]
    },
    {
     "name": "stderr",
     "output_type": "stream",
     "text": [
      "Validate [6/10]: 100%|██████████| 13/13 [00:12<00:00,  1.03batch/s]\n"
     ]
    },
    {
     "name": "stdout",
     "output_type": "stream",
     "text": [
      "---> Valid loss: 1.1491\n",
      "---> Valid acc: 0.5989\n",
      "Model is saved to: /kaggle/working/tuned/unet_epoch6.pth\n"
     ]
    },
    {
     "name": "stderr",
     "output_type": "stream",
     "text": [
      "Training [7/10]: 100%|██████████| 150/150 [02:37<00:00,  1.05s/batch]\n"
     ]
    },
    {
     "name": "stdout",
     "output_type": "stream",
     "text": [
      "---> Train loss: 1.1149\n",
      "---> Train acc: 0.6197\n"
     ]
    },
    {
     "name": "stderr",
     "output_type": "stream",
     "text": [
      "Validate [7/10]: 100%|██████████| 13/13 [00:13<00:00,  1.01s/batch]\n"
     ]
    },
    {
     "name": "stdout",
     "output_type": "stream",
     "text": [
      "---> Valid loss: 1.1103\n",
      "---> Valid acc: 0.6055\n",
      "Model is saved to: /kaggle/working/tuned/unet_epoch7.pth\n"
     ]
    },
    {
     "name": "stderr",
     "output_type": "stream",
     "text": [
      "Training [8/10]: 100%|██████████| 150/150 [02:35<00:00,  1.04s/batch]\n"
     ]
    },
    {
     "name": "stdout",
     "output_type": "stream",
     "text": [
      "---> Train loss: 1.0807\n",
      "---> Train acc: 0.6275\n"
     ]
    },
    {
     "name": "stderr",
     "output_type": "stream",
     "text": [
      "Validate [8/10]: 100%|██████████| 13/13 [00:12<00:00,  1.05batch/s]\n"
     ]
    },
    {
     "name": "stdout",
     "output_type": "stream",
     "text": [
      "---> Valid loss: 1.0703\n",
      "---> Valid acc: 0.6128\n",
      "Model is saved to: /kaggle/working/tuned/unet_epoch8.pth\n"
     ]
    },
    {
     "name": "stderr",
     "output_type": "stream",
     "text": [
      "Training [9/10]: 100%|██████████| 150/150 [02:40<00:00,  1.07s/batch]\n"
     ]
    },
    {
     "name": "stdout",
     "output_type": "stream",
     "text": [
      "---> Train loss: 1.0548\n",
      "---> Train acc: 0.6363\n"
     ]
    },
    {
     "name": "stderr",
     "output_type": "stream",
     "text": [
      "Validate [9/10]: 100%|██████████| 13/13 [00:12<00:00,  1.05batch/s]\n"
     ]
    },
    {
     "name": "stdout",
     "output_type": "stream",
     "text": [
      "---> Valid loss: 1.0661\n",
      "---> Valid acc: 0.6131\n",
      "Model is saved to: /kaggle/working/tuned/unet_epoch9.pth\n"
     ]
    },
    {
     "name": "stderr",
     "output_type": "stream",
     "text": [
      "Training [10/10]: 100%|██████████| 150/150 [02:36<00:00,  1.04s/batch]\n"
     ]
    },
    {
     "name": "stdout",
     "output_type": "stream",
     "text": [
      "---> Train loss: 1.0170\n",
      "---> Train acc: 0.6472\n"
     ]
    },
    {
     "name": "stderr",
     "output_type": "stream",
     "text": [
      "Validate [10/10]: 100%|██████████| 13/13 [00:12<00:00,  1.02batch/s]\n"
     ]
    },
    {
     "name": "stdout",
     "output_type": "stream",
     "text": [
      "---> Valid loss: 1.1054\n",
      "---> Valid acc: 0.6004\n",
      "Training with parameters: {'lr': 0.001, 'weight_decay': 0.001, 'optim': 'Adam'}\n"
     ]
    },
    {
     "name": "stderr",
     "output_type": "stream",
     "text": [
      "Training [1/10]: 100%|██████████| 150/150 [02:39<00:00,  1.06s/batch]\n"
     ]
    },
    {
     "name": "stdout",
     "output_type": "stream",
     "text": [
      "---> Train loss: 1.3566\n",
      "---> Train acc: 0.6009\n"
     ]
    },
    {
     "name": "stderr",
     "output_type": "stream",
     "text": [
      "Validate [1/10]: 100%|██████████| 13/13 [00:13<00:00,  1.01s/batch]\n"
     ]
    },
    {
     "name": "stdout",
     "output_type": "stream",
     "text": [
      "---> Valid loss: 1.2353\n",
      "---> Valid acc: 0.5553\n",
      "Model is saved to: /kaggle/working/tuned/unet_epoch1.pth\n"
     ]
    },
    {
     "name": "stderr",
     "output_type": "stream",
     "text": [
      "Training [2/10]: 100%|██████████| 150/150 [02:35<00:00,  1.04s/batch]\n"
     ]
    },
    {
     "name": "stdout",
     "output_type": "stream",
     "text": [
      "---> Train loss: 1.3916\n",
      "---> Train acc: 0.5335\n"
     ]
    },
    {
     "name": "stderr",
     "output_type": "stream",
     "text": [
      "Validate [2/10]: 100%|██████████| 13/13 [00:12<00:00,  1.02batch/s]\n"
     ]
    },
    {
     "name": "stdout",
     "output_type": "stream",
     "text": [
      "---> Valid loss: 1.2896\n",
      "---> Valid acc: 0.5451\n"
     ]
    },
    {
     "name": "stderr",
     "output_type": "stream",
     "text": [
      "Training [3/10]: 100%|██████████| 150/150 [02:33<00:00,  1.02s/batch]\n"
     ]
    },
    {
     "name": "stdout",
     "output_type": "stream",
     "text": [
      "---> Train loss: 1.2135\n",
      "---> Train acc: 0.5856\n"
     ]
    },
    {
     "name": "stderr",
     "output_type": "stream",
     "text": [
      "Validate [3/10]: 100%|██████████| 13/13 [00:12<00:00,  1.01batch/s]\n"
     ]
    },
    {
     "name": "stdout",
     "output_type": "stream",
     "text": [
      "---> Valid loss: 1.1677\n",
      "---> Valid acc: 0.5778\n",
      "Model is saved to: /kaggle/working/tuned/unet_epoch3.pth\n"
     ]
    },
    {
     "name": "stderr",
     "output_type": "stream",
     "text": [
      "Training [4/10]: 100%|██████████| 150/150 [02:38<00:00,  1.06s/batch]\n"
     ]
    },
    {
     "name": "stdout",
     "output_type": "stream",
     "text": [
      "---> Train loss: 1.1499\n",
      "---> Train acc: 0.6036\n"
     ]
    },
    {
     "name": "stderr",
     "output_type": "stream",
     "text": [
      "Validate [4/10]: 100%|██████████| 13/13 [00:12<00:00,  1.01batch/s]\n"
     ]
    },
    {
     "name": "stdout",
     "output_type": "stream",
     "text": [
      "---> Valid loss: 1.2012\n",
      "---> Valid acc: 0.5750\n"
     ]
    },
    {
     "name": "stderr",
     "output_type": "stream",
     "text": [
      "Training [5/10]: 100%|██████████| 150/150 [02:37<00:00,  1.05s/batch]\n"
     ]
    },
    {
     "name": "stdout",
     "output_type": "stream",
     "text": [
      "---> Train loss: 1.1395\n",
      "---> Train acc: 0.6052\n"
     ]
    },
    {
     "name": "stderr",
     "output_type": "stream",
     "text": [
      "Validate [5/10]: 100%|██████████| 13/13 [00:12<00:00,  1.02batch/s]\n"
     ]
    },
    {
     "name": "stdout",
     "output_type": "stream",
     "text": [
      "---> Valid loss: 1.1255\n",
      "---> Valid acc: 0.5915\n",
      "Model is saved to: /kaggle/working/tuned/unet_epoch5.pth\n"
     ]
    },
    {
     "name": "stderr",
     "output_type": "stream",
     "text": [
      "Training [6/10]: 100%|██████████| 150/150 [02:36<00:00,  1.04s/batch]\n"
     ]
    },
    {
     "name": "stdout",
     "output_type": "stream",
     "text": [
      "---> Train loss: 1.0979\n",
      "---> Train acc: 0.6169\n"
     ]
    },
    {
     "name": "stderr",
     "output_type": "stream",
     "text": [
      "Validate [6/10]: 100%|██████████| 13/13 [00:13<00:00,  1.03s/batch]\n"
     ]
    },
    {
     "name": "stdout",
     "output_type": "stream",
     "text": [
      "---> Valid loss: 1.1715\n",
      "---> Valid acc: 0.5857\n"
     ]
    },
    {
     "name": "stderr",
     "output_type": "stream",
     "text": [
      "Training [7/10]: 100%|██████████| 150/150 [02:37<00:00,  1.05s/batch]\n"
     ]
    },
    {
     "name": "stdout",
     "output_type": "stream",
     "text": [
      "---> Train loss: 1.0640\n",
      "---> Train acc: 0.6277\n"
     ]
    },
    {
     "name": "stderr",
     "output_type": "stream",
     "text": [
      "Validate [7/10]: 100%|██████████| 13/13 [00:12<00:00,  1.04batch/s]\n"
     ]
    },
    {
     "name": "stdout",
     "output_type": "stream",
     "text": [
      "---> Valid loss: 1.1078\n",
      "---> Valid acc: 0.5968\n",
      "Model is saved to: /kaggle/working/tuned/unet_epoch7.pth\n"
     ]
    },
    {
     "name": "stderr",
     "output_type": "stream",
     "text": [
      "Training [8/10]: 100%|██████████| 150/150 [02:36<00:00,  1.05s/batch]\n"
     ]
    },
    {
     "name": "stdout",
     "output_type": "stream",
     "text": [
      "---> Train loss: 1.0815\n",
      "---> Train acc: 0.6220\n"
     ]
    },
    {
     "name": "stderr",
     "output_type": "stream",
     "text": [
      "Validate [8/10]: 100%|██████████| 13/13 [00:12<00:00,  1.05batch/s]\n"
     ]
    },
    {
     "name": "stdout",
     "output_type": "stream",
     "text": [
      "---> Valid loss: 1.0818\n",
      "---> Valid acc: 0.6025\n",
      "Model is saved to: /kaggle/working/tuned/unet_epoch8.pth\n"
     ]
    },
    {
     "name": "stderr",
     "output_type": "stream",
     "text": [
      "Training [9/10]: 100%|██████████| 150/150 [02:35<00:00,  1.04s/batch]\n"
     ]
    },
    {
     "name": "stdout",
     "output_type": "stream",
     "text": [
      "---> Train loss: 1.0564\n",
      "---> Train acc: 0.6277\n"
     ]
    },
    {
     "name": "stderr",
     "output_type": "stream",
     "text": [
      "Validate [9/10]: 100%|██████████| 13/13 [00:12<00:00,  1.02batch/s]\n"
     ]
    },
    {
     "name": "stdout",
     "output_type": "stream",
     "text": [
      "---> Valid loss: 1.0942\n",
      "---> Valid acc: 0.5990\n"
     ]
    },
    {
     "name": "stderr",
     "output_type": "stream",
     "text": [
      "Training [10/10]: 100%|██████████| 150/150 [02:37<00:00,  1.05s/batch]\n"
     ]
    },
    {
     "name": "stdout",
     "output_type": "stream",
     "text": [
      "---> Train loss: 1.0436\n",
      "---> Train acc: 0.6342\n"
     ]
    },
    {
     "name": "stderr",
     "output_type": "stream",
     "text": [
      "Validate [10/10]: 100%|██████████| 13/13 [00:12<00:00,  1.02batch/s]\n"
     ]
    },
    {
     "name": "stdout",
     "output_type": "stream",
     "text": [
      "---> Valid loss: 1.1063\n",
      "---> Valid acc: 0.5978\n",
      "Training with parameters: {'lr': 0.001, 'weight_decay': 0.001, 'optim': 'SGD'}\n"
     ]
    },
    {
     "name": "stderr",
     "output_type": "stream",
     "text": [
      "Training [1/10]: 100%|██████████| 150/150 [02:35<00:00,  1.03s/batch]\n"
     ]
    },
    {
     "name": "stdout",
     "output_type": "stream",
     "text": [
      "---> Train loss: 2.5217\n",
      "---> Train acc: 0.3901\n"
     ]
    },
    {
     "name": "stderr",
     "output_type": "stream",
     "text": [
      "Validate [1/10]: 100%|██████████| 13/13 [00:13<00:00,  1.03s/batch]\n"
     ]
    },
    {
     "name": "stdout",
     "output_type": "stream",
     "text": [
      "---> Valid loss: 2.1925\n",
      "---> Valid acc: 0.4533\n",
      "Model is saved to: /kaggle/working/tuned/unet_epoch1.pth\n"
     ]
    },
    {
     "name": "stderr",
     "output_type": "stream",
     "text": [
      "Training [2/10]: 100%|██████████| 150/150 [02:40<00:00,  1.07s/batch]\n"
     ]
    },
    {
     "name": "stdout",
     "output_type": "stream",
     "text": [
      "---> Train loss: 1.6184\n",
      "---> Train acc: 0.5107\n"
     ]
    },
    {
     "name": "stderr",
     "output_type": "stream",
     "text": [
      "Validate [2/10]: 100%|██████████| 13/13 [00:12<00:00,  1.03batch/s]\n"
     ]
    },
    {
     "name": "stdout",
     "output_type": "stream",
     "text": [
      "---> Valid loss: 1.4195\n",
      "---> Valid acc: 0.5312\n",
      "Model is saved to: /kaggle/working/tuned/unet_epoch2.pth\n"
     ]
    },
    {
     "name": "stderr",
     "output_type": "stream",
     "text": [
      "Training [3/10]: 100%|██████████| 150/150 [02:35<00:00,  1.04s/batch]\n"
     ]
    },
    {
     "name": "stdout",
     "output_type": "stream",
     "text": [
      "---> Train loss: 1.3221\n",
      "---> Train acc: 0.5625\n"
     ]
    },
    {
     "name": "stderr",
     "output_type": "stream",
     "text": [
      "Validate [3/10]: 100%|██████████| 13/13 [00:12<00:00,  1.04batch/s]\n"
     ]
    },
    {
     "name": "stdout",
     "output_type": "stream",
     "text": [
      "---> Valid loss: 1.3219\n",
      "---> Valid acc: 0.5408\n",
      "Model is saved to: /kaggle/working/tuned/unet_epoch3.pth\n"
     ]
    },
    {
     "name": "stderr",
     "output_type": "stream",
     "text": [
      "Training [4/10]: 100%|██████████| 150/150 [02:35<00:00,  1.04s/batch]\n"
     ]
    },
    {
     "name": "stdout",
     "output_type": "stream",
     "text": [
      "---> Train loss: 1.2468\n",
      "---> Train acc: 0.5794\n"
     ]
    },
    {
     "name": "stderr",
     "output_type": "stream",
     "text": [
      "Validate [4/10]: 100%|██████████| 13/13 [00:12<00:00,  1.03batch/s]\n"
     ]
    },
    {
     "name": "stdout",
     "output_type": "stream",
     "text": [
      "---> Valid loss: 1.2490\n",
      "---> Valid acc: 0.5666\n",
      "Model is saved to: /kaggle/working/tuned/unet_epoch4.pth\n"
     ]
    },
    {
     "name": "stderr",
     "output_type": "stream",
     "text": [
      "Training [5/10]: 100%|██████████| 150/150 [02:40<00:00,  1.07s/batch]\n"
     ]
    },
    {
     "name": "stdout",
     "output_type": "stream",
     "text": [
      "---> Train loss: 1.1859\n",
      "---> Train acc: 0.5989\n"
     ]
    },
    {
     "name": "stderr",
     "output_type": "stream",
     "text": [
      "Validate [5/10]: 100%|██████████| 13/13 [00:12<00:00,  1.01batch/s]\n"
     ]
    },
    {
     "name": "stdout",
     "output_type": "stream",
     "text": [
      "---> Valid loss: 1.1427\n",
      "---> Valid acc: 0.5935\n",
      "Model is saved to: /kaggle/working/tuned/unet_epoch5.pth\n"
     ]
    },
    {
     "name": "stderr",
     "output_type": "stream",
     "text": [
      "Training [6/10]: 100%|██████████| 150/150 [02:36<00:00,  1.04s/batch]\n"
     ]
    },
    {
     "name": "stdout",
     "output_type": "stream",
     "text": [
      "---> Train loss: 1.1377\n",
      "---> Train acc: 0.6087\n"
     ]
    },
    {
     "name": "stderr",
     "output_type": "stream",
     "text": [
      "Validate [6/10]: 100%|██████████| 13/13 [00:12<00:00,  1.01batch/s]\n"
     ]
    },
    {
     "name": "stdout",
     "output_type": "stream",
     "text": [
      "---> Valid loss: 1.1937\n",
      "---> Valid acc: 0.5852\n"
     ]
    },
    {
     "name": "stderr",
     "output_type": "stream",
     "text": [
      "Training [7/10]: 100%|██████████| 150/150 [02:39<00:00,  1.06s/batch]\n"
     ]
    },
    {
     "name": "stdout",
     "output_type": "stream",
     "text": [
      "---> Train loss: 1.0962\n",
      "---> Train acc: 0.6222\n"
     ]
    },
    {
     "name": "stderr",
     "output_type": "stream",
     "text": [
      "Validate [7/10]: 100%|██████████| 13/13 [00:12<00:00,  1.04batch/s]\n"
     ]
    },
    {
     "name": "stdout",
     "output_type": "stream",
     "text": [
      "---> Valid loss: 1.1670\n",
      "---> Valid acc: 0.5818\n"
     ]
    },
    {
     "name": "stderr",
     "output_type": "stream",
     "text": [
      "Training [8/10]: 100%|██████████| 150/150 [02:38<00:00,  1.05s/batch]\n"
     ]
    },
    {
     "name": "stdout",
     "output_type": "stream",
     "text": [
      "---> Train loss: 1.0475\n",
      "---> Train acc: 0.6372\n"
     ]
    },
    {
     "name": "stderr",
     "output_type": "stream",
     "text": [
      "Validate [8/10]: 100%|██████████| 13/13 [00:12<00:00,  1.04batch/s]\n"
     ]
    },
    {
     "name": "stdout",
     "output_type": "stream",
     "text": [
      "---> Valid loss: 1.1338\n",
      "---> Valid acc: 0.5892\n",
      "Model is saved to: /kaggle/working/tuned/unet_epoch8.pth\n"
     ]
    },
    {
     "name": "stderr",
     "output_type": "stream",
     "text": [
      "Training [9/10]: 100%|██████████| 150/150 [02:33<00:00,  1.02s/batch]\n"
     ]
    },
    {
     "name": "stdout",
     "output_type": "stream",
     "text": [
      "---> Train loss: 1.0208\n",
      "---> Train acc: 0.6461\n"
     ]
    },
    {
     "name": "stderr",
     "output_type": "stream",
     "text": [
      "Validate [9/10]: 100%|██████████| 13/13 [00:13<00:00,  1.00s/batch]\n"
     ]
    },
    {
     "name": "stdout",
     "output_type": "stream",
     "text": [
      "---> Valid loss: 1.1391\n",
      "---> Valid acc: 0.5790\n"
     ]
    },
    {
     "name": "stderr",
     "output_type": "stream",
     "text": [
      "Training [10/10]: 100%|██████████| 150/150 [02:39<00:00,  1.07s/batch]\n"
     ]
    },
    {
     "name": "stdout",
     "output_type": "stream",
     "text": [
      "---> Train loss: 1.0147\n",
      "---> Train acc: 0.6484\n"
     ]
    },
    {
     "name": "stderr",
     "output_type": "stream",
     "text": [
      "Validate [10/10]: 100%|██████████| 13/13 [00:13<00:00,  1.01s/batch]\n"
     ]
    },
    {
     "name": "stdout",
     "output_type": "stream",
     "text": [
      "---> Valid loss: 1.0936\n",
      "---> Valid acc: 0.6042\n",
      "Model is saved to: /kaggle/working/tuned/unet_epoch10.pth\n",
      "Training with parameters: {'lr': 0.0005, 'weight_decay': 0.01, 'optim': 'Adam'}\n"
     ]
    },
    {
     "name": "stderr",
     "output_type": "stream",
     "text": [
      "Training [1/10]: 100%|██████████| 150/150 [02:33<00:00,  1.02s/batch]\n"
     ]
    },
    {
     "name": "stdout",
     "output_type": "stream",
     "text": [
      "---> Train loss: 1.4828\n",
      "---> Train acc: 0.6035\n"
     ]
    },
    {
     "name": "stderr",
     "output_type": "stream",
     "text": [
      "Validate [1/10]: 100%|██████████| 13/13 [00:12<00:00,  1.02batch/s]\n"
     ]
    },
    {
     "name": "stdout",
     "output_type": "stream",
     "text": [
      "---> Valid loss: 2.4991\n",
      "---> Valid acc: 0.2642\n",
      "Model is saved to: /kaggle/working/tuned/unet_epoch1.pth\n"
     ]
    },
    {
     "name": "stderr",
     "output_type": "stream",
     "text": [
      "Training [2/10]: 100%|██████████| 150/150 [02:35<00:00,  1.03s/batch]\n"
     ]
    },
    {
     "name": "stdout",
     "output_type": "stream",
     "text": [
      "---> Train loss: nan\n",
      "---> Train acc: 0.4000\n"
     ]
    },
    {
     "name": "stderr",
     "output_type": "stream",
     "text": [
      "Validate [2/10]: 100%|██████████| 13/13 [00:12<00:00,  1.02batch/s]\n"
     ]
    },
    {
     "name": "stdout",
     "output_type": "stream",
     "text": [
      "---> Valid loss: nan\n",
      "---> Valid acc: 0.3987\n"
     ]
    },
    {
     "name": "stderr",
     "output_type": "stream",
     "text": [
      "Training [3/10]: 100%|██████████| 150/150 [02:34<00:00,  1.03s/batch]\n"
     ]
    },
    {
     "name": "stdout",
     "output_type": "stream",
     "text": [
      "---> Train loss: nan\n",
      "---> Train acc: 0.3963\n"
     ]
    },
    {
     "name": "stderr",
     "output_type": "stream",
     "text": [
      "Validate [3/10]: 100%|██████████| 13/13 [00:12<00:00,  1.04batch/s]\n"
     ]
    },
    {
     "name": "stdout",
     "output_type": "stream",
     "text": [
      "---> Valid loss: nan\n",
      "---> Valid acc: 0.3987\n"
     ]
    },
    {
     "name": "stderr",
     "output_type": "stream",
     "text": [
      "Training [4/10]: 100%|██████████| 150/150 [02:36<00:00,  1.04s/batch]\n"
     ]
    },
    {
     "name": "stdout",
     "output_type": "stream",
     "text": [
      "---> Train loss: nan\n",
      "---> Train acc: 0.3749\n"
     ]
    },
    {
     "name": "stderr",
     "output_type": "stream",
     "text": [
      "Validate [4/10]: 100%|██████████| 13/13 [00:12<00:00,  1.05batch/s]\n"
     ]
    },
    {
     "name": "stdout",
     "output_type": "stream",
     "text": [
      "---> Valid loss: nan\n",
      "---> Valid acc: 0.3543\n"
     ]
    },
    {
     "name": "stderr",
     "output_type": "stream",
     "text": [
      "Training [5/10]: 100%|██████████| 150/150 [02:34<00:00,  1.03s/batch]\n"
     ]
    },
    {
     "name": "stdout",
     "output_type": "stream",
     "text": [
      "---> Train loss: nan\n",
      "---> Train acc: 0.3267\n"
     ]
    },
    {
     "name": "stderr",
     "output_type": "stream",
     "text": [
      "Validate [5/10]: 100%|██████████| 13/13 [00:12<00:00,  1.00batch/s]\n"
     ]
    },
    {
     "name": "stdout",
     "output_type": "stream",
     "text": [
      "---> Valid loss: nan\n",
      "---> Valid acc: 0.3543\n"
     ]
    },
    {
     "name": "stderr",
     "output_type": "stream",
     "text": [
      "Training [6/10]: 100%|██████████| 150/150 [02:32<00:00,  1.02s/batch]\n"
     ]
    },
    {
     "name": "stdout",
     "output_type": "stream",
     "text": [
      "---> Train loss: nan\n",
      "---> Train acc: 0.3268\n"
     ]
    },
    {
     "name": "stderr",
     "output_type": "stream",
     "text": [
      "Validate [6/10]: 100%|██████████| 13/13 [00:12<00:00,  1.00batch/s]\n"
     ]
    },
    {
     "name": "stdout",
     "output_type": "stream",
     "text": [
      "---> Valid loss: nan\n",
      "---> Valid acc: 0.3543\n"
     ]
    },
    {
     "name": "stderr",
     "output_type": "stream",
     "text": [
      "Training [7/10]: 100%|██████████| 150/150 [02:34<00:00,  1.03s/batch]\n"
     ]
    },
    {
     "name": "stdout",
     "output_type": "stream",
     "text": [
      "---> Train loss: nan\n",
      "---> Train acc: 0.3268\n"
     ]
    },
    {
     "name": "stderr",
     "output_type": "stream",
     "text": [
      "Validate [7/10]: 100%|██████████| 13/13 [00:13<00:00,  1.01s/batch]\n"
     ]
    },
    {
     "name": "stdout",
     "output_type": "stream",
     "text": [
      "---> Valid loss: nan\n",
      "---> Valid acc: 0.3543\n"
     ]
    },
    {
     "name": "stderr",
     "output_type": "stream",
     "text": [
      "Training [8/10]: 100%|██████████| 150/150 [02:35<00:00,  1.04s/batch]\n"
     ]
    },
    {
     "name": "stdout",
     "output_type": "stream",
     "text": [
      "---> Train loss: nan\n",
      "---> Train acc: 0.3267\n"
     ]
    },
    {
     "name": "stderr",
     "output_type": "stream",
     "text": [
      "Validate [8/10]: 100%|██████████| 13/13 [00:13<00:00,  1.04s/batch]\n"
     ]
    },
    {
     "name": "stdout",
     "output_type": "stream",
     "text": [
      "---> Valid loss: nan\n",
      "---> Valid acc: 0.3543\n"
     ]
    },
    {
     "name": "stderr",
     "output_type": "stream",
     "text": [
      "Training [9/10]: 100%|██████████| 150/150 [02:38<00:00,  1.06s/batch]\n"
     ]
    },
    {
     "name": "stdout",
     "output_type": "stream",
     "text": [
      "---> Train loss: nan\n",
      "---> Train acc: 0.3267\n"
     ]
    },
    {
     "name": "stderr",
     "output_type": "stream",
     "text": [
      "Validate [9/10]: 100%|██████████| 13/13 [00:12<00:00,  1.03batch/s]\n"
     ]
    },
    {
     "name": "stdout",
     "output_type": "stream",
     "text": [
      "---> Valid loss: nan\n",
      "---> Valid acc: 0.3543\n"
     ]
    },
    {
     "name": "stderr",
     "output_type": "stream",
     "text": [
      "Training [10/10]: 100%|██████████| 150/150 [02:36<00:00,  1.04s/batch]\n"
     ]
    },
    {
     "name": "stdout",
     "output_type": "stream",
     "text": [
      "---> Train loss: nan\n",
      "---> Train acc: 0.3266\n"
     ]
    },
    {
     "name": "stderr",
     "output_type": "stream",
     "text": [
      "Validate [10/10]: 100%|██████████| 13/13 [00:12<00:00,  1.03batch/s]\n"
     ]
    },
    {
     "name": "stdout",
     "output_type": "stream",
     "text": [
      "---> Valid loss: nan\n",
      "---> Valid acc: 0.3543\n",
      "Training with parameters: {'lr': 0.0005, 'weight_decay': 0.01, 'optim': 'SGD'}\n"
     ]
    },
    {
     "name": "stderr",
     "output_type": "stream",
     "text": [
      "Training [1/10]: 100%|██████████| 150/150 [02:35<00:00,  1.04s/batch]\n"
     ]
    },
    {
     "name": "stdout",
     "output_type": "stream",
     "text": [
      "---> Train loss: 2.7384\n",
      "---> Train acc: 0.2480\n"
     ]
    },
    {
     "name": "stderr",
     "output_type": "stream",
     "text": [
      "Validate [1/10]: 100%|██████████| 13/13 [00:13<00:00,  1.00s/batch]\n"
     ]
    },
    {
     "name": "stdout",
     "output_type": "stream",
     "text": [
      "---> Valid loss: 2.5772\n",
      "---> Valid acc: 0.3762\n",
      "Model is saved to: /kaggle/working/tuned/unet_epoch1.pth\n"
     ]
    },
    {
     "name": "stderr",
     "output_type": "stream",
     "text": [
      "Training [2/10]: 100%|██████████| 150/150 [02:36<00:00,  1.05s/batch]\n"
     ]
    },
    {
     "name": "stdout",
     "output_type": "stream",
     "text": [
      "---> Train loss: 1.7332\n",
      "---> Train acc: 0.5046\n"
     ]
    },
    {
     "name": "stderr",
     "output_type": "stream",
     "text": [
      "Validate [2/10]: 100%|██████████| 13/13 [00:13<00:00,  1.02s/batch]\n"
     ]
    },
    {
     "name": "stdout",
     "output_type": "stream",
     "text": [
      "---> Valid loss: 1.4387\n",
      "---> Valid acc: 0.5139\n",
      "Model is saved to: /kaggle/working/tuned/unet_epoch2.pth\n"
     ]
    },
    {
     "name": "stderr",
     "output_type": "stream",
     "text": [
      "Training [3/10]: 100%|██████████| 150/150 [02:36<00:00,  1.04s/batch]\n"
     ]
    },
    {
     "name": "stdout",
     "output_type": "stream",
     "text": [
      "---> Train loss: 1.3808\n",
      "---> Train acc: 0.5393\n"
     ]
    },
    {
     "name": "stderr",
     "output_type": "stream",
     "text": [
      "Validate [3/10]: 100%|██████████| 13/13 [00:12<00:00,  1.02batch/s]\n"
     ]
    },
    {
     "name": "stdout",
     "output_type": "stream",
     "text": [
      "---> Valid loss: 1.3843\n",
      "---> Valid acc: 0.5258\n",
      "Model is saved to: /kaggle/working/tuned/unet_epoch3.pth\n"
     ]
    },
    {
     "name": "stderr",
     "output_type": "stream",
     "text": [
      "Training [4/10]: 100%|██████████| 150/150 [02:41<00:00,  1.07s/batch]\n"
     ]
    },
    {
     "name": "stdout",
     "output_type": "stream",
     "text": [
      "---> Train loss: 1.3019\n",
      "---> Train acc: 0.5613\n"
     ]
    },
    {
     "name": "stderr",
     "output_type": "stream",
     "text": [
      "Validate [4/10]: 100%|██████████| 13/13 [00:12<00:00,  1.02batch/s]\n"
     ]
    },
    {
     "name": "stdout",
     "output_type": "stream",
     "text": [
      "---> Valid loss: 1.3248\n",
      "---> Valid acc: 0.5489\n",
      "Model is saved to: /kaggle/working/tuned/unet_epoch4.pth\n"
     ]
    },
    {
     "name": "stderr",
     "output_type": "stream",
     "text": [
      "Training [5/10]: 100%|██████████| 150/150 [02:35<00:00,  1.04s/batch]\n"
     ]
    },
    {
     "name": "stdout",
     "output_type": "stream",
     "text": [
      "---> Train loss: 1.2503\n",
      "---> Train acc: 0.5771\n"
     ]
    },
    {
     "name": "stderr",
     "output_type": "stream",
     "text": [
      "Validate [5/10]: 100%|██████████| 13/13 [00:12<00:00,  1.04batch/s]\n"
     ]
    },
    {
     "name": "stdout",
     "output_type": "stream",
     "text": [
      "---> Valid loss: 1.2633\n",
      "---> Valid acc: 0.5629\n",
      "Model is saved to: /kaggle/working/tuned/unet_epoch5.pth\n"
     ]
    },
    {
     "name": "stderr",
     "output_type": "stream",
     "text": [
      "Training [6/10]: 100%|██████████| 150/150 [02:34<00:00,  1.03s/batch]\n"
     ]
    },
    {
     "name": "stdout",
     "output_type": "stream",
     "text": [
      "---> Train loss: 1.2093\n",
      "---> Train acc: 0.5904\n"
     ]
    },
    {
     "name": "stderr",
     "output_type": "stream",
     "text": [
      "Validate [6/10]: 100%|██████████| 13/13 [00:13<00:00,  1.00s/batch]\n"
     ]
    },
    {
     "name": "stdout",
     "output_type": "stream",
     "text": [
      "---> Valid loss: 1.2534\n",
      "---> Valid acc: 0.5662\n",
      "Model is saved to: /kaggle/working/tuned/unet_epoch6.pth\n"
     ]
    },
    {
     "name": "stderr",
     "output_type": "stream",
     "text": [
      "Training [7/10]: 100%|██████████| 150/150 [02:39<00:00,  1.06s/batch]\n"
     ]
    },
    {
     "name": "stdout",
     "output_type": "stream",
     "text": [
      "---> Train loss: 1.1590\n",
      "---> Train acc: 0.6072\n"
     ]
    },
    {
     "name": "stderr",
     "output_type": "stream",
     "text": [
      "Validate [7/10]: 100%|██████████| 13/13 [00:12<00:00,  1.04batch/s]\n"
     ]
    },
    {
     "name": "stdout",
     "output_type": "stream",
     "text": [
      "---> Valid loss: 1.2607\n",
      "---> Valid acc: 0.5590\n"
     ]
    },
    {
     "name": "stderr",
     "output_type": "stream",
     "text": [
      "Training [8/10]: 100%|██████████| 150/150 [02:35<00:00,  1.04s/batch]\n"
     ]
    },
    {
     "name": "stdout",
     "output_type": "stream",
     "text": [
      "---> Train loss: 1.1396\n",
      "---> Train acc: 0.6117\n"
     ]
    },
    {
     "name": "stderr",
     "output_type": "stream",
     "text": [
      "Validate [8/10]: 100%|██████████| 13/13 [00:12<00:00,  1.03batch/s]\n"
     ]
    },
    {
     "name": "stdout",
     "output_type": "stream",
     "text": [
      "---> Valid loss: 1.2166\n",
      "---> Valid acc: 0.5753\n",
      "Model is saved to: /kaggle/working/tuned/unet_epoch8.pth\n"
     ]
    },
    {
     "name": "stderr",
     "output_type": "stream",
     "text": [
      "Training [9/10]: 100%|██████████| 150/150 [02:35<00:00,  1.04s/batch]\n"
     ]
    },
    {
     "name": "stdout",
     "output_type": "stream",
     "text": [
      "---> Train loss: 1.0943\n",
      "---> Train acc: 0.6249\n"
     ]
    },
    {
     "name": "stderr",
     "output_type": "stream",
     "text": [
      "Validate [9/10]: 100%|██████████| 13/13 [00:12<00:00,  1.05batch/s]\n"
     ]
    },
    {
     "name": "stdout",
     "output_type": "stream",
     "text": [
      "---> Valid loss: 1.1427\n",
      "---> Valid acc: 0.5976\n",
      "Model is saved to: /kaggle/working/tuned/unet_epoch9.pth\n"
     ]
    },
    {
     "name": "stderr",
     "output_type": "stream",
     "text": [
      "Training [10/10]: 100%|██████████| 150/150 [02:35<00:00,  1.04s/batch]\n"
     ]
    },
    {
     "name": "stdout",
     "output_type": "stream",
     "text": [
      "---> Train loss: 1.0715\n",
      "---> Train acc: 0.6333\n"
     ]
    },
    {
     "name": "stderr",
     "output_type": "stream",
     "text": [
      "Validate [10/10]: 100%|██████████| 13/13 [00:12<00:00,  1.03batch/s]\n"
     ]
    },
    {
     "name": "stdout",
     "output_type": "stream",
     "text": [
      "---> Valid loss: 1.3198\n",
      "---> Valid acc: 0.5312\n",
      "Training with parameters: {'lr': 0.0005, 'weight_decay': 0.001, 'optim': 'Adam'}\n"
     ]
    },
    {
     "name": "stderr",
     "output_type": "stream",
     "text": [
      "Training [1/10]: 100%|██████████| 150/150 [02:39<00:00,  1.07s/batch]\n"
     ]
    },
    {
     "name": "stdout",
     "output_type": "stream",
     "text": [
      "---> Train loss: 1.3988\n",
      "---> Train acc: 0.6104\n"
     ]
    },
    {
     "name": "stderr",
     "output_type": "stream",
     "text": [
      "Validate [1/10]: 100%|██████████| 13/13 [00:13<00:00,  1.01s/batch]\n"
     ]
    },
    {
     "name": "stdout",
     "output_type": "stream",
     "text": [
      "---> Valid loss: 1.7087\n",
      "---> Valid acc: 0.4094\n",
      "Model is saved to: /kaggle/working/tuned/unet_epoch1.pth\n"
     ]
    },
    {
     "name": "stderr",
     "output_type": "stream",
     "text": [
      "Training [2/10]: 100%|██████████| 150/150 [02:35<00:00,  1.04s/batch]\n"
     ]
    },
    {
     "name": "stdout",
     "output_type": "stream",
     "text": [
      "---> Train loss: nan\n",
      "---> Train acc: 0.4507\n"
     ]
    },
    {
     "name": "stderr",
     "output_type": "stream",
     "text": [
      "Validate [2/10]: 100%|██████████| 13/13 [00:13<00:00,  1.02s/batch]\n"
     ]
    },
    {
     "name": "stdout",
     "output_type": "stream",
     "text": [
      "---> Valid loss: nan\n",
      "---> Valid acc: 0.4575\n"
     ]
    },
    {
     "name": "stderr",
     "output_type": "stream",
     "text": [
      "Training [3/10]: 100%|██████████| 150/150 [02:37<00:00,  1.05s/batch]\n"
     ]
    },
    {
     "name": "stdout",
     "output_type": "stream",
     "text": [
      "---> Train loss: nan\n",
      "---> Train acc: 0.4562\n"
     ]
    },
    {
     "name": "stderr",
     "output_type": "stream",
     "text": [
      "Validate [3/10]: 100%|██████████| 13/13 [00:12<00:00,  1.01batch/s]\n"
     ]
    },
    {
     "name": "stdout",
     "output_type": "stream",
     "text": [
      "---> Valid loss: nan\n",
      "---> Valid acc: 0.4575\n"
     ]
    },
    {
     "name": "stderr",
     "output_type": "stream",
     "text": [
      "Training [4/10]: 100%|██████████| 150/150 [02:37<00:00,  1.05s/batch]\n"
     ]
    },
    {
     "name": "stdout",
     "output_type": "stream",
     "text": [
      "---> Train loss: nan\n",
      "---> Train acc: 0.4564\n"
     ]
    },
    {
     "name": "stderr",
     "output_type": "stream",
     "text": [
      "Validate [4/10]: 100%|██████████| 13/13 [00:12<00:00,  1.05batch/s]\n"
     ]
    },
    {
     "name": "stdout",
     "output_type": "stream",
     "text": [
      "---> Valid loss: nan\n",
      "---> Valid acc: 0.4575\n"
     ]
    },
    {
     "name": "stderr",
     "output_type": "stream",
     "text": [
      "Training [5/10]: 100%|██████████| 150/150 [02:31<00:00,  1.01s/batch]\n"
     ]
    },
    {
     "name": "stdout",
     "output_type": "stream",
     "text": [
      "---> Train loss: nan\n",
      "---> Train acc: 0.4564\n"
     ]
    },
    {
     "name": "stderr",
     "output_type": "stream",
     "text": [
      "Validate [5/10]: 100%|██████████| 13/13 [00:12<00:00,  1.03batch/s]\n"
     ]
    },
    {
     "name": "stdout",
     "output_type": "stream",
     "text": [
      "---> Valid loss: nan\n",
      "---> Valid acc: 0.4575\n"
     ]
    },
    {
     "name": "stderr",
     "output_type": "stream",
     "text": [
      "Training [6/10]: 100%|██████████| 150/150 [02:32<00:00,  1.02s/batch]\n"
     ]
    },
    {
     "name": "stdout",
     "output_type": "stream",
     "text": [
      "---> Train loss: nan\n",
      "---> Train acc: 0.4565\n"
     ]
    },
    {
     "name": "stderr",
     "output_type": "stream",
     "text": [
      "Validate [6/10]: 100%|██████████| 13/13 [00:13<00:00,  1.02s/batch]\n"
     ]
    },
    {
     "name": "stdout",
     "output_type": "stream",
     "text": [
      "---> Valid loss: nan\n",
      "---> Valid acc: 0.4575\n"
     ]
    },
    {
     "name": "stderr",
     "output_type": "stream",
     "text": [
      "Training [7/10]: 100%|██████████| 150/150 [02:35<00:00,  1.04s/batch]\n"
     ]
    },
    {
     "name": "stdout",
     "output_type": "stream",
     "text": [
      "---> Train loss: nan\n",
      "---> Train acc: 0.4566\n"
     ]
    },
    {
     "name": "stderr",
     "output_type": "stream",
     "text": [
      "Validate [7/10]: 100%|██████████| 13/13 [00:13<00:00,  1.01s/batch]\n"
     ]
    },
    {
     "name": "stdout",
     "output_type": "stream",
     "text": [
      "---> Valid loss: nan\n",
      "---> Valid acc: 0.4575\n"
     ]
    },
    {
     "name": "stderr",
     "output_type": "stream",
     "text": [
      "Training [8/10]: 100%|██████████| 150/150 [02:32<00:00,  1.02s/batch]\n"
     ]
    },
    {
     "name": "stdout",
     "output_type": "stream",
     "text": [
      "---> Train loss: nan\n",
      "---> Train acc: 0.4563\n"
     ]
    },
    {
     "name": "stderr",
     "output_type": "stream",
     "text": [
      "Validate [8/10]: 100%|██████████| 13/13 [00:13<00:00,  1.03s/batch]\n"
     ]
    },
    {
     "name": "stdout",
     "output_type": "stream",
     "text": [
      "---> Valid loss: nan\n",
      "---> Valid acc: 0.4575\n"
     ]
    },
    {
     "name": "stderr",
     "output_type": "stream",
     "text": [
      "Training [9/10]: 100%|██████████| 150/150 [02:33<00:00,  1.02s/batch]\n"
     ]
    },
    {
     "name": "stdout",
     "output_type": "stream",
     "text": [
      "---> Train loss: nan\n",
      "---> Train acc: 0.4562\n"
     ]
    },
    {
     "name": "stderr",
     "output_type": "stream",
     "text": [
      "Validate [9/10]: 100%|██████████| 13/13 [00:12<00:00,  1.01batch/s]\n"
     ]
    },
    {
     "name": "stdout",
     "output_type": "stream",
     "text": [
      "---> Valid loss: nan\n",
      "---> Valid acc: 0.4575\n"
     ]
    },
    {
     "name": "stderr",
     "output_type": "stream",
     "text": [
      "Training [10/10]: 100%|██████████| 150/150 [02:33<00:00,  1.03s/batch]\n"
     ]
    },
    {
     "name": "stdout",
     "output_type": "stream",
     "text": [
      "---> Train loss: nan\n",
      "---> Train acc: 0.4566\n"
     ]
    },
    {
     "name": "stderr",
     "output_type": "stream",
     "text": [
      "Validate [10/10]: 100%|██████████| 13/13 [00:12<00:00,  1.05batch/s]\n"
     ]
    },
    {
     "name": "stdout",
     "output_type": "stream",
     "text": [
      "---> Valid loss: nan\n",
      "---> Valid acc: 0.4575\n",
      "Training with parameters: {'lr': 0.0005, 'weight_decay': 0.001, 'optim': 'SGD'}\n"
     ]
    },
    {
     "name": "stderr",
     "output_type": "stream",
     "text": [
      "Training [1/10]: 100%|██████████| 150/150 [02:33<00:00,  1.02s/batch]\n"
     ]
    },
    {
     "name": "stdout",
     "output_type": "stream",
     "text": [
      "---> Train loss: 2.8464\n",
      "---> Train acc: 0.2069\n"
     ]
    },
    {
     "name": "stderr",
     "output_type": "stream",
     "text": [
      "Validate [1/10]: 100%|██████████| 13/13 [00:12<00:00,  1.02batch/s]\n"
     ]
    },
    {
     "name": "stdout",
     "output_type": "stream",
     "text": [
      "---> Valid loss: 2.6761\n",
      "---> Valid acc: 0.2947\n",
      "Model is saved to: /kaggle/working/tuned/unet_epoch1.pth\n"
     ]
    },
    {
     "name": "stderr",
     "output_type": "stream",
     "text": [
      "Training [2/10]: 100%|██████████| 150/150 [02:40<00:00,  1.07s/batch]\n"
     ]
    },
    {
     "name": "stdout",
     "output_type": "stream",
     "text": [
      "---> Train loss: 1.7495\n",
      "---> Train acc: 0.4901\n"
     ]
    },
    {
     "name": "stderr",
     "output_type": "stream",
     "text": [
      "Validate [2/10]: 100%|██████████| 13/13 [00:12<00:00,  1.03batch/s]\n"
     ]
    },
    {
     "name": "stdout",
     "output_type": "stream",
     "text": [
      "---> Valid loss: 1.5295\n",
      "---> Valid acc: 0.5116\n",
      "Model is saved to: /kaggle/working/tuned/unet_epoch2.pth\n"
     ]
    },
    {
     "name": "stderr",
     "output_type": "stream",
     "text": [
      "Training [3/10]: 100%|██████████| 150/150 [02:38<00:00,  1.05s/batch]\n"
     ]
    },
    {
     "name": "stdout",
     "output_type": "stream",
     "text": [
      "---> Train loss: 1.3810\n",
      "---> Train acc: 0.5453\n"
     ]
    },
    {
     "name": "stderr",
     "output_type": "stream",
     "text": [
      "Validate [3/10]: 100%|██████████| 13/13 [00:13<00:00,  1.01s/batch]\n"
     ]
    },
    {
     "name": "stdout",
     "output_type": "stream",
     "text": [
      "---> Valid loss: 1.4446\n",
      "---> Valid acc: 0.5291\n",
      "Model is saved to: /kaggle/working/tuned/unet_epoch3.pth\n"
     ]
    },
    {
     "name": "stderr",
     "output_type": "stream",
     "text": [
      "Training [4/10]: 100%|██████████| 150/150 [02:35<00:00,  1.04s/batch]\n"
     ]
    },
    {
     "name": "stdout",
     "output_type": "stream",
     "text": [
      "---> Train loss: 1.2918\n",
      "---> Train acc: 0.5699\n"
     ]
    },
    {
     "name": "stderr",
     "output_type": "stream",
     "text": [
      "Validate [4/10]: 100%|██████████| 13/13 [00:13<00:00,  1.02s/batch]\n"
     ]
    },
    {
     "name": "stdout",
     "output_type": "stream",
     "text": [
      "---> Valid loss: 1.3037\n",
      "---> Valid acc: 0.5595\n",
      "Model is saved to: /kaggle/working/tuned/unet_epoch4.pth\n"
     ]
    },
    {
     "name": "stderr",
     "output_type": "stream",
     "text": [
      "Training [5/10]: 100%|██████████| 150/150 [02:39<00:00,  1.06s/batch]\n"
     ]
    },
    {
     "name": "stdout",
     "output_type": "stream",
     "text": [
      "---> Train loss: 1.2260\n",
      "---> Train acc: 0.5880\n"
     ]
    },
    {
     "name": "stderr",
     "output_type": "stream",
     "text": [
      "Validate [5/10]: 100%|██████████| 13/13 [00:12<00:00,  1.04batch/s]\n"
     ]
    },
    {
     "name": "stdout",
     "output_type": "stream",
     "text": [
      "---> Valid loss: 1.2820\n",
      "---> Valid acc: 0.5660\n",
      "Model is saved to: /kaggle/working/tuned/unet_epoch5.pth\n"
     ]
    },
    {
     "name": "stderr",
     "output_type": "stream",
     "text": [
      "Training [6/10]: 100%|██████████| 150/150 [02:37<00:00,  1.05s/batch]\n"
     ]
    },
    {
     "name": "stdout",
     "output_type": "stream",
     "text": [
      "---> Train loss: 1.1853\n",
      "---> Train acc: 0.5978\n"
     ]
    },
    {
     "name": "stderr",
     "output_type": "stream",
     "text": [
      "Validate [6/10]: 100%|██████████| 13/13 [00:12<00:00,  1.02batch/s]\n"
     ]
    },
    {
     "name": "stdout",
     "output_type": "stream",
     "text": [
      "---> Valid loss: 1.2923\n",
      "---> Valid acc: 0.5558\n"
     ]
    },
    {
     "name": "stderr",
     "output_type": "stream",
     "text": [
      "Training [7/10]: 100%|██████████| 150/150 [02:37<00:00,  1.05s/batch]\n"
     ]
    },
    {
     "name": "stdout",
     "output_type": "stream",
     "text": [
      "---> Train loss: 1.1361\n",
      "---> Train acc: 0.6118\n"
     ]
    },
    {
     "name": "stderr",
     "output_type": "stream",
     "text": [
      "Validate [7/10]: 100%|██████████| 13/13 [00:12<00:00,  1.02batch/s]\n"
     ]
    },
    {
     "name": "stdout",
     "output_type": "stream",
     "text": [
      "---> Valid loss: 1.3069\n",
      "---> Valid acc: 0.5440\n"
     ]
    },
    {
     "name": "stderr",
     "output_type": "stream",
     "text": [
      "Training [8/10]: 100%|██████████| 150/150 [02:35<00:00,  1.03s/batch]\n"
     ]
    },
    {
     "name": "stdout",
     "output_type": "stream",
     "text": [
      "---> Train loss: 1.1031\n",
      "---> Train acc: 0.6229\n"
     ]
    },
    {
     "name": "stderr",
     "output_type": "stream",
     "text": [
      "Validate [8/10]: 100%|██████████| 13/13 [00:13<00:00,  1.01s/batch]\n"
     ]
    },
    {
     "name": "stdout",
     "output_type": "stream",
     "text": [
      "---> Valid loss: 1.2249\n",
      "---> Valid acc: 0.5810\n",
      "Model is saved to: /kaggle/working/tuned/unet_epoch8.pth\n"
     ]
    },
    {
     "name": "stderr",
     "output_type": "stream",
     "text": [
      "Training [9/10]: 100%|██████████| 150/150 [02:38<00:00,  1.05s/batch]\n"
     ]
    },
    {
     "name": "stdout",
     "output_type": "stream",
     "text": [
      "---> Train loss: 1.0808\n",
      "---> Train acc: 0.6290\n"
     ]
    },
    {
     "name": "stderr",
     "output_type": "stream",
     "text": [
      "Validate [9/10]: 100%|██████████| 13/13 [00:12<00:00,  1.01batch/s]\n"
     ]
    },
    {
     "name": "stdout",
     "output_type": "stream",
     "text": [
      "---> Valid loss: 1.1236\n",
      "---> Valid acc: 0.6065\n",
      "Model is saved to: /kaggle/working/tuned/unet_epoch9.pth\n"
     ]
    },
    {
     "name": "stderr",
     "output_type": "stream",
     "text": [
      "Training [10/10]: 100%|██████████| 150/150 [02:38<00:00,  1.06s/batch]\n"
     ]
    },
    {
     "name": "stdout",
     "output_type": "stream",
     "text": [
      "---> Train loss: 1.0656\n",
      "---> Train acc: 0.6346\n"
     ]
    },
    {
     "name": "stderr",
     "output_type": "stream",
     "text": [
      "Validate [10/10]: 100%|██████████| 13/13 [00:12<00:00,  1.04batch/s]\n"
     ]
    },
    {
     "name": "stdout",
     "output_type": "stream",
     "text": [
      "---> Valid loss: 1.1258\n",
      "---> Valid acc: 0.5987\n",
      "Training with parameters: {'lr': 0.0003, 'weight_decay': 0.01, 'optim': 'Adam'}\n"
     ]
    },
    {
     "name": "stderr",
     "output_type": "stream",
     "text": [
      "Training [1/10]: 100%|██████████| 150/150 [02:35<00:00,  1.04s/batch]\n"
     ]
    },
    {
     "name": "stdout",
     "output_type": "stream",
     "text": [
      "---> Train loss: 1.6199\n",
      "---> Train acc: 0.6022\n"
     ]
    },
    {
     "name": "stderr",
     "output_type": "stream",
     "text": [
      "Validate [1/10]: 100%|██████████| 13/13 [00:12<00:00,  1.01batch/s]\n"
     ]
    },
    {
     "name": "stdout",
     "output_type": "stream",
     "text": [
      "---> Valid loss: 1.2427\n",
      "---> Valid acc: 0.6080\n",
      "Model is saved to: /kaggle/working/tuned/unet_epoch1.pth\n"
     ]
    },
    {
     "name": "stderr",
     "output_type": "stream",
     "text": [
      "Training [2/10]: 100%|██████████| 150/150 [02:35<00:00,  1.04s/batch]\n"
     ]
    },
    {
     "name": "stdout",
     "output_type": "stream",
     "text": [
      "---> Train loss: 1.4222\n",
      "---> Train acc: 0.5483\n"
     ]
    },
    {
     "name": "stderr",
     "output_type": "stream",
     "text": [
      "Validate [2/10]: 100%|██████████| 13/13 [00:13<00:00,  1.03s/batch]\n"
     ]
    },
    {
     "name": "stdout",
     "output_type": "stream",
     "text": [
      "---> Valid loss: 1.3428\n",
      "---> Valid acc: 0.5421\n"
     ]
    },
    {
     "name": "stderr",
     "output_type": "stream",
     "text": [
      "Training [3/10]: 100%|██████████| 150/150 [02:37<00:00,  1.05s/batch]\n"
     ]
    },
    {
     "name": "stdout",
     "output_type": "stream",
     "text": [
      "---> Train loss: 1.1558\n",
      "---> Train acc: 0.6131\n"
     ]
    },
    {
     "name": "stderr",
     "output_type": "stream",
     "text": [
      "Validate [3/10]: 100%|██████████| 13/13 [00:13<00:00,  1.01s/batch]\n"
     ]
    },
    {
     "name": "stdout",
     "output_type": "stream",
     "text": [
      "---> Valid loss: 1.1285\n",
      "---> Valid acc: 0.6025\n",
      "Model is saved to: /kaggle/working/tuned/unet_epoch3.pth\n"
     ]
    },
    {
     "name": "stderr",
     "output_type": "stream",
     "text": [
      "Training [4/10]: 100%|██████████| 150/150 [02:34<00:00,  1.03s/batch]\n"
     ]
    },
    {
     "name": "stdout",
     "output_type": "stream",
     "text": [
      "---> Train loss: 1.0710\n",
      "---> Train acc: 0.6342\n"
     ]
    },
    {
     "name": "stderr",
     "output_type": "stream",
     "text": [
      "Validate [4/10]: 100%|██████████| 13/13 [00:12<00:00,  1.02batch/s]\n"
     ]
    },
    {
     "name": "stdout",
     "output_type": "stream",
     "text": [
      "---> Valid loss: 1.1493\n",
      "---> Valid acc: 0.5889\n"
     ]
    },
    {
     "name": "stderr",
     "output_type": "stream",
     "text": [
      "Training [5/10]: 100%|██████████| 150/150 [02:38<00:00,  1.06s/batch]\n"
     ]
    },
    {
     "name": "stdout",
     "output_type": "stream",
     "text": [
      "---> Train loss: 1.0118\n",
      "---> Train acc: 0.6526\n"
     ]
    },
    {
     "name": "stderr",
     "output_type": "stream",
     "text": [
      "Validate [5/10]: 100%|██████████| 13/13 [00:12<00:00,  1.01batch/s]\n"
     ]
    },
    {
     "name": "stdout",
     "output_type": "stream",
     "text": [
      "---> Valid loss: 1.2224\n",
      "---> Valid acc: 0.5640\n"
     ]
    },
    {
     "name": "stderr",
     "output_type": "stream",
     "text": [
      "Training [6/10]: 100%|██████████| 150/150 [02:37<00:00,  1.05s/batch]\n"
     ]
    },
    {
     "name": "stdout",
     "output_type": "stream",
     "text": [
      "---> Train loss: 0.9961\n",
      "---> Train acc: 0.6530\n"
     ]
    },
    {
     "name": "stderr",
     "output_type": "stream",
     "text": [
      "Validate [6/10]: 100%|██████████| 13/13 [00:12<00:00,  1.02batch/s]\n"
     ]
    },
    {
     "name": "stdout",
     "output_type": "stream",
     "text": [
      "---> Valid loss: 1.0137\n",
      "---> Valid acc: 0.6288\n",
      "Model is saved to: /kaggle/working/tuned/unet_epoch6.pth\n"
     ]
    },
    {
     "name": "stderr",
     "output_type": "stream",
     "text": [
      "Training [7/10]: 100%|██████████| 150/150 [02:37<00:00,  1.05s/batch]\n"
     ]
    },
    {
     "name": "stdout",
     "output_type": "stream",
     "text": [
      "---> Train loss: 0.9852\n",
      "---> Train acc: 0.6558\n"
     ]
    },
    {
     "name": "stderr",
     "output_type": "stream",
     "text": [
      "Validate [7/10]: 100%|██████████| 13/13 [00:13<00:00,  1.04s/batch]\n"
     ]
    },
    {
     "name": "stdout",
     "output_type": "stream",
     "text": [
      "---> Valid loss: 1.0736\n",
      "---> Valid acc: 0.6019\n"
     ]
    },
    {
     "name": "stderr",
     "output_type": "stream",
     "text": [
      "Training [8/10]: 100%|██████████| 150/150 [02:33<00:00,  1.02s/batch]\n"
     ]
    },
    {
     "name": "stdout",
     "output_type": "stream",
     "text": [
      "---> Train loss: 0.9638\n",
      "---> Train acc: 0.6638\n"
     ]
    },
    {
     "name": "stderr",
     "output_type": "stream",
     "text": [
      "Validate [8/10]: 100%|██████████| 13/13 [00:13<00:00,  1.01s/batch]\n"
     ]
    },
    {
     "name": "stdout",
     "output_type": "stream",
     "text": [
      "---> Valid loss: 1.0330\n",
      "---> Valid acc: 0.6235\n"
     ]
    },
    {
     "name": "stderr",
     "output_type": "stream",
     "text": [
      "Training [9/10]: 100%|██████████| 150/150 [02:35<00:00,  1.04s/batch]\n"
     ]
    },
    {
     "name": "stdout",
     "output_type": "stream",
     "text": [
      "---> Train loss: 0.9263\n",
      "---> Train acc: 0.6733\n"
     ]
    },
    {
     "name": "stderr",
     "output_type": "stream",
     "text": [
      "Validate [9/10]: 100%|██████████| 13/13 [00:12<00:00,  1.05batch/s]\n"
     ]
    },
    {
     "name": "stdout",
     "output_type": "stream",
     "text": [
      "---> Valid loss: 1.0029\n",
      "---> Valid acc: 0.6275\n",
      "Model is saved to: /kaggle/working/tuned/unet_epoch9.pth\n"
     ]
    },
    {
     "name": "stderr",
     "output_type": "stream",
     "text": [
      "Training [10/10]: 100%|██████████| 150/150 [02:34<00:00,  1.03s/batch]\n"
     ]
    },
    {
     "name": "stdout",
     "output_type": "stream",
     "text": [
      "---> Train loss: 0.9650\n",
      "---> Train acc: 0.6593\n"
     ]
    },
    {
     "name": "stderr",
     "output_type": "stream",
     "text": [
      "Validate [10/10]: 100%|██████████| 13/13 [00:12<00:00,  1.02batch/s]\n"
     ]
    },
    {
     "name": "stdout",
     "output_type": "stream",
     "text": [
      "---> Valid loss: 0.9631\n",
      "---> Valid acc: 0.6375\n",
      "Model is saved to: /kaggle/working/tuned/unet_epoch10.pth\n",
      "Training with parameters: {'lr': 0.0003, 'weight_decay': 0.01, 'optim': 'SGD'}\n"
     ]
    },
    {
     "name": "stderr",
     "output_type": "stream",
     "text": [
      "Training [1/10]: 100%|██████████| 150/150 [02:36<00:00,  1.04s/batch]\n"
     ]
    },
    {
     "name": "stdout",
     "output_type": "stream",
     "text": [
      "---> Train loss: 2.6767\n",
      "---> Train acc: 0.3270\n"
     ]
    },
    {
     "name": "stderr",
     "output_type": "stream",
     "text": [
      "Validate [1/10]: 100%|██████████| 13/13 [00:12<00:00,  1.05batch/s]\n"
     ]
    },
    {
     "name": "stdout",
     "output_type": "stream",
     "text": [
      "---> Valid loss: 2.5316\n",
      "---> Valid acc: 0.3857\n",
      "Model is saved to: /kaggle/working/tuned/unet_epoch1.pth\n"
     ]
    },
    {
     "name": "stderr",
     "output_type": "stream",
     "text": [
      "Training [2/10]: 100%|██████████| 150/150 [02:34<00:00,  1.03s/batch]\n"
     ]
    },
    {
     "name": "stdout",
     "output_type": "stream",
     "text": [
      "---> Train loss: 1.8093\n",
      "---> Train acc: 0.4916\n"
     ]
    },
    {
     "name": "stderr",
     "output_type": "stream",
     "text": [
      "Validate [2/10]: 100%|██████████| 13/13 [00:12<00:00,  1.04batch/s]\n"
     ]
    },
    {
     "name": "stdout",
     "output_type": "stream",
     "text": [
      "---> Valid loss: 1.5916\n",
      "---> Valid acc: 0.5036\n",
      "Model is saved to: /kaggle/working/tuned/unet_epoch2.pth\n"
     ]
    },
    {
     "name": "stderr",
     "output_type": "stream",
     "text": [
      "Training [3/10]: 100%|██████████| 150/150 [02:37<00:00,  1.05s/batch]\n"
     ]
    },
    {
     "name": "stdout",
     "output_type": "stream",
     "text": [
      "---> Train loss: 1.4287\n",
      "---> Train acc: 0.5413\n"
     ]
    },
    {
     "name": "stderr",
     "output_type": "stream",
     "text": [
      "Validate [3/10]: 100%|██████████| 13/13 [00:13<00:00,  1.01s/batch]\n"
     ]
    },
    {
     "name": "stdout",
     "output_type": "stream",
     "text": [
      "---> Valid loss: 1.7469\n",
      "---> Valid acc: 0.4665\n"
     ]
    },
    {
     "name": "stderr",
     "output_type": "stream",
     "text": [
      "Training [4/10]: 100%|██████████| 150/150 [02:39<00:00,  1.06s/batch]\n"
     ]
    },
    {
     "name": "stdout",
     "output_type": "stream",
     "text": [
      "---> Train loss: 1.3409\n",
      "---> Train acc: 0.5588\n"
     ]
    },
    {
     "name": "stderr",
     "output_type": "stream",
     "text": [
      "Validate [4/10]: 100%|██████████| 13/13 [00:12<00:00,  1.02batch/s]\n"
     ]
    },
    {
     "name": "stdout",
     "output_type": "stream",
     "text": [
      "---> Valid loss: 1.4186\n",
      "---> Valid acc: 0.5227\n",
      "Model is saved to: /kaggle/working/tuned/unet_epoch4.pth\n"
     ]
    },
    {
     "name": "stderr",
     "output_type": "stream",
     "text": [
      "Training [5/10]: 100%|██████████| 150/150 [02:35<00:00,  1.04s/batch]\n"
     ]
    },
    {
     "name": "stdout",
     "output_type": "stream",
     "text": [
      "---> Train loss: 1.2879\n",
      "---> Train acc: 0.5697\n"
     ]
    },
    {
     "name": "stderr",
     "output_type": "stream",
     "text": [
      "Validate [5/10]: 100%|██████████| 13/13 [00:12<00:00,  1.03batch/s]\n"
     ]
    },
    {
     "name": "stdout",
     "output_type": "stream",
     "text": [
      "---> Valid loss: 1.3412\n",
      "---> Valid acc: 0.5363\n",
      "Model is saved to: /kaggle/working/tuned/unet_epoch5.pth\n"
     ]
    },
    {
     "name": "stderr",
     "output_type": "stream",
     "text": [
      "Training [6/10]: 100%|██████████| 150/150 [02:36<00:00,  1.04s/batch]\n"
     ]
    },
    {
     "name": "stdout",
     "output_type": "stream",
     "text": [
      "---> Train loss: 1.2502\n",
      "---> Train acc: 0.5808\n"
     ]
    },
    {
     "name": "stderr",
     "output_type": "stream",
     "text": [
      "Validate [6/10]: 100%|██████████| 13/13 [00:12<00:00,  1.04batch/s]\n"
     ]
    },
    {
     "name": "stdout",
     "output_type": "stream",
     "text": [
      "---> Valid loss: 1.3583\n",
      "---> Valid acc: 0.5283\n"
     ]
    },
    {
     "name": "stderr",
     "output_type": "stream",
     "text": [
      "Training [7/10]: 100%|██████████| 150/150 [02:33<00:00,  1.02s/batch]\n"
     ]
    },
    {
     "name": "stdout",
     "output_type": "stream",
     "text": [
      "---> Train loss: 1.2127\n",
      "---> Train acc: 0.5906\n"
     ]
    },
    {
     "name": "stderr",
     "output_type": "stream",
     "text": [
      "Validate [7/10]: 100%|██████████| 13/13 [00:12<00:00,  1.04batch/s]\n"
     ]
    },
    {
     "name": "stdout",
     "output_type": "stream",
     "text": [
      "---> Valid loss: 1.2651\n",
      "---> Valid acc: 0.5596\n",
      "Model is saved to: /kaggle/working/tuned/unet_epoch7.pth\n"
     ]
    },
    {
     "name": "stderr",
     "output_type": "stream",
     "text": [
      "Training [8/10]: 100%|██████████| 150/150 [02:39<00:00,  1.07s/batch]\n"
     ]
    },
    {
     "name": "stdout",
     "output_type": "stream",
     "text": [
      "---> Train loss: 1.1855\n",
      "---> Train acc: 0.5966\n"
     ]
    },
    {
     "name": "stderr",
     "output_type": "stream",
     "text": [
      "Validate [8/10]: 100%|██████████| 13/13 [00:13<00:00,  1.00s/batch]\n"
     ]
    },
    {
     "name": "stdout",
     "output_type": "stream",
     "text": [
      "---> Valid loss: 1.2881\n",
      "---> Valid acc: 0.5484\n"
     ]
    },
    {
     "name": "stderr",
     "output_type": "stream",
     "text": [
      "Training [9/10]: 100%|██████████| 150/150 [02:35<00:00,  1.04s/batch]\n"
     ]
    },
    {
     "name": "stdout",
     "output_type": "stream",
     "text": [
      "---> Train loss: 1.1581\n",
      "---> Train acc: 0.6056\n"
     ]
    },
    {
     "name": "stderr",
     "output_type": "stream",
     "text": [
      "Validate [9/10]: 100%|██████████| 13/13 [00:13<00:00,  1.01s/batch]\n"
     ]
    },
    {
     "name": "stdout",
     "output_type": "stream",
     "text": [
      "---> Valid loss: 1.2600\n",
      "---> Valid acc: 0.5606\n",
      "Model is saved to: /kaggle/working/tuned/unet_epoch9.pth\n"
     ]
    },
    {
     "name": "stderr",
     "output_type": "stream",
     "text": [
      "Training [10/10]: 100%|██████████| 150/150 [02:36<00:00,  1.05s/batch]\n"
     ]
    },
    {
     "name": "stdout",
     "output_type": "stream",
     "text": [
      "---> Train loss: 1.1287\n",
      "---> Train acc: 0.6135\n"
     ]
    },
    {
     "name": "stderr",
     "output_type": "stream",
     "text": [
      "Validate [10/10]: 100%|██████████| 13/13 [00:12<00:00,  1.02batch/s]\n"
     ]
    },
    {
     "name": "stdout",
     "output_type": "stream",
     "text": [
      "---> Valid loss: 1.1875\n",
      "---> Valid acc: 0.5814\n",
      "Model is saved to: /kaggle/working/tuned/unet_epoch10.pth\n",
      "Training with parameters: {'lr': 0.0003, 'weight_decay': 0.001, 'optim': 'Adam'}\n"
     ]
    },
    {
     "name": "stderr",
     "output_type": "stream",
     "text": [
      "Training [1/10]: 100%|██████████| 150/150 [02:35<00:00,  1.03s/batch]\n"
     ]
    },
    {
     "name": "stdout",
     "output_type": "stream",
     "text": [
      "---> Train loss: 1.5179\n",
      "---> Train acc: 0.6186\n"
     ]
    },
    {
     "name": "stderr",
     "output_type": "stream",
     "text": [
      "Validate [1/10]: 100%|██████████| 13/13 [00:12<00:00,  1.02batch/s]\n"
     ]
    },
    {
     "name": "stdout",
     "output_type": "stream",
     "text": [
      "---> Valid loss: 1.4631\n",
      "---> Valid acc: 0.5198\n",
      "Model is saved to: /kaggle/working/tuned/unet_epoch1.pth\n"
     ]
    },
    {
     "name": "stderr",
     "output_type": "stream",
     "text": [
      "Training [2/10]: 100%|██████████| 150/150 [02:38<00:00,  1.05s/batch]\n"
     ]
    },
    {
     "name": "stdout",
     "output_type": "stream",
     "text": [
      "---> Train loss: 1.2297\n",
      "---> Train acc: 0.5923\n"
     ]
    },
    {
     "name": "stderr",
     "output_type": "stream",
     "text": [
      "Validate [2/10]: 100%|██████████| 13/13 [00:12<00:00,  1.01batch/s]\n"
     ]
    },
    {
     "name": "stdout",
     "output_type": "stream",
     "text": [
      "---> Valid loss: 1.0642\n",
      "---> Valid acc: 0.6176\n",
      "Model is saved to: /kaggle/working/tuned/unet_epoch2.pth\n"
     ]
    },
    {
     "name": "stderr",
     "output_type": "stream",
     "text": [
      "Training [3/10]: 100%|██████████| 150/150 [02:39<00:00,  1.06s/batch]\n"
     ]
    },
    {
     "name": "stdout",
     "output_type": "stream",
     "text": [
      "---> Train loss: 0.9744\n",
      "---> Train acc: 0.6614\n"
     ]
    },
    {
     "name": "stderr",
     "output_type": "stream",
     "text": [
      "Validate [3/10]: 100%|██████████| 13/13 [00:13<00:00,  1.01s/batch]\n"
     ]
    },
    {
     "name": "stdout",
     "output_type": "stream",
     "text": [
      "---> Valid loss: 1.0085\n",
      "---> Valid acc: 0.6214\n",
      "Model is saved to: /kaggle/working/tuned/unet_epoch3.pth\n"
     ]
    },
    {
     "name": "stderr",
     "output_type": "stream",
     "text": [
      "Training [4/10]: 100%|██████████| 150/150 [02:32<00:00,  1.01s/batch]\n"
     ]
    },
    {
     "name": "stdout",
     "output_type": "stream",
     "text": [
      "---> Train loss: 0.8872\n",
      "---> Train acc: 0.6833\n"
     ]
    },
    {
     "name": "stderr",
     "output_type": "stream",
     "text": [
      "Validate [4/10]: 100%|██████████| 13/13 [00:13<00:00,  1.03s/batch]\n"
     ]
    },
    {
     "name": "stdout",
     "output_type": "stream",
     "text": [
      "---> Valid loss: 1.0446\n",
      "---> Valid acc: 0.6057\n"
     ]
    },
    {
     "name": "stderr",
     "output_type": "stream",
     "text": [
      "Training [5/10]: 100%|██████████| 150/150 [02:34<00:00,  1.03s/batch]\n"
     ]
    },
    {
     "name": "stdout",
     "output_type": "stream",
     "text": [
      "---> Train loss: 0.8997\n",
      "---> Train acc: 0.6783\n"
     ]
    },
    {
     "name": "stderr",
     "output_type": "stream",
     "text": [
      "Validate [5/10]: 100%|██████████| 13/13 [00:12<00:00,  1.02batch/s]\n"
     ]
    },
    {
     "name": "stdout",
     "output_type": "stream",
     "text": [
      "---> Valid loss: 0.9088\n",
      "---> Valid acc: 0.6410\n",
      "Model is saved to: /kaggle/working/tuned/unet_epoch5.pth\n"
     ]
    },
    {
     "name": "stderr",
     "output_type": "stream",
     "text": [
      "Training [6/10]: 100%|██████████| 150/150 [02:38<00:00,  1.06s/batch]\n"
     ]
    },
    {
     "name": "stdout",
     "output_type": "stream",
     "text": [
      "---> Train loss: 0.8209\n",
      "---> Train acc: 0.6994\n"
     ]
    },
    {
     "name": "stderr",
     "output_type": "stream",
     "text": [
      "Validate [6/10]: 100%|██████████| 13/13 [00:12<00:00,  1.02batch/s]\n"
     ]
    },
    {
     "name": "stdout",
     "output_type": "stream",
     "text": [
      "---> Valid loss: 0.8852\n",
      "---> Valid acc: 0.6511\n",
      "Model is saved to: /kaggle/working/tuned/unet_epoch6.pth\n"
     ]
    },
    {
     "name": "stderr",
     "output_type": "stream",
     "text": [
      "Training [7/10]: 100%|██████████| 150/150 [02:38<00:00,  1.06s/batch]\n"
     ]
    },
    {
     "name": "stdout",
     "output_type": "stream",
     "text": [
      "---> Train loss: 0.7998\n",
      "---> Train acc: 0.7053\n"
     ]
    },
    {
     "name": "stderr",
     "output_type": "stream",
     "text": [
      "Validate [7/10]: 100%|██████████| 13/13 [00:12<00:00,  1.02batch/s]\n"
     ]
    },
    {
     "name": "stdout",
     "output_type": "stream",
     "text": [
      "---> Valid loss: 0.8850\n",
      "---> Valid acc: 0.6479\n",
      "Model is saved to: /kaggle/working/tuned/unet_epoch7.pth\n"
     ]
    },
    {
     "name": "stderr",
     "output_type": "stream",
     "text": [
      "Training [8/10]: 100%|██████████| 150/150 [02:36<00:00,  1.04s/batch]\n"
     ]
    },
    {
     "name": "stdout",
     "output_type": "stream",
     "text": [
      "---> Train loss: 0.7700\n",
      "---> Train acc: 0.7117\n"
     ]
    },
    {
     "name": "stderr",
     "output_type": "stream",
     "text": [
      "Validate [8/10]: 100%|██████████| 13/13 [00:13<00:00,  1.04s/batch]\n"
     ]
    },
    {
     "name": "stdout",
     "output_type": "stream",
     "text": [
      "---> Valid loss: 0.9641\n",
      "---> Valid acc: 0.6409\n"
     ]
    },
    {
     "name": "stderr",
     "output_type": "stream",
     "text": [
      "Training [9/10]: 100%|██████████| 150/150 [02:39<00:00,  1.06s/batch]\n"
     ]
    },
    {
     "name": "stdout",
     "output_type": "stream",
     "text": [
      "---> Train loss: 0.7547\n",
      "---> Train acc: 0.7166\n"
     ]
    },
    {
     "name": "stderr",
     "output_type": "stream",
     "text": [
      "Validate [9/10]: 100%|██████████| 13/13 [00:12<00:00,  1.03batch/s]\n"
     ]
    },
    {
     "name": "stdout",
     "output_type": "stream",
     "text": [
      "---> Valid loss: 0.9247\n",
      "---> Valid acc: 0.6365\n"
     ]
    },
    {
     "name": "stderr",
     "output_type": "stream",
     "text": [
      "Training [10/10]: 100%|██████████| 150/150 [02:36<00:00,  1.04s/batch]\n"
     ]
    },
    {
     "name": "stdout",
     "output_type": "stream",
     "text": [
      "---> Train loss: 0.7112\n",
      "---> Train acc: 0.7270\n"
     ]
    },
    {
     "name": "stderr",
     "output_type": "stream",
     "text": [
      "Validate [10/10]: 100%|██████████| 13/13 [00:12<00:00,  1.03batch/s]\n"
     ]
    },
    {
     "name": "stdout",
     "output_type": "stream",
     "text": [
      "---> Valid loss: 1.0610\n",
      "---> Valid acc: 0.6024\n",
      "Model is saved to: /kaggle/working/tuned/unet_0.0003_0.001_Adam.pth\n",
      "Training with parameters: {'lr': 0.0003, 'weight_decay': 0.001, 'optim': 'SGD'}\n"
     ]
    },
    {
     "name": "stderr",
     "output_type": "stream",
     "text": [
      "Training [1/10]: 100%|██████████| 150/150 [02:33<00:00,  1.03s/batch]\n"
     ]
    },
    {
     "name": "stdout",
     "output_type": "stream",
     "text": [
      "---> Train loss: 2.7073\n",
      "---> Train acc: 0.2615\n"
     ]
    },
    {
     "name": "stderr",
     "output_type": "stream",
     "text": [
      "Validate [1/10]: 100%|██████████| 13/13 [00:12<00:00,  1.03batch/s]\n"
     ]
    },
    {
     "name": "stdout",
     "output_type": "stream",
     "text": [
      "---> Valid loss: 2.5730\n",
      "---> Valid acc: 0.3928\n",
      "Model is saved to: /kaggle/working/tuned/unet_epoch1.pth\n"
     ]
    },
    {
     "name": "stderr",
     "output_type": "stream",
     "text": [
      "Training [2/10]: 100%|██████████| 150/150 [02:35<00:00,  1.03s/batch]\n"
     ]
    },
    {
     "name": "stdout",
     "output_type": "stream",
     "text": [
      "---> Train loss: 1.8320\n",
      "---> Train acc: 0.4977\n"
     ]
    },
    {
     "name": "stderr",
     "output_type": "stream",
     "text": [
      "Validate [2/10]: 100%|██████████| 13/13 [00:12<00:00,  1.04batch/s]\n"
     ]
    },
    {
     "name": "stdout",
     "output_type": "stream",
     "text": [
      "---> Valid loss: 1.6422\n",
      "---> Valid acc: 0.5019\n",
      "Model is saved to: /kaggle/working/tuned/unet_epoch2.pth\n"
     ]
    },
    {
     "name": "stderr",
     "output_type": "stream",
     "text": [
      "Training [3/10]: 100%|██████████| 150/150 [02:39<00:00,  1.06s/batch]\n"
     ]
    },
    {
     "name": "stdout",
     "output_type": "stream",
     "text": [
      "---> Train loss: 1.4616\n",
      "---> Train acc: 0.5320\n"
     ]
    },
    {
     "name": "stderr",
     "output_type": "stream",
     "text": [
      "Validate [3/10]: 100%|██████████| 13/13 [00:13<00:00,  1.01s/batch]\n"
     ]
    },
    {
     "name": "stdout",
     "output_type": "stream",
     "text": [
      "---> Valid loss: 1.5093\n",
      "---> Valid acc: 0.5199\n",
      "Model is saved to: /kaggle/working/tuned/unet_epoch3.pth\n"
     ]
    },
    {
     "name": "stderr",
     "output_type": "stream",
     "text": [
      "Training [4/10]: 100%|██████████| 150/150 [02:38<00:00,  1.06s/batch]\n"
     ]
    },
    {
     "name": "stdout",
     "output_type": "stream",
     "text": [
      "---> Train loss: 1.3762\n",
      "---> Train acc: 0.5493\n"
     ]
    },
    {
     "name": "stderr",
     "output_type": "stream",
     "text": [
      "Validate [4/10]: 100%|██████████| 13/13 [00:12<00:00,  1.03batch/s]\n"
     ]
    },
    {
     "name": "stdout",
     "output_type": "stream",
     "text": [
      "---> Valid loss: 1.3988\n",
      "---> Valid acc: 0.5386\n",
      "Model is saved to: /kaggle/working/tuned/unet_epoch4.pth\n"
     ]
    },
    {
     "name": "stderr",
     "output_type": "stream",
     "text": [
      "Training [5/10]: 100%|██████████| 150/150 [02:33<00:00,  1.02s/batch]\n"
     ]
    },
    {
     "name": "stdout",
     "output_type": "stream",
     "text": [
      "---> Train loss: 1.3230\n",
      "---> Train acc: 0.5615\n"
     ]
    },
    {
     "name": "stderr",
     "output_type": "stream",
     "text": [
      "Validate [5/10]: 100%|██████████| 13/13 [00:12<00:00,  1.03batch/s]\n"
     ]
    },
    {
     "name": "stdout",
     "output_type": "stream",
     "text": [
      "---> Valid loss: 1.3843\n",
      "---> Valid acc: 0.5414\n",
      "Model is saved to: /kaggle/working/tuned/unet_epoch5.pth\n"
     ]
    },
    {
     "name": "stderr",
     "output_type": "stream",
     "text": [
      "Training [6/10]: 100%|██████████| 150/150 [02:32<00:00,  1.02s/batch]\n"
     ]
    },
    {
     "name": "stdout",
     "output_type": "stream",
     "text": [
      "---> Train loss: 1.2913\n",
      "---> Train acc: 0.5706\n"
     ]
    },
    {
     "name": "stderr",
     "output_type": "stream",
     "text": [
      "Validate [6/10]: 100%|██████████| 13/13 [00:12<00:00,  1.03batch/s]\n"
     ]
    },
    {
     "name": "stdout",
     "output_type": "stream",
     "text": [
      "---> Valid loss: 1.3273\n",
      "---> Valid acc: 0.5528\n",
      "Model is saved to: /kaggle/working/tuned/unet_epoch6.pth\n"
     ]
    },
    {
     "name": "stderr",
     "output_type": "stream",
     "text": [
      "Training [7/10]: 100%|██████████| 150/150 [02:38<00:00,  1.05s/batch]\n"
     ]
    },
    {
     "name": "stdout",
     "output_type": "stream",
     "text": [
      "---> Train loss: 1.2691\n",
      "---> Train acc: 0.5773\n"
     ]
    },
    {
     "name": "stderr",
     "output_type": "stream",
     "text": [
      "Validate [7/10]: 100%|██████████| 13/13 [00:12<00:00,  1.05batch/s]\n"
     ]
    },
    {
     "name": "stdout",
     "output_type": "stream",
     "text": [
      "---> Valid loss: 1.3155\n",
      "---> Valid acc: 0.5515\n",
      "Model is saved to: /kaggle/working/tuned/unet_epoch7.pth\n"
     ]
    },
    {
     "name": "stderr",
     "output_type": "stream",
     "text": [
      "Training [8/10]: 100%|██████████| 150/150 [02:36<00:00,  1.04s/batch]\n"
     ]
    },
    {
     "name": "stdout",
     "output_type": "stream",
     "text": [
      "---> Train loss: 1.2416\n",
      "---> Train acc: 0.5836\n"
     ]
    },
    {
     "name": "stderr",
     "output_type": "stream",
     "text": [
      "Validate [8/10]: 100%|██████████| 13/13 [00:12<00:00,  1.00batch/s]\n"
     ]
    },
    {
     "name": "stdout",
     "output_type": "stream",
     "text": [
      "---> Valid loss: 1.2791\n",
      "---> Valid acc: 0.5619\n",
      "Model is saved to: /kaggle/working/tuned/unet_epoch8.pth\n"
     ]
    },
    {
     "name": "stderr",
     "output_type": "stream",
     "text": [
      "Training [9/10]: 100%|██████████| 150/150 [02:35<00:00,  1.04s/batch]\n"
     ]
    },
    {
     "name": "stdout",
     "output_type": "stream",
     "text": [
      "---> Train loss: 1.2190\n",
      "---> Train acc: 0.5902\n"
     ]
    },
    {
     "name": "stderr",
     "output_type": "stream",
     "text": [
      "Validate [9/10]: 100%|██████████| 13/13 [00:12<00:00,  1.01batch/s]\n"
     ]
    },
    {
     "name": "stdout",
     "output_type": "stream",
     "text": [
      "---> Valid loss: 1.2526\n",
      "---> Valid acc: 0.5659\n",
      "Model is saved to: /kaggle/working/tuned/unet_epoch9.pth\n"
     ]
    },
    {
     "name": "stderr",
     "output_type": "stream",
     "text": [
      "Training [10/10]: 100%|██████████| 150/150 [02:36<00:00,  1.04s/batch]\n"
     ]
    },
    {
     "name": "stdout",
     "output_type": "stream",
     "text": [
      "---> Train loss: 1.1890\n",
      "---> Train acc: 0.5973\n"
     ]
    },
    {
     "name": "stderr",
     "output_type": "stream",
     "text": [
      "Validate [10/10]: 100%|██████████| 13/13 [00:12<00:00,  1.03batch/s]\n"
     ]
    },
    {
     "name": "stdout",
     "output_type": "stream",
     "text": [
      "---> Valid loss: 1.2874\n",
      "---> Valid acc: 0.5520\n"
     ]
    },
    {
     "data": {
      "application/vnd.jupyter.widget-view+json": {
       "model_id": "",
       "version_major": 2,
       "version_minor": 0
      },
      "text/plain": [
       "VBox(children=(Label(value='475.418 MB of 1659.305 MB uploaded\\r'), FloatProgress(value=0.2865165065326412, ma…"
      ]
     },
     "metadata": {},
     "output_type": "display_data"
    },
    {
     "data": {
      "text/html": [
       "\n",
       "    <style>\n",
       "        .wandb-row {\n",
       "            display: flex;\n",
       "            flex-direction: row;\n",
       "            flex-wrap: wrap;\n",
       "            justify-content: flex-start;\n",
       "            width: 100%;\n",
       "        }\n",
       "        .wandb-col {\n",
       "            display: flex;\n",
       "            flex-direction: column;\n",
       "            flex-basis: 100%;\n",
       "            flex: 1;\n",
       "            padding: 10px;\n",
       "        }\n",
       "    </style>\n",
       "<div class=\"wandb-row\"><div class=\"wandb-col\"><h3>Run history:</h3><br/><table class=\"wandb\"><tr><td>Train_acc</td><td>▅▅▆▆▆▅▆▆▆▆▅▆▆▆▇▆▃▂▂▂▆▆▇▄▄▆▆▅▇▇▅▆▇███▁▆▆▆</td></tr><tr><td>Train_loss</td><td>▃▃▃▂▂▃▃▃▃▂▂▂▃▃▃▂▃▂▂█  ▅▃▂     ▃▂▂▂▂▁▁▁▁▃</td></tr><tr><td>val_acc</td><td>▆▆▆▆▆█▆▇▅▇▇▇▆▆▆▇▆▇▇▇▁▄▃▃▃▆▅▆▆▇▇▇█▅▆█▇█▆▇</td></tr><tr><td>val_loss</td><td>▆▅▅▆▅▄▄▅▅▆▅▄▄▃▃▃   ▄▅█   ▆▃▄▂▂█▅▅▄▄▂▂▁▁▄</td></tr></table><br/></div><div class=\"wandb-col\"><h3>Run summary:</h3><br/><table class=\"wandb\"><tr><td>Train_acc</td><td>0.59731</td></tr><tr><td>Train_loss</td><td>1.18901</td></tr><tr><td>val_acc</td><td>0.55197</td></tr><tr><td>val_loss</td><td>1.28742</td></tr></table><br/></div></div>"
      ],
      "text/plain": [
       "<IPython.core.display.HTML object>"
      ]
     },
     "metadata": {},
     "output_type": "display_data"
    },
    {
     "data": {
      "text/html": [
       " View run <strong style=\"color:#cdcd00\">magic-snow-14</strong> at: <a href='https://wandb.ai/longluv1605-institute-for-artificial-intelligence/unet-hyperparam-tuning/runs/8y0lgk6z' target=\"_blank\">https://wandb.ai/longluv1605-institute-for-artificial-intelligence/unet-hyperparam-tuning/runs/8y0lgk6z</a><br/> View project at: <a href='https://wandb.ai/longluv1605-institute-for-artificial-intelligence/unet-hyperparam-tuning' target=\"_blank\">https://wandb.ai/longluv1605-institute-for-artificial-intelligence/unet-hyperparam-tuning</a><br/>Synced 5 W&B file(s), 0 media file(s), 8 artifact file(s) and 10 other file(s)"
      ],
      "text/plain": [
       "<IPython.core.display.HTML object>"
      ]
     },
     "metadata": {},
     "output_type": "display_data"
    },
    {
     "data": {
      "text/html": [
       "Find logs at: <code>./wandb/run-20241213_080333-8y0lgk6z/logs</code>"
      ],
      "text/plain": [
       "<IPython.core.display.HTML object>"
      ]
     },
     "metadata": {},
     "output_type": "display_data"
    },
    {
     "name": "stdout",
     "output_type": "stream",
     "text": [
      "Best Hyperparameters: {'lr': 0.0003, 'weight_decay': 0.001, 'optim': 'Adam'}\n",
      "Best Validation Accuracy: 0.6511\n"
     ]
    }
   ],
   "source": [
    "save_path = '/kaggle/working/tuned/unet'\n",
    "best_result = hyper_tuning_model(UNet, hyper_params, train_loader, val_loader, \n",
    "                                 device, save_path, class_weights, epochs=10)\n",
    "\n",
    "# Kết quả tốt nhất\n",
    "print(f\"Best Hyperparameters: {best_result['best_params']}\")\n",
    "print(f\"Best Validation Accuracy: {best_result['best_accuracy']:.4f}\")"
   ]
  },
  {
   "cell_type": "code",
   "execution_count": 42,
   "metadata": {
    "execution": {
     "iopub.execute_input": "2024-12-13T15:42:22.157975Z",
     "iopub.status.busy": "2024-12-13T15:42:22.157242Z",
     "iopub.status.idle": "2024-12-13T15:42:22.162725Z",
     "shell.execute_reply": "2024-12-13T15:42:22.161887Z",
     "shell.execute_reply.started": "2024-12-13T15:42:22.157940Z"
    },
    "trusted": true
   },
   "outputs": [],
   "source": [
    "torch.save(best_result['best_params'], '/kaggle/working/tuned/best_params_1.pth')"
   ]
  },
  {
   "cell_type": "code",
   "execution_count": 46,
   "metadata": {
    "execution": {
     "iopub.execute_input": "2024-12-13T15:47:06.238975Z",
     "iopub.status.busy": "2024-12-13T15:47:06.238150Z",
     "iopub.status.idle": "2024-12-13T15:47:07.994686Z",
     "shell.execute_reply": "2024-12-13T15:47:07.993811Z",
     "shell.execute_reply.started": "2024-12-13T15:47:06.238940Z"
    },
    "trusted": true
   },
   "outputs": [
    {
     "data": {
      "text/html": [
       "Tracking run with wandb version 0.18.7"
      ],
      "text/plain": [
       "<IPython.core.display.HTML object>"
      ]
     },
     "metadata": {},
     "output_type": "display_data"
    },
    {
     "data": {
      "text/html": [
       "Run data is saved locally in <code>/kaggle/working/wandb/run-20241213_154706-hey2hokh</code>"
      ],
      "text/plain": [
       "<IPython.core.display.HTML object>"
      ]
     },
     "metadata": {},
     "output_type": "display_data"
    },
    {
     "data": {
      "text/html": [
       "Syncing run <strong><a href='https://wandb.ai/longluv1605-institute-for-artificial-intelligence/unet-hyperparam-tuning/runs/hey2hokh' target=\"_blank\">hopeful-yogurt-15</a></strong> to <a href='https://wandb.ai/longluv1605-institute-for-artificial-intelligence/unet-hyperparam-tuning' target=\"_blank\">Weights & Biases</a> (<a href='https://wandb.me/developer-guide' target=\"_blank\">docs</a>)<br/>"
      ],
      "text/plain": [
       "<IPython.core.display.HTML object>"
      ]
     },
     "metadata": {},
     "output_type": "display_data"
    },
    {
     "data": {
      "text/html": [
       " View project at <a href='https://wandb.ai/longluv1605-institute-for-artificial-intelligence/unet-hyperparam-tuning' target=\"_blank\">https://wandb.ai/longluv1605-institute-for-artificial-intelligence/unet-hyperparam-tuning</a>"
      ],
      "text/plain": [
       "<IPython.core.display.HTML object>"
      ]
     },
     "metadata": {},
     "output_type": "display_data"
    },
    {
     "data": {
      "text/html": [
       " View run at <a href='https://wandb.ai/longluv1605-institute-for-artificial-intelligence/unet-hyperparam-tuning/runs/hey2hokh' target=\"_blank\">https://wandb.ai/longluv1605-institute-for-artificial-intelligence/unet-hyperparam-tuning/runs/hey2hokh</a>"
      ],
      "text/plain": [
       "<IPython.core.display.HTML object>"
      ]
     },
     "metadata": {},
     "output_type": "display_data"
    },
    {
     "data": {
      "text/html": [
       "<button onClick=\"this.nextSibling.style.display='block';this.style.display='none';\">Display W&B run</button><iframe src='https://wandb.ai/longluv1605-institute-for-artificial-intelligence/unet-hyperparam-tuning/runs/hey2hokh?jupyter=true' style='border:none;width:100%;height:420px;display:none;'></iframe>"
      ],
      "text/plain": [
       "<wandb.sdk.wandb_run.Run at 0x7ea4824262c0>"
      ]
     },
     "execution_count": 46,
     "metadata": {},
     "output_type": "execute_result"
    }
   ],
   "source": [
    "wandb.init(project=\"unet-hyperparam-tuning\")"
   ]
  },
  {
   "cell_type": "code",
   "execution_count": 47,
   "metadata": {
    "execution": {
     "iopub.execute_input": "2024-12-13T15:47:11.380179Z",
     "iopub.status.busy": "2024-12-13T15:47:11.379514Z",
     "iopub.status.idle": "2024-12-13T15:47:11.532658Z",
     "shell.execute_reply": "2024-12-13T15:47:11.531961Z",
     "shell.execute_reply.started": "2024-12-13T15:47:11.380145Z"
    },
    "trusted": true
   },
   "outputs": [
    {
     "data": {
      "text/plain": [
       "<Artifact unet-hyper-params>"
      ]
     },
     "execution_count": 47,
     "metadata": {},
     "output_type": "execute_result"
    }
   ],
   "source": [
    "artifact = wandb.Artifact(f\"unet-hyper-params\", type=\"hyperparams\")\n",
    "artifact.add_file('/kaggle/working/tuned/best_params_1.pth')\n",
    "wandb.log_artifact(artifact)"
   ]
  },
  {
   "cell_type": "code",
   "execution_count": 48,
   "metadata": {
    "execution": {
     "iopub.execute_input": "2024-12-13T15:47:23.914577Z",
     "iopub.status.busy": "2024-12-13T15:47:23.913896Z",
     "iopub.status.idle": "2024-12-13T15:47:26.306735Z",
     "shell.execute_reply": "2024-12-13T15:47:26.305855Z",
     "shell.execute_reply.started": "2024-12-13T15:47:23.914542Z"
    },
    "trusted": true
   },
   "outputs": [
    {
     "data": {
      "text/html": [
       " View run <strong style=\"color:#cdcd00\">hopeful-yogurt-15</strong> at: <a href='https://wandb.ai/longluv1605-institute-for-artificial-intelligence/unet-hyperparam-tuning/runs/hey2hokh' target=\"_blank\">https://wandb.ai/longluv1605-institute-for-artificial-intelligence/unet-hyperparam-tuning/runs/hey2hokh</a><br/> View project at: <a href='https://wandb.ai/longluv1605-institute-for-artificial-intelligence/unet-hyperparam-tuning' target=\"_blank\">https://wandb.ai/longluv1605-institute-for-artificial-intelligence/unet-hyperparam-tuning</a><br/>Synced 5 W&B file(s), 0 media file(s), 2 artifact file(s) and 0 other file(s)"
      ],
      "text/plain": [
       "<IPython.core.display.HTML object>"
      ]
     },
     "metadata": {},
     "output_type": "display_data"
    },
    {
     "data": {
      "text/html": [
       "Find logs at: <code>./wandb/run-20241213_154706-hey2hokh/logs</code>"
      ],
      "text/plain": [
       "<IPython.core.display.HTML object>"
      ]
     },
     "metadata": {},
     "output_type": "display_data"
    }
   ],
   "source": [
    "wandb.finish()"
   ]
  },
  {
   "cell_type": "code",
   "execution_count": null,
   "metadata": {
    "trusted": true
   },
   "outputs": [],
   "source": []
  }
 ],
 "metadata": {
  "kaggle": {
   "accelerator": "nvidiaTeslaT4",
   "dataSources": [
    {
     "datasetId": 645942,
     "sourceId": 1144795,
     "sourceType": "datasetVersion"
    }
   ],
   "dockerImageVersionId": 30805,
   "isGpuEnabled": true,
   "isInternetEnabled": true,
   "language": "python",
   "sourceType": "notebook"
  },
  "kernelspec": {
   "display_name": "Python 3",
   "language": "python",
   "name": "python3"
  },
  "language_info": {
   "codemirror_mode": {
    "name": "ipython",
    "version": 3
   },
   "file_extension": ".py",
   "mimetype": "text/x-python",
   "name": "python",
   "nbconvert_exporter": "python",
   "pygments_lexer": "ipython3",
   "version": "3.10.14"
  }
 },
 "nbformat": 4,
 "nbformat_minor": 4
}
